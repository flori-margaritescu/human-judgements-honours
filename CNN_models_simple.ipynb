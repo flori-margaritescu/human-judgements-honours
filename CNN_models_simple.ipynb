{
  "cells": [
    {
      "cell_type": "markdown",
      "source": [
        "<h1> Importing Drive Datasets </h1>"
      ],
      "metadata": {
        "id": "In1wlSGFIdVB"
      },
      "id": "In1wlSGFIdVB"
    },
    {
      "cell_type": "code",
      "source": [
        "!git clone https://github.com/flori-margaritescu/human-judgements-honours.git"
      ],
      "metadata": {
        "colab": {
          "base_uri": "https://localhost:8080/"
        },
        "id": "Fk-k5K5aJtaB",
        "outputId": "b36b2b1e-7b6b-4b75-aa61-1489b5e1d1c5"
      },
      "id": "Fk-k5K5aJtaB",
      "execution_count": null,
      "outputs": [
        {
          "output_type": "stream",
          "name": "stdout",
          "text": [
            "Cloning into 'human-judgements-honours'...\n",
            "remote: Enumerating objects: 9, done.\u001b[K\n",
            "remote: Counting objects:  11% (1/9)\u001b[K\rremote: Counting objects:  22% (2/9)\u001b[K\rremote: Counting objects:  33% (3/9)\u001b[K\rremote: Counting objects:  44% (4/9)\u001b[K\rremote: Counting objects:  55% (5/9)\u001b[K\rremote: Counting objects:  66% (6/9)\u001b[K\rremote: Counting objects:  77% (7/9)\u001b[K\rremote: Counting objects:  88% (8/9)\u001b[K\rremote: Counting objects: 100% (9/9)\u001b[K\rremote: Counting objects: 100% (9/9), done.\u001b[K\n",
            "remote: Compressing objects:  14% (1/7)\u001b[K\rremote: Compressing objects:  28% (2/7)\u001b[K\rremote: Compressing objects:  42% (3/7)\u001b[K\rremote: Compressing objects:  57% (4/7)\u001b[K\rremote: Compressing objects:  71% (5/7)\u001b[K\rremote: Compressing objects:  85% (6/7)\u001b[K\rremote: Compressing objects: 100% (7/7)\u001b[K\rremote: Compressing objects: 100% (7/7), done.\u001b[K\n",
            "remote: Total 9 (delta 2), reused 7 (delta 0), pack-reused 0\u001b[K\n",
            "Unpacking objects:  11% (1/9)\rUnpacking objects:  22% (2/9)\rUnpacking objects:  33% (3/9)\rUnpacking objects:  44% (4/9)\rUnpacking objects:  55% (5/9)\rUnpacking objects:  66% (6/9)\rUnpacking objects:  77% (7/9)\rUnpacking objects:  88% (8/9)\rUnpacking objects: 100% (9/9)\rUnpacking objects: 100% (9/9), 4.34 KiB | 2.17 MiB/s, done.\n"
          ]
        }
      ]
    },
    {
      "cell_type": "code",
      "source": [
        "from google.colab import drive\n",
        "drive.mount('/content/drive')"
      ],
      "metadata": {
        "colab": {
          "base_uri": "https://localhost:8080/"
        },
        "id": "YmOC1OCdIcy7",
        "outputId": "8605842d-c767-4151-c8c5-719c77c20ee4"
      },
      "id": "YmOC1OCdIcy7",
      "execution_count": null,
      "outputs": [
        {
          "output_type": "stream",
          "name": "stdout",
          "text": [
            "Mounted at /content/drive\n"
          ]
        }
      ]
    },
    {
      "cell_type": "code",
      "source": [
        "!unzip -uq \"/content/drive/MyDrive/Colab Notebooks/distortion_triplets.zip\" -d \"/content/datasets/distortions\"\n",
        "!unzip -uq \"/content/drive/MyDrive/Colab Notebooks/hsj_triplets.zip\" -d \"/content/datasets/hsj\"\n",
        "!unzip -uq \"/content/drive/MyDrive/Colab Notebooks/birds_dataset_triplets.zip\" -d \"/content/datasets/birds-16\""
      ],
      "metadata": {
        "id": "LlfBBzehJFc-"
      },
      "id": "LlfBBzehJFc-",
      "execution_count": null,
      "outputs": []
    },
    {
      "cell_type": "markdown",
      "id": "9065aff9",
      "metadata": {
        "id": "9065aff9"
      },
      "source": [
        "### Imports"
      ]
    },
    {
      "cell_type": "code",
      "source": [
        "!pip install img2vec-pytorch"
      ],
      "metadata": {
        "colab": {
          "base_uri": "https://localhost:8080/"
        },
        "id": "zD9whTxmMTN-",
        "outputId": "77650191-5560-47f4-9696-42f6af4b5d72"
      },
      "id": "zD9whTxmMTN-",
      "execution_count": null,
      "outputs": [
        {
          "output_type": "stream",
          "name": "stdout",
          "text": [
            "Looking in indexes: https://pypi.org/simple, https://us-python.pkg.dev/colab-wheels/public/simple/\n",
            "Collecting img2vec-pytorch\n",
            "  Downloading img2vec_pytorch-1.0.1-py3-none-any.whl (6.9 kB)\n",
            "Requirement already satisfied: numpy in /usr/local/lib/python3.9/dist-packages (from img2vec-pytorch) (1.22.4)\n",
            "Requirement already satisfied: torch in /usr/local/lib/python3.9/dist-packages (from img2vec-pytorch) (1.13.1+cu116)\n",
            "Requirement already satisfied: torchvision in /usr/local/lib/python3.9/dist-packages (from img2vec-pytorch) (0.14.1+cu116)\n",
            "Requirement already satisfied: typing-extensions in /usr/local/lib/python3.9/dist-packages (from torch->img2vec-pytorch) (4.5.0)\n",
            "Requirement already satisfied: requests in /usr/local/lib/python3.9/dist-packages (from torchvision->img2vec-pytorch) (2.27.1)\n",
            "Requirement already satisfied: pillow!=8.3.*,>=5.3.0 in /usr/local/lib/python3.9/dist-packages (from torchvision->img2vec-pytorch) (8.4.0)\n",
            "Requirement already satisfied: urllib3<1.27,>=1.21.1 in /usr/local/lib/python3.9/dist-packages (from requests->torchvision->img2vec-pytorch) (1.26.15)\n",
            "Requirement already satisfied: charset-normalizer~=2.0.0 in /usr/local/lib/python3.9/dist-packages (from requests->torchvision->img2vec-pytorch) (2.0.12)\n",
            "Requirement already satisfied: idna<4,>=2.5 in /usr/local/lib/python3.9/dist-packages (from requests->torchvision->img2vec-pytorch) (3.4)\n",
            "Requirement already satisfied: certifi>=2017.4.17 in /usr/local/lib/python3.9/dist-packages (from requests->torchvision->img2vec-pytorch) (2022.12.7)\n",
            "Installing collected packages: img2vec-pytorch\n",
            "Successfully installed img2vec-pytorch-1.0.1\n"
          ]
        }
      ]
    },
    {
      "cell_type": "code",
      "execution_count": null,
      "id": "5158285a",
      "metadata": {
        "id": "5158285a"
      },
      "outputs": [],
      "source": [
        "import torch\n",
        "import torch.nn as nn\n",
        "import torchvision.models as models\n",
        "import torchvision.transforms as transforms\n",
        "from torch.autograd import Variable\n",
        "import numpy as np\n",
        "from PIL import Image\n",
        "import os\n",
        "\n",
        "from img2vec_pytorch import Img2Vec"
      ]
    },
    {
      "cell_type": "markdown",
      "id": "fc372be2",
      "metadata": {
        "id": "fc372be2"
      },
      "source": [
        "### Testing"
      ]
    },
    {
      "cell_type": "markdown",
      "source": [
        "Note: AlexNet and ResNet-18 take in completely different Tensor formats!\n",
        "\n",
        "<h2> Note: the below package does the feature extraction for us aparently - careful with how you use it - better start from scratch for consistency of results!</h2>"
      ],
      "metadata": {
        "id": "FvunBJEsNP77"
      },
      "id": "FvunBJEsNP77"
    },
    {
      "cell_type": "code",
      "execution_count": null,
      "id": "fd5b2f0c",
      "metadata": {
        "colab": {
          "base_uri": "https://localhost:8080/"
        },
        "id": "fd5b2f0c",
        "outputId": "022700a6-d559-45df-865d-e5f98b5a40a2"
      },
      "outputs": [
        {
          "output_type": "stream",
          "name": "stdout",
          "text": [
            "torch.Size([1, 4096])\n",
            "torch.Size([1, 512, 1, 1])\n"
          ]
        }
      ],
      "source": [
        "# Initialize Img2Vec with GPU\n",
        "img2vec_alexnet = Img2Vec(cuda=False, model=\"alexnet\")  # default model resnet\n",
        "\n",
        "# Read in an image (rgb format)\n",
        "img = Image.open('test.png').convert('RGB')\n",
        "\n",
        "# Get a vector from img2vec, returned as a torch FloatTensor\n",
        "vec = img2vec_alexnet.get_vec(img, tensor=True)\n",
        "\n",
        "print(vec.size())\n",
        "\n",
        "# Initialize Img2Vec with GPU\n",
        "img2vec_18 = Img2Vec(cuda=False, model=\"resnet-18\")  # default model resnet\n",
        "\n",
        "# Read in an image (rgb format)\n",
        "img = Image.open('test.png').convert('RGB')\n",
        "# Get a vector from img2vec, returned as a torch FloatTensor\n",
        "vec = img2vec_18.get_vec(img, tensor=True)  \n",
        "\n",
        "print(vec.size())"
      ]
    },
    {
      "cell_type": "code",
      "execution_count": null,
      "id": "a6a4db4c",
      "metadata": {
        "colab": {
          "base_uri": "https://localhost:8080/",
          "height": 235
        },
        "id": "a6a4db4c",
        "outputId": "50d1209f-eabc-444b-9a22-87ca876c739d"
      },
      "outputs": [
        {
          "output_type": "error",
          "ename": "NameError",
          "evalue": "ignored",
          "traceback": [
            "\u001b[0;31m---------------------------------------------------------------------------\u001b[0m",
            "\u001b[0;31mNameError\u001b[0m                                 Traceback (most recent call last)",
            "\u001b[0;32m<ipython-input-13-940622e41615>\u001b[0m in \u001b[0;36m<module>\u001b[0;34m\u001b[0m\n\u001b[1;32m      1\u001b[0m \u001b[0mref\u001b[0m \u001b[0;34m=\u001b[0m \u001b[0mImage\u001b[0m\u001b[0;34m.\u001b[0m\u001b[0mopen\u001b[0m\u001b[0;34m(\u001b[0m\u001b[0;34m'ref.png'\u001b[0m\u001b[0;34m)\u001b[0m\u001b[0;34m.\u001b[0m\u001b[0mconvert\u001b[0m\u001b[0;34m(\u001b[0m\u001b[0;34m'RGB'\u001b[0m\u001b[0;34m)\u001b[0m\u001b[0;34m\u001b[0m\u001b[0;34m\u001b[0m\u001b[0m\n\u001b[0;32m----> 2\u001b[0;31m \u001b[0mref_vec\u001b[0m \u001b[0;34m=\u001b[0m \u001b[0mimg2vec\u001b[0m\u001b[0;34m.\u001b[0m\u001b[0mget_vec\u001b[0m\u001b[0;34m(\u001b[0m\u001b[0mref\u001b[0m\u001b[0;34m,\u001b[0m \u001b[0mtensor\u001b[0m\u001b[0;34m=\u001b[0m\u001b[0;32mTrue\u001b[0m\u001b[0;34m)\u001b[0m\u001b[0;34m\u001b[0m\u001b[0;34m\u001b[0m\u001b[0m\n\u001b[0m\u001b[1;32m      3\u001b[0m \u001b[0;34m\u001b[0m\u001b[0m\n\u001b[1;32m      4\u001b[0m \u001b[0mp0\u001b[0m \u001b[0;34m=\u001b[0m \u001b[0mImage\u001b[0m\u001b[0;34m.\u001b[0m\u001b[0mopen\u001b[0m\u001b[0;34m(\u001b[0m\u001b[0;34m'p0.png'\u001b[0m\u001b[0;34m)\u001b[0m\u001b[0;34m.\u001b[0m\u001b[0mconvert\u001b[0m\u001b[0;34m(\u001b[0m\u001b[0;34m'RGB'\u001b[0m\u001b[0;34m)\u001b[0m\u001b[0;34m\u001b[0m\u001b[0;34m\u001b[0m\u001b[0m\n\u001b[1;32m      5\u001b[0m \u001b[0mp0_vec\u001b[0m \u001b[0;34m=\u001b[0m \u001b[0mimg2vec\u001b[0m\u001b[0;34m.\u001b[0m\u001b[0mget_vec\u001b[0m\u001b[0;34m(\u001b[0m\u001b[0mp0\u001b[0m\u001b[0;34m,\u001b[0m \u001b[0mtensor\u001b[0m\u001b[0;34m=\u001b[0m\u001b[0;32mTrue\u001b[0m\u001b[0;34m)\u001b[0m\u001b[0;34m\u001b[0m\u001b[0;34m\u001b[0m\u001b[0m\n",
            "\u001b[0;31mNameError\u001b[0m: name 'img2vec' is not defined"
          ]
        }
      ],
      "source": [
        "ref = Image.open('ref.png').convert('RGB')\n",
        "ref_vec = img2vec.get_vec(ref, tensor=True)\n",
        "\n",
        "p0 = Image.open('p0.png').convert('RGB')\n",
        "p0_vec = img2vec.get_vec(p0, tensor=True)\n",
        "\n",
        "p1 = Image.open('p1.png').convert('RGB')\n",
        "p1_vec = img2vec.get_vec(p1, tensor=True)"
      ]
    },
    {
      "cell_type": "code",
      "execution_count": null,
      "id": "93cf0baa",
      "metadata": {
        "id": "93cf0baa",
        "outputId": "13dd189d-8464-43f2-d48c-d28cb4d7729c"
      },
      "outputs": [
        {
          "name": "stdout",
          "output_type": "stream",
          "text": [
            "\n",
            "Cosine similarity: tensor([0.4113])\n",
            "\n"
          ]
        }
      ],
      "source": [
        "# Using PyTorch Cosine Similarity\n",
        "cos = nn.CosineSimilarity(dim=1, eps=1e-6)\n",
        "cos_sim = cos(ref_vec,\n",
        "              p0_vec)\n",
        "print('\\nCosine similarity: {0}\\n'.format(cos_sim))"
      ]
    },
    {
      "cell_type": "code",
      "execution_count": null,
      "id": "314ba326",
      "metadata": {
        "scrolled": true,
        "id": "314ba326",
        "outputId": "70eaf33a-388b-4b5f-eab0-5b3a961ba893"
      },
      "outputs": [
        {
          "name": "stdout",
          "output_type": "stream",
          "text": [
            "\n",
            "Cosine similarity: tensor([0.3291])\n",
            "\n"
          ]
        }
      ],
      "source": [
        "# Using PyTorch Cosine Similarity\n",
        "cos = nn.CosineSimilarity(dim=1, eps=1e-6)\n",
        "cos_sim = cos(ref_vec,\n",
        "              p1_vec)\n",
        "print('\\nCosine similarity: {0}\\n'.format(cos_sim))"
      ]
    },
    {
      "cell_type": "markdown",
      "id": "5f1e953e",
      "metadata": {
        "id": "5f1e953e"
      },
      "source": [
        "### Common functions for loading dataset"
      ]
    },
    {
      "cell_type": "code",
      "execution_count": null,
      "id": "aade6f16",
      "metadata": {
        "id": "aade6f16"
      },
      "outputs": [],
      "source": [
        "def format_image_number(number):\n",
        "    img_no_str = str(number)\n",
        "    \n",
        "    if len(img_no_str) == 1:\n",
        "        im_no_name = \"00000\"\n",
        "    elif len(img_no_str) == 2:\n",
        "        im_no_name = \"0000\"\n",
        "    elif len(img_no_str) == 3:\n",
        "        im_no_name = \"000\"\n",
        "    elif len(img_no_str) == 4:\n",
        "        im_no_name = \"00\"\n",
        "    elif len(img_no_str) == 5:\n",
        "        im_no_name = \"0\"\n",
        "    elif len(img_no_str) == 6:\n",
        "        im_no_name = \"\"\n",
        "        \n",
        "    return im_no_name + img_no_str\n",
        "    \n",
        "\n",
        "def get_images_vector(path, number_of_images):  # returns a list of tensors\n",
        "    # path of form: traditional/ref/\n",
        "    feature_tensor_list = []\n",
        "    \n",
        "    for image_no in range(number_of_images):\n",
        "        image_no_str = str(image_no)\n",
        "        \n",
        "        im_no_name = format_image_number(image_no_str) + \".png\"\n",
        "        \n",
        "        path_to_image = path + im_no_name\n",
        "\n",
        "        feature_vector_image = Image.open(path_to_image).convert('RGB')\n",
        "        feature_vec = img2vec.get_vec(feature_vector_image, tensor=True)\n",
        "        feature_tensor_list.append(feature_vec)\n",
        "        \n",
        "    return feature_tensor_list"
      ]
    },
    {
      "cell_type": "code",
      "execution_count": null,
      "id": "2d7d1a43",
      "metadata": {
        "id": "2d7d1a43"
      },
      "outputs": [],
      "source": [
        "def obtain_cosine_similarity_model_predictions(number_of_images, refs_vec_list, p0s_rec_list, p1s_rec_list):\n",
        "    cosine_similarity_ref_and_p0 = []\n",
        "    cosine_similarity_ref_and_p1 = []\n",
        "\n",
        "    # list of predictions\n",
        "    cosine_similarity_predictions = []\n",
        "    \n",
        "    cos = nn.CosineSimilarity(dim=1, eps=1e-6)\n",
        "    # cos_sim = cos(query_vector.unsqueeze(0), ref2_vector.unsqueeze(0))\n",
        "\n",
        "    for image_no in range(number_of_images): \n",
        "        reshaped_ref = torch.reshape(refs_vec_list[image_no], (1,512))\n",
        "        reshaped_p0 = torch.reshape(p0s_rec_list[image_no], (1,512))\n",
        "        reshaped_p1 = torch.reshape(p1s_rec_list[image_no], (1,512))\n",
        "        \n",
        "        cosine_similarity_ref_and_p0.append(cos(reshaped_ref, reshaped_p0))\n",
        "        cosine_similarity_ref_and_p1.append(cos(reshaped_ref, reshaped_p1))\n",
        "\n",
        "        if cosine_similarity_ref_and_p0[image_no] >= cosine_similarity_ref_and_p1[image_no]:\n",
        "            cosine_similarity_predictions.append(0)\n",
        "        else:\n",
        "            cosine_similarity_predictions.append(1)   \n",
        "            \n",
        "    return cosine_similarity_predictions"
      ]
    },
    {
      "cell_type": "code",
      "execution_count": null,
      "id": "66ee8ae1",
      "metadata": {
        "id": "66ee8ae1"
      },
      "outputs": [],
      "source": [
        "def obtain_prediction_accuracy(number_of_images, path_to_decision, actual_predictions):\n",
        "    expected_decision_outputs = []\n",
        "\n",
        "    for image_no in range(number_of_images):\n",
        "            image_no_str = str(image_no)\n",
        "\n",
        "            im_no_name = format_image_number(image_no_str) + \".npy\"\n",
        "            path_to_image = path_to_decision + im_no_name\n",
        "\n",
        "            decision = np.load(path_to_image)\n",
        "\n",
        "            if decision[0] <= 0.5: \n",
        "                expected_decision_outputs.append(0)\n",
        "            else: \n",
        "                expected_decision_outputs.append(1)\n",
        "                \n",
        "    number_wrong_predictions = 0\n",
        "\n",
        "    for image_no in range(number_of_images):\n",
        "        if actual_predictions[image_no] != expected_decision_outputs[image_no]:\n",
        "            number_wrong_predictions += 1\n",
        "\n",
        "    accuracy = (number_of_images - number_wrong_predictions)/(number_of_images)\n",
        "    \n",
        "    return accuracy\n"
      ]
    },
    {
      "cell_type": "code",
      "execution_count": null,
      "id": "68c2d02d",
      "metadata": {
        "id": "68c2d02d"
      },
      "outputs": [],
      "source": [
        "def reshape_tensor_list(dim, tensor_list):\n",
        "    reshaped_list = []\n",
        "    for t in tensor_list:\n",
        "        reshaped_t = torch.reshape(t, (1,dim))\n",
        "        reshaped_list.append(t)\n",
        "    return reshaped_list"
      ]
    },
    {
      "cell_type": "markdown",
      "id": "49678780",
      "metadata": {
        "id": "49678780"
      },
      "source": [
        "### 1. Resnet"
      ]
    },
    {
      "cell_type": "code",
      "execution_count": null,
      "id": "73f39e4e",
      "metadata": {
        "id": "73f39e4e"
      },
      "outputs": [],
      "source": [
        "img2vec_res = Img2Vec(cuda=False, model=\"resnet-18\")  # default model resnet"
      ]
    },
    {
      "cell_type": "markdown",
      "id": "22520bf3",
      "metadata": {
        "id": "22520bf3"
      },
      "source": [
        "#### 1.1 Traditional"
      ]
    },
    {
      "cell_type": "code",
      "execution_count": null,
      "id": "27073e7e",
      "metadata": {
        "id": "27073e7e"
      },
      "outputs": [],
      "source": [
        "traditional_refs = get_images_vector(\"val/traditional/ref/\", 4720)\n",
        "traditional_p0s = get_images_vector(\"val/traditional/p0/\", 4720)\n",
        "traditional_p1s = get_images_vector(\"val/traditional/p1/\", 4720)"
      ]
    },
    {
      "cell_type": "code",
      "execution_count": null,
      "id": "0a2a3043",
      "metadata": {
        "id": "0a2a3043",
        "outputId": "57984062-bb0c-4a12-962c-3d6f15db82c4"
      },
      "outputs": [
        {
          "name": "stdout",
          "output_type": "stream",
          "text": [
            "4720\n",
            "4720\n",
            "4720\n"
          ]
        }
      ],
      "source": [
        "print(len(traditional_refs))\n",
        "print(len(traditional_p0s))\n",
        "print(len(traditional_p1s))"
      ]
    },
    {
      "cell_type": "code",
      "execution_count": null,
      "id": "46a90a85",
      "metadata": {
        "id": "46a90a85"
      },
      "outputs": [],
      "source": [
        "actual_model_predictions = obtain_cosine_similarity_model_predictions(4720, traditional_refs, traditional_p0s, traditional_p1s)"
      ]
    },
    {
      "cell_type": "code",
      "execution_count": null,
      "id": "09b82c5f",
      "metadata": {
        "id": "09b82c5f"
      },
      "outputs": [],
      "source": [
        "prediction_accuracy = obtain_prediction_accuracy(4720, \"val/traditional/judge/\", actual_model_predictions)"
      ]
    },
    {
      "cell_type": "code",
      "execution_count": null,
      "id": "d8ca7cef",
      "metadata": {
        "id": "d8ca7cef",
        "outputId": "c17e67e3-3f3e-4ae4-81aa-463eaf143853"
      },
      "outputs": [
        {
          "data": {
            "text/plain": [
              "0.8048728813559322"
            ]
          },
          "execution_count": 79,
          "metadata": {},
          "output_type": "execute_result"
        }
      ],
      "source": [
        "prediction_accuracy"
      ]
    },
    {
      "cell_type": "markdown",
      "id": "e07c6190",
      "metadata": {
        "id": "e07c6190"
      },
      "source": [
        "Prediction accuracy for Resnet-18 for traditional distortions: 0.8048728813559322"
      ]
    },
    {
      "cell_type": "markdown",
      "id": "077a16c9",
      "metadata": {
        "id": "077a16c9"
      },
      "source": [
        "#### 1.2 CNN-based"
      ]
    },
    {
      "cell_type": "code",
      "execution_count": null,
      "id": "d95c1374",
      "metadata": {
        "id": "d95c1374"
      },
      "outputs": [],
      "source": [
        "cnn_refs = get_images_vector(\"val/cnn/ref/\", 4720)\n",
        "cnn_p0s = get_images_vector(\"val/cnn/p0/\", 4720)\n",
        "cnn_p1s = get_images_vector(\"val/cnn/p1/\", 4720)"
      ]
    },
    {
      "cell_type": "code",
      "execution_count": null,
      "id": "7d2e7f2d",
      "metadata": {
        "id": "7d2e7f2d",
        "outputId": "eddb6768-5e79-4bca-b6a1-d9f996a8f39f"
      },
      "outputs": [
        {
          "name": "stdout",
          "output_type": "stream",
          "text": [
            "4720\n",
            "4720\n",
            "4720\n"
          ]
        }
      ],
      "source": [
        "print(len(cnn_refs))\n",
        "print(len(cnn_p0s))\n",
        "print(len(cnn_p1s))"
      ]
    },
    {
      "cell_type": "code",
      "execution_count": null,
      "id": "131aa574",
      "metadata": {
        "id": "131aa574"
      },
      "outputs": [],
      "source": [
        "actual_model_predictions_cnn_distortion = obtain_cosine_similarity_model_predictions(4720, cnn_refs, cnn_p0s, cnn_p1s)"
      ]
    },
    {
      "cell_type": "code",
      "execution_count": null,
      "id": "d427a1f8",
      "metadata": {
        "id": "d427a1f8"
      },
      "outputs": [],
      "source": [
        "prediction_accuracy_cnn_distortion = obtain_prediction_accuracy(4720, \"val/cnn/judge/\", actual_model_predictions_cnn_distortion)"
      ]
    },
    {
      "cell_type": "code",
      "execution_count": null,
      "id": "7534f0a4",
      "metadata": {
        "id": "7534f0a4",
        "outputId": "8030cb62-a4a4-43a3-f062-d1cad56f5574"
      },
      "outputs": [
        {
          "data": {
            "text/plain": [
              "0.8442796610169492"
            ]
          },
          "execution_count": 88,
          "metadata": {},
          "output_type": "execute_result"
        }
      ],
      "source": [
        "prediction_accuracy_cnn_distortion"
      ]
    },
    {
      "cell_type": "markdown",
      "id": "93478b18",
      "metadata": {
        "id": "93478b18"
      },
      "source": [
        "Prediction accuracy for Resnet-18 for CNN-based distortions: 0.8442796610169492"
      ]
    },
    {
      "cell_type": "markdown",
      "id": "95b8f83f",
      "metadata": {
        "id": "95b8f83f"
      },
      "source": [
        "#### 1.3 Colorization"
      ]
    },
    {
      "cell_type": "code",
      "execution_count": null,
      "id": "eca880a7",
      "metadata": {
        "id": "eca880a7"
      },
      "outputs": [],
      "source": [
        "color_refs = get_images_vector(\"val/color/ref/\", 4720)\n",
        "color_p0s = get_images_vector(\"val/color/p0/\", 4720)\n",
        "color_p1s = get_images_vector(\"val/color/p1/\", 4720)"
      ]
    },
    {
      "cell_type": "code",
      "execution_count": null,
      "id": "1e90d57d",
      "metadata": {
        "id": "1e90d57d",
        "outputId": "84d5d237-6a45-4d71-be67-7a8de491d041"
      },
      "outputs": [
        {
          "name": "stdout",
          "output_type": "stream",
          "text": [
            "4720\n",
            "4720\n",
            "4720\n"
          ]
        }
      ],
      "source": [
        "print(len(color_refs))\n",
        "print(len(color_p0s))\n",
        "print(len(color_p1s))"
      ]
    },
    {
      "cell_type": "code",
      "execution_count": null,
      "id": "d3829085",
      "metadata": {
        "id": "d3829085"
      },
      "outputs": [],
      "source": [
        "actual_model_predictions_color_distortion = obtain_cosine_similarity_model_predictions(4720, color_refs, color_p0s, color_p1s)"
      ]
    },
    {
      "cell_type": "code",
      "execution_count": null,
      "id": "8dcd0778",
      "metadata": {
        "id": "8dcd0778"
      },
      "outputs": [],
      "source": [
        "prediction_accuracy_color_distortion = obtain_prediction_accuracy(4720, \"val/color/judge/\", actual_model_predictions_color_distortion)"
      ]
    },
    {
      "cell_type": "code",
      "execution_count": null,
      "id": "2fe4ff36",
      "metadata": {
        "id": "2fe4ff36",
        "outputId": "954388b2-ceb4-470d-d7c4-0328c8b9d54b"
      },
      "outputs": [
        {
          "data": {
            "text/plain": [
              "0.6533898305084745"
            ]
          },
          "execution_count": 94,
          "metadata": {},
          "output_type": "execute_result"
        }
      ],
      "source": [
        "prediction_accuracy_color_distortion"
      ]
    },
    {
      "cell_type": "markdown",
      "id": "d0c68ea4",
      "metadata": {
        "id": "d0c68ea4"
      },
      "source": [
        "Prediction accuracy for Resnet-18 for colorizaton distortions: 0.6533898305084745"
      ]
    },
    {
      "cell_type": "markdown",
      "id": "7687f12b",
      "metadata": {
        "id": "7687f12b"
      },
      "source": [
        "#### 1.4 Deblurring --- IGNORE FOR NOW"
      ]
    },
    {
      "cell_type": "code",
      "execution_count": null,
      "id": "190dcbb3",
      "metadata": {
        "id": "190dcbb3"
      },
      "outputs": [],
      "source": [
        "deb_refs = get_images_vector(\"val/deblur/ref/\", 9440)\n",
        "deb_p0s = get_images_vector(\"val/deblur/p0/\", 9440)\n",
        "deb_p1s = get_images_vector(\"val/deblur/p1/\", 9440)\n",
        "\n",
        "fi_refs = get_images_vector(\"val/frameinterp/ref/\", 1888)\n",
        "fi_p0s = get_images_vector(\"val/frameinterp/p0/\", 1888)\n",
        "fi_p1s = get_images_vector(\"val/frameinterp/p1/\", 1888)"
      ]
    },
    {
      "cell_type": "code",
      "execution_count": null,
      "id": "e570fb8a",
      "metadata": {
        "id": "e570fb8a",
        "outputId": "4dd1ca95-e2ae-4ead-f6e9-87b7bf117443"
      },
      "outputs": [
        {
          "name": "stdout",
          "output_type": "stream",
          "text": [
            "4720\n",
            "4720\n",
            "4720\n"
          ]
        }
      ],
      "source": [
        "print(len(deb_refs))\n",
        "print(len(deb_p0s))\n",
        "print(len(deb_p1s))"
      ]
    },
    {
      "cell_type": "code",
      "execution_count": null,
      "id": "25912505",
      "metadata": {
        "id": "25912505"
      },
      "outputs": [],
      "source": [
        "actual_model_predictions_deb_distortion = obtain_cosine_similarity_model_predictions(4720, deb_refs, deb_p0s, deb_p1s)"
      ]
    },
    {
      "cell_type": "code",
      "execution_count": null,
      "id": "b696dd69",
      "metadata": {
        "id": "b696dd69"
      },
      "outputs": [],
      "source": [
        "prediction_accuracy_deb_distortion = obtain_prediction_accuracy(4720, \"val/deblur/judge/\", actual_model_predictions_deb_distortion)"
      ]
    },
    {
      "cell_type": "code",
      "execution_count": null,
      "id": "24fe912d",
      "metadata": {
        "id": "24fe912d",
        "outputId": "61bd0650-3f54-44c4-a02e-adeb73c55076"
      },
      "outputs": [
        {
          "data": {
            "text/plain": [
              "0.6016949152542372"
            ]
          },
          "execution_count": 99,
          "metadata": {},
          "output_type": "execute_result"
        }
      ],
      "source": [
        "prediction_accuracy_deb_distortion"
      ]
    },
    {
      "cell_type": "markdown",
      "id": "6dd7e700",
      "metadata": {
        "id": "6dd7e700"
      },
      "source": [
        "Prediction accuracy for Resnet-18 for deblurring distortions: 0.6016949152542372"
      ]
    },
    {
      "cell_type": "markdown",
      "id": "73f340a2",
      "metadata": {
        "id": "73f340a2"
      },
      "source": [
        "#### 1.4, 1.5 and 1.6 Deblurring, frame interpolation and super resolution"
      ]
    },
    {
      "cell_type": "code",
      "execution_count": null,
      "id": "40b99584",
      "metadata": {
        "id": "40b99584",
        "outputId": "fca9b8f2-0ebe-43ca-d9b7-de866672149d"
      },
      "outputs": [
        {
          "name": "stdout",
          "output_type": "stream",
          "text": [
            "Deblurring is complete\n",
            "FI is complete\n",
            "Spr is complete\n"
          ]
        }
      ],
      "source": [
        "deblur_refs = get_images_vector(\"val/deblur/ref/\", 9440)\n",
        "deblur_p0s = get_images_vector(\"val/deblur/p0/\", 9440)\n",
        "deblur_p1s = get_images_vector(\"val/deblur/p1/\", 9440)\n",
        "print(\"Deblurring is complete\")\n",
        "\n",
        "fi_refs = get_images_vector(\"val/frameinterp/ref/\", 1888)\n",
        "fi_p0s = get_images_vector(\"val/frameinterp/p0/\", 1888)\n",
        "fi_p1s = get_images_vector(\"val/frameinterp/p1/\", 1888)\n",
        "print(\"FI is complete\")\n",
        "\n",
        "spr_refs = get_images_vector(\"val/superres/ref/\", 10856)\n",
        "spr_p0s = get_images_vector(\"val/superres/p0/\", 10856)\n",
        "spr_p1s = get_images_vector(\"val/superres/p1/\", 10856)\n",
        "print(\"Spr is complete\")"
      ]
    },
    {
      "cell_type": "code",
      "execution_count": null,
      "id": "10596319",
      "metadata": {
        "id": "10596319",
        "outputId": "23d60384-bb5d-4f2b-c600-41b252b4b548"
      },
      "outputs": [
        {
          "name": "stdout",
          "output_type": "stream",
          "text": [
            "Deblur: \n",
            "0.6113347457627119\n",
            "----------------\n",
            "\n",
            "\n"
          ]
        }
      ],
      "source": [
        "actual_model_predictions_blur_distortion = obtain_cosine_similarity_model_predictions(9440, deblur_refs, deblur_p0s, deblur_p1s)\n",
        "prediction_accuracy_blur_distortion = obtain_prediction_accuracy(9440, \"val/deblur/judge/\", actual_model_predictions_blur_distortion)\n",
        "print(\"Deblur: \")\n",
        "print(prediction_accuracy_blur_distortion)\n",
        "print(\"----------------\")\n",
        "print(\"\")\n",
        "print(\"\")"
      ]
    },
    {
      "cell_type": "code",
      "execution_count": null,
      "id": "5e767016",
      "metadata": {
        "id": "5e767016",
        "outputId": "bea9373e-0be1-40a2-9f20-17a820ae6c2e"
      },
      "outputs": [
        {
          "name": "stdout",
          "output_type": "stream",
          "text": [
            "Fi: \n",
            "0.6604872881355932\n",
            "----------------\n",
            "\n",
            "\n"
          ]
        }
      ],
      "source": [
        "actual_model_predictions_frame = obtain_cosine_similarity_model_predictions(1888, fi_refs, fi_p0s, fi_p1s)\n",
        "prediction_accuracy_frame = obtain_prediction_accuracy(1888, \"val/frameinterp/judge/\", actual_model_predictions_frame)\n",
        "print(\"Fi: \")\n",
        "print(prediction_accuracy_frame)\n",
        "print(\"----------------\")\n",
        "print(\"\")\n",
        "print(\"\")"
      ]
    },
    {
      "cell_type": "code",
      "execution_count": null,
      "id": "b85a9750",
      "metadata": {
        "id": "b85a9750",
        "outputId": "4a0e4ee8-087d-4ac7-aaaf-b859068cae73"
      },
      "outputs": [
        {
          "name": "stdout",
          "output_type": "stream",
          "text": [
            "Spr: \n",
            "0.7198784082535004\n",
            "----------------\n",
            "\n",
            "\n"
          ]
        }
      ],
      "source": [
        "actual_model_predictions_cnn_distortion_super = obtain_cosine_similarity_model_predictions(10856, spr_refs, spr_p0s, spr_p1s)\n",
        "prediction_accuracy_cnn_distortion_super = obtain_prediction_accuracy(10856, \"val/superres/judge/\", actual_model_predictions_cnn_distortion_super)\n",
        "print(\"Spr: \")\n",
        "print(prediction_accuracy_cnn_distortion_super)\n",
        "print(\"----------------\")\n",
        "print(\"\")\n",
        "print(\"\")"
      ]
    },
    {
      "cell_type": "markdown",
      "id": "45c4672a",
      "metadata": {
        "id": "45c4672a"
      },
      "source": [
        "Prediction accuracy for Resnet-18 for deblurring distortions: 0.6113347457627119\n",
        "\n",
        "Prediction accuracy for Resnet-18 for frame interpolation distortions: 0.6604872881355932\n",
        "\n",
        "Prediction accuracy for Resnet-18 for super resolution distortions: 0.7198784082535004"
      ]
    },
    {
      "cell_type": "markdown",
      "id": "8eb9f1bc",
      "metadata": {
        "id": "8eb9f1bc"
      },
      "source": [
        "### 2. AlexNet"
      ]
    },
    {
      "cell_type": "code",
      "execution_count": null,
      "id": "3cad9bf9",
      "metadata": {
        "id": "3cad9bf9",
        "outputId": "9c48d905-9cfe-4132-9fd8-a05da2fb3c5a"
      },
      "outputs": [
        {
          "name": "stdout",
          "output_type": "stream",
          "text": [
            "Alexnet results:\n",
            "Deblurring is complete\n",
            "FI is complete\n",
            "Spr is complete\n",
            "Traditional: \n",
            "0.8108050847457627\n",
            "----------------\n",
            "\n",
            "\n",
            "CNN: \n",
            "0.8544491525423729\n",
            "----------------\n",
            "\n",
            "\n",
            "Colorization: \n",
            "0.6720338983050848\n",
            "----------------\n",
            "\n",
            "\n",
            "Deblur: \n",
            "0.639406779661017\n",
            "----------------\n",
            "\n",
            "\n",
            "Fi: \n",
            "0.666843220338983\n",
            "----------------\n",
            "\n",
            "\n",
            "Spr: \n",
            "0.7424465733235077\n",
            "----------------\n",
            "\n",
            "\n"
          ]
        }
      ],
      "source": [
        "import torch\n",
        "import torch.nn as nn\n",
        "import torchvision.models as models\n",
        "import torchvision.transforms as transforms\n",
        "from torch.autograd import Variable\n",
        "import numpy as np\n",
        "from PIL import Image\n",
        "import os\n",
        "\n",
        "from img2vec_pytorch import Img2Vec\n",
        "\n",
        "def format_image_number(number):\n",
        "    img_no_str = str(number)\n",
        "    \n",
        "    if len(img_no_str) == 1:\n",
        "        im_no_name = \"00000\"\n",
        "    elif len(img_no_str) == 2:\n",
        "        im_no_name = \"0000\"\n",
        "    elif len(img_no_str) == 3:\n",
        "        im_no_name = \"000\"\n",
        "    elif len(img_no_str) == 4:\n",
        "        im_no_name = \"00\"\n",
        "    elif len(img_no_str) == 5:\n",
        "        im_no_name = \"0\"\n",
        "    elif len(img_no_str) == 6:\n",
        "        im_no_name = \"\"\n",
        "        \n",
        "    return im_no_name + img_no_str\n",
        "    \n",
        "img2vec = Img2Vec(cuda=False, model=\"alexnet\")  # default model resnet\n",
        "\n",
        "def get_images_vector(path, number_of_images):  # returns a list of tensors\n",
        "    # path of form: traditional/ref/\n",
        "    feature_tensor_list = []\n",
        "    \n",
        "    for image_no in range(number_of_images):\n",
        "        image_no_str = str(image_no)\n",
        "        \n",
        "        im_no_name = format_image_number(image_no_str) + \".png\"\n",
        "        \n",
        "        path_to_image = path + im_no_name\n",
        "\n",
        "        feature_vector_image = Image.open(path_to_image).convert('RGB')\n",
        "        feature_vec = img2vec.get_vec(feature_vector_image, tensor=True)\n",
        "        feature_tensor_list.append(feature_vec)\n",
        "        \n",
        "    return feature_tensor_list\n",
        "\n",
        "def obtain_cosine_similarity_model_predictions(number_of_images, refs_vec_list, p0s_rec_list, p1s_rec_list):\n",
        "    cosine_similarity_ref_and_p0 = []\n",
        "    cosine_similarity_ref_and_p1 = []\n",
        "\n",
        "    # list of predictions\n",
        "    cosine_similarity_predictions = []\n",
        "    \n",
        "    cos = nn.CosineSimilarity(dim=1, eps=1e-6)\n",
        "    # cos_sim = cos(query_vector.unsqueeze(0), ref2_vector.unsqueeze(0))\n",
        "\n",
        "    for image_no in range(number_of_images): \n",
        "        reshaped_ref = refs_vec_list[image_no]\n",
        "        reshaped_p0 = p0s_rec_list[image_no]\n",
        "        reshaped_p1 = p1s_rec_list[image_no]\n",
        "        \n",
        "        cosine_similarity_ref_and_p0.append(cos(reshaped_ref, reshaped_p0))\n",
        "        cosine_similarity_ref_and_p1.append(cos(reshaped_ref, reshaped_p1))\n",
        "\n",
        "        if cosine_similarity_ref_and_p0[image_no] >= cosine_similarity_ref_and_p1[image_no]:\n",
        "            cosine_similarity_predictions.append(0)\n",
        "        else:\n",
        "            cosine_similarity_predictions.append(1)   \n",
        "            \n",
        "    return cosine_similarity_predictions\n",
        "\n",
        "def obtain_prediction_accuracy(number_of_images, path_to_decision, actual_predictions):\n",
        "    expected_decision_outputs = []\n",
        "\n",
        "    for image_no in range(number_of_images):\n",
        "            image_no_str = str(image_no)\n",
        "\n",
        "            im_no_name = format_image_number(image_no_str) + \".npy\"\n",
        "            path_to_image = path_to_decision + im_no_name\n",
        "\n",
        "            decision = np.load(path_to_image)\n",
        "\n",
        "            if decision[0] <= 0.5: \n",
        "                expected_decision_outputs.append(0)\n",
        "            else: \n",
        "                expected_decision_outputs.append(1)\n",
        "                \n",
        "    number_wrong_predictions = 0\n",
        "\n",
        "    for image_no in range(number_of_images):\n",
        "        if actual_predictions[image_no] != expected_decision_outputs[image_no]:\n",
        "            number_wrong_predictions += 1\n",
        "\n",
        "    accuracy = (number_of_images - number_wrong_predictions)/(number_of_images)\n",
        "    \n",
        "    return accuracy\n",
        "\n",
        "\n",
        "def reshape_tensor_list(dim, tensor_list):\n",
        "    reshaped_list = []\n",
        "    for t in tensor_list:\n",
        "        reshaped_t = torch.reshape(t, (1,dim))\n",
        "        reshaped_list.append(t)\n",
        "    return reshaped_list\n",
        "\n",
        "\n",
        "\n",
        "print(\"Alexnet results:\")\n",
        "\n",
        "img2vec_res = Img2Vec(cuda=False, model=\"alexnet\")  # default model resnet\n",
        "\n",
        "traditional_refs = get_images_vector(\"val/traditional/ref/\", 4720)\n",
        "traditional_p0s = get_images_vector(\"val/traditional/p0/\", 4720)\n",
        "traditional_p1s = get_images_vector(\"val/traditional/p1/\", 4720)\n",
        "\n",
        "cnn_refs = get_images_vector(\"val/cnn/ref/\", 4720)\n",
        "cnn_p0s = get_images_vector(\"val/cnn/p0/\", 4720)\n",
        "cnn_p1s = get_images_vector(\"val/cnn/p1/\", 4720)\n",
        "\n",
        "color_refs = get_images_vector(\"val/color/ref/\", 4720)\n",
        "color_p0s = get_images_vector(\"val/color/p0/\", 4720)\n",
        "color_p1s = get_images_vector(\"val/color/p1/\", 4720)\n",
        "\n",
        "deblur_refs = get_images_vector(\"val/deblur/ref/\", 9440)\n",
        "deblur_p0s = get_images_vector(\"val/deblur/p0/\", 9440)\n",
        "deblur_p1s = get_images_vector(\"val/deblur/p1/\", 9440)\n",
        "print(\"Deblurring is complete\")\n",
        "\n",
        "fi_refs = get_images_vector(\"val/frameinterp/ref/\", 1888)\n",
        "fi_p0s = get_images_vector(\"val/frameinterp/p0/\", 1888)\n",
        "fi_p1s = get_images_vector(\"val/frameinterp/p1/\", 1888)\n",
        "print(\"FI is complete\")\n",
        "\n",
        "spr_refs = get_images_vector(\"val/superres/ref/\", 10856)\n",
        "spr_p0s = get_images_vector(\"val/superres/p0/\", 10856)\n",
        "spr_p1s = get_images_vector(\"val/superres/p1/\", 10856)\n",
        "print(\"Spr is complete\")\n",
        "\n",
        "\n",
        "actual_model_predictions = obtain_cosine_similarity_model_predictions(4720, traditional_refs, traditional_p0s, traditional_p1s)\n",
        "prediction_accuracy = obtain_prediction_accuracy(4720, \"val/traditional/judge/\", actual_model_predictions)\n",
        "print(\"Traditional: \")\n",
        "print(prediction_accuracy)\n",
        "print(\"----------------\")\n",
        "print(\"\")\n",
        "print(\"\")\n",
        "\n",
        "actual_model_predictions_cnn_distortion = obtain_cosine_similarity_model_predictions(4720, cnn_refs, cnn_p0s, cnn_p1s)\n",
        "prediction_accuracy_cnn_distortion = obtain_prediction_accuracy(4720, \"val/cnn/judge/\", actual_model_predictions_cnn_distortion)\n",
        "print(\"CNN: \")\n",
        "print(prediction_accuracy_cnn_distortion)\n",
        "print(\"----------------\")\n",
        "print(\"\")\n",
        "print(\"\")\n",
        "\n",
        "\n",
        "actual_model_predictions_color_distortion = obtain_cosine_similarity_model_predictions(4720, color_refs, color_p0s, color_p1s)\n",
        "prediction_accuracy_color_distortion = obtain_prediction_accuracy(4720, \"val/color/judge/\", actual_model_predictions_color_distortion)\n",
        "print(\"Colorization: \")\n",
        "print(prediction_accuracy_color_distortion)\n",
        "print(\"----------------\")\n",
        "print(\"\")\n",
        "print(\"\")\n",
        "\n",
        "actual_model_predictions_blur_distortion = obtain_cosine_similarity_model_predictions(9440, deblur_refs, deblur_p0s, deblur_p1s)\n",
        "prediction_accuracy_blur_distortion = obtain_prediction_accuracy(9440, \"val/deblur/judge/\", actual_model_predictions_blur_distortion)\n",
        "print(\"Deblur: \")\n",
        "print(prediction_accuracy_blur_distortion)\n",
        "print(\"----------------\")\n",
        "print(\"\")\n",
        "print(\"\")\n",
        "\n",
        "\n",
        "actual_model_predictions_frame = obtain_cosine_similarity_model_predictions(1888, fi_refs, fi_p0s, fi_p1s)\n",
        "prediction_accuracy_frame = obtain_prediction_accuracy(1888, \"val/frameinterp/judge/\", actual_model_predictions_frame)\n",
        "print(\"Fi: \")\n",
        "print(prediction_accuracy_frame)\n",
        "print(\"----------------\")\n",
        "print(\"\")\n",
        "print(\"\")\n",
        "\n",
        "actual_model_predictions_cnn_distortion_super = obtain_cosine_similarity_model_predictions(10856, spr_refs, spr_p0s, spr_p1s)\n",
        "prediction_accuracy_cnn_distortion_super = obtain_prediction_accuracy(10856, \"val/superres/judge/\", actual_model_predictions_cnn_distortion_super)\n",
        "print(\"Spr: \")\n",
        "print(prediction_accuracy_cnn_distortion_super)\n",
        "print(\"----------------\")\n",
        "print(\"\")\n",
        "print(\"\")"
      ]
    },
    {
      "cell_type": "markdown",
      "id": "7d1abe4f",
      "metadata": {
        "id": "7d1abe4f"
      },
      "source": [
        "AlexNet: \n",
        "    \n",
        "Traditional: \n",
        "0.8108050847457627\n",
        "\n",
        "\n",
        "CNN: \n",
        "0.8544491525423729\n",
        "\n",
        "\n",
        "\n",
        "Colorization: \n",
        "0.6720338983050848\n",
        "\n",
        "\n",
        "\n",
        "Deblur: \n",
        "0.639406779661017\n",
        "\n",
        "\n",
        "\n",
        "Fi: \n",
        "0.666843220338983\n",
        "\n",
        "\n",
        "\n",
        "Spr: \n",
        "0.7424465733235077"
      ]
    },
    {
      "cell_type": "markdown",
      "source": [
        "<h1> NEW START HERE </h1>\n",
        "\n",
        "Link: https://becominghuman.ai/extract-a-feature-vector-for-any-image-with-pytorch-9717561d1d4c\n",
        " + modify to adhere to current PyTorch updates"
      ],
      "metadata": {
        "id": "Mq-M8hr-PPD3"
      },
      "id": "Mq-M8hr-PPD3"
    },
    {
      "cell_type": "markdown",
      "source": [
        "*What we have done here is created a reference to the layer we want to extract from. Deciding on which layer to extract from is a bit of a science, but something to keep in mind is that early layers in the network are usually learning high-level features such as ‘image contains fur’ or ‘image contains round object’, while lower-level features are more specific to the training data. The ‘avgpool’ layer selected here is at the end of ResNet-18, but if you plan to use images that are very different from ImageNet, you may benefit in using an ealier layer or fine-tuning the model.*\n",
        "\n",
        "Conclusion for me: because later layers are more specific to training data THEN I am expecting all models to perform much better on HSJ and the worst on Distortions.\n",
        "\n",
        "\n",
        "**But if you plan to use images that are very different from ImageNet, you may benefit in using an ealier layer or fine-tuning the model.**"
      ],
      "metadata": {
        "id": "Q04PUL8MP15O"
      },
      "id": "Q04PUL8MP15O"
    },
    {
      "cell_type": "code",
      "source": [
        "import torch\n",
        "import torch.nn as nn\n",
        "import torchvision.models as models\n",
        "import torchvision.transforms as transforms\n",
        "from torch.autograd import Variable\n",
        "\n",
        "from PIL import Image"
      ],
      "metadata": {
        "id": "HB2oe9hIPOqW"
      },
      "id": "HB2oe9hIPOqW",
      "execution_count": null,
      "outputs": []
    },
    {
      "cell_type": "code",
      "source": [
        "# Load the pretrained model\n",
        "model = models.resnet18(pretrained=True)\n",
        "model.cuda()\n",
        "# Use the model object to select the desired layer\n",
        "layer = model._modules.get('avgpool')\n",
        "# Set model to evaluation mode\n",
        "model.eval()"
      ],
      "metadata": {
        "colab": {
          "base_uri": "https://localhost:8080/"
        },
        "id": "rBVpBNLPPbdI",
        "outputId": "7e897c3d-bffd-4ba7-a885-52e1c7fcfd78"
      },
      "id": "rBVpBNLPPbdI",
      "execution_count": null,
      "outputs": [
        {
          "output_type": "stream",
          "name": "stderr",
          "text": [
            "/usr/local/lib/python3.9/dist-packages/torchvision/models/_utils.py:208: UserWarning: The parameter 'pretrained' is deprecated since 0.13 and may be removed in the future, please use 'weights' instead.\n",
            "  warnings.warn(\n",
            "/usr/local/lib/python3.9/dist-packages/torchvision/models/_utils.py:223: UserWarning: Arguments other than a weight enum or `None` for 'weights' are deprecated since 0.13 and may be removed in the future. The current behavior is equivalent to passing `weights=ResNet18_Weights.IMAGENET1K_V1`. You can also use `weights=ResNet18_Weights.DEFAULT` to get the most up-to-date weights.\n",
            "  warnings.warn(msg)\n"
          ]
        }
      ]
    },
    {
      "cell_type": "code",
      "source": [],
      "metadata": {
        "id": "zeDECMcrY0dz"
      },
      "id": "zeDECMcrY0dz",
      "execution_count": null,
      "outputs": []
    },
    {
      "cell_type": "code",
      "source": [
        "# Set model to evaluation mode\n",
        "model.eval()"
      ],
      "metadata": {
        "id": "VX14Yl0tPgou"
      },
      "id": "VX14Yl0tPgou",
      "execution_count": null,
      "outputs": []
    },
    {
      "cell_type": "code",
      "source": [
        "scaler = transforms.Resize((224, 224))\n",
        "normalize = transforms.Normalize(mean=[0.485, 0.456, 0.406],\n",
        "                                 std=[0.229, 0.224, 0.225])\n",
        "to_tensor = transforms.ToTensor()   # used to convert the PIL image to a PyTorch tensor (multidimensional array)"
      ],
      "metadata": {
        "id": "B-hulT0xQa5z"
      },
      "id": "B-hulT0xQa5z",
      "execution_count": null,
      "outputs": []
    },
    {
      "cell_type": "code",
      "source": [
        "def get_vector(image_name):\n",
        "    \n",
        "#     # Load the pretrained model\n",
        "#     model = models.resnet18(pretrained=True)\n",
        "#     # Use the model object to select the desired layer\n",
        "#     layer = model._modules.get('avgpool')\n",
        "    \n",
        "    # 1. Load the image with Pillow library\n",
        "    img = Image.open(image_name).convert('RGB')\n",
        "    # 2. Create a PyTorch Variable with the transformed image\n",
        "    t_img = Variable(normalize(to_tensor(scaler(img))).unsqueeze(0)).cuda()\n",
        "    # 3. Create a vector of zeros that will hold our feature vector\n",
        "    #    The 'avgpool' layer has an output size of 512\n",
        "    \n",
        "    # M1: my_embedding = torch.zeros(1, 512, 1, 1) and later my_embedding.copy_(o.data)\n",
        "    # M2: my_embedding = torch.zeros(512) and later my_embedding.copy_(o.data.reshape(o.data.size(1)))\n",
        "    my_embedding = torch.zeros(512).cuda()\n",
        "    \n",
        "    # 4. Define a function that will copy the output of a layer\n",
        "    def copy_data(m, i, o):\n",
        "        my_embedding.copy_(o.data.reshape(o.data.size(1)))\n",
        "    # 5. Attach that function to our selected layer\n",
        "    h = layer.register_forward_hook(copy_data)\n",
        "    # 6. Run the model on our transformed image\n",
        "    model(t_img)\n",
        "    # 7. Detach our copy function from the layer\n",
        "    h.remove()\n",
        "    # 8. Return the feature vector\n",
        "    return my_embedding"
      ],
      "metadata": {
        "id": "WVhuqcJzQvYq"
      },
      "id": "WVhuqcJzQvYq",
      "execution_count": null,
      "outputs": []
    },
    {
      "cell_type": "code",
      "source": [
        "query_vector = get_vector(\"ref.png\")\n",
        "ref1_vector = get_vector(\"p0.png\")\n",
        "ref2_vector = get_vector(\"p1.png\")"
      ],
      "metadata": {
        "id": "7uzFV2c5Rn5_"
      },
      "id": "7uzFV2c5Rn5_",
      "execution_count": null,
      "outputs": []
    },
    {
      "cell_type": "code",
      "source": [
        "# Using PyTorch Cosine Similarity\n",
        "cos = nn.CosineSimilarity(dim=1, eps=1e-6)\n",
        "cos_sim = cos(query_vector.unsqueeze(0),\n",
        "              ref1_vector.unsqueeze(0))\n",
        "print('\\nCosine similarity: {0}\\n'.format(cos_sim))"
      ],
      "metadata": {
        "colab": {
          "base_uri": "https://localhost:8080/"
        },
        "id": "gaZmhKNnYZ3z",
        "outputId": "9729938c-1ff9-4ee0-fa92-0a57752b2c3f"
      },
      "id": "gaZmhKNnYZ3z",
      "execution_count": null,
      "outputs": [
        {
          "output_type": "stream",
          "name": "stdout",
          "text": [
            "\n",
            "Cosine similarity: tensor([0.8143], device='cuda:0')\n",
            "\n"
          ]
        }
      ]
    },
    {
      "cell_type": "code",
      "source": [
        "# Using PyTorch Cosine Similarity\n",
        "cos = nn.CosineSimilarity(dim=1, eps=1e-6)\n",
        "cos_sim = cos(query_vector.unsqueeze(0),\n",
        "              ref2_vector.unsqueeze(0))\n",
        "print('\\nCosine similarity: {0}\\n'.format(cos_sim))"
      ],
      "metadata": {
        "colab": {
          "base_uri": "https://localhost:8080/"
        },
        "id": "FrMsaD6PYhpr",
        "outputId": "d27f9f43-d5a5-430d-8548-95b6e56d8ebd"
      },
      "id": "FrMsaD6PYhpr",
      "execution_count": null,
      "outputs": [
        {
          "output_type": "stream",
          "name": "stdout",
          "text": [
            "\n",
            "Cosine similarity: tensor([0.5251], device='cuda:0')\n",
            "\n"
          ]
        }
      ]
    },
    {
      "cell_type": "code",
      "source": [
        "def get_image_embeddings(path, image_type):  # returns a list of tensors\n",
        "    # path of form: traditional/ref/\n",
        "    feature_tensor_dict = dict()\n",
        "    feature_tensor_dict[\"ref\"] = []\n",
        "    feature_tensor_dict[\"p0\"] = []\n",
        "    feature_tensor_dict[\"p1\"] = []\n",
        "    feature_tensor_dict[\"decision\"] = []\n",
        "    \n",
        "    for image_no in range(1000):\n",
        "        im_no_name =  (6-len(str(image_no)))*\"0\" + str(image_no) + \".\" + image_type\n",
        "        \n",
        "        feature_tensor_dict[\"ref\"].append(get_vector(path+\"/ref/\" + im_no_name))\n",
        "        feature_tensor_dict[\"p0\"].append(get_vector(path+\"/p0/\" + im_no_name))\n",
        "        feature_tensor_dict[\"p1\"].append(get_vector(path+\"/p1/\" + im_no_name))\n",
        "\n",
        "        # now load decision\n",
        "        decision_no_name =  (6-len(str(image_no)))*\"0\" + str(image_no) + \".npy\"\n",
        "        decision = np.load(path+\"/judge/\"+decision_no_name)\n",
        "        if decision[0] <= 0.5: \n",
        "              feature_tensor_dict[\"decision\"].append(0)\n",
        "        else: \n",
        "              feature_tensor_dict[\"decision\"].append(1)\n",
        "        \n",
        "    return feature_tensor_dict"
      ],
      "metadata": {
        "id": "q3nySb9GaiUH"
      },
      "id": "q3nySb9GaiUH",
      "execution_count": null,
      "outputs": []
    },
    {
      "cell_type": "code",
      "source": [
        "%cd /content"
      ],
      "metadata": {
        "colab": {
          "base_uri": "https://localhost:8080/"
        },
        "id": "Eu9hP7FRc-Ln",
        "outputId": "9eb4ea8b-0827-46c5-c49c-5de07cd1afcf"
      },
      "id": "Eu9hP7FRc-Ln",
      "execution_count": null,
      "outputs": [
        {
          "output_type": "stream",
          "name": "stdout",
          "text": [
            "/content\n"
          ]
        }
      ]
    },
    {
      "cell_type": "code",
      "source": [
        "resnet_18_embedddings = get_image_embeddings(\"datasets/distortions/distortion_triplets/traditional_triplets\", \"png\")"
      ],
      "metadata": {
        "id": "Cs_f5-mydPO9"
      },
      "id": "Cs_f5-mydPO9",
      "execution_count": null,
      "outputs": []
    },
    {
      "cell_type": "code",
      "source": [
        "resnet_18_embedddings[\"decision\"]"
      ],
      "metadata": {
        "id": "DK7DPu2RnkQ2"
      },
      "id": "DK7DPu2RnkQ2",
      "execution_count": null,
      "outputs": []
    },
    {
      "cell_type": "code",
      "source": [
        "def get_predictions(embeddings):\n",
        "  cosine_similarity_dict = dict()\n",
        "  cosine_similarity_dict[\"ref_and_p0\"] = []\n",
        "  cosine_similarity_dict[\"ref_and_p1\"] = []\n",
        "  cosine_similarity_predictions = []\n",
        "\n",
        "  cos = nn.CosineSimilarity(dim=1, eps=1e-6)\n",
        "  # cos_sim = cos(query_vector.unsqueeze(0), ref2_vector.unsqueeze(0))\n",
        "\n",
        "  for image_no in range(1000):\n",
        "      cosine_similarity_dict[\"ref_and_p0\"].append(cos(embeddings[\"ref\"][image_no].unsqueeze(0), embeddings[\"p0\"][image_no].unsqueeze(0)))\n",
        "      cosine_similarity_dict[\"ref_and_p1\"].append(cos(embeddings[\"ref\"][image_no].unsqueeze(0), embeddings[\"p1\"][image_no].unsqueeze(0)))\n",
        "      \n",
        "      if cosine_similarity_dict[\"ref_and_p0\"][image_no] >= cosine_similarity_dict[\"ref_and_p1\"][image_no]:\n",
        "          cosine_similarity_predictions.append(0)\n",
        "      else:\n",
        "          cosine_similarity_predictions.append(1)   \n",
        "  return cosine_similarity_predictions\n",
        "\n",
        "def get_accuracy(predictions,embeddings):\n",
        "  decisions = embeddings[\"decision\"]\n",
        "\n",
        "  number_wrong_predictions = 0\n",
        "\n",
        "  for image_no in range(1000):\n",
        "      if predictions[image_no] != decisions[image_no]:\n",
        "          number_wrong_predictions += 1\n",
        "      \n",
        "  accuracy = (1000 - number_wrong_predictions)/(1000)\n",
        "  return accuracy"
      ],
      "metadata": {
        "id": "V6S5kBKBjo-l"
      },
      "id": "V6S5kBKBjo-l",
      "execution_count": null,
      "outputs": []
    },
    {
      "cell_type": "code",
      "source": [
        "predictions = get_predictions(resnet_18_embedddings)\n",
        "accuracy = get_accuracy(predictions, resnet_18_embedddings)"
      ],
      "metadata": {
        "id": "Wt9bjXlSmkIH"
      },
      "id": "Wt9bjXlSmkIH",
      "execution_count": null,
      "outputs": []
    },
    {
      "cell_type": "code",
      "source": [
        "accuracy"
      ],
      "metadata": {
        "colab": {
          "base_uri": "https://localhost:8080/"
        },
        "id": "KcbOFa1EoGFD",
        "outputId": "9d2ff7d7-ac18-4895-c83d-6bb5db1fcc40"
      },
      "id": "KcbOFa1EoGFD",
      "execution_count": null,
      "outputs": [
        {
          "output_type": "execute_result",
          "data": {
            "text/plain": [
              "0.809"
            ]
          },
          "metadata": {},
          "execution_count": 89
        }
      ]
    },
    {
      "cell_type": "markdown",
      "source": [
        "<h1> Loading dataset and drive </h1>"
      ],
      "metadata": {
        "id": "zIgDgfIQxc5h"
      },
      "id": "zIgDgfIQxc5h"
    },
    {
      "cell_type": "code",
      "source": [
        "from google.colab import drive\n",
        "drive.mount('/content/drive')\n",
        "!pip install img2vec-pytorch"
      ],
      "metadata": {
        "id": "2qDJIombxf-I",
        "colab": {
          "base_uri": "https://localhost:8080/"
        },
        "outputId": "45fd392a-5673-4dc8-85e4-98affb13c735"
      },
      "id": "2qDJIombxf-I",
      "execution_count": 1,
      "outputs": [
        {
          "output_type": "stream",
          "name": "stdout",
          "text": [
            "Mounted at /content/drive\n",
            "Looking in indexes: https://pypi.org/simple, https://us-python.pkg.dev/colab-wheels/public/simple/\n",
            "Collecting img2vec-pytorch\n",
            "  Downloading img2vec_pytorch-1.0.1-py3-none-any.whl (6.9 kB)\n",
            "Requirement already satisfied: torchvision in /usr/local/lib/python3.9/dist-packages (from img2vec-pytorch) (0.14.1+cu116)\n",
            "Requirement already satisfied: torch in /usr/local/lib/python3.9/dist-packages (from img2vec-pytorch) (1.13.1+cu116)\n",
            "Requirement already satisfied: numpy in /usr/local/lib/python3.9/dist-packages (from img2vec-pytorch) (1.22.4)\n",
            "Requirement already satisfied: typing-extensions in /usr/local/lib/python3.9/dist-packages (from torch->img2vec-pytorch) (4.5.0)\n",
            "Requirement already satisfied: requests in /usr/local/lib/python3.9/dist-packages (from torchvision->img2vec-pytorch) (2.27.1)\n",
            "Requirement already satisfied: pillow!=8.3.*,>=5.3.0 in /usr/local/lib/python3.9/dist-packages (from torchvision->img2vec-pytorch) (8.4.0)\n",
            "Requirement already satisfied: certifi>=2017.4.17 in /usr/local/lib/python3.9/dist-packages (from requests->torchvision->img2vec-pytorch) (2022.12.7)\n",
            "Requirement already satisfied: charset-normalizer~=2.0.0 in /usr/local/lib/python3.9/dist-packages (from requests->torchvision->img2vec-pytorch) (2.0.12)\n",
            "Requirement already satisfied: urllib3<1.27,>=1.21.1 in /usr/local/lib/python3.9/dist-packages (from requests->torchvision->img2vec-pytorch) (1.26.15)\n",
            "Requirement already satisfied: idna<4,>=2.5 in /usr/local/lib/python3.9/dist-packages (from requests->torchvision->img2vec-pytorch) (3.4)\n",
            "Installing collected packages: img2vec-pytorch\n",
            "Successfully installed img2vec-pytorch-1.0.1\n"
          ]
        }
      ]
    },
    {
      "cell_type": "code",
      "source": [
        "!unzip -uq \"/content/drive/MyDrive/Colab Notebooks/distortion_triplets.zip\" -d \"/content/datasets/distortions\"\n",
        "!unzip -uq \"/content/drive/MyDrive/Colab Notebooks/hsj_triplets.zip\" -d \"/content/datasets/hsj\"\n",
        "!unzip -uq \"/content/drive/MyDrive/Colab Notebooks/birds_dataset_triplets.zip\" -d \"/content/datasets/birds-16\""
      ],
      "metadata": {
        "id": "D5OMjLX7dxhD"
      },
      "id": "D5OMjLX7dxhD",
      "execution_count": 2,
      "outputs": []
    },
    {
      "cell_type": "markdown",
      "source": [
        "<h1> Working framework start </h1>"
      ],
      "metadata": {
        "id": "M1x9m7iwoV6B"
      },
      "id": "M1x9m7iwoV6B"
    },
    {
      "cell_type": "code",
      "source": [
        "import torch\n",
        "import torch.nn as nn\n",
        "import torchvision.models as models\n",
        "import torchvision.transforms as transforms\n",
        "from torch.autograd import Variable\n",
        "import numpy as np\n",
        "\n",
        "from PIL import Image\n",
        "\n",
        "############################ REQUIRES MODIFICATION FOR EACH MODEL \n",
        "\n",
        "# scaler = transforms.Resize((224, 224))\n",
        "# normalize = transforms.Normalize(mean=[0.485, 0.456, 0.406],\n",
        "#                                  std=[0.229, 0.224, 0.225])\n",
        "to_tensor = transforms.ToTensor()   # used to convert the PIL image to a PyTorch tensor (multidimensional array)\n",
        "############################\n",
        "\n",
        "\n",
        "############################## HOW TO GET MODEL:\n",
        "# # Load the pretrained model\n",
        "# model = models.resnet18(pretrained=True)\n",
        "# model.cuda()\n",
        "# # Use the model object to select the desired layer\n",
        "# layer = model._modules.get('avgpool')\n",
        "# # Set model to evaluation mode\n",
        "# model.eval()\n",
        "\n",
        "##################################\n",
        "\n",
        "def get_vector(image_name, model, layer, scaler, normalize, feature_tensor_size):\n",
        "    \n",
        "#     # Load the pretrained model\n",
        "#     model = models.resnet18(pretrained=True)\n",
        "#     # Use the model object to select the desired layer\n",
        "#     layer = model._modules.get('avgpool')\n",
        "    \n",
        "    # 1. Load the image with Pillow library\n",
        "    img = Image.open(image_name).convert('RGB')\n",
        "    # 2. Create a PyTorch Variable with the transformed image\n",
        "    t_img = Variable(normalize(to_tensor(scaler(img))).unsqueeze(0)).cuda()\n",
        "    # 3. Create a vector of zeros that will hold our feature vector\n",
        "    #    The 'avgpool' layer has an output size of 512\n",
        "    \n",
        "    # M1: my_embedding = torch.zeros(1, 512, 1, 1) and later my_embedding.copy_(o.data)\n",
        "    # M2: my_embedding = torch.zeros(512) and later my_embedding.copy_(o.data.reshape(o.data.size(1)))\n",
        "    my_embedding = torch.zeros(feature_tensor_size).cuda()\n",
        "    \n",
        "    # 4. Define a function that will copy the output of a layer\n",
        "    def copy_data(m, i, o):\n",
        "        my_embedding.copy_(o.data.reshape(o.data.size(1)))\n",
        "    # 5. Attach that function to our selected layer\n",
        "    h = layer.register_forward_hook(copy_data)\n",
        "    # 6. Run the model on our transformed image\n",
        "    model(t_img)\n",
        "    # 7. Detach our copy function from the layer\n",
        "    h.remove()\n",
        "    # 8. Return the feature vector\n",
        "    return my_embedding\n",
        "    \n",
        "\n",
        "############################ COSINE SIMILARITY\n",
        "cos = nn.CosineSimilarity(dim=1, eps=1e-6)\n",
        "\n",
        "\n",
        "########################### GET FEATURE VECTORS\n",
        "def get_image_embeddings(path, image_type, model, layer, scaler, normalize, isHSJOrBirds, feature_tensor_size):  # returns a list of tensors\n",
        "    # path of form: traditional/ref/\n",
        "    feature_tensor_dict = dict()\n",
        "    feature_tensor_dict[\"ref\"] = []\n",
        "    feature_tensor_dict[\"p0\"] = []\n",
        "    feature_tensor_dict[\"p1\"] = []\n",
        "    feature_tensor_dict[\"decision\"] = []\n",
        "    \n",
        "    for image_no in range(1000):\n",
        "        im_no_name =  (6-len(str(image_no)))*\"0\" + str(image_no) + \".\" + image_type\n",
        "        \n",
        "        feature_tensor_dict[\"ref\"].append(get_vector(path+\"/ref/\" + im_no_name, model, layer, scaler, normalize, feature_tensor_size))\n",
        "        feature_tensor_dict[\"p0\"].append(get_vector(path+\"/p0/\" + im_no_name, model, layer, scaler, normalize, feature_tensor_size))\n",
        "        feature_tensor_dict[\"p1\"].append(get_vector(path+\"/p1/\" + im_no_name, model, layer, scaler, normalize, feature_tensor_size))\n",
        "\n",
        "        # now load decision\n",
        "        if isHSJOrBirds:\n",
        "          feature_tensor_dict[\"decision\"].append(0)\n",
        "        else: \n",
        "          decision_no_name =  (6-len(str(image_no)))*\"0\" + str(image_no) + \".npy\"\n",
        "          decision = np.load(path+\"/judge/\"+decision_no_name)\n",
        "          if decision[0] <= 0.5: \n",
        "                feature_tensor_dict[\"decision\"].append(0)\n",
        "          else: \n",
        "                feature_tensor_dict[\"decision\"].append(1)\n",
        "        \n",
        "    return feature_tensor_dict\n",
        "\n",
        "\n",
        "########################## GET MODEL PREDICTIONS\n",
        "def get_predictions(embeddings):\n",
        "  cosine_similarity_dict = dict()\n",
        "  cosine_similarity_dict[\"ref_and_p0\"] = []\n",
        "  cosine_similarity_dict[\"ref_and_p1\"] = []\n",
        "  cosine_similarity_predictions = []\n",
        "\n",
        "  cos = nn.CosineSimilarity(dim=1, eps=1e-6)\n",
        "  # cos_sim = cos(query_vector.unsqueeze(0), ref2_vector.unsqueeze(0))\n",
        "\n",
        "  for image_no in range(1000):\n",
        "      cosine_similarity_dict[\"ref_and_p0\"].append(cos(embeddings[\"ref\"][image_no].unsqueeze(0), embeddings[\"p0\"][image_no].unsqueeze(0)))\n",
        "      cosine_similarity_dict[\"ref_and_p1\"].append(cos(embeddings[\"ref\"][image_no].unsqueeze(0), embeddings[\"p1\"][image_no].unsqueeze(0)))\n",
        "      \n",
        "      if cosine_similarity_dict[\"ref_and_p0\"][image_no] >= cosine_similarity_dict[\"ref_and_p1\"][image_no]:\n",
        "          cosine_similarity_predictions.append(0)\n",
        "      else:\n",
        "          cosine_similarity_predictions.append(1)   \n",
        "  return cosine_similarity_predictions\n",
        "\n",
        "########################## GET MODEL ACCURACY\n",
        "def get_accuracy(predictions,embeddings):\n",
        "  decisions = embeddings[\"decision\"]\n",
        "\n",
        "  number_wrong_predictions = 0\n",
        "\n",
        "  for image_no in range(1000):\n",
        "      if predictions[image_no] != decisions[image_no]:\n",
        "          number_wrong_predictions += 1\n",
        "      \n",
        "  accuracy = (1000 - number_wrong_predictions)/(1000)\n",
        "  return accuracy\n",
        "\n",
        "\n",
        "def apply_framework(path, image_type, model, layer, scaler, normalize, isHSJOrBirds, feature_tensor_size):\n",
        "  embeddings = get_image_embeddings(path, \n",
        "                                    image_type,\n",
        "                                    model, layer, scaler, normalize, isHSJOrBirds, feature_tensor_size)\n",
        "  predictions= get_predictions(embeddings)\n",
        "  accuracy = get_accuracy(predictions, embeddings)\n",
        "  print(path + \": \" + str(accuracy))\n",
        "  return accuracy"
      ],
      "metadata": {
        "id": "7D9166cvobDh"
      },
      "id": "7D9166cvobDh",
      "execution_count": 3,
      "outputs": []
    },
    {
      "cell_type": "code",
      "source": [
        "    # 1. Load the image with Pillow library\n",
        "img = Image.open(\"datasets/hsj/hsj_triplets/hsj_query_rank0_dissimilar/p0/000000.jpg\").convert('RGB')\n",
        "    # 2. Create a PyTorch Variable with the transformed image\n",
        "scaler = transforms.Resize((224, 224))\n",
        "t_img = scaler(img)\n",
        "t_img"
      ],
      "metadata": {
        "colab": {
          "base_uri": "https://localhost:8080/",
          "height": 241
        },
        "id": "PtspBYvyumJR",
        "outputId": "435e16a7-eb2b-42d3-8527-833c679dd024"
      },
      "id": "PtspBYvyumJR",
      "execution_count": null,
      "outputs": [
        {
          "output_type": "execute_result",
          "data": {
            "text/plain": [
              "<PIL.Image.Image image mode=RGB size=224x224 at 0x7F12235E32E0>"
            ],
            "image/png": "[encoded data removed]"
          },
          "metadata": {},
          "execution_count": 11
        }
      ]
    },
    {
      "cell_type": "markdown",
      "source": [
        "1. Resnet-18 + cosine similarity\n",
        "\n",
        "datasets/distortions/distortion_triplets/traditional_triplets: 0.809\n",
        "\n",
        "datasets/distortions/distortion_triplets/cnn_triplets: 0.848\n",
        "\n",
        "datasets/distortions/distortion_triplets/color_triplets: 0.623\n",
        "\n",
        "datasets/distortions/distortion_triplets/deblur_triplets: 0.603\n",
        "\n",
        "datasets/distortions/distortion_triplets/frameinterp_triplets: 0.663\n",
        "\n",
        "datasets/distortions/distortion_triplets/superres_triplets: 0.723"
      ],
      "metadata": {
        "id": "-pJ_BUwHp5uU"
      },
      "id": "-pJ_BUwHp5uU"
    },
    {
      "cell_type": "code",
      "source": [
        "# Load the pretrained model\n",
        "model = models.resnet18(pretrained=True)\n",
        "model.cuda()\n",
        "# Use the model object to select the desired layer\n",
        "layer = model._modules.get('avgpool')\n",
        "# Set model to evaluation mode\n",
        "model.eval()\n",
        "scaler = transforms.Resize((224, 224))\n",
        "normalize = transforms.Normalize(mean=[0.485, 0.456, 0.406],\n",
        "                                 std=[0.229, 0.224, 0.225])\n",
        "\n",
        "print(\"# ----------------------------------------BAPPS 2AFC DIST RESNET-18------------------------#\")\n",
        "print(\"\")\n",
        "################### TRADITIONAL \n",
        "apply_framework(\"datasets/distortions/distortion_triplets/traditional_triplets\",\n",
        "                \"png\",\n",
        "                model, layer, scaler, normalize, False)\n",
        "\n",
        "################ CNN\n",
        "apply_framework(\"datasets/distortions/distortion_triplets/cnn_triplets\",\n",
        "                \"png\",\n",
        "                model, layer, scaler, normalize, False)\n",
        "\n",
        "############### COLOR\n",
        "apply_framework(\"datasets/distortions/distortion_triplets/color_triplets\",\n",
        "                \"png\",\n",
        "                model, layer, scaler, normalize, False)\n",
        "\n",
        "################ DEBLUR\n",
        "apply_framework(\"datasets/distortions/distortion_triplets/deblur_triplets\",\n",
        "                \"png\",\n",
        "                model, layer, scaler, normalize, False)\n",
        "\n",
        "############### FRAME INTERP\n",
        "apply_framework(\"datasets/distortions/distortion_triplets/frameinterp_triplets\",\n",
        "                \"png\",\n",
        "                model, layer, scaler, normalize, False)\n",
        "\n",
        "################ SUPER RES\n",
        "apply_framework(\"datasets/distortions/distortion_triplets/superres_triplets\",\n",
        "                \"png\",\n",
        "                model, layer, scaler, normalize, False)\n",
        "\n",
        "# datasets/distortions/distortion_triplets/traditional_triplets: 0.809\n",
        "# datasets/distortions/distortion_triplets/cnn_triplets: 0.848\n",
        "# datasets/distortions/distortion_triplets/color_triplets: 0.623\n",
        "# datasets/distortions/distortion_triplets/deblur_triplets: 0.603\n",
        "# datasets/distortions/distortion_triplets/frameinterp_triplets: 0.663\n",
        "# datasets/distortions/distortion_triplets/superres_triplets: 0.723"
      ],
      "metadata": {
        "colab": {
          "base_uri": "https://localhost:8080/"
        },
        "id": "do-kyNnap4wa",
        "outputId": "a6f3923b-851b-4fff-e015-34cd393e5398"
      },
      "id": "do-kyNnap4wa",
      "execution_count": null,
      "outputs": [
        {
          "output_type": "stream",
          "name": "stderr",
          "text": [
            "/usr/local/lib/python3.9/dist-packages/torchvision/models/_utils.py:208: UserWarning: The parameter 'pretrained' is deprecated since 0.13 and may be removed in the future, please use 'weights' instead.\n",
            "  warnings.warn(\n",
            "/usr/local/lib/python3.9/dist-packages/torchvision/models/_utils.py:223: UserWarning: Arguments other than a weight enum or `None` for 'weights' are deprecated since 0.13 and may be removed in the future. The current behavior is equivalent to passing `weights=ResNet18_Weights.IMAGENET1K_V1`. You can also use `weights=ResNet18_Weights.DEFAULT` to get the most up-to-date weights.\n",
            "  warnings.warn(msg)\n"
          ]
        },
        {
          "output_type": "stream",
          "name": "stdout",
          "text": [
            "# ----------------------------------------BAPPS 2AFC DIST RESNET-18------------------------#\n",
            "\n",
            "datasets/distortions/distortion_triplets/traditional_triplets: 0.809\n",
            "datasets/distortions/distortion_triplets/cnn_triplets: 0.848\n",
            "datasets/distortions/distortion_triplets/color_triplets: 0.623\n",
            "datasets/distortions/distortion_triplets/deblur_triplets: 0.603\n",
            "datasets/distortions/distortion_triplets/frameinterp_triplets: 0.663\n",
            "datasets/distortions/distortion_triplets/superres_triplets: 0.723\n"
          ]
        },
        {
          "output_type": "execute_result",
          "data": {
            "text/plain": [
              "0.723"
            ]
          },
          "metadata": {},
          "execution_count": 12
        }
      ]
    },
    {
      "cell_type": "markdown",
      "source": [
        "###BAPPS 2AFC DIST RESNET-18+Cosine Similarity\n",
        "\n",
        "datasets/distortions/distortion_triplets/traditional_triplets: 0.809\n",
        "\n",
        "datasets/distortions/distortion_triplets/cnn_triplets: 0.848\n",
        "\n",
        "datasets/distortions/distortion_triplets/color_triplets: 0.623\n",
        "\n",
        "datasets/distortions/distortion_triplets/deblur_triplets: 0.603\n",
        "\n",
        "datasets/distortions/distortion_triplets/frameinterp_triplets: 0.663\n",
        "\n",
        "datasets/distortions/distortion_triplets/superres_triplets: 0.723\n",
        "\n",
        "\n",
        "----------------------------------------HSJ------------------------\n",
        "\n",
        "datasets/hsj/hsj_triplets/hsj_query_rank0_dissimilar: 0.695\n",
        "\n",
        "datasets/hsj/hsj_triplets/hsj_query_rank0_rank1: 0.597\n",
        "\n",
        "----------------------------------------Birds-16------------------------\n",
        "\n",
        "datasets/birds-16/birds_dataset_triplets/birds_query_rank0_dissimilar: 0.791\n",
        "\n",
        "datasets/birds-16/birds_dataset_triplets/birds_query_rank0_rank1: 0.599\n",
        "\n",
        "datasets/birds-16/birds_dataset_triplets/birds_query_rank0_dissimilar_2rank1: 0.786"
      ],
      "metadata": {
        "id": "_uDcYjVTeW1p"
      },
      "id": "_uDcYjVTeW1p"
    },
    {
      "cell_type": "code",
      "source": [
        "# Load the pretrained model\n",
        "model = models.resnet18(pretrained=True)\n",
        "model.cuda()\n",
        "# Use the model object to select the desired layer\n",
        "layer = model._modules.get('avgpool')\n",
        "# Set model to evaluation mode\n",
        "model.eval()\n",
        "scaler = transforms.Resize((224, 224))\n",
        "normalize = transforms.Normalize(mean=[0.485, 0.456, 0.406],\n",
        "                                 std=[0.229, 0.224, 0.225])\n",
        "print(\"# ----------------------------------------HSJ------------------------#\")\n",
        "print(\"\")\n",
        "################### HSJ Rank 0 + Dissimilar \n",
        "apply_framework(\"datasets/hsj/hsj_triplets/hsj_query_rank0_dissimilar\",\n",
        "                \"jpg\",\n",
        "                model, layer, scaler, normalize, True)\n",
        "\n",
        "################ HSJ Rank 0 + Rank 1\n",
        "apply_framework(\"datasets/hsj/hsj_triplets/hsj_query_rank0_rank1\",\n",
        "                \"jpg\",\n",
        "                model, layer, scaler, normalize, True)\n",
        "\n",
        "print(\"# ----------------------------------------Birds-16------------------------#\")\n",
        "print(\"\")\n",
        "################### Birds-16 Rank 0 + Dissimilar \n",
        "apply_framework(\"datasets/birds-16/birds_dataset_triplets/birds_query_rank0_dissimilar\",\n",
        "                \"jpg\",\n",
        "                model, layer, scaler, normalize, True)\n",
        "\n",
        "################### Birds-16 Rank 0 + Rank 1 \n",
        "apply_framework(\"datasets/birds-16/birds_dataset_triplets/birds_query_rank0_rank1\",\n",
        "                \"jpg\",\n",
        "                model, layer, scaler, normalize, True)\n",
        "\n",
        "################### Birds-16 Rank 0 + Dissimilar 2rank1 test\n",
        "apply_framework(\"datasets/birds-16/birds_dataset_triplets/birds_query_rank0_dissimilar_2rank1\",\n",
        "                \"jpg\",\n",
        "                model, layer, scaler, normalize, True)"
      ],
      "metadata": {
        "colab": {
          "base_uri": "https://localhost:8080/"
        },
        "id": "iFKC2UV0togy",
        "outputId": "87a117cf-fc38-4b2f-ec03-ff9718e17008"
      },
      "id": "iFKC2UV0togy",
      "execution_count": null,
      "outputs": [
        {
          "output_type": "stream",
          "name": "stdout",
          "text": [
            "# ----------------------------------------HSJ------------------------#\n",
            "\n",
            "datasets/hsj/hsj_triplets/hsj_query_rank0_dissimilar: 0.695\n",
            "datasets/hsj/hsj_triplets/hsj_query_rank0_rank1: 0.597\n",
            "# ----------------------------------------Birds-16------------------------#\n",
            "\n",
            "datasets/birds-16/birds_dataset_triplets/birds_query_rank0_dissimilar: 0.791\n",
            "datasets/birds-16/birds_dataset_triplets/birds_query_rank0_rank1: 0.599\n",
            "datasets/birds-16/birds_dataset_triplets/birds_query_rank0_dissimilar_2rank1: 0.786\n"
          ]
        },
        {
          "output_type": "execute_result",
          "data": {
            "text/plain": [
              "0.786"
            ]
          },
          "metadata": {},
          "execution_count": 14
        }
      ]
    },
    {
      "cell_type": "code",
      "source": [
        "# Load the pretrained model\n",
        "model2 = models.resnet34(pretrained=True)"
      ],
      "metadata": {
        "colab": {
          "base_uri": "https://localhost:8080/",
          "height": 156,
          "referenced_widgets": [
            "bca6d128c81c4b1596e23411c8939c43",
            "f3e1a8617cb748a39f282c11b9491e0a",
            "d3e31a9020364e64be5c1ee8950e48b3",
            "7548b65877f94225ae7889578eab5db2",
            "75708c28b4694cee90680050814f3aa4",
            "893c1dca55e44bcaa5e35d8c22fa8636",
            "5372c90c9580459ab96dc596ac1361d5",
            "0f7d3090a62545049b4ebc69e7fd5f21",
            "fdd5022ec0ab422db94c6392eb0202f1",
            "009229f9541b4e25b6aa5b8a9724865c",
            "71eaa211a3a9407083de38c547cc3305"
          ]
        },
        "id": "0mIL7Zw4j9T5",
        "outputId": "671418bd-f591-4cab-9ef0-8c5c71caf5fc"
      },
      "id": "0mIL7Zw4j9T5",
      "execution_count": null,
      "outputs": [
        {
          "output_type": "stream",
          "name": "stderr",
          "text": [
            "/usr/local/lib/python3.9/dist-packages/torchvision/models/_utils.py:208: UserWarning: The parameter 'pretrained' is deprecated since 0.13 and may be removed in the future, please use 'weights' instead.\n",
            "  warnings.warn(\n",
            "/usr/local/lib/python3.9/dist-packages/torchvision/models/_utils.py:223: UserWarning: Arguments other than a weight enum or `None` for 'weights' are deprecated since 0.13 and may be removed in the future. The current behavior is equivalent to passing `weights=ResNet34_Weights.IMAGENET1K_V1`. You can also use `weights=ResNet34_Weights.DEFAULT` to get the most up-to-date weights.\n",
            "  warnings.warn(msg)\n",
            "Downloading: \"https://download.pytorch.org/models/resnet34-b627a593.pth\" to /root/.cache/torch/hub/checkpoints/resnet34-b627a593.pth\n"
          ]
        },
        {
          "output_type": "display_data",
          "data": {
            "text/plain": [
              "  0%|          | 0.00/83.3M [00:00<?, ?B/s]"
            ],
            "application/vnd.jupyter.widget-view+json": {
              "version_major": 2,
              "version_minor": 0,
              "model_id": "bca6d128c81c4b1596e23411c8939c43"
            }
          },
          "metadata": {}
        }
      ]
    },
    {
      "cell_type": "markdown",
      "source": [
        "2. Resnet-34\n",
        "\n",
        "----------------------------------------BAPPS 2AFC DIST RESNET-18------------------------\n",
        "\n",
        "datasets/distortions/distortion_triplets/traditional_triplets: 0.801\n",
        "\n",
        "datasets/distortions/distortion_triplets/cnn_triplets: 0.851\n",
        "\n",
        "\n",
        "datasets/distortions/distortion_triplets/color_triplets: 0.626\n",
        "\n",
        "datasets/distortions/distortion_triplets/deblur_triplets: 0.601\n",
        "\n",
        "datasets/distortions/distortion_triplets/frameinterp_triplets: 0.652\n",
        "\n",
        "datasets/distortions/distortion_triplets/superres_triplets: 0.725\n",
        "\n",
        "----------------------------------------HSJ------------------------\n",
        "\n",
        "\n",
        "datasets/hsj/hsj_triplets/hsj_query_rank0_dissimilar: 0.691\n",
        "\n",
        "datasets/hsj/hsj_triplets/hsj_query_rank0_rank1: 0.574\n",
        "\n",
        " ----------------------------------------Birds-16------------------------\n",
        "\n",
        "\n",
        "datasets/birds-16/birds_dataset_triplets/birds_query_rank0_dissimilar: 0.775\n",
        "\n",
        "datasets/birds-16/birds_dataset_triplets/birds_query_rank0_rank1: 0.611\n",
        "\n",
        "datasets/birds-16/birds_dataset_triplets/birds_query_rank0_dissimilar_2rank1: 0.\n",
        "753"
      ],
      "metadata": {
        "id": "yoN4xJgekSIK"
      },
      "id": "yoN4xJgekSIK"
    },
    {
      "cell_type": "code",
      "source": [
        "# Load the pretrained model\n",
        "model2 = models.resnet34(pretrained=True)\n",
        "model2.cuda()\n",
        "# Use the model object to select the desired layer\n",
        "layer = model2._modules.get('avgpool')\n",
        "# Set model to evaluation mode\n",
        "model2.eval()\n",
        "scaler = transforms.Resize((224, 224))\n",
        "normalize = transforms.Normalize(mean=[0.485, 0.456, 0.406],\n",
        "                                 std=[0.229, 0.224, 0.225])\n",
        "\n",
        "print(\"\")\n",
        "print(\"# ----------------------------------------BAPPS 2AFC DIST-----------------------#\")\n",
        "print(\"\")\n",
        "################### TRADITIONAL \n",
        "apply_framework(\"datasets/distortions/distortion_triplets/traditional_triplets\",\n",
        "                \"png\",\n",
        "                model2, layer, scaler, normalize, False)\n",
        "\n",
        "################ CNN\n",
        "apply_framework(\"datasets/distortions/distortion_triplets/cnn_triplets\",\n",
        "                \"png\",\n",
        "                model2, layer, scaler, normalize, False)\n",
        "\n",
        "############### COLOR\n",
        "apply_framework(\"datasets/distortions/distortion_triplets/color_triplets\",\n",
        "                \"png\",\n",
        "                model2, layer, scaler, normalize, False)\n",
        "\n",
        "################ DEBLUR\n",
        "apply_framework(\"datasets/distortions/distortion_triplets/deblur_triplets\",\n",
        "                \"png\",\n",
        "                model2, layer, scaler, normalize, False)\n",
        "\n",
        "############### FRAME INTERP\n",
        "apply_framework(\"datasets/distortions/distortion_triplets/frameinterp_triplets\",\n",
        "                \"png\",\n",
        "                model2, layer, scaler, normalize, False)\n",
        "\n",
        "################ SUPER RES\n",
        "apply_framework(\"datasets/distortions/distortion_triplets/superres_triplets\",\n",
        "                \"png\",\n",
        "                model2, layer, scaler, normalize, False)\n",
        "\n",
        "print(\"\")\n",
        "print(\"# ----------------------------------------HSJ------------------------#\")\n",
        "print(\"\")\n",
        "################### HSJ Rank 0 + Dissimilar \n",
        "apply_framework(\"datasets/hsj/hsj_triplets/hsj_query_rank0_dissimilar\",\n",
        "                \"jpg\",\n",
        "                model2, layer, scaler, normalize, True)\n",
        "\n",
        "################ HSJ Rank 0 + Rank 1\n",
        "apply_framework(\"datasets/hsj/hsj_triplets/hsj_query_rank0_rank1\",\n",
        "                \"jpg\",\n",
        "                model2, layer, scaler, normalize, True)\n",
        "\n",
        "print(\"\")\n",
        "print(\"# ----------------------------------------Birds-16------------------------#\")\n",
        "print(\"\")\n",
        "################### Birds-16 Rank 0 + Dissimilar \n",
        "apply_framework(\"datasets/birds-16/birds_dataset_triplets/birds_query_rank0_dissimilar\",\n",
        "                \"jpg\",\n",
        "                model2, layer, scaler, normalize, True)\n",
        "\n",
        "################### Birds-16 Rank 0 + Rank 1 \n",
        "apply_framework(\"datasets/birds-16/birds_dataset_triplets/birds_query_rank0_rank1\",\n",
        "                \"jpg\",\n",
        "                model2, layer, scaler, normalize, True)\n",
        "\n",
        "################### Birds-16 Rank 0 + Dissimilar 2rank1 test\n",
        "apply_framework(\"datasets/birds-16/birds_dataset_triplets/birds_query_rank0_dissimilar_2rank1\",\n",
        "                \"jpg\",\n",
        "                model2, layer, scaler, normalize, True)"
      ],
      "metadata": {
        "colab": {
          "base_uri": "https://localhost:8080/"
        },
        "id": "ZdD6QgFzi-vC",
        "outputId": "0a6b0292-1660-4871-d22d-f780fee1c0e7"
      },
      "id": "ZdD6QgFzi-vC",
      "execution_count": null,
      "outputs": [
        {
          "output_type": "stream",
          "name": "stderr",
          "text": [
            "/usr/local/lib/python3.9/dist-packages/torchvision/models/_utils.py:208: UserWarning: The parameter 'pretrained' is deprecated since 0.13 and may be removed in the future, please use 'weights' instead.\n",
            "  warnings.warn(\n",
            "/usr/local/lib/python3.9/dist-packages/torchvision/models/_utils.py:223: UserWarning: Arguments other than a weight enum or `None` for 'weights' are deprecated since 0.13 and may be removed in the future. The current behavior is equivalent to passing `weights=ResNet34_Weights.IMAGENET1K_V1`. You can also use `weights=ResNet34_Weights.DEFAULT` to get the most up-to-date weights.\n",
            "  warnings.warn(msg)\n"
          ]
        },
        {
          "output_type": "stream",
          "name": "stdout",
          "text": [
            "\n",
            "# ----------------------------------------BAPPS 2AFC DIST RESNET-18------------------------#\n",
            "\n",
            "datasets/distortions/distortion_triplets/traditional_triplets: 0.801\n",
            "datasets/distortions/distortion_triplets/cnn_triplets: 0.851\n",
            "datasets/distortions/distortion_triplets/color_triplets: 0.626\n",
            "datasets/distortions/distortion_triplets/deblur_triplets: 0.601\n",
            "datasets/distortions/distortion_triplets/frameinterp_triplets: 0.652\n",
            "datasets/distortions/distortion_triplets/superres_triplets: 0.725\n",
            "\n",
            "# ----------------------------------------HSJ------------------------#\n",
            "\n",
            "datasets/hsj/hsj_triplets/hsj_query_rank0_dissimilar: 0.691\n",
            "datasets/hsj/hsj_triplets/hsj_query_rank0_rank1: 0.574\n",
            "\n",
            "# ----------------------------------------Birds-16------------------------#\n",
            "\n",
            "datasets/birds-16/birds_dataset_triplets/birds_query_rank0_dissimilar: 0.775\n",
            "datasets/birds-16/birds_dataset_triplets/birds_query_rank0_rank1: 0.611\n",
            "datasets/birds-16/birds_dataset_triplets/birds_query_rank0_dissimilar_2rank1: 0.753\n"
          ]
        },
        {
          "output_type": "execute_result",
          "data": {
            "text/plain": [
              "0.753"
            ]
          },
          "metadata": {},
          "execution_count": 18
        }
      ]
    },
    {
      "cell_type": "markdown",
      "source": [
        "3. ResNet 50\n",
        "\n",
        " ----------------------------------------BAPPS 2AFC DIST-----------------------\n",
        "\n",
        "\n",
        "datasets/distortions/distortion_triplets/traditional_triplets: 0.81\n",
        "\n",
        "datasets/distortions/distortion_triplets/cnn_triplets: 0.837\n",
        "\n",
        "datasets/distortions/distortion_triplets/color_triplets: 0.635\n",
        "\n",
        "datasets/distortions/distortion_triplets/deblur_triplets: 0.608\n",
        "\n",
        "datasets/distortions/distortion_triplets/frameinterp_triplets: 0.653\n",
        "\n",
        "datasets/distortions/distortion_triplets/superres_triplets: 0.721\n",
        "\n",
        " ----------------------------------------HSJ------------------------\n",
        "\n",
        "datasets/hsj/hsj_triplets/hsj_query_rank0_dissimilar: 0.687\n",
        "\n",
        "datasets/hsj/hsj_triplets/hsj_query_rank0_rank1: 0.588\n",
        "\n",
        "\n",
        "----------------------------------------Birds-16------------------------\n",
        "\n",
        "datasets/birds-16/birds_dataset_triplets/birds_query_rank0_dissimilar: 0.755\n",
        "\n",
        "datasets/birds-16/birds_dataset_triplets/birds_query_rank0_rank1: 0.605\n",
        "\n",
        "datasets/birds-16/birds_dataset_triplets/birds_query_rank0_dissimilar_2rank1: 0.755\n"
      ],
      "metadata": {
        "id": "XtMXz0qZm6cv"
      },
      "id": "XtMXz0qZm6cv"
    },
    {
      "cell_type": "code",
      "source": [
        "# Load the pretrained model\n",
        "model3 = models.resnet50(pretrained=True)\n",
        "model3.cuda()\n",
        "# Use the model object to select the desired layer\n",
        "layer = model3._modules.get('avgpool')\n",
        "# Set model to evaluation mode\n",
        "model3.eval()\n",
        "scaler = transforms.Resize((224, 224))\n",
        "normalize = transforms.Normalize(mean=[0.485, 0.456, 0.406],\n",
        "                                 std=[0.229, 0.224, 0.225])\n",
        "\n",
        "print(\"\")\n",
        "print(\"# ----------------------------------------BAPPS 2AFC DIST-----------------------#\")\n",
        "print(\"\")\n",
        "################### TRADITIONAL \n",
        "apply_framework(\"datasets/distortions/distortion_triplets/traditional_triplets\",\n",
        "                \"png\",\n",
        "                model3, layer, scaler, normalize, False)\n",
        "\n",
        "################ CNN\n",
        "apply_framework(\"datasets/distortions/distortion_triplets/cnn_triplets\",\n",
        "                \"png\",\n",
        "                model3, layer, scaler, normalize, False)\n",
        "\n",
        "############### COLOR\n",
        "apply_framework(\"datasets/distortions/distortion_triplets/color_triplets\",\n",
        "                \"png\",\n",
        "                model3, layer, scaler, normalize, False)\n",
        "\n",
        "################ DEBLUR\n",
        "apply_framework(\"datasets/distortions/distortion_triplets/deblur_triplets\",\n",
        "                \"png\",\n",
        "                model3, layer, scaler, normalize, False)\n",
        "\n",
        "############### FRAME INTERP\n",
        "apply_framework(\"datasets/distortions/distortion_triplets/frameinterp_triplets\",\n",
        "                \"png\",\n",
        "                model3, layer, scaler, normalize, False)\n",
        "\n",
        "################ SUPER RES\n",
        "apply_framework(\"datasets/distortions/distortion_triplets/superres_triplets\",\n",
        "                \"png\",\n",
        "                model3, layer, scaler, normalize, False)\n",
        "\n",
        "print(\"\")\n",
        "print(\"# ----------------------------------------HSJ------------------------#\")\n",
        "print(\"\")\n",
        "################### HSJ Rank 0 + Dissimilar \n",
        "apply_framework(\"datasets/hsj/hsj_triplets/hsj_query_rank0_dissimilar\",\n",
        "                \"jpg\",\n",
        "                model3, layer, scaler, normalize, True)\n",
        "\n",
        "################ HSJ Rank 0 + Rank 1\n",
        "apply_framework(\"datasets/hsj/hsj_triplets/hsj_query_rank0_rank1\",\n",
        "                \"jpg\",\n",
        "                model3, layer, scaler, normalize, True)\n",
        "\n",
        "print(\"\")\n",
        "print(\"# ----------------------------------------Birds-16------------------------#\")\n",
        "print(\"\")\n",
        "################### Birds-16 Rank 0 + Dissimilar \n",
        "apply_framework(\"datasets/birds-16/birds_dataset_triplets/birds_query_rank0_dissimilar\",\n",
        "                \"jpg\",\n",
        "                model3, layer, scaler, normalize, True)\n",
        "\n",
        "################### Birds-16 Rank 0 + Rank 1 \n",
        "apply_framework(\"datasets/birds-16/birds_dataset_triplets/birds_query_rank0_rank1\",\n",
        "                \"jpg\",\n",
        "                model3, layer, scaler, normalize, True)\n",
        "\n",
        "################### Birds-16 Rank 0 + Dissimilar 2rank1 test\n",
        "apply_framework(\"datasets/birds-16/birds_dataset_triplets/birds_query_rank0_dissimilar_2rank1\",\n",
        "                \"jpg\",\n",
        "                model3, layer, scaler, normalize, True)"
      ],
      "metadata": {
        "colab": {
          "base_uri": "https://localhost:8080/"
        },
        "id": "clXURUNolyLI",
        "outputId": "9cad0835-a009-4ea2-9ae0-dff6d53fed9e"
      },
      "id": "clXURUNolyLI",
      "execution_count": null,
      "outputs": [
        {
          "output_type": "stream",
          "name": "stdout",
          "text": [
            "\n",
            "# ----------------------------------------BAPPS 2AFC DIST-----------------------#\n",
            "\n",
            "datasets/distortions/distortion_triplets/traditional_triplets: 0.81\n",
            "datasets/distortions/distortion_triplets/cnn_triplets: 0.837\n",
            "datasets/distortions/distortion_triplets/color_triplets: 0.635\n",
            "datasets/distortions/distortion_triplets/deblur_triplets: 0.608\n",
            "datasets/distortions/distortion_triplets/frameinterp_triplets: 0.653\n",
            "datasets/distortions/distortion_triplets/superres_triplets: 0.721\n",
            "\n",
            "# ----------------------------------------HSJ------------------------#\n",
            "\n",
            "datasets/hsj/hsj_triplets/hsj_query_rank0_dissimilar: 0.687\n",
            "datasets/hsj/hsj_triplets/hsj_query_rank0_rank1: 0.588\n",
            "\n",
            "# ----------------------------------------Birds-16------------------------#\n",
            "\n",
            "datasets/birds-16/birds_dataset_triplets/birds_query_rank0_dissimilar: 0.755\n",
            "datasets/birds-16/birds_dataset_triplets/birds_query_rank0_rank1: 0.605\n",
            "datasets/birds-16/birds_dataset_triplets/birds_query_rank0_dissimilar_2rank1: 0.755\n"
          ]
        },
        {
          "output_type": "execute_result",
          "data": {
            "text/plain": [
              "0.755"
            ]
          },
          "metadata": {},
          "execution_count": 21
        }
      ]
    },
    {
      "cell_type": "markdown",
      "source": [
        "# New - even less lines of code"
      ],
      "metadata": {
        "id": "4vd4hLtDpm8d"
      },
      "id": "4vd4hLtDpm8d"
    },
    {
      "cell_type": "code",
      "source": [
        "def apply_framework_model(modelf):\n",
        "  modelf.cuda()\n",
        "  # Use the model object to select the desired layer\n",
        "  layer = modelf._modules.get('avgpool')\n",
        "  # Set model to evaluation mode\n",
        "  modelf.eval()\n",
        "  scaler = transforms.Resize((224, 224))\n",
        "  normalize = transforms.Normalize(mean=[0.485, 0.456, 0.406],\n",
        "                                  std=[0.229, 0.224, 0.225])\n",
        "\n",
        "  print(\"\")\n",
        "  print(\"# ----------------------------------------BAPPS 2AFC DIST-----------------------#\")\n",
        "  print(\"\")\n",
        "  ################### TRADITIONAL \n",
        "  apply_framework(\"datasets/distortions/distortion_triplets/traditional_triplets\",\n",
        "                  \"png\",\n",
        "                  modelf, layer, scaler, normalize, False)\n",
        "\n",
        "  ################ CNN\n",
        "  apply_framework(\"datasets/distortions/distortion_triplets/cnn_triplets\",\n",
        "                  \"png\",\n",
        "                  modelf, layer, scaler, normalize, False)\n",
        "\n",
        "  ############### COLOR\n",
        "  apply_framework(\"datasets/distortions/distortion_triplets/color_triplets\",\n",
        "                  \"png\",\n",
        "                  modelf, layer, scaler, normalize, False)\n",
        "\n",
        "  ################ DEBLUR\n",
        "  apply_framework(\"datasets/distortions/distortion_triplets/deblur_triplets\",\n",
        "                  \"png\",\n",
        "                  modelf, layer, scaler, normalize, False)\n",
        "\n",
        "  ############### FRAME INTERP\n",
        "  apply_framework(\"datasets/distortions/distortion_triplets/frameinterp_triplets\",\n",
        "                  \"png\",\n",
        "                  model3, layer, scaler, normalize, False)\n",
        "\n",
        "  ################ SUPER RES\n",
        "  apply_framework(\"datasets/distortions/distortion_triplets/superres_triplets\",\n",
        "                  \"png\",\n",
        "                  modelf, layer, scaler, normalize, False)\n",
        "\n",
        "  print(\"\")\n",
        "  print(\"# ----------------------------------------HSJ------------------------#\")\n",
        "  print(\"\")\n",
        "  ################### HSJ Rank 0 + Dissimilar \n",
        "  apply_framework(\"datasets/hsj/hsj_triplets/hsj_query_rank0_dissimilar\",\n",
        "                  \"jpg\",\n",
        "                  modelf, layer, scaler, normalize, True)\n",
        "\n",
        "  ################ HSJ Rank 0 + Rank 1\n",
        "  apply_framework(\"datasets/hsj/hsj_triplets/hsj_query_rank0_rank1\",\n",
        "                  \"jpg\",\n",
        "                  modelf, layer, scaler, normalize, True)\n",
        "\n",
        "  print(\"\")\n",
        "  print(\"# ----------------------------------------Birds-16------------------------#\")\n",
        "  print(\"\")\n",
        "  ################### Birds-16 Rank 0 + Dissimilar \n",
        "  apply_framework(\"datasets/birds-16/birds_dataset_triplets/birds_query_rank0_dissimilar\",\n",
        "                  \"jpg\",\n",
        "                  modelf, layer, scaler, normalize, True)\n",
        "\n",
        "  ################### Birds-16 Rank 0 + Rank 1 \n",
        "  apply_framework(\"datasets/birds-16/birds_dataset_triplets/birds_query_rank0_rank1\",\n",
        "                  \"jpg\",\n",
        "                  modelf, layer, scaler, normalize, True)\n",
        "\n",
        "  ################### Birds-16 Rank 0 + Dissimilar 2rank1 test\n",
        "  apply_framework(\"datasets/birds-16/birds_dataset_triplets/birds_query_rank0_dissimilar_2rank1\",\n",
        "                  \"jpg\",\n",
        "                  modelf, layer, scaler, normalize, True)"
      ],
      "metadata": {
        "id": "tWRB-LfBpmBO"
      },
      "id": "tWRB-LfBpmBO",
      "execution_count": null,
      "outputs": []
    },
    {
      "cell_type": "markdown",
      "source": [
        "ResNet 101"
      ],
      "metadata": {
        "id": "45EDIZHyqGBG"
      },
      "id": "45EDIZHyqGBG"
    },
    {
      "cell_type": "code",
      "source": [
        "# Load the pretrained model\n",
        "model5 = models.resnet101(pretrained=True)\n",
        "apply_framework_model(model5)"
      ],
      "metadata": {
        "colab": {
          "base_uri": "https://localhost:8080/",
          "height": 468,
          "referenced_widgets": [
            "6678c3284bba4788bbe9d4e45414ffc8",
            "0bb4ca5b79eb47cba9040c4866621628",
            "0dca7d41c2c6492d94e48aa4ddac2b39",
            "cffc167a23f346938726878ea7968396",
            "ce4cd73fae2c4ca6ac365353239ad9fe",
            "ff89d302c7b447b7865767d11316ab95",
            "dec2a15e52af45b8aef578feec6d82c6",
            "0c88bfb26f94466f8ce31588b5e6faff",
            "e2e0448838f24045bb09baa6a82f7d60",
            "9c786b0d9c3a4f908b4bef29511cdf54",
            "229cdc96df7c40029253c5e17f6edf74"
          ]
        },
        "id": "8lJsSoKbpjzi",
        "outputId": "a45c142e-6da9-4885-cb36-3bcd902fe796"
      },
      "id": "8lJsSoKbpjzi",
      "execution_count": null,
      "outputs": [
        {
          "output_type": "stream",
          "name": "stderr",
          "text": [
            "/usr/local/lib/python3.9/dist-packages/torchvision/models/_utils.py:223: UserWarning: Arguments other than a weight enum or `None` for 'weights' are deprecated since 0.13 and may be removed in the future. The current behavior is equivalent to passing `weights=ResNet101_Weights.IMAGENET1K_V1`. You can also use `weights=ResNet101_Weights.DEFAULT` to get the most up-to-date weights.\n",
            "  warnings.warn(msg)\n",
            "Downloading: \"https://download.pytorch.org/models/resnet101-63fe2227.pth\" to /root/.cache/torch/hub/checkpoints/resnet101-63fe2227.pth\n"
          ]
        },
        {
          "output_type": "display_data",
          "data": {
            "text/plain": [
              "  0%|          | 0.00/171M [00:00<?, ?B/s]"
            ],
            "application/vnd.jupyter.widget-view+json": {
              "version_major": 2,
              "version_minor": 0,
              "model_id": "6678c3284bba4788bbe9d4e45414ffc8"
            }
          },
          "metadata": {}
        },
        {
          "output_type": "stream",
          "name": "stdout",
          "text": [
            "\n",
            "# ----------------------------------------BAPPS 2AFC DIST-----------------------#\n",
            "\n",
            "datasets/distortions/distortion_triplets/traditional_triplets: 0.808\n",
            "datasets/distortions/distortion_triplets/cnn_triplets: 0.839\n",
            "datasets/distortions/distortion_triplets/color_triplets: 0.647\n",
            "datasets/distortions/distortion_triplets/deblur_triplets: 0.594\n",
            "datasets/distortions/distortion_triplets/frameinterp_triplets: 0.464\n",
            "datasets/distortions/distortion_triplets/superres_triplets: 0.736\n",
            "\n",
            "# ----------------------------------------HSJ------------------------#\n",
            "\n",
            "datasets/hsj/hsj_triplets/hsj_query_rank0_dissimilar: 0.685\n",
            "datasets/hsj/hsj_triplets/hsj_query_rank0_rank1: 0.595\n",
            "\n",
            "# ----------------------------------------Birds-16------------------------#\n",
            "\n",
            "datasets/birds-16/birds_dataset_triplets/birds_query_rank0_dissimilar: 0.771\n",
            "datasets/birds-16/birds_dataset_triplets/birds_query_rank0_rank1: 0.621\n",
            "datasets/birds-16/birds_dataset_triplets/birds_query_rank0_dissimilar_2rank1: 0.745\n"
          ]
        }
      ]
    },
    {
      "cell_type": "code",
      "source": [
        "# Load the pretrained model\n",
        "model6 = models.resnet152(pretrained=True)\n",
        "apply_framework_model(model6)"
      ],
      "metadata": {
        "colab": {
          "base_uri": "https://localhost:8080/",
          "height": 503,
          "referenced_widgets": [
            "29ec99b1c78842238a5f1e9a1f7bd471",
            "d1a3ed3a66f5412b908e14b58b920c67",
            "053f280125b1431aba72492658913b36",
            "4561cbe2c1214254a8d670b9f31caed1",
            "1dac5859a10945a1adadb28dfc93ea0e",
            "18f2ceb4c94c4ea091afc17ab882936f",
            "48d0319c81204308a655424e9d974f41",
            "917e6cbf826c4da399841399330f9dd9",
            "92a20835c1ab41af8eee379d345dc6e0",
            "d97d9fc3cfe04e60aebd1723a4cdf263",
            "516db9148baa45f485cbcca81248a1f1"
          ]
        },
        "id": "ipWjsF1EuDrT",
        "outputId": "9066d80c-db16-4500-d52a-8eba83bfd441"
      },
      "id": "ipWjsF1EuDrT",
      "execution_count": null,
      "outputs": [
        {
          "output_type": "stream",
          "name": "stderr",
          "text": [
            "/usr/local/lib/python3.9/dist-packages/torchvision/models/_utils.py:208: UserWarning: The parameter 'pretrained' is deprecated since 0.13 and may be removed in the future, please use 'weights' instead.\n",
            "  warnings.warn(\n",
            "/usr/local/lib/python3.9/dist-packages/torchvision/models/_utils.py:223: UserWarning: Arguments other than a weight enum or `None` for 'weights' are deprecated since 0.13 and may be removed in the future. The current behavior is equivalent to passing `weights=ResNet152_Weights.IMAGENET1K_V1`. You can also use `weights=ResNet152_Weights.DEFAULT` to get the most up-to-date weights.\n",
            "  warnings.warn(msg)\n",
            "Downloading: \"https://download.pytorch.org/models/resnet152-394f9c45.pth\" to /root/.cache/torch/hub/checkpoints/resnet152-394f9c45.pth\n"
          ]
        },
        {
          "output_type": "display_data",
          "data": {
            "text/plain": [
              "  0%|          | 0.00/230M [00:00<?, ?B/s]"
            ],
            "application/vnd.jupyter.widget-view+json": {
              "version_major": 2,
              "version_minor": 0,
              "model_id": "29ec99b1c78842238a5f1e9a1f7bd471"
            }
          },
          "metadata": {}
        },
        {
          "output_type": "stream",
          "name": "stdout",
          "text": [
            "\n",
            "# ----------------------------------------BAPPS 2AFC DIST-----------------------#\n",
            "\n",
            "datasets/distortions/distortion_triplets/traditional_triplets: 0.815\n",
            "datasets/distortions/distortion_triplets/cnn_triplets: 0.845\n",
            "datasets/distortions/distortion_triplets/color_triplets: 0.637\n",
            "datasets/distortions/distortion_triplets/deblur_triplets: 0.624\n",
            "datasets/distortions/distortion_triplets/frameinterp_triplets: 0.464\n",
            "datasets/distortions/distortion_triplets/superres_triplets: 0.713\n",
            "\n",
            "# ----------------------------------------HSJ------------------------#\n",
            "\n",
            "datasets/hsj/hsj_triplets/hsj_query_rank0_dissimilar: 0.68\n",
            "datasets/hsj/hsj_triplets/hsj_query_rank0_rank1: 0.588\n",
            "\n",
            "# ----------------------------------------Birds-16------------------------#\n",
            "\n",
            "datasets/birds-16/birds_dataset_triplets/birds_query_rank0_dissimilar: 0.779\n",
            "datasets/birds-16/birds_dataset_triplets/birds_query_rank0_rank1: 0.605\n",
            "datasets/birds-16/birds_dataset_triplets/birds_query_rank0_dissimilar_2rank1: 0.786\n"
          ]
        }
      ]
    },
    {
      "cell_type": "markdown",
      "source": [
        "# Sampling different layers of ResNet - Editting Framework"
      ],
      "metadata": {
        "id": "nqOi5dAb0tiw"
      },
      "id": "nqOi5dAb0tiw"
    },
    {
      "cell_type": "code",
      "source": [
        "import torch\n",
        "import torch.nn as nn\n",
        "import torchvision.models as models\n",
        "import torchvision.transforms as transforms\n",
        "from torch.autograd import Variable\n",
        "import numpy as np\n",
        "\n",
        "from PIL import Image\n",
        "\n",
        "############################ REQUIRES MODIFICATION FOR EACH MODEL \n",
        "\n",
        "# scaler = transforms.Resize((224, 224))\n",
        "# normalize = transforms.Normalize(mean=[0.485, 0.456, 0.406],\n",
        "#                                  std=[0.229, 0.224, 0.225])\n",
        "to_tensor = transforms.ToTensor()   # used to convert the PIL image to a PyTorch tensor (multidimensional array)\n",
        "############################\n",
        "\n",
        "\n",
        "############################## HOW TO GET MODEL:\n",
        "# # Load the pretrained model\n",
        "# model = models.resnet18(pretrained=True)\n",
        "# model.cuda()\n",
        "# # Use the model object to select the desired layer\n",
        "# layer = model._modules.get('avgpool')\n",
        "# # Set model to evaluation mode\n",
        "# model.eval()\n",
        "\n",
        "##################################\n",
        "\n",
        "def get_vector(image_name, model, layer, scaler, normalize, feature_tensor_size):\n",
        "    \n",
        "#     # Load the pretrained model\n",
        "#     model = models.resnet18(pretrained=True)\n",
        "#     # Use the model object to select the desired layer\n",
        "#     layer = model._modules.get('avgpool')\n",
        "    \n",
        "    # 1. Load the image with Pillow library\n",
        "    img = Image.open(image_name).convert('RGB')\n",
        "    # 2. Create a PyTorch Variable with the transformed image\n",
        "    t_img = Variable(normalize(to_tensor(scaler(img))).unsqueeze(0)).cuda()\n",
        "    # 3. Create a vector of zeros that will hold our feature vector\n",
        "    #    The 'avgpool' layer has an output size of 512\n",
        "    \n",
        "    # M1: my_embedding = torch.zeros(1, 512, 1, 1) and later my_embedding.copy_(o.data)\n",
        "    # M2: my_embedding = torch.zeros(512) and later my_embedding.copy_(o.data.reshape(o.data.size(1)))\n",
        "    my_embedding = torch.zeros(feature_tensor_size).cuda()\n",
        "    \n",
        "    # 4. Define a function that will copy the output of a layer\n",
        "    def copy_data(m, i, o):\n",
        "        my_embedding.copy_(o.data)\n",
        "    # 5. Attach that function to our selected layer\n",
        "    h = layer.register_forward_hook(copy_data)\n",
        "    # 6. Run the model on our transformed image\n",
        "    model(t_img)\n",
        "    # 7. Detach our copy function from the layer\n",
        "    h.remove()\n",
        "    # 8. Return the feature vector\n",
        "    return torch.flatten(my_embedding)\n",
        "\n",
        "############################ COSINE SIMILARITY\n",
        "cos = nn.CosineSimilarity(dim=1, eps=1e-6)\n",
        "\n",
        "\n",
        "########################### GET FEATURE VECTORS\n",
        "def get_image_embeddings(path, image_type, model, layer, scaler, normalize, isHSJOrBirds, feature_tensor_size):  # returns a list of tensors\n",
        "    # path of form: traditional/ref/\n",
        "    feature_tensor_dict = dict()\n",
        "    feature_tensor_dict[\"ref\"] = []\n",
        "    feature_tensor_dict[\"p0\"] = []\n",
        "    feature_tensor_dict[\"p1\"] = []\n",
        "    feature_tensor_dict[\"decision\"] = []\n",
        "    \n",
        "    for image_no in range(1000):\n",
        "        im_no_name =  (6-len(str(image_no)))*\"0\" + str(image_no) + \".\" + image_type\n",
        "        \n",
        "        feature_tensor_dict[\"ref\"].append(get_vector(path+\"/ref/\" + im_no_name, model, layer, scaler, normalize, feature_tensor_size))\n",
        "        feature_tensor_dict[\"p0\"].append(get_vector(path+\"/p0/\" + im_no_name, model, layer, scaler, normalize, feature_tensor_size))\n",
        "        feature_tensor_dict[\"p1\"].append(get_vector(path+\"/p1/\" + im_no_name, model, layer, scaler, normalize, feature_tensor_size))\n",
        "\n",
        "        # now load decision\n",
        "        if isHSJOrBirds:\n",
        "          feature_tensor_dict[\"decision\"].append(0)\n",
        "        else: \n",
        "          decision_no_name =  (6-len(str(image_no)))*\"0\" + str(image_no) + \".npy\"\n",
        "          decision = np.load(path+\"/judge/\"+decision_no_name)\n",
        "          if decision[0] <= 0.5: \n",
        "                feature_tensor_dict[\"decision\"].append(0)\n",
        "          else: \n",
        "                feature_tensor_dict[\"decision\"].append(1)\n",
        "        \n",
        "    return feature_tensor_dict\n",
        "\n",
        "\n",
        "########################## GET MODEL PREDICTIONS\n",
        "def get_predictions(embeddings):\n",
        "  cosine_similarity_dict = dict()\n",
        "  cosine_similarity_dict[\"ref_and_p0\"] = []\n",
        "  cosine_similarity_dict[\"ref_and_p1\"] = []\n",
        "  cosine_similarity_predictions = []\n",
        "\n",
        "  cos = nn.CosineSimilarity(dim=1, eps=1e-6)\n",
        "  # cos_sim = cos(query_vector.unsqueeze(0), ref2_vector.unsqueeze(0))\n",
        "\n",
        "  for image_no in range(1000):\n",
        "      cosine_similarity_dict[\"ref_and_p0\"].append(cos(embeddings[\"ref\"][image_no].unsqueeze(0), embeddings[\"p0\"][image_no].unsqueeze(0)))\n",
        "      cosine_similarity_dict[\"ref_and_p1\"].append(cos(embeddings[\"ref\"][image_no].unsqueeze(0), embeddings[\"p1\"][image_no].unsqueeze(0)))\n",
        "      \n",
        "      if cosine_similarity_dict[\"ref_and_p0\"][image_no] >= cosine_similarity_dict[\"ref_and_p1\"][image_no]:\n",
        "          cosine_similarity_predictions.append(0)\n",
        "      else:\n",
        "          cosine_similarity_predictions.append(1)   \n",
        "  return cosine_similarity_predictions\n",
        "\n",
        "########################## GET MODEL ACCURACY\n",
        "def get_accuracy(predictions,embeddings):\n",
        "  decisions = embeddings[\"decision\"]\n",
        "\n",
        "  number_wrong_predictions = 0\n",
        "\n",
        "  for image_no in range(1000):\n",
        "      if predictions[image_no] != decisions[image_no]:\n",
        "          number_wrong_predictions += 1\n",
        "      \n",
        "  accuracy = (1000 - number_wrong_predictions)/(1000)\n",
        "  return accuracy\n",
        "\n",
        "\n",
        "def apply_framework(path, image_type, model, layer, scaler, normalize, isHSJOrBirds, feature_tensor_size):\n",
        "  embeddings = get_image_embeddings(path, \n",
        "                                    image_type,\n",
        "                                    model, layer, scaler, normalize, isHSJOrBirds, feature_tensor_size)\n",
        "  predictions= get_predictions(embeddings)\n",
        "  accuracy = get_accuracy(predictions, embeddings)\n",
        "  print(path + \": \" + str(accuracy))\n",
        "  return accuracy"
      ],
      "metadata": {
        "id": "1uJdDnzS0s7O"
      },
      "id": "1uJdDnzS0s7O",
      "execution_count": 56,
      "outputs": []
    },
    {
      "cell_type": "code",
      "source": [
        "def apply_framework_model(modelf, layer, feature_tensor_size):\n",
        "  scaler = transforms.Resize((224, 224))\n",
        "  normalize = transforms.Normalize(mean=[0.485, 0.456, 0.406],\n",
        "                                  std=[0.229, 0.224, 0.225])\n",
        "\n",
        "  print(\"\")\n",
        "  print(\"# ----------------------------------------BAPPS 2AFC DIST-----------------------#\")\n",
        "  print(\"\")\n",
        "  ################### TRADITIONAL \n",
        "  apply_framework(\"datasets/distortions/distortion_triplets/traditional_triplets\",\n",
        "                  \"png\",\n",
        "                  modelf, layer, scaler, normalize, False, feature_tensor_size)\n",
        "\n",
        "  ################ CNN\n",
        "  apply_framework(\"datasets/distortions/distortion_triplets/cnn_triplets\",\n",
        "                  \"png\",\n",
        "                  modelf, layer, scaler, normalize, False, feature_tensor_size)\n",
        "\n",
        "  ############### COLOR\n",
        "  apply_framework(\"datasets/distortions/distortion_triplets/color_triplets\",\n",
        "                  \"png\",\n",
        "                  modelf, layer, scaler, normalize, False, feature_tensor_size)\n",
        "\n",
        "  ################ DEBLUR\n",
        "  apply_framework(\"datasets/distortions/distortion_triplets/deblur_triplets\",\n",
        "                  \"png\",\n",
        "                  modelf, layer, scaler, normalize, False, feature_tensor_size)\n",
        "\n",
        "  ############### FRAME INTERP\n",
        "  apply_framework(\"datasets/distortions/distortion_triplets/frameinterp_triplets\",\n",
        "                  \"png\",\n",
        "                  modelf, layer, scaler, normalize, False, feature_tensor_size)\n",
        "\n",
        "  ################ SUPER RES\n",
        "  apply_framework(\"datasets/distortions/distortion_triplets/superres_triplets\",\n",
        "                  \"png\",\n",
        "                  modelf, layer, scaler, normalize, False, feature_tensor_size)\n",
        "\n",
        "  print(\"\")\n",
        "  print(\"# ----------------------------------------HSJ------------------------#\")\n",
        "  print(\"\")\n",
        "  ################### HSJ Rank 0 + Dissimilar \n",
        "  apply_framework(\"datasets/hsj/hsj_triplets/hsj_query_rank0_dissimilar\",\n",
        "                  \"jpg\",\n",
        "                  modelf, layer, scaler, normalize, True, feature_tensor_size)\n",
        "\n",
        "  ################ HSJ Rank 0 + Rank 1\n",
        "  apply_framework(\"datasets/hsj/hsj_triplets/hsj_query_rank0_rank1\",\n",
        "                  \"jpg\",\n",
        "                  modelf, layer, scaler, normalize, True, feature_tensor_size)\n",
        "\n",
        "  print(\"\")\n",
        "  print(\"# ----------------------------------------Birds-16------------------------#\")\n",
        "  print(\"\")\n",
        "  ################### Birds-16 Rank 0 + Dissimilar \n",
        "  apply_framework(\"datasets/birds-16/birds_dataset_triplets/birds_query_rank0_dissimilar\",\n",
        "                  \"jpg\",\n",
        "                  modelf, layer, scaler, normalize, True, feature_tensor_size)\n",
        "\n",
        "  ################### Birds-16 Rank 0 + Rank 1 \n",
        "  apply_framework(\"datasets/birds-16/birds_dataset_triplets/birds_query_rank0_rank1\",\n",
        "                  \"jpg\",\n",
        "                  modelf, layer, scaler, normalize, True, feature_tensor_size)\n",
        "\n",
        "  ################### Birds-16 Rank 0 + Dissimilar 2rank1 test\n",
        "  apply_framework(\"datasets/birds-16/birds_dataset_triplets/birds_query_rank0_dissimilar_2rank1\",\n",
        "                  \"jpg\",\n",
        "                  modelf, layer, scaler, normalize, True, feature_tensor_size)"
      ],
      "metadata": {
        "id": "j3Bbhfqy1gJP"
      },
      "id": "j3Bbhfqy1gJP",
      "execution_count": 55,
      "outputs": []
    },
    {
      "cell_type": "markdown",
      "source": [
        "#-------------------------------Resnet-18-------------------------------------#\n",
        "#-------------------------------Layer 2 - conv_3x#\n",
        "\n",
        "# ----------------------------------------BAPPS 2AFC DIST-----------------------#\n",
        "\n",
        "datasets/distortions/distortion_triplets/traditional_triplets: 0.629\n",
        "datasets/distortions/distortion_triplets/cnn_triplets: 0.828\n",
        "datasets/distortions/distortion_triplets/color_triplets: 0.525\n",
        "datasets/distortions/distortion_triplets/deblur_triplets: 0.608\n",
        "datasets/distortions/distortion_triplets/frameinterp_triplets: 0.464\n",
        "datasets/distortions/distortion_triplets/superres_triplets: 0.682\n",
        "\n",
        "# ----------------------------------------HSJ------------------------#\n",
        "\n",
        "datasets/hsj/hsj_triplets/hsj_query_rank0_dissimilar: 0.634\n",
        "datasets/hsj/hsj_triplets/hsj_query_rank0_rank1: 0.567\n",
        "\n",
        "# ----------------------------------------Birds-16------------------------#\n",
        "\n",
        "datasets/birds-16/birds_dataset_triplets/birds_query_rank0_dissimilar: 0.604\n",
        "datasets/birds-16/birds_dataset_triplets/birds_query_rank0_rank1: 0.541\n",
        "datasets/birds-16/birds_dataset_triplets/birds_query_rank0_dissimilar_2rank1: 0.607\n",
        "#-------------------------------Layer 3 - conv_4x#\n",
        "\n",
        "# ----------------------------------------BAPPS 2AFC DIST-----------------------#\n",
        "\n",
        "datasets/distortions/distortion_triplets/traditional_triplets: 0.725\n",
        "datasets/distortions/distortion_triplets/cnn_triplets: 0.84\n",
        "datasets/distortions/distortion_triplets/color_triplets: 0.554\n",
        "datasets/distortions/distortion_triplets/deblur_triplets: 0.617\n",
        "datasets/distortions/distortion_triplets/frameinterp_triplets: 0.464\n",
        "datasets/distortions/distortion_triplets/superres_triplets: 0.731\n",
        "\n",
        "# ----------------------------------------HSJ------------------------#\n",
        "\n",
        "datasets/hsj/hsj_triplets/hsj_query_rank0_dissimilar: 0.648\n",
        "datasets/hsj/hsj_triplets/hsj_query_rank0_rank1: 0.603\n",
        "\n",
        "# ----------------------------------------Birds-16------------------------#\n",
        "\n",
        "datasets/birds-16/birds_dataset_triplets/birds_query_rank0_dissimilar: 0.592\n",
        "datasets/birds-16/birds_dataset_triplets/birds_query_rank0_rank1: 0.56\n",
        "datasets/birds-16/birds_dataset_triplets/birds_query_rank0_dissimilar_2rank1: 0.643\n",
        "#-------------------------------Layer 4 - conv_5x#\n",
        "\n",
        "# ----------------------------------------BAPPS 2AFC DIST-----------------------#\n",
        "\n",
        "datasets/distortions/distortion_triplets/traditional_triplets: 0.803\n",
        "datasets/distortions/distortion_triplets/cnn_triplets: 0.854\n",
        "datasets/distortions/distortion_triplets/color_triplets: 0.607\n",
        "datasets/distortions/distortion_triplets/deblur_triplets: 0.613\n",
        "datasets/distortions/distortion_triplets/frameinterp_triplets: 0.464\n",
        "datasets/distortions/distortion_triplets/superres_triplets: 0.727\n",
        "\n",
        "# ----------------------------------------HSJ------------------------#\n",
        "\n",
        "datasets/hsj/hsj_triplets/hsj_query_rank0_dissimilar: 0.664\n",
        "datasets/hsj/hsj_triplets/hsj_query_rank0_rank1: 0.593\n",
        "\n",
        "# ----------------------------------------Birds-16------------------------#\n",
        "\n",
        "datasets/birds-16/birds_dataset_triplets/birds_query_rank0_dissimilar: 0.772\n",
        "datasets/birds-16/birds_dataset_triplets/birds_query_rank0_rank1: 0.605\n",
        "datasets/birds-16/birds_dataset_triplets/birds_query_rank0_dissimilar_2rank1: 0.753\n",
        "\n",
        "#-------------------------------Resnet-34-------------------------------------#\n",
        "/usr/local/lib/python3.9/dist-packages/torchvision/models/_utils.py:223: UserWarning: Arguments other than a weight enum or `None` for 'weights' are deprecated since 0.13 and may be removed in the future. The current behavior is equivalent to passing `weights=ResNet34_Weights.IMAGENET1K_V1`. You can also use `weights=ResNet34_Weights.DEFAULT` to get the most up-to-date weights.\n",
        "  warnings.warn(msg)\n",
        "#-------------------------------Layer 2 - conv_3x#\n",
        "\n",
        "# ----------------------------------------BAPPS 2AFC DIST-----------------------#\n",
        "\n",
        "datasets/distortions/distortion_triplets/traditional_triplets: 0.636\n",
        "datasets/distortions/distortion_triplets/cnn_triplets: 0.824\n",
        "datasets/distortions/distortion_triplets/color_triplets: 0.524\n",
        "datasets/distortions/distortion_triplets/deblur_triplets: 0.605\n",
        "datasets/distortions/distortion_triplets/frameinterp_triplets: 0.464\n",
        "datasets/distortions/distortion_triplets/superres_triplets: 0.651\n",
        "\n",
        "# ----------------------------------------HSJ------------------------#\n",
        "\n",
        "datasets/hsj/hsj_triplets/hsj_query_rank0_dissimilar: 0.601\n",
        "datasets/hsj/hsj_triplets/hsj_query_rank0_rank1: 0.57\n",
        "\n",
        "# ----------------------------------------Birds-16------------------------#\n",
        "\n",
        "datasets/birds-16/birds_dataset_triplets/birds_query_rank0_dissimilar: 0.59\n",
        "datasets/birds-16/birds_dataset_triplets/birds_query_rank0_rank1: 0.552\n",
        "datasets/birds-16/birds_dataset_triplets/birds_query_rank0_dissimilar_2rank1: 0.583\n",
        "#-------------------------------Layer 3 - conv_4x#\n",
        "\n",
        "# ----------------------------------------BAPPS 2AFC DIST-----------------------#\n",
        "\n",
        "datasets/distortions/distortion_triplets/traditional_triplets: 0.712\n",
        "datasets/distortions/distortion_triplets/cnn_triplets: 0.841\n",
        "datasets/distortions/distortion_triplets/color_triplets: 0.552\n",
        "datasets/distortions/distortion_triplets/deblur_triplets: 0.629\n",
        "datasets/distortions/distortion_triplets/frameinterp_triplets: 0.464\n",
        "datasets/distortions/distortion_triplets/superres_triplets: 0.74\n",
        "\n",
        "# ----------------------------------------HSJ------------------------#\n",
        "\n",
        "datasets/hsj/hsj_triplets/hsj_query_rank0_dissimilar: 0.626\n",
        "datasets/hsj/hsj_triplets/hsj_query_rank0_rank1: 0.589\n",
        "\n",
        "# ----------------------------------------Birds-16------------------------#\n",
        "\n",
        "datasets/birds-16/birds_dataset_triplets/birds_query_rank0_dissimilar: 0.583\n",
        "datasets/birds-16/birds_dataset_triplets/birds_query_rank0_rank1: 0.553\n",
        "datasets/birds-16/birds_dataset_triplets/birds_query_rank0_dissimilar_2rank1: 0.639\n",
        "#-------------------------------Layer 4 - conv_5x#\n",
        "\n",
        "# ----------------------------------------BAPPS 2AFC DIST-----------------------#\n",
        "\n",
        "datasets/distortions/distortion_triplets/traditional_triplets: 0.803\n",
        "datasets/distortions/distortion_triplets/cnn_triplets: 0.841\n",
        "datasets/distortions/distortion_triplets/color_triplets: 0.624\n",
        "datasets/distortions/distortion_triplets/deblur_triplets: 0.626\n",
        "datasets/distortions/distortion_triplets/frameinterp_triplets: 0.464\n",
        "datasets/distortions/distortion_triplets/superres_triplets: 0.724\n",
        "\n",
        "# ----------------------------------------HSJ------------------------#\n",
        "\n",
        "datasets/hsj/hsj_triplets/hsj_query_rank0_dissimilar: 0.691\n",
        "datasets/hsj/hsj_triplets/hsj_query_rank0_rank1: 0.591\n",
        "\n",
        "# ----------------------------------------Birds-16------------------------#\n",
        "\n",
        "datasets/birds-16/birds_dataset_triplets/birds_query_rank0_dissimilar: 0.764\n",
        "datasets/birds-16/birds_dataset_triplets/birds_query_rank0_rank1: 0.607\n",
        "datasets/birds-16/birds_dataset_triplets/birds_query_rank0_dissimilar_2rank1: 0.748\n"
      ],
      "metadata": {
        "id": "a06RF_CqO8Qf"
      },
      "id": "a06RF_CqO8Qf"
    },
    {
      "cell_type": "code",
      "source": [
        "print(\"#-------------------------------Resnet-18-------------------------------------#\")\n",
        "model = models.resnet18(pretrained=True)\n",
        "\n",
        "print(\"#-------------------------------Layer 2 - conv_3x#\")\n",
        "layer = model._modules.get(\"layer2\")\n",
        "apply_framework_model(model,layer,[1, 128, 28, 28])\n",
        "\n",
        "print(\"#-------------------------------Layer 3 - conv_4x#\")\n",
        "layer = model._modules.get(\"layer3\")\n",
        "apply_framework_model(model,layer,[1, 256, 14, 14])\n",
        "\n",
        "print(\"#-------------------------------Layer 4 - conv_5x#\")\n",
        "layer = model._modules.get(\"layer4\")\n",
        "apply_framework_model(model,layer,[1, 512, 7, 7])\n",
        "\n",
        "print(\"\")\n",
        "print(\"#-------------------------------Resnet-34-------------------------------------#\")\n",
        "model = models.resnet34(pretrained=True)\n",
        "print(\"#-------------------------------Layer 2 - conv_3x#\")\n",
        "layer = model._modules.get(\"layer2\")\n",
        "apply_framework_model(model,layer,[1, 128, 28, 28])\n",
        "\n",
        "print(\"#-------------------------------Layer 3 - conv_4x#\")\n",
        "layer = model._modules.get(\"layer3\")\n",
        "apply_framework_model(model,layer,[1, 256, 14, 14])\n",
        "\n",
        "print(\"#-------------------------------Layer 4 - conv_5x#\")\n",
        "layer = model._modules.get(\"layer4\")\n",
        "apply_framework_model(model,layer,[1, 512, 7, 7])\n",
        "\n",
        "print(\"\")\n",
        "print(\"#-------------------------------Resnet-50-------------------------------------#\")\n",
        "model = models.resnet50(pretrained=True)\n",
        "print(\"#-------------------------------Layer 2 - conv_3x#\")\n",
        "layer = model._modules.get(\"layer2\")\n",
        "apply_framework_model(model,layer,[1, 512, 28, 28])\n",
        "\n",
        "print(\"#-------------------------------Layer 3 - conv_4x#\")\n",
        "layer = model._modules.get(\"layer3\")\n",
        "apply_framework_model(model,layer,[1, 1024, 14, 14])\n",
        "\n",
        "print(\"#-------------------------------Layer 4 - conv_5x#\")\n",
        "layer = model._modules.get(\"layer4\")\n",
        "apply_framework_model(model,layer,[1, 2048, 7, 7])"
      ],
      "metadata": {
        "id": "WLFyG2D51kUr"
      },
      "id": "WLFyG2D51kUr",
      "execution_count": null,
      "outputs": []
    },
    {
      "cell_type": "code",
      "source": [
        "# alexnet\n",
        "print(\"alexnet\")\n",
        "model = models.alexnet(pretrained=True)\n",
        "model.cuda()\n",
        "layer = model._modules.get(\"avgpool\")\n",
        "model.eval()\n",
        "apply_framework_model(model,layer,[1, 256, 6, 6])\n",
        "\n",
        "\n",
        "# mobilenet\n",
        "print(\"mobilenet v 2\")\n",
        "model = models.mobilenet_v2(pretrained=True)\n",
        "model.cuda()\n",
        "layer = model._modules.get(\"features\")\n",
        "model.eval()\n",
        "apply_framework_model(model,layer,[1, 1280, 7, 7])\n",
        "\n",
        "print(\"mobilenet v 3\")\n",
        "\n",
        "model = models.mobilenet_v3_large(pretrained=True)\n",
        "model.cuda()\n",
        "layer = model._modules.get(\"features\")\n",
        "model.eval()\n",
        "apply_framework_model(model,layer,[1, 960, 7, 7])\n",
        "\n",
        "# # vgg\n",
        "\n",
        "# model = models.mobilenet_v2(pretrained=True)\n",
        "# model.cuda()\n",
        "# layer = model._modules.get(\"features\")\n",
        "# model.eval()\n",
        "# apply_framework_model(model,layer,[1, 1280, 7, 7])\n",
        "\n",
        "\n",
        "# ConvNext --> MOST RECENTLY INTRODUCED\n",
        "print(\"convnext\")\n",
        "model = models.convnext_base(pretrained=True)\n",
        "model.cuda()\n",
        "layer = model._modules.get(\"avgpool\")\n",
        "model.eval()\n",
        "apply_framework_model(model,layer,[1, 1024, 1, 1])\n"
      ],
      "metadata": {
        "colab": {
          "base_uri": "https://localhost:8080/"
        },
        "id": "vJcgVogGLcue",
        "outputId": "5f0518cc-76d8-43b2-cb61-d214c9a4589c"
      },
      "id": "vJcgVogGLcue",
      "execution_count": 57,
      "outputs": [
        {
          "output_type": "stream",
          "name": "stdout",
          "text": [
            "alexnet\n",
            "\n",
            "# ----------------------------------------BAPPS 2AFC DIST-----------------------#\n",
            "\n",
            "datasets/distortions/distortion_triplets/traditional_triplets: 0.813\n",
            "datasets/distortions/distortion_triplets/cnn_triplets: 0.877\n",
            "datasets/distortions/distortion_triplets/color_triplets: 0.637\n",
            "datasets/distortions/distortion_triplets/deblur_triplets: 0.651\n",
            "datasets/distortions/distortion_triplets/frameinterp_triplets: 0.678\n",
            "datasets/distortions/distortion_triplets/superres_triplets: 0.764\n",
            "\n",
            "# ----------------------------------------HSJ------------------------#\n",
            "\n",
            "datasets/hsj/hsj_triplets/hsj_query_rank0_dissimilar: 0.728\n",
            "datasets/hsj/hsj_triplets/hsj_query_rank0_rank1: 0.603\n",
            "\n",
            "# ----------------------------------------Birds-16------------------------#\n",
            "\n",
            "datasets/birds-16/birds_dataset_triplets/birds_query_rank0_dissimilar: 0.72\n",
            "datasets/birds-16/birds_dataset_triplets/birds_query_rank0_rank1: 0.606\n",
            "datasets/birds-16/birds_dataset_triplets/birds_query_rank0_dissimilar_2rank1: 0.704\n",
            "mobilenet v 2\n",
            "\n",
            "# ----------------------------------------BAPPS 2AFC DIST-----------------------#\n",
            "\n"
          ]
        },
        {
          "output_type": "stream",
          "name": "stderr",
          "text": [
            "/usr/local/lib/python3.9/dist-packages/torchvision/models/_utils.py:223: UserWarning: Arguments other than a weight enum or `None` for 'weights' are deprecated since 0.13 and may be removed in the future. The current behavior is equivalent to passing `weights=MobileNet_V2_Weights.IMAGENET1K_V1`. You can also use `weights=MobileNet_V2_Weights.DEFAULT` to get the most up-to-date weights.\n",
            "  warnings.warn(msg)\n"
          ]
        },
        {
          "output_type": "stream",
          "name": "stdout",
          "text": [
            "datasets/distortions/distortion_triplets/traditional_triplets: 0.795\n",
            "datasets/distortions/distortion_triplets/cnn_triplets: 0.861\n",
            "datasets/distortions/distortion_triplets/color_triplets: 0.607\n",
            "datasets/distortions/distortion_triplets/deblur_triplets: 0.626\n",
            "datasets/distortions/distortion_triplets/frameinterp_triplets: 0.65\n",
            "datasets/distortions/distortion_triplets/superres_triplets: 0.751\n",
            "\n",
            "# ----------------------------------------HSJ------------------------#\n",
            "\n",
            "datasets/hsj/hsj_triplets/hsj_query_rank0_dissimilar: 0.661\n",
            "datasets/hsj/hsj_triplets/hsj_query_rank0_rank1: 0.581\n",
            "\n",
            "# ----------------------------------------Birds-16------------------------#\n",
            "\n",
            "datasets/birds-16/birds_dataset_triplets/birds_query_rank0_dissimilar: 0.745\n",
            "datasets/birds-16/birds_dataset_triplets/birds_query_rank0_rank1: 0.58\n",
            "datasets/birds-16/birds_dataset_triplets/birds_query_rank0_dissimilar_2rank1: 0.743\n",
            "mobilenet v 3\n",
            "\n",
            "# ----------------------------------------BAPPS 2AFC DIST-----------------------#\n",
            "\n"
          ]
        },
        {
          "output_type": "stream",
          "name": "stderr",
          "text": [
            "/usr/local/lib/python3.9/dist-packages/torchvision/models/_utils.py:223: UserWarning: Arguments other than a weight enum or `None` for 'weights' are deprecated since 0.13 and may be removed in the future. The current behavior is equivalent to passing `weights=MobileNet_V3_Large_Weights.IMAGENET1K_V1`. You can also use `weights=MobileNet_V3_Large_Weights.DEFAULT` to get the most up-to-date weights.\n",
            "  warnings.warn(msg)\n"
          ]
        },
        {
          "output_type": "stream",
          "name": "stdout",
          "text": [
            "datasets/distortions/distortion_triplets/traditional_triplets: 0.775\n",
            "datasets/distortions/distortion_triplets/cnn_triplets: 0.85\n",
            "datasets/distortions/distortion_triplets/color_triplets: 0.588\n",
            "datasets/distortions/distortion_triplets/deblur_triplets: 0.62\n",
            "datasets/distortions/distortion_triplets/frameinterp_triplets: 0.641\n",
            "datasets/distortions/distortion_triplets/superres_triplets: 0.72\n",
            "\n",
            "# ----------------------------------------HSJ------------------------#\n",
            "\n",
            "datasets/hsj/hsj_triplets/hsj_query_rank0_dissimilar: 0.621\n",
            "datasets/hsj/hsj_triplets/hsj_query_rank0_rank1: 0.561\n",
            "\n",
            "# ----------------------------------------Birds-16------------------------#\n",
            "\n",
            "datasets/birds-16/birds_dataset_triplets/birds_query_rank0_dissimilar: 0.704\n",
            "datasets/birds-16/birds_dataset_triplets/birds_query_rank0_rank1: 0.602\n",
            "datasets/birds-16/birds_dataset_triplets/birds_query_rank0_dissimilar_2rank1: 0.707\n",
            "convnext\n",
            "\n",
            "# ----------------------------------------BAPPS 2AFC DIST-----------------------#\n",
            "\n",
            "datasets/distortions/distortion_triplets/traditional_triplets: 0.782\n",
            "datasets/distortions/distortion_triplets/cnn_triplets: 0.851\n",
            "datasets/distortions/distortion_triplets/color_triplets: 0.625\n",
            "datasets/distortions/distortion_triplets/deblur_triplets: 0.612\n",
            "datasets/distortions/distortion_triplets/frameinterp_triplets: 0.649\n",
            "datasets/distortions/distortion_triplets/superres_triplets: 0.695\n",
            "\n",
            "# ----------------------------------------HSJ------------------------#\n",
            "\n",
            "datasets/hsj/hsj_triplets/hsj_query_rank0_dissimilar: 0.601\n",
            "datasets/hsj/hsj_triplets/hsj_query_rank0_rank1: 0.569\n",
            "\n",
            "# ----------------------------------------Birds-16------------------------#\n",
            "\n",
            "datasets/birds-16/birds_dataset_triplets/birds_query_rank0_dissimilar: 0.727\n",
            "datasets/birds-16/birds_dataset_triplets/birds_query_rank0_rank1: 0.59\n",
            "datasets/birds-16/birds_dataset_triplets/birds_query_rank0_dissimilar_2rank1: 0.753\n"
          ]
        }
      ]
    },
    {
      "cell_type": "markdown",
      "source": [
        "ResNet 18-34:\n",
        "\n",
        "Layer2: ([1, 128, 28, 28])\n",
        "\n",
        "Layer3: ([1, 256, 14, 14])\n",
        "\n",
        "Layer4: ([1, 512, 7, 7])\n",
        "\n",
        "ResNet 50: \n",
        "\n",
        "Layer2: ([1, 512, 28, 28])\n",
        "\n",
        "Layer3: ([1, 1024, 14, 14])\n",
        "\n",
        "Layer4: ([1, 2048, 7, 7])"
      ],
      "metadata": {
        "id": "GF4H6PjZB9Kh"
      },
      "id": "GF4H6PjZB9Kh"
    },
    {
      "cell_type": "markdown",
      "source": [
        "<h1> Different Architectures </h1>"
      ],
      "metadata": {
        "id": "sy2BI9hPQbY6"
      },
      "id": "sy2BI9hPQbY6"
    },
    {
      "cell_type": "markdown",
      "source": [
        "1. EfficientNet B0 [1, 1280, 1, 1]\n",
        "2. EfficientNet B1 [1, 1280, 1, 1]\n",
        "3. EfficientNet B2 [1, 1408, 1, 1]\n",
        "4. EfficientNet B3 [1, 1536, 1, 1]\n",
        "5. EfficientNet B4 [1, 1792, 1, 1]\n",
        "6. EfficientNet B5 [1, 2048, 1, 1]\n",
        "7. EfficientNet B6 [1, 2304, 1, 1]\n",
        "7. EfficientNet B7 [1, 2560, 1, 1]\n",
        "\n",
        "\n",
        "#-----------EfficientNet B0------------------------#\n",
        "\n",
        "# ----------------------------------------BAPPS 2AFC DIST-----------------------#\n",
        "\n",
        "/usr/local/lib/python3.9/dist-packages/torchvision/models/_utils.py:208: UserWarning: The parameter 'pretrained' is deprecated since 0.13 and may be removed in the future, please use 'weights' instead.\n",
        "  warnings.warn(\n",
        "/usr/local/lib/python3.9/dist-packages/torchvision/models/_utils.py:223: UserWarning: Arguments other than a weight enum or `None` for 'weights' are deprecated since 0.13 and may be removed in the future. The current behavior is equivalent to passing `weights=EfficientNet_B0_Weights.IMAGENET1K_V1`. You can also use `weights=EfficientNet_B0_Weights.DEFAULT` to get the most up-to-date weights.\n",
        "  warnings.warn(msg)\n",
        "datasets/distortions/distortion_triplets/traditional_triplets: 0.785\n",
        "datasets/distortions/distortion_triplets/cnn_triplets: 0.83\n",
        "datasets/distortions/distortion_triplets/color_triplets: 0.624\n",
        "datasets/distortions/distortion_triplets/deblur_triplets: 0.622\n",
        "datasets/distortions/distortion_triplets/frameinterp_triplets: 0.664\n",
        "datasets/distortions/distortion_triplets/superres_triplets: 0.704\n",
        "\n",
        "# ----------------------------------------HSJ------------------------#\n",
        "\n",
        "datasets/hsj/hsj_triplets/hsj_query_rank0_dissimilar: 0.583\n",
        "datasets/hsj/hsj_triplets/hsj_query_rank0_rank1: 0.542\n",
        "\n",
        "# ----------------------------------------Birds-16------------------------#\n",
        "\n",
        "datasets/birds-16/birds_dataset_triplets/birds_query_rank0_dissimilar: 0.813\n",
        "datasets/birds-16/birds_dataset_triplets/birds_query_rank0_rank1: 0.641\n",
        "datasets/birds-16/birds_dataset_triplets/birds_query_rank0_dissimilar_2rank1: 0.813\n",
        "#-----------EfficientNet B1------------------------#\n",
        "/usr/local/lib/python3.9/dist-packages/torchvision/models/_utils.py:223: UserWarning: Arguments other than a weight enum or `None` for 'weights' are deprecated since 0.13 and may be removed in the future. The current behavior is equivalent to passing `weights=EfficientNet_B1_Weights.IMAGENET1K_V1`. You can also use `weights=EfficientNet_B1_Weights.DEFAULT` to get the most up-to-date weights.\n",
        "  warnings.warn(msg)\n",
        "\n",
        "# ----------------------------------------BAPPS 2AFC DIST-----------------------#\n",
        "\n",
        "datasets/distortions/distortion_triplets/traditional_triplets: 0.801\n",
        "datasets/distortions/distortion_triplets/cnn_triplets: 0.849\n",
        "datasets/distortions/distortion_triplets/color_triplets: 0.622\n",
        "datasets/distortions/distortion_triplets/deblur_triplets: 0.631\n",
        "datasets/distortions/distortion_triplets/frameinterp_triplets: 0.651\n",
        "datasets/distortions/distortion_triplets/superres_triplets: 0.713\n",
        "\n",
        "# ----------------------------------------HSJ------------------------#\n",
        "\n",
        "datasets/hsj/hsj_triplets/hsj_query_rank0_dissimilar: 0.577\n",
        "datasets/hsj/hsj_triplets/hsj_query_rank0_rank1: 0.541\n",
        "\n",
        "# ----------------------------------------Birds-16------------------------#\n",
        "\n",
        "datasets/birds-16/birds_dataset_triplets/birds_query_rank0_dissimilar: 0.806\n",
        "datasets/birds-16/birds_dataset_triplets/birds_query_rank0_rank1: 0.626\n",
        "datasets/birds-16/birds_dataset_triplets/birds_query_rank0_dissimilar_2rank1: 0.815\n",
        "#-----------EfficientNet B2------------------------#\n",
        "/usr/local/lib/python3.9/dist-packages/torchvision/models/_utils.py:223: UserWarning: Arguments other than a weight enum or `None` for 'weights' are deprecated since 0.13 and may be removed in the future. The current behavior is equivalent to passing `weights=EfficientNet_B2_Weights.IMAGENET1K_V1`. You can also use `weights=EfficientNet_B2_Weights.DEFAULT` to get the most up-to-date weights.\n",
        "  warnings.warn(msg)\n",
        "\n",
        "# ----------------------------------------BAPPS 2AFC DIST-----------------------#\n",
        "\n",
        "datasets/distortions/distortion_triplets/traditional_triplets: 0.787\n",
        "datasets/distortions/distortion_triplets/cnn_triplets: 0.836\n",
        "datasets/distortions/distortion_triplets/color_triplets: 0.615\n",
        "datasets/distortions/distortion_triplets/deblur_triplets: 0.601\n",
        "datasets/distortions/distortion_triplets/frameinterp_triplets: 0.667\n",
        "datasets/distortions/distortion_triplets/superres_triplets: 0.701\n",
        "\n",
        "# ----------------------------------------HSJ------------------------#\n",
        "\n",
        "datasets/hsj/hsj_triplets/hsj_query_rank0_dissimilar: 0.568\n",
        "datasets/hsj/hsj_triplets/hsj_query_rank0_rank1: 0.574\n",
        "\n",
        "# ----------------------------------------Birds-16------------------------#\n",
        "\n",
        "datasets/birds-16/birds_dataset_triplets/birds_query_rank0_dissimilar: 0.799\n",
        "datasets/birds-16/birds_dataset_triplets/birds_query_rank0_rank1: 0.619\n",
        "datasets/birds-16/birds_dataset_triplets/birds_query_rank0_dissimilar_2rank1: 0.805\n",
        "#-----------EfficientNet B3------------------------#\n"
      ],
      "metadata": {
        "id": "sBvIEMcrQgM1"
      },
      "id": "sBvIEMcrQgM1"
    },
    {
      "cell_type": "code",
      "source": [
        "print(\"#-----------EfficientNet B0------------------------#\")\n",
        "model = models.efficientnet_b0(pretrained=True)\n",
        "layer = model._modules.get(\"avgpool\")\n",
        "apply_framework_model(model,layer,[1, 1280, 1, 1])\n",
        "\n",
        "print(\"#-----------EfficientNet B1------------------------#\")\n",
        "model = models.efficientnet_b1(pretrained=True)\n",
        "layer = model._modules.get(\"avgpool\")\n",
        "apply_framework_model(model,layer,[1, 1280, 1, 1])\n",
        "\n",
        "print(\"#-----------EfficientNet B2------------------------#\")\n",
        "model = models.efficientnet_b2(pretrained=True)\n",
        "layer = model._modules.get(\"avgpool\")\n",
        "apply_framework_model(model,layer,[1, 1408, 1, 1])"
      ],
      "metadata": {
        "id": "StWBa1TaQaM7",
        "colab": {
          "base_uri": "https://localhost:8080/",
          "height": 1000
        },
        "outputId": "c3d84fa3-2cfd-4b69-b14f-ac33c89964d8"
      },
      "id": "StWBa1TaQaM7",
      "execution_count": 23,
      "outputs": [
        {
          "output_type": "stream",
          "name": "stdout",
          "text": [
            "#-----------EfficientNet B0------------------------#\n",
            "\n",
            "# ----------------------------------------BAPPS 2AFC DIST-----------------------#\n",
            "\n"
          ]
        },
        {
          "output_type": "stream",
          "name": "stderr",
          "text": [
            "/usr/local/lib/python3.9/dist-packages/torchvision/models/_utils.py:208: UserWarning: The parameter 'pretrained' is deprecated since 0.13 and may be removed in the future, please use 'weights' instead.\n",
            "  warnings.warn(\n",
            "/usr/local/lib/python3.9/dist-packages/torchvision/models/_utils.py:223: UserWarning: Arguments other than a weight enum or `None` for 'weights' are deprecated since 0.13 and may be removed in the future. The current behavior is equivalent to passing `weights=EfficientNet_B0_Weights.IMAGENET1K_V1`. You can also use `weights=EfficientNet_B0_Weights.DEFAULT` to get the most up-to-date weights.\n",
            "  warnings.warn(msg)\n"
          ]
        },
        {
          "output_type": "stream",
          "name": "stdout",
          "text": [
            "datasets/distortions/distortion_triplets/traditional_triplets: 0.785\n",
            "datasets/distortions/distortion_triplets/cnn_triplets: 0.83\n",
            "datasets/distortions/distortion_triplets/color_triplets: 0.624\n",
            "datasets/distortions/distortion_triplets/deblur_triplets: 0.622\n",
            "datasets/distortions/distortion_triplets/frameinterp_triplets: 0.664\n",
            "datasets/distortions/distortion_triplets/superres_triplets: 0.704\n",
            "\n",
            "# ----------------------------------------HSJ------------------------#\n",
            "\n",
            "datasets/hsj/hsj_triplets/hsj_query_rank0_dissimilar: 0.583\n",
            "datasets/hsj/hsj_triplets/hsj_query_rank0_rank1: 0.542\n",
            "\n",
            "# ----------------------------------------Birds-16------------------------#\n",
            "\n",
            "datasets/birds-16/birds_dataset_triplets/birds_query_rank0_dissimilar: 0.813\n",
            "datasets/birds-16/birds_dataset_triplets/birds_query_rank0_rank1: 0.641\n",
            "datasets/birds-16/birds_dataset_triplets/birds_query_rank0_dissimilar_2rank1: 0.813\n",
            "#-----------EfficientNet B1------------------------#\n"
          ]
        },
        {
          "output_type": "stream",
          "name": "stderr",
          "text": [
            "/usr/local/lib/python3.9/dist-packages/torchvision/models/_utils.py:223: UserWarning: Arguments other than a weight enum or `None` for 'weights' are deprecated since 0.13 and may be removed in the future. The current behavior is equivalent to passing `weights=EfficientNet_B1_Weights.IMAGENET1K_V1`. You can also use `weights=EfficientNet_B1_Weights.DEFAULT` to get the most up-to-date weights.\n",
            "  warnings.warn(msg)\n"
          ]
        },
        {
          "output_type": "stream",
          "name": "stdout",
          "text": [
            "\n",
            "# ----------------------------------------BAPPS 2AFC DIST-----------------------#\n",
            "\n",
            "datasets/distortions/distortion_triplets/traditional_triplets: 0.801\n",
            "datasets/distortions/distortion_triplets/cnn_triplets: 0.849\n",
            "datasets/distortions/distortion_triplets/color_triplets: 0.622\n",
            "datasets/distortions/distortion_triplets/deblur_triplets: 0.631\n",
            "datasets/distortions/distortion_triplets/frameinterp_triplets: 0.651\n",
            "datasets/distortions/distortion_triplets/superres_triplets: 0.713\n",
            "\n",
            "# ----------------------------------------HSJ------------------------#\n",
            "\n",
            "datasets/hsj/hsj_triplets/hsj_query_rank0_dissimilar: 0.577\n",
            "datasets/hsj/hsj_triplets/hsj_query_rank0_rank1: 0.541\n",
            "\n",
            "# ----------------------------------------Birds-16------------------------#\n",
            "\n",
            "datasets/birds-16/birds_dataset_triplets/birds_query_rank0_dissimilar: 0.806\n",
            "datasets/birds-16/birds_dataset_triplets/birds_query_rank0_rank1: 0.626\n",
            "datasets/birds-16/birds_dataset_triplets/birds_query_rank0_dissimilar_2rank1: 0.815\n",
            "#-----------EfficientNet B2------------------------#\n"
          ]
        },
        {
          "output_type": "stream",
          "name": "stderr",
          "text": [
            "/usr/local/lib/python3.9/dist-packages/torchvision/models/_utils.py:223: UserWarning: Arguments other than a weight enum or `None` for 'weights' are deprecated since 0.13 and may be removed in the future. The current behavior is equivalent to passing `weights=EfficientNet_B2_Weights.IMAGENET1K_V1`. You can also use `weights=EfficientNet_B2_Weights.DEFAULT` to get the most up-to-date weights.\n",
            "  warnings.warn(msg)\n"
          ]
        },
        {
          "output_type": "stream",
          "name": "stdout",
          "text": [
            "\n",
            "# ----------------------------------------BAPPS 2AFC DIST-----------------------#\n",
            "\n",
            "datasets/distortions/distortion_triplets/traditional_triplets: 0.787\n",
            "datasets/distortions/distortion_triplets/cnn_triplets: 0.836\n",
            "datasets/distortions/distortion_triplets/color_triplets: 0.615\n",
            "datasets/distortions/distortion_triplets/deblur_triplets: 0.601\n",
            "datasets/distortions/distortion_triplets/frameinterp_triplets: 0.667\n",
            "datasets/distortions/distortion_triplets/superres_triplets: 0.701\n",
            "\n",
            "# ----------------------------------------HSJ------------------------#\n",
            "\n",
            "datasets/hsj/hsj_triplets/hsj_query_rank0_dissimilar: 0.568\n",
            "datasets/hsj/hsj_triplets/hsj_query_rank0_rank1: 0.574\n",
            "\n",
            "# ----------------------------------------Birds-16------------------------#\n",
            "\n",
            "datasets/birds-16/birds_dataset_triplets/birds_query_rank0_dissimilar: 0.799\n",
            "datasets/birds-16/birds_dataset_triplets/birds_query_rank0_rank1: 0.619\n",
            "datasets/birds-16/birds_dataset_triplets/birds_query_rank0_dissimilar_2rank1: 0.805\n",
            "#-----------EfficientNet B3------------------------#\n"
          ]
        },
        {
          "output_type": "stream",
          "name": "stderr",
          "text": [
            "/usr/local/lib/python3.9/dist-packages/torchvision/models/_utils.py:223: UserWarning: Arguments other than a weight enum or `None` for 'weights' are deprecated since 0.13 and may be removed in the future. The current behavior is equivalent to passing `weights=EfficientNet_B3_Weights.IMAGENET1K_V1`. You can also use `weights=EfficientNet_B3_Weights.DEFAULT` to get the most up-to-date weights.\n",
            "  warnings.warn(msg)\n"
          ]
        },
        {
          "output_type": "stream",
          "name": "stdout",
          "text": [
            "\n",
            "# ----------------------------------------BAPPS 2AFC DIST-----------------------#\n",
            "\n",
            "datasets/distortions/distortion_triplets/traditional_triplets: 0.77\n"
          ]
        },
        {
          "output_type": "error",
          "ename": "KeyboardInterrupt",
          "evalue": "ignored",
          "traceback": [
            "\u001b[0;31m---------------------------------------------------------------------------\u001b[0m",
            "\u001b[0;31mKeyboardInterrupt\u001b[0m                         Traceback (most recent call last)",
            "\u001b[0;32m<ipython-input-23-c0a9cdba86fb>\u001b[0m in \u001b[0;36m<module>\u001b[0;34m\u001b[0m\n\u001b[1;32m     18\u001b[0m \u001b[0mmodel\u001b[0m \u001b[0;34m=\u001b[0m \u001b[0mmodels\u001b[0m\u001b[0;34m.\u001b[0m\u001b[0mefficientnet_b3\u001b[0m\u001b[0;34m(\u001b[0m\u001b[0mpretrained\u001b[0m\u001b[0;34m=\u001b[0m\u001b[0;32mTrue\u001b[0m\u001b[0;34m)\u001b[0m\u001b[0;34m\u001b[0m\u001b[0;34m\u001b[0m\u001b[0m\n\u001b[1;32m     19\u001b[0m \u001b[0mlayer\u001b[0m \u001b[0;34m=\u001b[0m \u001b[0mmodel\u001b[0m\u001b[0;34m.\u001b[0m\u001b[0m_modules\u001b[0m\u001b[0;34m.\u001b[0m\u001b[0mget\u001b[0m\u001b[0;34m(\u001b[0m\u001b[0;34m\"avgpool\"\u001b[0m\u001b[0;34m)\u001b[0m\u001b[0;34m\u001b[0m\u001b[0;34m\u001b[0m\u001b[0m\n\u001b[0;32m---> 20\u001b[0;31m \u001b[0mapply_framework_model\u001b[0m\u001b[0;34m(\u001b[0m\u001b[0mmodel\u001b[0m\u001b[0;34m,\u001b[0m\u001b[0mlayer\u001b[0m\u001b[0;34m,\u001b[0m\u001b[0;34m[\u001b[0m\u001b[0;36m1\u001b[0m\u001b[0;34m,\u001b[0m \u001b[0;36m1536\u001b[0m\u001b[0;34m,\u001b[0m \u001b[0;36m1\u001b[0m\u001b[0;34m,\u001b[0m \u001b[0;36m1\u001b[0m\u001b[0;34m]\u001b[0m\u001b[0;34m)\u001b[0m\u001b[0;34m\u001b[0m\u001b[0;34m\u001b[0m\u001b[0m\n\u001b[0m\u001b[1;32m     21\u001b[0m \u001b[0;34m\u001b[0m\u001b[0m\n\u001b[1;32m     22\u001b[0m \u001b[0mprint\u001b[0m\u001b[0;34m(\u001b[0m\u001b[0;34m\"#-----------EfficientNet B4------------------------#\"\u001b[0m\u001b[0;34m)\u001b[0m\u001b[0;34m\u001b[0m\u001b[0;34m\u001b[0m\u001b[0m\n",
            "\u001b[0;32m<ipython-input-22-a7d1a163575f>\u001b[0m in \u001b[0;36mapply_framework_model\u001b[0;34m(modelf, layer, feature_tensor_size)\u001b[0m\n\u001b[1;32m     17\u001b[0m \u001b[0;34m\u001b[0m\u001b[0m\n\u001b[1;32m     18\u001b[0m   \u001b[0;31m################ CNN\u001b[0m\u001b[0;34m\u001b[0m\u001b[0;34m\u001b[0m\u001b[0m\n\u001b[0;32m---> 19\u001b[0;31m   apply_framework(\"datasets/distortions/distortion_triplets/cnn_triplets\",\n\u001b[0m\u001b[1;32m     20\u001b[0m                   \u001b[0;34m\"png\"\u001b[0m\u001b[0;34m,\u001b[0m\u001b[0;34m\u001b[0m\u001b[0;34m\u001b[0m\u001b[0m\n\u001b[1;32m     21\u001b[0m                   modelf, layer, scaler, normalize, False, feature_tensor_size)\n",
            "\u001b[0;32m<ipython-input-19-d6c36dd30e7d>\u001b[0m in \u001b[0;36mapply_framework\u001b[0;34m(path, image_type, model, layer, scaler, normalize, isHSJOrBirds, feature_tensor_size)\u001b[0m\n\u001b[1;32m    127\u001b[0m \u001b[0;34m\u001b[0m\u001b[0m\n\u001b[1;32m    128\u001b[0m \u001b[0;32mdef\u001b[0m \u001b[0mapply_framework\u001b[0m\u001b[0;34m(\u001b[0m\u001b[0mpath\u001b[0m\u001b[0;34m,\u001b[0m \u001b[0mimage_type\u001b[0m\u001b[0;34m,\u001b[0m \u001b[0mmodel\u001b[0m\u001b[0;34m,\u001b[0m \u001b[0mlayer\u001b[0m\u001b[0;34m,\u001b[0m \u001b[0mscaler\u001b[0m\u001b[0;34m,\u001b[0m \u001b[0mnormalize\u001b[0m\u001b[0;34m,\u001b[0m \u001b[0misHSJOrBirds\u001b[0m\u001b[0;34m,\u001b[0m \u001b[0mfeature_tensor_size\u001b[0m\u001b[0;34m)\u001b[0m\u001b[0;34m:\u001b[0m\u001b[0;34m\u001b[0m\u001b[0;34m\u001b[0m\u001b[0m\n\u001b[0;32m--> 129\u001b[0;31m   embeddings = get_image_embeddings(path, \n\u001b[0m\u001b[1;32m    130\u001b[0m                                     \u001b[0mimage_type\u001b[0m\u001b[0;34m,\u001b[0m\u001b[0;34m\u001b[0m\u001b[0;34m\u001b[0m\u001b[0m\n\u001b[1;32m    131\u001b[0m                                     model, layer, scaler, normalize, isHSJOrBirds, feature_tensor_size)\n",
            "\u001b[0;32m<ipython-input-19-d6c36dd30e7d>\u001b[0m in \u001b[0;36mget_image_embeddings\u001b[0;34m(path, image_type, model, layer, scaler, normalize, isHSJOrBirds, feature_tensor_size)\u001b[0m\n\u001b[1;32m     74\u001b[0m         \u001b[0mim_no_name\u001b[0m \u001b[0;34m=\u001b[0m  \u001b[0;34m(\u001b[0m\u001b[0;36m6\u001b[0m\u001b[0;34m-\u001b[0m\u001b[0mlen\u001b[0m\u001b[0;34m(\u001b[0m\u001b[0mstr\u001b[0m\u001b[0;34m(\u001b[0m\u001b[0mimage_no\u001b[0m\u001b[0;34m)\u001b[0m\u001b[0;34m)\u001b[0m\u001b[0;34m)\u001b[0m\u001b[0;34m*\u001b[0m\u001b[0;34m\"0\"\u001b[0m \u001b[0;34m+\u001b[0m \u001b[0mstr\u001b[0m\u001b[0;34m(\u001b[0m\u001b[0mimage_no\u001b[0m\u001b[0;34m)\u001b[0m \u001b[0;34m+\u001b[0m \u001b[0;34m\".\"\u001b[0m \u001b[0;34m+\u001b[0m \u001b[0mimage_type\u001b[0m\u001b[0;34m\u001b[0m\u001b[0;34m\u001b[0m\u001b[0m\n\u001b[1;32m     75\u001b[0m \u001b[0;34m\u001b[0m\u001b[0m\n\u001b[0;32m---> 76\u001b[0;31m         \u001b[0mfeature_tensor_dict\u001b[0m\u001b[0;34m[\u001b[0m\u001b[0;34m\"ref\"\u001b[0m\u001b[0;34m]\u001b[0m\u001b[0;34m.\u001b[0m\u001b[0mappend\u001b[0m\u001b[0;34m(\u001b[0m\u001b[0mget_vector\u001b[0m\u001b[0;34m(\u001b[0m\u001b[0mpath\u001b[0m\u001b[0;34m+\u001b[0m\u001b[0;34m\"/ref/\"\u001b[0m \u001b[0;34m+\u001b[0m \u001b[0mim_no_name\u001b[0m\u001b[0;34m,\u001b[0m \u001b[0mmodel\u001b[0m\u001b[0;34m,\u001b[0m \u001b[0mlayer\u001b[0m\u001b[0;34m,\u001b[0m \u001b[0mscaler\u001b[0m\u001b[0;34m,\u001b[0m \u001b[0mnormalize\u001b[0m\u001b[0;34m,\u001b[0m \u001b[0mfeature_tensor_size\u001b[0m\u001b[0;34m)\u001b[0m\u001b[0;34m)\u001b[0m\u001b[0;34m\u001b[0m\u001b[0;34m\u001b[0m\u001b[0m\n\u001b[0m\u001b[1;32m     77\u001b[0m         \u001b[0mfeature_tensor_dict\u001b[0m\u001b[0;34m[\u001b[0m\u001b[0;34m\"p0\"\u001b[0m\u001b[0;34m]\u001b[0m\u001b[0;34m.\u001b[0m\u001b[0mappend\u001b[0m\u001b[0;34m(\u001b[0m\u001b[0mget_vector\u001b[0m\u001b[0;34m(\u001b[0m\u001b[0mpath\u001b[0m\u001b[0;34m+\u001b[0m\u001b[0;34m\"/p0/\"\u001b[0m \u001b[0;34m+\u001b[0m \u001b[0mim_no_name\u001b[0m\u001b[0;34m,\u001b[0m \u001b[0mmodel\u001b[0m\u001b[0;34m,\u001b[0m \u001b[0mlayer\u001b[0m\u001b[0;34m,\u001b[0m \u001b[0mscaler\u001b[0m\u001b[0;34m,\u001b[0m \u001b[0mnormalize\u001b[0m\u001b[0;34m,\u001b[0m \u001b[0mfeature_tensor_size\u001b[0m\u001b[0;34m)\u001b[0m\u001b[0;34m)\u001b[0m\u001b[0;34m\u001b[0m\u001b[0;34m\u001b[0m\u001b[0m\n\u001b[1;32m     78\u001b[0m         \u001b[0mfeature_tensor_dict\u001b[0m\u001b[0;34m[\u001b[0m\u001b[0;34m\"p1\"\u001b[0m\u001b[0;34m]\u001b[0m\u001b[0;34m.\u001b[0m\u001b[0mappend\u001b[0m\u001b[0;34m(\u001b[0m\u001b[0mget_vector\u001b[0m\u001b[0;34m(\u001b[0m\u001b[0mpath\u001b[0m\u001b[0;34m+\u001b[0m\u001b[0;34m\"/p1/\"\u001b[0m \u001b[0;34m+\u001b[0m \u001b[0mim_no_name\u001b[0m\u001b[0;34m,\u001b[0m \u001b[0mmodel\u001b[0m\u001b[0;34m,\u001b[0m \u001b[0mlayer\u001b[0m\u001b[0;34m,\u001b[0m \u001b[0mscaler\u001b[0m\u001b[0;34m,\u001b[0m \u001b[0mnormalize\u001b[0m\u001b[0;34m,\u001b[0m \u001b[0mfeature_tensor_size\u001b[0m\u001b[0;34m)\u001b[0m\u001b[0;34m)\u001b[0m\u001b[0;34m\u001b[0m\u001b[0;34m\u001b[0m\u001b[0m\n",
            "\u001b[0;32m<ipython-input-19-d6c36dd30e7d>\u001b[0m in \u001b[0;36mget_vector\u001b[0;34m(image_name, model, layer, scaler, normalize, feature_tensor_size)\u001b[0m\n\u001b[1;32m     52\u001b[0m     \u001b[0mh\u001b[0m \u001b[0;34m=\u001b[0m \u001b[0mlayer\u001b[0m\u001b[0;34m.\u001b[0m\u001b[0mregister_forward_hook\u001b[0m\u001b[0;34m(\u001b[0m\u001b[0mcopy_data\u001b[0m\u001b[0;34m)\u001b[0m\u001b[0;34m\u001b[0m\u001b[0;34m\u001b[0m\u001b[0m\n\u001b[1;32m     53\u001b[0m     \u001b[0;31m# 6. Run the model on our transformed image\u001b[0m\u001b[0;34m\u001b[0m\u001b[0;34m\u001b[0m\u001b[0m\n\u001b[0;32m---> 54\u001b[0;31m     \u001b[0mmodel\u001b[0m\u001b[0;34m(\u001b[0m\u001b[0mt_img\u001b[0m\u001b[0;34m)\u001b[0m\u001b[0;34m\u001b[0m\u001b[0;34m\u001b[0m\u001b[0m\n\u001b[0m\u001b[1;32m     55\u001b[0m     \u001b[0;31m# 7. Detach our copy function from the layer\u001b[0m\u001b[0;34m\u001b[0m\u001b[0;34m\u001b[0m\u001b[0m\n\u001b[1;32m     56\u001b[0m     \u001b[0mh\u001b[0m\u001b[0;34m.\u001b[0m\u001b[0mremove\u001b[0m\u001b[0;34m(\u001b[0m\u001b[0;34m)\u001b[0m\u001b[0;34m\u001b[0m\u001b[0;34m\u001b[0m\u001b[0m\n",
            "\u001b[0;32m/usr/local/lib/python3.9/dist-packages/torch/nn/modules/module.py\u001b[0m in \u001b[0;36m_call_impl\u001b[0;34m(self, *input, **kwargs)\u001b[0m\n\u001b[1;32m   1192\u001b[0m         if not (self._backward_hooks or self._forward_hooks or self._forward_pre_hooks or _global_backward_hooks\n\u001b[1;32m   1193\u001b[0m                 or _global_forward_hooks or _global_forward_pre_hooks):\n\u001b[0;32m-> 1194\u001b[0;31m             \u001b[0;32mreturn\u001b[0m \u001b[0mforward_call\u001b[0m\u001b[0;34m(\u001b[0m\u001b[0;34m*\u001b[0m\u001b[0minput\u001b[0m\u001b[0;34m,\u001b[0m \u001b[0;34m**\u001b[0m\u001b[0mkwargs\u001b[0m\u001b[0;34m)\u001b[0m\u001b[0;34m\u001b[0m\u001b[0;34m\u001b[0m\u001b[0m\n\u001b[0m\u001b[1;32m   1195\u001b[0m         \u001b[0;31m# Do not call functions when jit is used\u001b[0m\u001b[0;34m\u001b[0m\u001b[0;34m\u001b[0m\u001b[0m\n\u001b[1;32m   1196\u001b[0m         \u001b[0mfull_backward_hooks\u001b[0m\u001b[0;34m,\u001b[0m \u001b[0mnon_full_backward_hooks\u001b[0m \u001b[0;34m=\u001b[0m \u001b[0;34m[\u001b[0m\u001b[0;34m]\u001b[0m\u001b[0;34m,\u001b[0m \u001b[0;34m[\u001b[0m\u001b[0;34m]\u001b[0m\u001b[0;34m\u001b[0m\u001b[0;34m\u001b[0m\u001b[0m\n",
            "\u001b[0;32m/usr/local/lib/python3.9/dist-packages/torchvision/models/efficientnet.py\u001b[0m in \u001b[0;36mforward\u001b[0;34m(self, x)\u001b[0m\n\u001b[1;32m    353\u001b[0m \u001b[0;34m\u001b[0m\u001b[0m\n\u001b[1;32m    354\u001b[0m     \u001b[0;32mdef\u001b[0m \u001b[0mforward\u001b[0m\u001b[0;34m(\u001b[0m\u001b[0mself\u001b[0m\u001b[0;34m,\u001b[0m \u001b[0mx\u001b[0m\u001b[0;34m:\u001b[0m \u001b[0mTensor\u001b[0m\u001b[0;34m)\u001b[0m \u001b[0;34m->\u001b[0m \u001b[0mTensor\u001b[0m\u001b[0;34m:\u001b[0m\u001b[0;34m\u001b[0m\u001b[0;34m\u001b[0m\u001b[0m\n\u001b[0;32m--> 355\u001b[0;31m         \u001b[0;32mreturn\u001b[0m \u001b[0mself\u001b[0m\u001b[0;34m.\u001b[0m\u001b[0m_forward_impl\u001b[0m\u001b[0;34m(\u001b[0m\u001b[0mx\u001b[0m\u001b[0;34m)\u001b[0m\u001b[0;34m\u001b[0m\u001b[0;34m\u001b[0m\u001b[0m\n\u001b[0m\u001b[1;32m    356\u001b[0m \u001b[0;34m\u001b[0m\u001b[0m\n\u001b[1;32m    357\u001b[0m \u001b[0;34m\u001b[0m\u001b[0m\n",
            "\u001b[0;32m/usr/local/lib/python3.9/dist-packages/torchvision/models/efficientnet.py\u001b[0m in \u001b[0;36m_forward_impl\u001b[0;34m(self, x)\u001b[0m\n\u001b[1;32m    343\u001b[0m \u001b[0;34m\u001b[0m\u001b[0m\n\u001b[1;32m    344\u001b[0m     \u001b[0;32mdef\u001b[0m \u001b[0m_forward_impl\u001b[0m\u001b[0;34m(\u001b[0m\u001b[0mself\u001b[0m\u001b[0;34m,\u001b[0m \u001b[0mx\u001b[0m\u001b[0;34m:\u001b[0m \u001b[0mTensor\u001b[0m\u001b[0;34m)\u001b[0m \u001b[0;34m->\u001b[0m \u001b[0mTensor\u001b[0m\u001b[0;34m:\u001b[0m\u001b[0;34m\u001b[0m\u001b[0;34m\u001b[0m\u001b[0m\n\u001b[0;32m--> 345\u001b[0;31m         \u001b[0mx\u001b[0m \u001b[0;34m=\u001b[0m \u001b[0mself\u001b[0m\u001b[0;34m.\u001b[0m\u001b[0mfeatures\u001b[0m\u001b[0;34m(\u001b[0m\u001b[0mx\u001b[0m\u001b[0;34m)\u001b[0m\u001b[0;34m\u001b[0m\u001b[0;34m\u001b[0m\u001b[0m\n\u001b[0m\u001b[1;32m    346\u001b[0m \u001b[0;34m\u001b[0m\u001b[0m\n\u001b[1;32m    347\u001b[0m         \u001b[0mx\u001b[0m \u001b[0;34m=\u001b[0m \u001b[0mself\u001b[0m\u001b[0;34m.\u001b[0m\u001b[0mavgpool\u001b[0m\u001b[0;34m(\u001b[0m\u001b[0mx\u001b[0m\u001b[0;34m)\u001b[0m\u001b[0;34m\u001b[0m\u001b[0;34m\u001b[0m\u001b[0m\n",
            "\u001b[0;32m/usr/local/lib/python3.9/dist-packages/torch/nn/modules/module.py\u001b[0m in \u001b[0;36m_call_impl\u001b[0;34m(self, *input, **kwargs)\u001b[0m\n\u001b[1;32m   1192\u001b[0m         if not (self._backward_hooks or self._forward_hooks or self._forward_pre_hooks or _global_backward_hooks\n\u001b[1;32m   1193\u001b[0m                 or _global_forward_hooks or _global_forward_pre_hooks):\n\u001b[0;32m-> 1194\u001b[0;31m             \u001b[0;32mreturn\u001b[0m \u001b[0mforward_call\u001b[0m\u001b[0;34m(\u001b[0m\u001b[0;34m*\u001b[0m\u001b[0minput\u001b[0m\u001b[0;34m,\u001b[0m \u001b[0;34m**\u001b[0m\u001b[0mkwargs\u001b[0m\u001b[0;34m)\u001b[0m\u001b[0;34m\u001b[0m\u001b[0;34m\u001b[0m\u001b[0m\n\u001b[0m\u001b[1;32m   1195\u001b[0m         \u001b[0;31m# Do not call functions when jit is used\u001b[0m\u001b[0;34m\u001b[0m\u001b[0;34m\u001b[0m\u001b[0m\n\u001b[1;32m   1196\u001b[0m         \u001b[0mfull_backward_hooks\u001b[0m\u001b[0;34m,\u001b[0m \u001b[0mnon_full_backward_hooks\u001b[0m \u001b[0;34m=\u001b[0m \u001b[0;34m[\u001b[0m\u001b[0;34m]\u001b[0m\u001b[0;34m,\u001b[0m \u001b[0;34m[\u001b[0m\u001b[0;34m]\u001b[0m\u001b[0;34m\u001b[0m\u001b[0;34m\u001b[0m\u001b[0m\n",
            "\u001b[0;32m/usr/local/lib/python3.9/dist-packages/torch/nn/modules/container.py\u001b[0m in \u001b[0;36mforward\u001b[0;34m(self, input)\u001b[0m\n\u001b[1;32m    202\u001b[0m     \u001b[0;32mdef\u001b[0m \u001b[0mforward\u001b[0m\u001b[0;34m(\u001b[0m\u001b[0mself\u001b[0m\u001b[0;34m,\u001b[0m \u001b[0minput\u001b[0m\u001b[0;34m)\u001b[0m\u001b[0;34m:\u001b[0m\u001b[0;34m\u001b[0m\u001b[0;34m\u001b[0m\u001b[0m\n\u001b[1;32m    203\u001b[0m         \u001b[0;32mfor\u001b[0m \u001b[0mmodule\u001b[0m \u001b[0;32min\u001b[0m \u001b[0mself\u001b[0m\u001b[0;34m:\u001b[0m\u001b[0;34m\u001b[0m\u001b[0;34m\u001b[0m\u001b[0m\n\u001b[0;32m--> 204\u001b[0;31m             \u001b[0minput\u001b[0m \u001b[0;34m=\u001b[0m \u001b[0mmodule\u001b[0m\u001b[0;34m(\u001b[0m\u001b[0minput\u001b[0m\u001b[0;34m)\u001b[0m\u001b[0;34m\u001b[0m\u001b[0;34m\u001b[0m\u001b[0m\n\u001b[0m\u001b[1;32m    205\u001b[0m         \u001b[0;32mreturn\u001b[0m \u001b[0minput\u001b[0m\u001b[0;34m\u001b[0m\u001b[0;34m\u001b[0m\u001b[0m\n\u001b[1;32m    206\u001b[0m \u001b[0;34m\u001b[0m\u001b[0m\n",
            "\u001b[0;32m/usr/local/lib/python3.9/dist-packages/torch/nn/modules/module.py\u001b[0m in \u001b[0;36m_call_impl\u001b[0;34m(self, *input, **kwargs)\u001b[0m\n\u001b[1;32m   1192\u001b[0m         if not (self._backward_hooks or self._forward_hooks or self._forward_pre_hooks or _global_backward_hooks\n\u001b[1;32m   1193\u001b[0m                 or _global_forward_hooks or _global_forward_pre_hooks):\n\u001b[0;32m-> 1194\u001b[0;31m             \u001b[0;32mreturn\u001b[0m \u001b[0mforward_call\u001b[0m\u001b[0;34m(\u001b[0m\u001b[0;34m*\u001b[0m\u001b[0minput\u001b[0m\u001b[0;34m,\u001b[0m \u001b[0;34m**\u001b[0m\u001b[0mkwargs\u001b[0m\u001b[0;34m)\u001b[0m\u001b[0;34m\u001b[0m\u001b[0;34m\u001b[0m\u001b[0m\n\u001b[0m\u001b[1;32m   1195\u001b[0m         \u001b[0;31m# Do not call functions when jit is used\u001b[0m\u001b[0;34m\u001b[0m\u001b[0;34m\u001b[0m\u001b[0m\n\u001b[1;32m   1196\u001b[0m         \u001b[0mfull_backward_hooks\u001b[0m\u001b[0;34m,\u001b[0m \u001b[0mnon_full_backward_hooks\u001b[0m \u001b[0;34m=\u001b[0m \u001b[0;34m[\u001b[0m\u001b[0;34m]\u001b[0m\u001b[0;34m,\u001b[0m \u001b[0;34m[\u001b[0m\u001b[0;34m]\u001b[0m\u001b[0;34m\u001b[0m\u001b[0;34m\u001b[0m\u001b[0m\n",
            "\u001b[0;32m/usr/local/lib/python3.9/dist-packages/torch/nn/modules/container.py\u001b[0m in \u001b[0;36mforward\u001b[0;34m(self, input)\u001b[0m\n\u001b[1;32m    202\u001b[0m     \u001b[0;32mdef\u001b[0m \u001b[0mforward\u001b[0m\u001b[0;34m(\u001b[0m\u001b[0mself\u001b[0m\u001b[0;34m,\u001b[0m \u001b[0minput\u001b[0m\u001b[0;34m)\u001b[0m\u001b[0;34m:\u001b[0m\u001b[0;34m\u001b[0m\u001b[0;34m\u001b[0m\u001b[0m\n\u001b[1;32m    203\u001b[0m         \u001b[0;32mfor\u001b[0m \u001b[0mmodule\u001b[0m \u001b[0;32min\u001b[0m \u001b[0mself\u001b[0m\u001b[0;34m:\u001b[0m\u001b[0;34m\u001b[0m\u001b[0;34m\u001b[0m\u001b[0m\n\u001b[0;32m--> 204\u001b[0;31m             \u001b[0minput\u001b[0m \u001b[0;34m=\u001b[0m \u001b[0mmodule\u001b[0m\u001b[0;34m(\u001b[0m\u001b[0minput\u001b[0m\u001b[0;34m)\u001b[0m\u001b[0;34m\u001b[0m\u001b[0;34m\u001b[0m\u001b[0m\n\u001b[0m\u001b[1;32m    205\u001b[0m         \u001b[0;32mreturn\u001b[0m \u001b[0minput\u001b[0m\u001b[0;34m\u001b[0m\u001b[0;34m\u001b[0m\u001b[0m\n\u001b[1;32m    206\u001b[0m \u001b[0;34m\u001b[0m\u001b[0m\n",
            "\u001b[0;32m/usr/local/lib/python3.9/dist-packages/torch/nn/modules/module.py\u001b[0m in \u001b[0;36m_call_impl\u001b[0;34m(self, *input, **kwargs)\u001b[0m\n\u001b[1;32m   1192\u001b[0m         if not (self._backward_hooks or self._forward_hooks or self._forward_pre_hooks or _global_backward_hooks\n\u001b[1;32m   1193\u001b[0m                 or _global_forward_hooks or _global_forward_pre_hooks):\n\u001b[0;32m-> 1194\u001b[0;31m             \u001b[0;32mreturn\u001b[0m \u001b[0mforward_call\u001b[0m\u001b[0;34m(\u001b[0m\u001b[0;34m*\u001b[0m\u001b[0minput\u001b[0m\u001b[0;34m,\u001b[0m \u001b[0;34m**\u001b[0m\u001b[0mkwargs\u001b[0m\u001b[0;34m)\u001b[0m\u001b[0;34m\u001b[0m\u001b[0;34m\u001b[0m\u001b[0m\n\u001b[0m\u001b[1;32m   1195\u001b[0m         \u001b[0;31m# Do not call functions when jit is used\u001b[0m\u001b[0;34m\u001b[0m\u001b[0;34m\u001b[0m\u001b[0m\n\u001b[1;32m   1196\u001b[0m         \u001b[0mfull_backward_hooks\u001b[0m\u001b[0;34m,\u001b[0m \u001b[0mnon_full_backward_hooks\u001b[0m \u001b[0;34m=\u001b[0m \u001b[0;34m[\u001b[0m\u001b[0;34m]\u001b[0m\u001b[0;34m,\u001b[0m \u001b[0;34m[\u001b[0m\u001b[0;34m]\u001b[0m\u001b[0;34m\u001b[0m\u001b[0;34m\u001b[0m\u001b[0m\n",
            "\u001b[0;32m/usr/local/lib/python3.9/dist-packages/torchvision/models/efficientnet.py\u001b[0m in \u001b[0;36mforward\u001b[0;34m(self, input)\u001b[0m\n\u001b[1;32m    163\u001b[0m \u001b[0;34m\u001b[0m\u001b[0m\n\u001b[1;32m    164\u001b[0m     \u001b[0;32mdef\u001b[0m \u001b[0mforward\u001b[0m\u001b[0;34m(\u001b[0m\u001b[0mself\u001b[0m\u001b[0;34m,\u001b[0m \u001b[0minput\u001b[0m\u001b[0;34m:\u001b[0m \u001b[0mTensor\u001b[0m\u001b[0;34m)\u001b[0m \u001b[0;34m->\u001b[0m \u001b[0mTensor\u001b[0m\u001b[0;34m:\u001b[0m\u001b[0;34m\u001b[0m\u001b[0;34m\u001b[0m\u001b[0m\n\u001b[0;32m--> 165\u001b[0;31m         \u001b[0mresult\u001b[0m \u001b[0;34m=\u001b[0m \u001b[0mself\u001b[0m\u001b[0;34m.\u001b[0m\u001b[0mblock\u001b[0m\u001b[0;34m(\u001b[0m\u001b[0minput\u001b[0m\u001b[0;34m)\u001b[0m\u001b[0;34m\u001b[0m\u001b[0;34m\u001b[0m\u001b[0m\n\u001b[0m\u001b[1;32m    166\u001b[0m         \u001b[0;32mif\u001b[0m \u001b[0mself\u001b[0m\u001b[0;34m.\u001b[0m\u001b[0muse_res_connect\u001b[0m\u001b[0;34m:\u001b[0m\u001b[0;34m\u001b[0m\u001b[0;34m\u001b[0m\u001b[0m\n\u001b[1;32m    167\u001b[0m             \u001b[0mresult\u001b[0m \u001b[0;34m=\u001b[0m \u001b[0mself\u001b[0m\u001b[0;34m.\u001b[0m\u001b[0mstochastic_depth\u001b[0m\u001b[0;34m(\u001b[0m\u001b[0mresult\u001b[0m\u001b[0;34m)\u001b[0m\u001b[0;34m\u001b[0m\u001b[0;34m\u001b[0m\u001b[0m\n",
            "\u001b[0;32m/usr/local/lib/python3.9/dist-packages/torch/nn/modules/module.py\u001b[0m in \u001b[0;36m_call_impl\u001b[0;34m(self, *input, **kwargs)\u001b[0m\n\u001b[1;32m   1192\u001b[0m         if not (self._backward_hooks or self._forward_hooks or self._forward_pre_hooks or _global_backward_hooks\n\u001b[1;32m   1193\u001b[0m                 or _global_forward_hooks or _global_forward_pre_hooks):\n\u001b[0;32m-> 1194\u001b[0;31m             \u001b[0;32mreturn\u001b[0m \u001b[0mforward_call\u001b[0m\u001b[0;34m(\u001b[0m\u001b[0;34m*\u001b[0m\u001b[0minput\u001b[0m\u001b[0;34m,\u001b[0m \u001b[0;34m**\u001b[0m\u001b[0mkwargs\u001b[0m\u001b[0;34m)\u001b[0m\u001b[0;34m\u001b[0m\u001b[0;34m\u001b[0m\u001b[0m\n\u001b[0m\u001b[1;32m   1195\u001b[0m         \u001b[0;31m# Do not call functions when jit is used\u001b[0m\u001b[0;34m\u001b[0m\u001b[0;34m\u001b[0m\u001b[0m\n\u001b[1;32m   1196\u001b[0m         \u001b[0mfull_backward_hooks\u001b[0m\u001b[0;34m,\u001b[0m \u001b[0mnon_full_backward_hooks\u001b[0m \u001b[0;34m=\u001b[0m \u001b[0;34m[\u001b[0m\u001b[0;34m]\u001b[0m\u001b[0;34m,\u001b[0m \u001b[0;34m[\u001b[0m\u001b[0;34m]\u001b[0m\u001b[0;34m\u001b[0m\u001b[0;34m\u001b[0m\u001b[0m\n",
            "\u001b[0;32m/usr/local/lib/python3.9/dist-packages/torch/nn/modules/container.py\u001b[0m in \u001b[0;36mforward\u001b[0;34m(self, input)\u001b[0m\n\u001b[1;32m    202\u001b[0m     \u001b[0;32mdef\u001b[0m \u001b[0mforward\u001b[0m\u001b[0;34m(\u001b[0m\u001b[0mself\u001b[0m\u001b[0;34m,\u001b[0m \u001b[0minput\u001b[0m\u001b[0;34m)\u001b[0m\u001b[0;34m:\u001b[0m\u001b[0;34m\u001b[0m\u001b[0;34m\u001b[0m\u001b[0m\n\u001b[1;32m    203\u001b[0m         \u001b[0;32mfor\u001b[0m \u001b[0mmodule\u001b[0m \u001b[0;32min\u001b[0m \u001b[0mself\u001b[0m\u001b[0;34m:\u001b[0m\u001b[0;34m\u001b[0m\u001b[0;34m\u001b[0m\u001b[0m\n\u001b[0;32m--> 204\u001b[0;31m             \u001b[0minput\u001b[0m \u001b[0;34m=\u001b[0m \u001b[0mmodule\u001b[0m\u001b[0;34m(\u001b[0m\u001b[0minput\u001b[0m\u001b[0;34m)\u001b[0m\u001b[0;34m\u001b[0m\u001b[0;34m\u001b[0m\u001b[0m\n\u001b[0m\u001b[1;32m    205\u001b[0m         \u001b[0;32mreturn\u001b[0m \u001b[0minput\u001b[0m\u001b[0;34m\u001b[0m\u001b[0;34m\u001b[0m\u001b[0m\n\u001b[1;32m    206\u001b[0m \u001b[0;34m\u001b[0m\u001b[0m\n",
            "\u001b[0;32m/usr/local/lib/python3.9/dist-packages/torch/nn/modules/module.py\u001b[0m in \u001b[0;36m_call_impl\u001b[0;34m(self, *input, **kwargs)\u001b[0m\n\u001b[1;32m   1192\u001b[0m         if not (self._backward_hooks or self._forward_hooks or self._forward_pre_hooks or _global_backward_hooks\n\u001b[1;32m   1193\u001b[0m                 or _global_forward_hooks or _global_forward_pre_hooks):\n\u001b[0;32m-> 1194\u001b[0;31m             \u001b[0;32mreturn\u001b[0m \u001b[0mforward_call\u001b[0m\u001b[0;34m(\u001b[0m\u001b[0;34m*\u001b[0m\u001b[0minput\u001b[0m\u001b[0;34m,\u001b[0m \u001b[0;34m**\u001b[0m\u001b[0mkwargs\u001b[0m\u001b[0;34m)\u001b[0m\u001b[0;34m\u001b[0m\u001b[0;34m\u001b[0m\u001b[0m\n\u001b[0m\u001b[1;32m   1195\u001b[0m         \u001b[0;31m# Do not call functions when jit is used\u001b[0m\u001b[0;34m\u001b[0m\u001b[0;34m\u001b[0m\u001b[0m\n\u001b[1;32m   1196\u001b[0m         \u001b[0mfull_backward_hooks\u001b[0m\u001b[0;34m,\u001b[0m \u001b[0mnon_full_backward_hooks\u001b[0m \u001b[0;34m=\u001b[0m \u001b[0;34m[\u001b[0m\u001b[0;34m]\u001b[0m\u001b[0;34m,\u001b[0m \u001b[0;34m[\u001b[0m\u001b[0;34m]\u001b[0m\u001b[0;34m\u001b[0m\u001b[0;34m\u001b[0m\u001b[0m\n",
            "\u001b[0;32m/usr/local/lib/python3.9/dist-packages/torch/nn/modules/container.py\u001b[0m in \u001b[0;36mforward\u001b[0;34m(self, input)\u001b[0m\n\u001b[1;32m    202\u001b[0m     \u001b[0;32mdef\u001b[0m \u001b[0mforward\u001b[0m\u001b[0;34m(\u001b[0m\u001b[0mself\u001b[0m\u001b[0;34m,\u001b[0m \u001b[0minput\u001b[0m\u001b[0;34m)\u001b[0m\u001b[0;34m:\u001b[0m\u001b[0;34m\u001b[0m\u001b[0;34m\u001b[0m\u001b[0m\n\u001b[1;32m    203\u001b[0m         \u001b[0;32mfor\u001b[0m \u001b[0mmodule\u001b[0m \u001b[0;32min\u001b[0m \u001b[0mself\u001b[0m\u001b[0;34m:\u001b[0m\u001b[0;34m\u001b[0m\u001b[0;34m\u001b[0m\u001b[0m\n\u001b[0;32m--> 204\u001b[0;31m             \u001b[0minput\u001b[0m \u001b[0;34m=\u001b[0m \u001b[0mmodule\u001b[0m\u001b[0;34m(\u001b[0m\u001b[0minput\u001b[0m\u001b[0;34m)\u001b[0m\u001b[0;34m\u001b[0m\u001b[0;34m\u001b[0m\u001b[0m\n\u001b[0m\u001b[1;32m    205\u001b[0m         \u001b[0;32mreturn\u001b[0m \u001b[0minput\u001b[0m\u001b[0;34m\u001b[0m\u001b[0;34m\u001b[0m\u001b[0m\n\u001b[1;32m    206\u001b[0m \u001b[0;34m\u001b[0m\u001b[0m\n",
            "\u001b[0;32m/usr/local/lib/python3.9/dist-packages/torch/nn/modules/module.py\u001b[0m in \u001b[0;36m_call_impl\u001b[0;34m(self, *input, **kwargs)\u001b[0m\n\u001b[1;32m   1192\u001b[0m         if not (self._backward_hooks or self._forward_hooks or self._forward_pre_hooks or _global_backward_hooks\n\u001b[1;32m   1193\u001b[0m                 or _global_forward_hooks or _global_forward_pre_hooks):\n\u001b[0;32m-> 1194\u001b[0;31m             \u001b[0;32mreturn\u001b[0m \u001b[0mforward_call\u001b[0m\u001b[0;34m(\u001b[0m\u001b[0;34m*\u001b[0m\u001b[0minput\u001b[0m\u001b[0;34m,\u001b[0m \u001b[0;34m**\u001b[0m\u001b[0mkwargs\u001b[0m\u001b[0;34m)\u001b[0m\u001b[0;34m\u001b[0m\u001b[0;34m\u001b[0m\u001b[0m\n\u001b[0m\u001b[1;32m   1195\u001b[0m         \u001b[0;31m# Do not call functions when jit is used\u001b[0m\u001b[0;34m\u001b[0m\u001b[0;34m\u001b[0m\u001b[0m\n\u001b[1;32m   1196\u001b[0m         \u001b[0mfull_backward_hooks\u001b[0m\u001b[0;34m,\u001b[0m \u001b[0mnon_full_backward_hooks\u001b[0m \u001b[0;34m=\u001b[0m \u001b[0;34m[\u001b[0m\u001b[0;34m]\u001b[0m\u001b[0;34m,\u001b[0m \u001b[0;34m[\u001b[0m\u001b[0;34m]\u001b[0m\u001b[0;34m\u001b[0m\u001b[0;34m\u001b[0m\u001b[0m\n",
            "\u001b[0;32m/usr/local/lib/python3.9/dist-packages/torch/nn/modules/batchnorm.py\u001b[0m in \u001b[0;36mforward\u001b[0;34m(self, input)\u001b[0m\n\u001b[1;32m    162\u001b[0m             \u001b[0mbn_training\u001b[0m \u001b[0;34m=\u001b[0m \u001b[0;32mTrue\u001b[0m\u001b[0;34m\u001b[0m\u001b[0;34m\u001b[0m\u001b[0m\n\u001b[1;32m    163\u001b[0m         \u001b[0;32melse\u001b[0m\u001b[0;34m:\u001b[0m\u001b[0;34m\u001b[0m\u001b[0;34m\u001b[0m\u001b[0m\n\u001b[0;32m--> 164\u001b[0;31m             \u001b[0mbn_training\u001b[0m \u001b[0;34m=\u001b[0m \u001b[0;34m(\u001b[0m\u001b[0mself\u001b[0m\u001b[0;34m.\u001b[0m\u001b[0mrunning_mean\u001b[0m \u001b[0;32mis\u001b[0m \u001b[0;32mNone\u001b[0m\u001b[0;34m)\u001b[0m \u001b[0;32mand\u001b[0m \u001b[0;34m(\u001b[0m\u001b[0mself\u001b[0m\u001b[0;34m.\u001b[0m\u001b[0mrunning_var\u001b[0m \u001b[0;32mis\u001b[0m \u001b[0;32mNone\u001b[0m\u001b[0;34m)\u001b[0m\u001b[0;34m\u001b[0m\u001b[0;34m\u001b[0m\u001b[0m\n\u001b[0m\u001b[1;32m    165\u001b[0m \u001b[0;34m\u001b[0m\u001b[0m\n\u001b[1;32m    166\u001b[0m         r\"\"\"\n",
            "\u001b[0;32m/usr/local/lib/python3.9/dist-packages/torch/nn/modules/module.py\u001b[0m in \u001b[0;36m__getattr__\u001b[0;34m(self, name)\u001b[0m\n\u001b[1;32m   1256\u001b[0m     \u001b[0;32mdef\u001b[0m \u001b[0m__getattr__\u001b[0m\u001b[0;34m(\u001b[0m\u001b[0mself\u001b[0m\u001b[0;34m,\u001b[0m \u001b[0mname\u001b[0m\u001b[0;34m:\u001b[0m \u001b[0mstr\u001b[0m\u001b[0;34m)\u001b[0m \u001b[0;34m->\u001b[0m \u001b[0mUnion\u001b[0m\u001b[0;34m[\u001b[0m\u001b[0mTensor\u001b[0m\u001b[0;34m,\u001b[0m \u001b[0;34m'Module'\u001b[0m\u001b[0;34m]\u001b[0m\u001b[0;34m:\u001b[0m\u001b[0;34m\u001b[0m\u001b[0;34m\u001b[0m\u001b[0m\n\u001b[1;32m   1257\u001b[0m         \u001b[0;32mif\u001b[0m \u001b[0;34m'_parameters'\u001b[0m \u001b[0;32min\u001b[0m \u001b[0mself\u001b[0m\u001b[0;34m.\u001b[0m\u001b[0m__dict__\u001b[0m\u001b[0;34m:\u001b[0m\u001b[0;34m\u001b[0m\u001b[0;34m\u001b[0m\u001b[0m\n\u001b[0;32m-> 1258\u001b[0;31m             \u001b[0m_parameters\u001b[0m \u001b[0;34m=\u001b[0m \u001b[0mself\u001b[0m\u001b[0;34m.\u001b[0m\u001b[0m__dict__\u001b[0m\u001b[0;34m[\u001b[0m\u001b[0;34m'_parameters'\u001b[0m\u001b[0;34m]\u001b[0m\u001b[0;34m\u001b[0m\u001b[0;34m\u001b[0m\u001b[0m\n\u001b[0m\u001b[1;32m   1259\u001b[0m             \u001b[0;32mif\u001b[0m \u001b[0mname\u001b[0m \u001b[0;32min\u001b[0m \u001b[0m_parameters\u001b[0m\u001b[0;34m:\u001b[0m\u001b[0;34m\u001b[0m\u001b[0;34m\u001b[0m\u001b[0m\n\u001b[1;32m   1260\u001b[0m                 \u001b[0;32mreturn\u001b[0m \u001b[0m_parameters\u001b[0m\u001b[0;34m[\u001b[0m\u001b[0mname\u001b[0m\u001b[0;34m]\u001b[0m\u001b[0;34m\u001b[0m\u001b[0;34m\u001b[0m\u001b[0m\n",
            "\u001b[0;31mKeyboardInterrupt\u001b[0m: "
          ]
        }
      ]
    },
    {
      "cell_type": "markdown",
      "source": [
        "#-----------EfficientNet B3------------------------#\n",
        "\n",
        "# ----------------------------------------BAPPS 2AFC DIST-----------------------#\n",
        "\n",
        "datasets/distortions/distortion_triplets/traditional_triplets: 0.77\n",
        "datasets/distortions/distortion_triplets/cnn_triplets: 0.83\n",
        "datasets/distortions/distortion_triplets/color_triplets: 0.569\n",
        "datasets/distortions/distortion_triplets/deblur_triplets: 0.595\n",
        "datasets/distortions/distortion_triplets/frameinterp_triplets: 0.659\n",
        "datasets/distortions/distortion_triplets/superres_triplets: 0.665\n",
        "\n",
        "# ----------------------------------------HSJ------------------------#\n",
        "\n",
        "datasets/hsj/hsj_triplets/hsj_query_rank0_dissimilar: 0.635\n",
        "datasets/hsj/hsj_triplets/hsj_query_rank0_rank1: 0.569\n",
        "\n",
        "# ----------------------------------------Birds-16------------------------#\n",
        "\n",
        "datasets/birds-16/birds_dataset_triplets/birds_query_rank0_dissimilar: 0.796\n",
        "datasets/birds-16/birds_dataset_triplets/birds_query_rank0_rank1: 0.635\n",
        "datasets/birds-16/birds_dataset_triplets/birds_query_rank0_dissimilar_2rank1: 0.816\n",
        "#-----------EfficientNet B4------------------------#\n",
        "/usr/local/lib/python3.9/dist-packages/torchvision/models/_utils.py:223: UserWarning: Arguments other than a weight enum or `None` for 'weights' are deprecated since 0.13 and may be removed in the future. The current behavior is equivalent to passing `weights=EfficientNet_B4_Weights.IMAGENET1K_V1`. You can also use `weights=EfficientNet_B4_Weights.DEFAULT` to get the most up-to-date weights.\n",
        "  warnings.warn(msg)\n",
        "\n",
        "# ----------------------------------------BAPPS 2AFC DIST-----------------------#\n",
        "\n",
        "datasets/distortions/distortion_triplets/traditional_triplets: 0.737\n",
        "datasets/distortions/distortion_triplets/cnn_triplets: 0.812\n",
        "datasets/distortions/distortion_triplets/color_triplets: 0.605\n",
        "datasets/distortions/distortion_triplets/deblur_triplets: 0.601\n",
        "datasets/distortions/distortion_triplets/frameinterp_triplets: 0.632\n",
        "datasets/distortions/distortion_triplets/superres_triplets: 0.657\n",
        "\n",
        "# ----------------------------------------HSJ------------------------#\n",
        "\n",
        "datasets/hsj/hsj_triplets/hsj_query_rank0_dissimilar: 0.628\n",
        "datasets/hsj/hsj_triplets/hsj_query_rank0_rank1: 0.58\n",
        "\n",
        "# ----------------------------------------Birds-16------------------------#\n",
        "\n",
        "datasets/birds-16/birds_dataset_triplets/birds_query_rank0_dissimilar: 0.77\n",
        "datasets/birds-16/birds_dataset_triplets/birds_query_rank0_rank1: 0.61\n",
        "datasets/birds-16/birds_dataset_triplets/birds_query_rank0_dissimilar_2rank1: 0.779\n",
        "#-----------EfficientNet B5------------------------#\n",
        "/usr/local/lib/python3.9/dist-packages/torchvision/models/_utils.py:223: UserWarning: Arguments other than a weight enum or `None` for 'weights' are deprecated since 0.13 and may be removed in the future. The current behavior is equivalent to passing `weights=EfficientNet_B5_Weights.IMAGENET1K_V1`. You can also use `weights=EfficientNet_B5_Weights.DEFAULT` to get the most up-to-date weights.\n",
        "  warnings.warn(msg)\n",
        "\n",
        "# ----------------------------------------BAPPS 2AFC DIST-----------------------#\n",
        "\n",
        "datasets/distortions/distortion_triplets/traditional_triplets: 0.763\n",
        "datasets/distortions/distortion_triplets/cnn_triplets: 0.812\n",
        "datasets/distortions/distortion_triplets/color_triplets: 0.571\n",
        "datasets/distortions/distortion_triplets/deblur_triplets: 0.6\n",
        "datasets/distortions/distortion_triplets/frameinterp_triplets: 0.624\n",
        "datasets/distortions/distortion_triplets/superres_triplets: 0.645\n",
        "\n",
        "# ----------------------------------------HSJ------------------------#\n",
        "\n",
        "datasets/hsj/hsj_triplets/hsj_query_rank0_dissimilar: 0.57\n",
        "datasets/hsj/hsj_triplets/hsj_query_rank0_rank1: 0.558\n",
        "\n",
        "# ----------------------------------------Birds-16------------------------#\n",
        "\n",
        "datasets/birds-16/birds_dataset_triplets/birds_query_rank0_dissimilar: 0.786\n",
        "datasets/birds-16/birds_dataset_triplets/birds_query_rank0_rank1: 0.608\n",
        "datasets/birds-16/birds_dataset_triplets/birds_query_rank0_dissimilar_2rank1: 0.797\n",
        "#-----------EfficientNet B6------------------------#\n",
        "/usr/local/lib/python3.9/dist-packages/torchvision/models/_utils.py:223: UserWarning: Arguments other than a weight enum or `None` for 'weights' are deprecated since 0.13 and may be removed in the future. The current behavior is equivalent to passing `weights=EfficientNet_B6_Weights.IMAGENET1K_V1`. You can also use `weights=EfficientNet_B6_Weights.DEFAULT` to get the most up-to-date weights.\n",
        "  warnings.warn(msg)\n",
        "\n",
        "# ----------------------------------------BAPPS 2AFC DIST-----------------------#\n",
        "\n",
        "datasets/distortions/distortion_triplets/traditional_triplets: 0.767\n",
        "datasets/distortions/distortion_triplets/cnn_triplets: 0.818\n",
        "datasets/distortions/distortion_triplets/color_triplets: 0.569\n",
        "datasets/distortions/distortion_triplets/deblur_triplets: 0.593\n",
        "datasets/distortions/distortion_triplets/frameinterp_triplets: 0.637\n",
        "datasets/distortions/distortion_triplets/superres_triplets: 0.582\n",
        "\n",
        "# ----------------------------------------HSJ------------------------#\n",
        "\n",
        "datasets/hsj/hsj_triplets/hsj_query_rank0_dissimilar: 0.576\n",
        "datasets/hsj/hsj_triplets/hsj_query_rank0_rank1: 0.553\n",
        "\n",
        "# ----------------------------------------Birds-16------------------------#\n",
        "\n",
        "datasets/birds-16/birds_dataset_triplets/birds_query_rank0_dissimilar: 0.772\n",
        "datasets/birds-16/birds_dataset_triplets/birds_query_rank0_rank1: 0.615\n",
        "datasets/birds-16/birds_dataset_triplets/birds_query_rank0_dissimilar_2rank1: 0.798"
      ],
      "metadata": {
        "id": "POOzpdTpQeTj"
      },
      "id": "POOzpdTpQeTj"
    },
    {
      "cell_type": "code",
      "source": [
        "print(\"#-----------EfficientNet B3------------------------#\")\n",
        "model = models.efficientnet_b3(pretrained=True)\n",
        "model.cuda()\n",
        "layer = model._modules.get(\"avgpool\")\n",
        "  # Use the model object to select the desired layer\n",
        "  # Set model to evaluation mode\n",
        "model.eval()\n",
        "apply_framework_model(model,layer,[1, 1536, 1, 1])\n",
        "\n",
        "print(\"#-----------EfficientNet B4------------------------#\")\n",
        "model = models.efficientnet_b4(pretrained=True)\n",
        "model.cuda()\n",
        "layer = model._modules.get(\"avgpool\")\n",
        "  # Use the model object to select the desired layer\n",
        "  # Set model to evaluation mode\n",
        "model.eval()\n",
        "apply_framework_model(model,layer,[1, 1792, 1, 1])\n",
        "\n",
        "print(\"#-----------EfficientNet B5------------------------#\")\n",
        "model = models.efficientnet_b5(pretrained=True)\n",
        "model.cuda()\n",
        "layer = model._modules.get(\"avgpool\")\n",
        "  # Use the model object to select the desired layer\n",
        "  # Set model to evaluation mode\n",
        "model.eval()\n",
        "apply_framework_model(model,layer,[1, 2048, 1, 1])\n",
        "\n",
        "print(\"#-----------EfficientNet B6------------------------#\")\n",
        "model = models.efficientnet_b6(pretrained=True)\n",
        "model.cuda()\n",
        "layer = model._modules.get(\"avgpool\")\n",
        "  # Use the model object to select the desired layer\n",
        "  # Set model to evaluation mode\n",
        "model.eval()\n",
        "apply_framework_model(model,layer,[1, 2304, 1, 1])\n",
        "\n",
        "print(\"#-----------EfficientNet B7------------------------#\")\n",
        "model = models.efficientnet_b7(pretrained=True)\n",
        "model.cuda()\n",
        "layer = model._modules.get(\"avgpool\")\n",
        "  # Use the model object to select the desired layer\n",
        "  # Set model to evaluation mode\n",
        "model.eval()\n",
        "apply_framework_model(model,layer,[1, 2560, 1, 1])"
      ],
      "metadata": {
        "colab": {
          "base_uri": "https://localhost:8080/",
          "height": 1000
        },
        "id": "6TbzvYUs6yVM",
        "outputId": "44674cd5-ffd8-4f35-f815-580e896e2ed1"
      },
      "id": "6TbzvYUs6yVM",
      "execution_count": 26,
      "outputs": [
        {
          "output_type": "stream",
          "name": "stdout",
          "text": [
            "#-----------EfficientNet B3------------------------#\n",
            "\n",
            "# ----------------------------------------BAPPS 2AFC DIST-----------------------#\n",
            "\n",
            "datasets/distortions/distortion_triplets/traditional_triplets: 0.77\n",
            "datasets/distortions/distortion_triplets/cnn_triplets: 0.83\n",
            "datasets/distortions/distortion_triplets/color_triplets: 0.569\n",
            "datasets/distortions/distortion_triplets/deblur_triplets: 0.595\n",
            "datasets/distortions/distortion_triplets/frameinterp_triplets: 0.659\n",
            "datasets/distortions/distortion_triplets/superres_triplets: 0.665\n",
            "\n",
            "# ----------------------------------------HSJ------------------------#\n",
            "\n",
            "datasets/hsj/hsj_triplets/hsj_query_rank0_dissimilar: 0.635\n",
            "datasets/hsj/hsj_triplets/hsj_query_rank0_rank1: 0.569\n",
            "\n",
            "# ----------------------------------------Birds-16------------------------#\n",
            "\n",
            "datasets/birds-16/birds_dataset_triplets/birds_query_rank0_dissimilar: 0.796\n",
            "datasets/birds-16/birds_dataset_triplets/birds_query_rank0_rank1: 0.635\n",
            "datasets/birds-16/birds_dataset_triplets/birds_query_rank0_dissimilar_2rank1: 0.816\n",
            "#-----------EfficientNet B4------------------------#\n"
          ]
        },
        {
          "output_type": "stream",
          "name": "stderr",
          "text": [
            "/usr/local/lib/python3.9/dist-packages/torchvision/models/_utils.py:223: UserWarning: Arguments other than a weight enum or `None` for 'weights' are deprecated since 0.13 and may be removed in the future. The current behavior is equivalent to passing `weights=EfficientNet_B4_Weights.IMAGENET1K_V1`. You can also use `weights=EfficientNet_B4_Weights.DEFAULT` to get the most up-to-date weights.\n",
            "  warnings.warn(msg)\n"
          ]
        },
        {
          "output_type": "stream",
          "name": "stdout",
          "text": [
            "\n",
            "# ----------------------------------------BAPPS 2AFC DIST-----------------------#\n",
            "\n",
            "datasets/distortions/distortion_triplets/traditional_triplets: 0.737\n",
            "datasets/distortions/distortion_triplets/cnn_triplets: 0.812\n",
            "datasets/distortions/distortion_triplets/color_triplets: 0.605\n",
            "datasets/distortions/distortion_triplets/deblur_triplets: 0.601\n",
            "datasets/distortions/distortion_triplets/frameinterp_triplets: 0.632\n",
            "datasets/distortions/distortion_triplets/superres_triplets: 0.657\n",
            "\n",
            "# ----------------------------------------HSJ------------------------#\n",
            "\n",
            "datasets/hsj/hsj_triplets/hsj_query_rank0_dissimilar: 0.628\n",
            "datasets/hsj/hsj_triplets/hsj_query_rank0_rank1: 0.58\n",
            "\n",
            "# ----------------------------------------Birds-16------------------------#\n",
            "\n",
            "datasets/birds-16/birds_dataset_triplets/birds_query_rank0_dissimilar: 0.77\n",
            "datasets/birds-16/birds_dataset_triplets/birds_query_rank0_rank1: 0.61\n",
            "datasets/birds-16/birds_dataset_triplets/birds_query_rank0_dissimilar_2rank1: 0.779\n",
            "#-----------EfficientNet B5------------------------#\n"
          ]
        },
        {
          "output_type": "stream",
          "name": "stderr",
          "text": [
            "/usr/local/lib/python3.9/dist-packages/torchvision/models/_utils.py:223: UserWarning: Arguments other than a weight enum or `None` for 'weights' are deprecated since 0.13 and may be removed in the future. The current behavior is equivalent to passing `weights=EfficientNet_B5_Weights.IMAGENET1K_V1`. You can also use `weights=EfficientNet_B5_Weights.DEFAULT` to get the most up-to-date weights.\n",
            "  warnings.warn(msg)\n"
          ]
        },
        {
          "output_type": "stream",
          "name": "stdout",
          "text": [
            "\n",
            "# ----------------------------------------BAPPS 2AFC DIST-----------------------#\n",
            "\n",
            "datasets/distortions/distortion_triplets/traditional_triplets: 0.763\n",
            "datasets/distortions/distortion_triplets/cnn_triplets: 0.812\n",
            "datasets/distortions/distortion_triplets/color_triplets: 0.571\n",
            "datasets/distortions/distortion_triplets/deblur_triplets: 0.6\n",
            "datasets/distortions/distortion_triplets/frameinterp_triplets: 0.624\n",
            "datasets/distortions/distortion_triplets/superres_triplets: 0.645\n",
            "\n",
            "# ----------------------------------------HSJ------------------------#\n",
            "\n",
            "datasets/hsj/hsj_triplets/hsj_query_rank0_dissimilar: 0.57\n",
            "datasets/hsj/hsj_triplets/hsj_query_rank0_rank1: 0.558\n",
            "\n",
            "# ----------------------------------------Birds-16------------------------#\n",
            "\n",
            "datasets/birds-16/birds_dataset_triplets/birds_query_rank0_dissimilar: 0.786\n",
            "datasets/birds-16/birds_dataset_triplets/birds_query_rank0_rank1: 0.608\n",
            "datasets/birds-16/birds_dataset_triplets/birds_query_rank0_dissimilar_2rank1: 0.797\n",
            "#-----------EfficientNet B6------------------------#\n"
          ]
        },
        {
          "output_type": "stream",
          "name": "stderr",
          "text": [
            "/usr/local/lib/python3.9/dist-packages/torchvision/models/_utils.py:223: UserWarning: Arguments other than a weight enum or `None` for 'weights' are deprecated since 0.13 and may be removed in the future. The current behavior is equivalent to passing `weights=EfficientNet_B6_Weights.IMAGENET1K_V1`. You can also use `weights=EfficientNet_B6_Weights.DEFAULT` to get the most up-to-date weights.\n",
            "  warnings.warn(msg)\n"
          ]
        },
        {
          "output_type": "stream",
          "name": "stdout",
          "text": [
            "\n",
            "# ----------------------------------------BAPPS 2AFC DIST-----------------------#\n",
            "\n",
            "datasets/distortions/distortion_triplets/traditional_triplets: 0.767\n",
            "datasets/distortions/distortion_triplets/cnn_triplets: 0.818\n",
            "datasets/distortions/distortion_triplets/color_triplets: 0.569\n",
            "datasets/distortions/distortion_triplets/deblur_triplets: 0.593\n",
            "datasets/distortions/distortion_triplets/frameinterp_triplets: 0.637\n",
            "datasets/distortions/distortion_triplets/superres_triplets: 0.582\n",
            "\n",
            "# ----------------------------------------HSJ------------------------#\n",
            "\n",
            "datasets/hsj/hsj_triplets/hsj_query_rank0_dissimilar: 0.576\n",
            "datasets/hsj/hsj_triplets/hsj_query_rank0_rank1: 0.553\n",
            "\n",
            "# ----------------------------------------Birds-16------------------------#\n",
            "\n",
            "datasets/birds-16/birds_dataset_triplets/birds_query_rank0_dissimilar: 0.772\n",
            "datasets/birds-16/birds_dataset_triplets/birds_query_rank0_rank1: 0.615\n",
            "datasets/birds-16/birds_dataset_triplets/birds_query_rank0_dissimilar_2rank1: 0.798\n",
            "#-----------EfficientNet B7------------------------#\n"
          ]
        },
        {
          "output_type": "stream",
          "name": "stderr",
          "text": [
            "/usr/local/lib/python3.9/dist-packages/torchvision/models/_utils.py:223: UserWarning: Arguments other than a weight enum or `None` for 'weights' are deprecated since 0.13 and may be removed in the future. The current behavior is equivalent to passing `weights=EfficientNet_B7_Weights.IMAGENET1K_V1`. You can also use `weights=EfficientNet_B7_Weights.DEFAULT` to get the most up-to-date weights.\n",
            "  warnings.warn(msg)\n"
          ]
        },
        {
          "output_type": "stream",
          "name": "stdout",
          "text": [
            "\n",
            "# ----------------------------------------BAPPS 2AFC DIST-----------------------#\n",
            "\n"
          ]
        },
        {
          "output_type": "error",
          "ename": "KeyboardInterrupt",
          "evalue": "ignored",
          "traceback": [
            "\u001b[0;31m---------------------------------------------------------------------------\u001b[0m",
            "\u001b[0;31mKeyboardInterrupt\u001b[0m                         Traceback (most recent call last)",
            "\u001b[0;32m<ipython-input-26-c830127eef6d>\u001b[0m in \u001b[0;36m<module>\u001b[0;34m\u001b[0m\n\u001b[1;32m     42\u001b[0m   \u001b[0;31m# Set model to evaluation mode\u001b[0m\u001b[0;34m\u001b[0m\u001b[0;34m\u001b[0m\u001b[0m\n\u001b[1;32m     43\u001b[0m \u001b[0mmodel\u001b[0m\u001b[0;34m.\u001b[0m\u001b[0meval\u001b[0m\u001b[0;34m(\u001b[0m\u001b[0;34m)\u001b[0m\u001b[0;34m\u001b[0m\u001b[0;34m\u001b[0m\u001b[0m\n\u001b[0;32m---> 44\u001b[0;31m \u001b[0mapply_framework_model\u001b[0m\u001b[0;34m(\u001b[0m\u001b[0mmodel\u001b[0m\u001b[0;34m,\u001b[0m\u001b[0mlayer\u001b[0m\u001b[0;34m,\u001b[0m\u001b[0;34m[\u001b[0m\u001b[0;36m1\u001b[0m\u001b[0;34m,\u001b[0m \u001b[0;36m2560\u001b[0m\u001b[0;34m,\u001b[0m \u001b[0;36m1\u001b[0m\u001b[0;34m,\u001b[0m \u001b[0;36m1\u001b[0m\u001b[0;34m]\u001b[0m\u001b[0;34m)\u001b[0m\u001b[0;34m\u001b[0m\u001b[0;34m\u001b[0m\u001b[0m\n\u001b[0m",
            "\u001b[0;32m<ipython-input-25-ef3ced21dcc3>\u001b[0m in \u001b[0;36mapply_framework_model\u001b[0;34m(modelf, layer, feature_tensor_size)\u001b[0m\n\u001b[1;32m      8\u001b[0m   \u001b[0mprint\u001b[0m\u001b[0;34m(\u001b[0m\u001b[0;34m\"\"\u001b[0m\u001b[0;34m)\u001b[0m\u001b[0;34m\u001b[0m\u001b[0;34m\u001b[0m\u001b[0m\n\u001b[1;32m      9\u001b[0m   \u001b[0;31m################### TRADITIONAL\u001b[0m\u001b[0;34m\u001b[0m\u001b[0;34m\u001b[0m\u001b[0m\n\u001b[0;32m---> 10\u001b[0;31m   apply_framework(\"datasets/distortions/distortion_triplets/traditional_triplets\",\n\u001b[0m\u001b[1;32m     11\u001b[0m                   \u001b[0;34m\"png\"\u001b[0m\u001b[0;34m,\u001b[0m\u001b[0;34m\u001b[0m\u001b[0;34m\u001b[0m\u001b[0m\n\u001b[1;32m     12\u001b[0m                   modelf, layer, scaler, normalize, False, feature_tensor_size)\n",
            "\u001b[0;32m<ipython-input-19-d6c36dd30e7d>\u001b[0m in \u001b[0;36mapply_framework\u001b[0;34m(path, image_type, model, layer, scaler, normalize, isHSJOrBirds, feature_tensor_size)\u001b[0m\n\u001b[1;32m    127\u001b[0m \u001b[0;34m\u001b[0m\u001b[0m\n\u001b[1;32m    128\u001b[0m \u001b[0;32mdef\u001b[0m \u001b[0mapply_framework\u001b[0m\u001b[0;34m(\u001b[0m\u001b[0mpath\u001b[0m\u001b[0;34m,\u001b[0m \u001b[0mimage_type\u001b[0m\u001b[0;34m,\u001b[0m \u001b[0mmodel\u001b[0m\u001b[0;34m,\u001b[0m \u001b[0mlayer\u001b[0m\u001b[0;34m,\u001b[0m \u001b[0mscaler\u001b[0m\u001b[0;34m,\u001b[0m \u001b[0mnormalize\u001b[0m\u001b[0;34m,\u001b[0m \u001b[0misHSJOrBirds\u001b[0m\u001b[0;34m,\u001b[0m \u001b[0mfeature_tensor_size\u001b[0m\u001b[0;34m)\u001b[0m\u001b[0;34m:\u001b[0m\u001b[0;34m\u001b[0m\u001b[0;34m\u001b[0m\u001b[0m\n\u001b[0;32m--> 129\u001b[0;31m   embeddings = get_image_embeddings(path, \n\u001b[0m\u001b[1;32m    130\u001b[0m                                     \u001b[0mimage_type\u001b[0m\u001b[0;34m,\u001b[0m\u001b[0;34m\u001b[0m\u001b[0;34m\u001b[0m\u001b[0m\n\u001b[1;32m    131\u001b[0m                                     model, layer, scaler, normalize, isHSJOrBirds, feature_tensor_size)\n",
            "\u001b[0;32m<ipython-input-19-d6c36dd30e7d>\u001b[0m in \u001b[0;36mget_image_embeddings\u001b[0;34m(path, image_type, model, layer, scaler, normalize, isHSJOrBirds, feature_tensor_size)\u001b[0m\n\u001b[1;32m     75\u001b[0m \u001b[0;34m\u001b[0m\u001b[0m\n\u001b[1;32m     76\u001b[0m         \u001b[0mfeature_tensor_dict\u001b[0m\u001b[0;34m[\u001b[0m\u001b[0;34m\"ref\"\u001b[0m\u001b[0;34m]\u001b[0m\u001b[0;34m.\u001b[0m\u001b[0mappend\u001b[0m\u001b[0;34m(\u001b[0m\u001b[0mget_vector\u001b[0m\u001b[0;34m(\u001b[0m\u001b[0mpath\u001b[0m\u001b[0;34m+\u001b[0m\u001b[0;34m\"/ref/\"\u001b[0m \u001b[0;34m+\u001b[0m \u001b[0mim_no_name\u001b[0m\u001b[0;34m,\u001b[0m \u001b[0mmodel\u001b[0m\u001b[0;34m,\u001b[0m \u001b[0mlayer\u001b[0m\u001b[0;34m,\u001b[0m \u001b[0mscaler\u001b[0m\u001b[0;34m,\u001b[0m \u001b[0mnormalize\u001b[0m\u001b[0;34m,\u001b[0m \u001b[0mfeature_tensor_size\u001b[0m\u001b[0;34m)\u001b[0m\u001b[0;34m)\u001b[0m\u001b[0;34m\u001b[0m\u001b[0;34m\u001b[0m\u001b[0m\n\u001b[0;32m---> 77\u001b[0;31m         \u001b[0mfeature_tensor_dict\u001b[0m\u001b[0;34m[\u001b[0m\u001b[0;34m\"p0\"\u001b[0m\u001b[0;34m]\u001b[0m\u001b[0;34m.\u001b[0m\u001b[0mappend\u001b[0m\u001b[0;34m(\u001b[0m\u001b[0mget_vector\u001b[0m\u001b[0;34m(\u001b[0m\u001b[0mpath\u001b[0m\u001b[0;34m+\u001b[0m\u001b[0;34m\"/p0/\"\u001b[0m \u001b[0;34m+\u001b[0m \u001b[0mim_no_name\u001b[0m\u001b[0;34m,\u001b[0m \u001b[0mmodel\u001b[0m\u001b[0;34m,\u001b[0m \u001b[0mlayer\u001b[0m\u001b[0;34m,\u001b[0m \u001b[0mscaler\u001b[0m\u001b[0;34m,\u001b[0m \u001b[0mnormalize\u001b[0m\u001b[0;34m,\u001b[0m \u001b[0mfeature_tensor_size\u001b[0m\u001b[0;34m)\u001b[0m\u001b[0;34m)\u001b[0m\u001b[0;34m\u001b[0m\u001b[0;34m\u001b[0m\u001b[0m\n\u001b[0m\u001b[1;32m     78\u001b[0m         \u001b[0mfeature_tensor_dict\u001b[0m\u001b[0;34m[\u001b[0m\u001b[0;34m\"p1\"\u001b[0m\u001b[0;34m]\u001b[0m\u001b[0;34m.\u001b[0m\u001b[0mappend\u001b[0m\u001b[0;34m(\u001b[0m\u001b[0mget_vector\u001b[0m\u001b[0;34m(\u001b[0m\u001b[0mpath\u001b[0m\u001b[0;34m+\u001b[0m\u001b[0;34m\"/p1/\"\u001b[0m \u001b[0;34m+\u001b[0m \u001b[0mim_no_name\u001b[0m\u001b[0;34m,\u001b[0m \u001b[0mmodel\u001b[0m\u001b[0;34m,\u001b[0m \u001b[0mlayer\u001b[0m\u001b[0;34m,\u001b[0m \u001b[0mscaler\u001b[0m\u001b[0;34m,\u001b[0m \u001b[0mnormalize\u001b[0m\u001b[0;34m,\u001b[0m \u001b[0mfeature_tensor_size\u001b[0m\u001b[0;34m)\u001b[0m\u001b[0;34m)\u001b[0m\u001b[0;34m\u001b[0m\u001b[0;34m\u001b[0m\u001b[0m\n\u001b[1;32m     79\u001b[0m \u001b[0;34m\u001b[0m\u001b[0m\n",
            "\u001b[0;32m<ipython-input-19-d6c36dd30e7d>\u001b[0m in \u001b[0;36mget_vector\u001b[0;34m(image_name, model, layer, scaler, normalize, feature_tensor_size)\u001b[0m\n\u001b[1;32m     52\u001b[0m     \u001b[0mh\u001b[0m \u001b[0;34m=\u001b[0m \u001b[0mlayer\u001b[0m\u001b[0;34m.\u001b[0m\u001b[0mregister_forward_hook\u001b[0m\u001b[0;34m(\u001b[0m\u001b[0mcopy_data\u001b[0m\u001b[0;34m)\u001b[0m\u001b[0;34m\u001b[0m\u001b[0;34m\u001b[0m\u001b[0m\n\u001b[1;32m     53\u001b[0m     \u001b[0;31m# 6. Run the model on our transformed image\u001b[0m\u001b[0;34m\u001b[0m\u001b[0;34m\u001b[0m\u001b[0m\n\u001b[0;32m---> 54\u001b[0;31m     \u001b[0mmodel\u001b[0m\u001b[0;34m(\u001b[0m\u001b[0mt_img\u001b[0m\u001b[0;34m)\u001b[0m\u001b[0;34m\u001b[0m\u001b[0;34m\u001b[0m\u001b[0m\n\u001b[0m\u001b[1;32m     55\u001b[0m     \u001b[0;31m# 7. Detach our copy function from the layer\u001b[0m\u001b[0;34m\u001b[0m\u001b[0;34m\u001b[0m\u001b[0m\n\u001b[1;32m     56\u001b[0m     \u001b[0mh\u001b[0m\u001b[0;34m.\u001b[0m\u001b[0mremove\u001b[0m\u001b[0;34m(\u001b[0m\u001b[0;34m)\u001b[0m\u001b[0;34m\u001b[0m\u001b[0;34m\u001b[0m\u001b[0m\n",
            "\u001b[0;32m/usr/local/lib/python3.9/dist-packages/torch/nn/modules/module.py\u001b[0m in \u001b[0;36m_call_impl\u001b[0;34m(self, *input, **kwargs)\u001b[0m\n\u001b[1;32m   1192\u001b[0m         if not (self._backward_hooks or self._forward_hooks or self._forward_pre_hooks or _global_backward_hooks\n\u001b[1;32m   1193\u001b[0m                 or _global_forward_hooks or _global_forward_pre_hooks):\n\u001b[0;32m-> 1194\u001b[0;31m             \u001b[0;32mreturn\u001b[0m \u001b[0mforward_call\u001b[0m\u001b[0;34m(\u001b[0m\u001b[0;34m*\u001b[0m\u001b[0minput\u001b[0m\u001b[0;34m,\u001b[0m \u001b[0;34m**\u001b[0m\u001b[0mkwargs\u001b[0m\u001b[0;34m)\u001b[0m\u001b[0;34m\u001b[0m\u001b[0;34m\u001b[0m\u001b[0m\n\u001b[0m\u001b[1;32m   1195\u001b[0m         \u001b[0;31m# Do not call functions when jit is used\u001b[0m\u001b[0;34m\u001b[0m\u001b[0;34m\u001b[0m\u001b[0m\n\u001b[1;32m   1196\u001b[0m         \u001b[0mfull_backward_hooks\u001b[0m\u001b[0;34m,\u001b[0m \u001b[0mnon_full_backward_hooks\u001b[0m \u001b[0;34m=\u001b[0m \u001b[0;34m[\u001b[0m\u001b[0;34m]\u001b[0m\u001b[0;34m,\u001b[0m \u001b[0;34m[\u001b[0m\u001b[0;34m]\u001b[0m\u001b[0;34m\u001b[0m\u001b[0;34m\u001b[0m\u001b[0m\n",
            "\u001b[0;32m/usr/local/lib/python3.9/dist-packages/torchvision/models/efficientnet.py\u001b[0m in \u001b[0;36mforward\u001b[0;34m(self, x)\u001b[0m\n\u001b[1;32m    353\u001b[0m \u001b[0;34m\u001b[0m\u001b[0m\n\u001b[1;32m    354\u001b[0m     \u001b[0;32mdef\u001b[0m \u001b[0mforward\u001b[0m\u001b[0;34m(\u001b[0m\u001b[0mself\u001b[0m\u001b[0;34m,\u001b[0m \u001b[0mx\u001b[0m\u001b[0;34m:\u001b[0m \u001b[0mTensor\u001b[0m\u001b[0;34m)\u001b[0m \u001b[0;34m->\u001b[0m \u001b[0mTensor\u001b[0m\u001b[0;34m:\u001b[0m\u001b[0;34m\u001b[0m\u001b[0;34m\u001b[0m\u001b[0m\n\u001b[0;32m--> 355\u001b[0;31m         \u001b[0;32mreturn\u001b[0m \u001b[0mself\u001b[0m\u001b[0;34m.\u001b[0m\u001b[0m_forward_impl\u001b[0m\u001b[0;34m(\u001b[0m\u001b[0mx\u001b[0m\u001b[0;34m)\u001b[0m\u001b[0;34m\u001b[0m\u001b[0;34m\u001b[0m\u001b[0m\n\u001b[0m\u001b[1;32m    356\u001b[0m \u001b[0;34m\u001b[0m\u001b[0m\n\u001b[1;32m    357\u001b[0m \u001b[0;34m\u001b[0m\u001b[0m\n",
            "\u001b[0;32m/usr/local/lib/python3.9/dist-packages/torchvision/models/efficientnet.py\u001b[0m in \u001b[0;36m_forward_impl\u001b[0;34m(self, x)\u001b[0m\n\u001b[1;32m    343\u001b[0m \u001b[0;34m\u001b[0m\u001b[0m\n\u001b[1;32m    344\u001b[0m     \u001b[0;32mdef\u001b[0m \u001b[0m_forward_impl\u001b[0m\u001b[0;34m(\u001b[0m\u001b[0mself\u001b[0m\u001b[0;34m,\u001b[0m \u001b[0mx\u001b[0m\u001b[0;34m:\u001b[0m \u001b[0mTensor\u001b[0m\u001b[0;34m)\u001b[0m \u001b[0;34m->\u001b[0m \u001b[0mTensor\u001b[0m\u001b[0;34m:\u001b[0m\u001b[0;34m\u001b[0m\u001b[0;34m\u001b[0m\u001b[0m\n\u001b[0;32m--> 345\u001b[0;31m         \u001b[0mx\u001b[0m \u001b[0;34m=\u001b[0m \u001b[0mself\u001b[0m\u001b[0;34m.\u001b[0m\u001b[0mfeatures\u001b[0m\u001b[0;34m(\u001b[0m\u001b[0mx\u001b[0m\u001b[0;34m)\u001b[0m\u001b[0;34m\u001b[0m\u001b[0;34m\u001b[0m\u001b[0m\n\u001b[0m\u001b[1;32m    346\u001b[0m \u001b[0;34m\u001b[0m\u001b[0m\n\u001b[1;32m    347\u001b[0m         \u001b[0mx\u001b[0m \u001b[0;34m=\u001b[0m \u001b[0mself\u001b[0m\u001b[0;34m.\u001b[0m\u001b[0mavgpool\u001b[0m\u001b[0;34m(\u001b[0m\u001b[0mx\u001b[0m\u001b[0;34m)\u001b[0m\u001b[0;34m\u001b[0m\u001b[0;34m\u001b[0m\u001b[0m\n",
            "\u001b[0;32m/usr/local/lib/python3.9/dist-packages/torch/nn/modules/module.py\u001b[0m in \u001b[0;36m_call_impl\u001b[0;34m(self, *input, **kwargs)\u001b[0m\n\u001b[1;32m   1192\u001b[0m         if not (self._backward_hooks or self._forward_hooks or self._forward_pre_hooks or _global_backward_hooks\n\u001b[1;32m   1193\u001b[0m                 or _global_forward_hooks or _global_forward_pre_hooks):\n\u001b[0;32m-> 1194\u001b[0;31m             \u001b[0;32mreturn\u001b[0m \u001b[0mforward_call\u001b[0m\u001b[0;34m(\u001b[0m\u001b[0;34m*\u001b[0m\u001b[0minput\u001b[0m\u001b[0;34m,\u001b[0m \u001b[0;34m**\u001b[0m\u001b[0mkwargs\u001b[0m\u001b[0;34m)\u001b[0m\u001b[0;34m\u001b[0m\u001b[0;34m\u001b[0m\u001b[0m\n\u001b[0m\u001b[1;32m   1195\u001b[0m         \u001b[0;31m# Do not call functions when jit is used\u001b[0m\u001b[0;34m\u001b[0m\u001b[0;34m\u001b[0m\u001b[0m\n\u001b[1;32m   1196\u001b[0m         \u001b[0mfull_backward_hooks\u001b[0m\u001b[0;34m,\u001b[0m \u001b[0mnon_full_backward_hooks\u001b[0m \u001b[0;34m=\u001b[0m \u001b[0;34m[\u001b[0m\u001b[0;34m]\u001b[0m\u001b[0;34m,\u001b[0m \u001b[0;34m[\u001b[0m\u001b[0;34m]\u001b[0m\u001b[0;34m\u001b[0m\u001b[0;34m\u001b[0m\u001b[0m\n",
            "\u001b[0;32m/usr/local/lib/python3.9/dist-packages/torch/nn/modules/container.py\u001b[0m in \u001b[0;36mforward\u001b[0;34m(self, input)\u001b[0m\n\u001b[1;32m    202\u001b[0m     \u001b[0;32mdef\u001b[0m \u001b[0mforward\u001b[0m\u001b[0;34m(\u001b[0m\u001b[0mself\u001b[0m\u001b[0;34m,\u001b[0m \u001b[0minput\u001b[0m\u001b[0;34m)\u001b[0m\u001b[0;34m:\u001b[0m\u001b[0;34m\u001b[0m\u001b[0;34m\u001b[0m\u001b[0m\n\u001b[1;32m    203\u001b[0m         \u001b[0;32mfor\u001b[0m \u001b[0mmodule\u001b[0m \u001b[0;32min\u001b[0m \u001b[0mself\u001b[0m\u001b[0;34m:\u001b[0m\u001b[0;34m\u001b[0m\u001b[0;34m\u001b[0m\u001b[0m\n\u001b[0;32m--> 204\u001b[0;31m             \u001b[0minput\u001b[0m \u001b[0;34m=\u001b[0m \u001b[0mmodule\u001b[0m\u001b[0;34m(\u001b[0m\u001b[0minput\u001b[0m\u001b[0;34m)\u001b[0m\u001b[0;34m\u001b[0m\u001b[0;34m\u001b[0m\u001b[0m\n\u001b[0m\u001b[1;32m    205\u001b[0m         \u001b[0;32mreturn\u001b[0m \u001b[0minput\u001b[0m\u001b[0;34m\u001b[0m\u001b[0;34m\u001b[0m\u001b[0m\n\u001b[1;32m    206\u001b[0m \u001b[0;34m\u001b[0m\u001b[0m\n",
            "\u001b[0;32m/usr/local/lib/python3.9/dist-packages/torch/nn/modules/module.py\u001b[0m in \u001b[0;36m_call_impl\u001b[0;34m(self, *input, **kwargs)\u001b[0m\n\u001b[1;32m   1192\u001b[0m         if not (self._backward_hooks or self._forward_hooks or self._forward_pre_hooks or _global_backward_hooks\n\u001b[1;32m   1193\u001b[0m                 or _global_forward_hooks or _global_forward_pre_hooks):\n\u001b[0;32m-> 1194\u001b[0;31m             \u001b[0;32mreturn\u001b[0m \u001b[0mforward_call\u001b[0m\u001b[0;34m(\u001b[0m\u001b[0;34m*\u001b[0m\u001b[0minput\u001b[0m\u001b[0;34m,\u001b[0m \u001b[0;34m**\u001b[0m\u001b[0mkwargs\u001b[0m\u001b[0;34m)\u001b[0m\u001b[0;34m\u001b[0m\u001b[0;34m\u001b[0m\u001b[0m\n\u001b[0m\u001b[1;32m   1195\u001b[0m         \u001b[0;31m# Do not call functions when jit is used\u001b[0m\u001b[0;34m\u001b[0m\u001b[0;34m\u001b[0m\u001b[0m\n\u001b[1;32m   1196\u001b[0m         \u001b[0mfull_backward_hooks\u001b[0m\u001b[0;34m,\u001b[0m \u001b[0mnon_full_backward_hooks\u001b[0m \u001b[0;34m=\u001b[0m \u001b[0;34m[\u001b[0m\u001b[0;34m]\u001b[0m\u001b[0;34m,\u001b[0m \u001b[0;34m[\u001b[0m\u001b[0;34m]\u001b[0m\u001b[0;34m\u001b[0m\u001b[0;34m\u001b[0m\u001b[0m\n",
            "\u001b[0;32m/usr/local/lib/python3.9/dist-packages/torch/nn/modules/container.py\u001b[0m in \u001b[0;36mforward\u001b[0;34m(self, input)\u001b[0m\n\u001b[1;32m    202\u001b[0m     \u001b[0;32mdef\u001b[0m \u001b[0mforward\u001b[0m\u001b[0;34m(\u001b[0m\u001b[0mself\u001b[0m\u001b[0;34m,\u001b[0m \u001b[0minput\u001b[0m\u001b[0;34m)\u001b[0m\u001b[0;34m:\u001b[0m\u001b[0;34m\u001b[0m\u001b[0;34m\u001b[0m\u001b[0m\n\u001b[1;32m    203\u001b[0m         \u001b[0;32mfor\u001b[0m \u001b[0mmodule\u001b[0m \u001b[0;32min\u001b[0m \u001b[0mself\u001b[0m\u001b[0;34m:\u001b[0m\u001b[0;34m\u001b[0m\u001b[0;34m\u001b[0m\u001b[0m\n\u001b[0;32m--> 204\u001b[0;31m             \u001b[0minput\u001b[0m \u001b[0;34m=\u001b[0m \u001b[0mmodule\u001b[0m\u001b[0;34m(\u001b[0m\u001b[0minput\u001b[0m\u001b[0;34m)\u001b[0m\u001b[0;34m\u001b[0m\u001b[0;34m\u001b[0m\u001b[0m\n\u001b[0m\u001b[1;32m    205\u001b[0m         \u001b[0;32mreturn\u001b[0m \u001b[0minput\u001b[0m\u001b[0;34m\u001b[0m\u001b[0;34m\u001b[0m\u001b[0m\n\u001b[1;32m    206\u001b[0m \u001b[0;34m\u001b[0m\u001b[0m\n",
            "\u001b[0;32m/usr/local/lib/python3.9/dist-packages/torch/nn/modules/module.py\u001b[0m in \u001b[0;36m_call_impl\u001b[0;34m(self, *input, **kwargs)\u001b[0m\n\u001b[1;32m   1192\u001b[0m         if not (self._backward_hooks or self._forward_hooks or self._forward_pre_hooks or _global_backward_hooks\n\u001b[1;32m   1193\u001b[0m                 or _global_forward_hooks or _global_forward_pre_hooks):\n\u001b[0;32m-> 1194\u001b[0;31m             \u001b[0;32mreturn\u001b[0m \u001b[0mforward_call\u001b[0m\u001b[0;34m(\u001b[0m\u001b[0;34m*\u001b[0m\u001b[0minput\u001b[0m\u001b[0;34m,\u001b[0m \u001b[0;34m**\u001b[0m\u001b[0mkwargs\u001b[0m\u001b[0;34m)\u001b[0m\u001b[0;34m\u001b[0m\u001b[0;34m\u001b[0m\u001b[0m\n\u001b[0m\u001b[1;32m   1195\u001b[0m         \u001b[0;31m# Do not call functions when jit is used\u001b[0m\u001b[0;34m\u001b[0m\u001b[0;34m\u001b[0m\u001b[0m\n\u001b[1;32m   1196\u001b[0m         \u001b[0mfull_backward_hooks\u001b[0m\u001b[0;34m,\u001b[0m \u001b[0mnon_full_backward_hooks\u001b[0m \u001b[0;34m=\u001b[0m \u001b[0;34m[\u001b[0m\u001b[0;34m]\u001b[0m\u001b[0;34m,\u001b[0m \u001b[0;34m[\u001b[0m\u001b[0;34m]\u001b[0m\u001b[0;34m\u001b[0m\u001b[0;34m\u001b[0m\u001b[0m\n",
            "\u001b[0;32m/usr/local/lib/python3.9/dist-packages/torchvision/models/efficientnet.py\u001b[0m in \u001b[0;36mforward\u001b[0;34m(self, input)\u001b[0m\n\u001b[1;32m    163\u001b[0m \u001b[0;34m\u001b[0m\u001b[0m\n\u001b[1;32m    164\u001b[0m     \u001b[0;32mdef\u001b[0m \u001b[0mforward\u001b[0m\u001b[0;34m(\u001b[0m\u001b[0mself\u001b[0m\u001b[0;34m,\u001b[0m \u001b[0minput\u001b[0m\u001b[0;34m:\u001b[0m \u001b[0mTensor\u001b[0m\u001b[0;34m)\u001b[0m \u001b[0;34m->\u001b[0m \u001b[0mTensor\u001b[0m\u001b[0;34m:\u001b[0m\u001b[0;34m\u001b[0m\u001b[0;34m\u001b[0m\u001b[0m\n\u001b[0;32m--> 165\u001b[0;31m         \u001b[0mresult\u001b[0m \u001b[0;34m=\u001b[0m \u001b[0mself\u001b[0m\u001b[0;34m.\u001b[0m\u001b[0mblock\u001b[0m\u001b[0;34m(\u001b[0m\u001b[0minput\u001b[0m\u001b[0;34m)\u001b[0m\u001b[0;34m\u001b[0m\u001b[0;34m\u001b[0m\u001b[0m\n\u001b[0m\u001b[1;32m    166\u001b[0m         \u001b[0;32mif\u001b[0m \u001b[0mself\u001b[0m\u001b[0;34m.\u001b[0m\u001b[0muse_res_connect\u001b[0m\u001b[0;34m:\u001b[0m\u001b[0;34m\u001b[0m\u001b[0;34m\u001b[0m\u001b[0m\n\u001b[1;32m    167\u001b[0m             \u001b[0mresult\u001b[0m \u001b[0;34m=\u001b[0m \u001b[0mself\u001b[0m\u001b[0;34m.\u001b[0m\u001b[0mstochastic_depth\u001b[0m\u001b[0;34m(\u001b[0m\u001b[0mresult\u001b[0m\u001b[0;34m)\u001b[0m\u001b[0;34m\u001b[0m\u001b[0;34m\u001b[0m\u001b[0m\n",
            "\u001b[0;32m/usr/local/lib/python3.9/dist-packages/torch/nn/modules/module.py\u001b[0m in \u001b[0;36m_call_impl\u001b[0;34m(self, *input, **kwargs)\u001b[0m\n\u001b[1;32m   1192\u001b[0m         if not (self._backward_hooks or self._forward_hooks or self._forward_pre_hooks or _global_backward_hooks\n\u001b[1;32m   1193\u001b[0m                 or _global_forward_hooks or _global_forward_pre_hooks):\n\u001b[0;32m-> 1194\u001b[0;31m             \u001b[0;32mreturn\u001b[0m \u001b[0mforward_call\u001b[0m\u001b[0;34m(\u001b[0m\u001b[0;34m*\u001b[0m\u001b[0minput\u001b[0m\u001b[0;34m,\u001b[0m \u001b[0;34m**\u001b[0m\u001b[0mkwargs\u001b[0m\u001b[0;34m)\u001b[0m\u001b[0;34m\u001b[0m\u001b[0;34m\u001b[0m\u001b[0m\n\u001b[0m\u001b[1;32m   1195\u001b[0m         \u001b[0;31m# Do not call functions when jit is used\u001b[0m\u001b[0;34m\u001b[0m\u001b[0;34m\u001b[0m\u001b[0m\n\u001b[1;32m   1196\u001b[0m         \u001b[0mfull_backward_hooks\u001b[0m\u001b[0;34m,\u001b[0m \u001b[0mnon_full_backward_hooks\u001b[0m \u001b[0;34m=\u001b[0m \u001b[0;34m[\u001b[0m\u001b[0;34m]\u001b[0m\u001b[0;34m,\u001b[0m \u001b[0;34m[\u001b[0m\u001b[0;34m]\u001b[0m\u001b[0;34m\u001b[0m\u001b[0;34m\u001b[0m\u001b[0m\n",
            "\u001b[0;32m/usr/local/lib/python3.9/dist-packages/torch/nn/modules/container.py\u001b[0m in \u001b[0;36mforward\u001b[0;34m(self, input)\u001b[0m\n\u001b[1;32m    202\u001b[0m     \u001b[0;32mdef\u001b[0m \u001b[0mforward\u001b[0m\u001b[0;34m(\u001b[0m\u001b[0mself\u001b[0m\u001b[0;34m,\u001b[0m \u001b[0minput\u001b[0m\u001b[0;34m)\u001b[0m\u001b[0;34m:\u001b[0m\u001b[0;34m\u001b[0m\u001b[0;34m\u001b[0m\u001b[0m\n\u001b[1;32m    203\u001b[0m         \u001b[0;32mfor\u001b[0m \u001b[0mmodule\u001b[0m \u001b[0;32min\u001b[0m \u001b[0mself\u001b[0m\u001b[0;34m:\u001b[0m\u001b[0;34m\u001b[0m\u001b[0;34m\u001b[0m\u001b[0m\n\u001b[0;32m--> 204\u001b[0;31m             \u001b[0minput\u001b[0m \u001b[0;34m=\u001b[0m \u001b[0mmodule\u001b[0m\u001b[0;34m(\u001b[0m\u001b[0minput\u001b[0m\u001b[0;34m)\u001b[0m\u001b[0;34m\u001b[0m\u001b[0;34m\u001b[0m\u001b[0m\n\u001b[0m\u001b[1;32m    205\u001b[0m         \u001b[0;32mreturn\u001b[0m \u001b[0minput\u001b[0m\u001b[0;34m\u001b[0m\u001b[0;34m\u001b[0m\u001b[0m\n\u001b[1;32m    206\u001b[0m \u001b[0;34m\u001b[0m\u001b[0m\n",
            "\u001b[0;32m/usr/local/lib/python3.9/dist-packages/torch/nn/modules/module.py\u001b[0m in \u001b[0;36m_call_impl\u001b[0;34m(self, *input, **kwargs)\u001b[0m\n\u001b[1;32m   1192\u001b[0m         if not (self._backward_hooks or self._forward_hooks or self._forward_pre_hooks or _global_backward_hooks\n\u001b[1;32m   1193\u001b[0m                 or _global_forward_hooks or _global_forward_pre_hooks):\n\u001b[0;32m-> 1194\u001b[0;31m             \u001b[0;32mreturn\u001b[0m \u001b[0mforward_call\u001b[0m\u001b[0;34m(\u001b[0m\u001b[0;34m*\u001b[0m\u001b[0minput\u001b[0m\u001b[0;34m,\u001b[0m \u001b[0;34m**\u001b[0m\u001b[0mkwargs\u001b[0m\u001b[0;34m)\u001b[0m\u001b[0;34m\u001b[0m\u001b[0;34m\u001b[0m\u001b[0m\n\u001b[0m\u001b[1;32m   1195\u001b[0m         \u001b[0;31m# Do not call functions when jit is used\u001b[0m\u001b[0;34m\u001b[0m\u001b[0;34m\u001b[0m\u001b[0m\n\u001b[1;32m   1196\u001b[0m         \u001b[0mfull_backward_hooks\u001b[0m\u001b[0;34m,\u001b[0m \u001b[0mnon_full_backward_hooks\u001b[0m \u001b[0;34m=\u001b[0m \u001b[0;34m[\u001b[0m\u001b[0;34m]\u001b[0m\u001b[0;34m,\u001b[0m \u001b[0;34m[\u001b[0m\u001b[0;34m]\u001b[0m\u001b[0;34m\u001b[0m\u001b[0;34m\u001b[0m\u001b[0m\n",
            "\u001b[0;32m/usr/local/lib/python3.9/dist-packages/torchvision/ops/misc.py\u001b[0m in \u001b[0;36mforward\u001b[0;34m(self, input)\u001b[0m\n\u001b[1;32m    257\u001b[0m \u001b[0;34m\u001b[0m\u001b[0m\n\u001b[1;32m    258\u001b[0m     \u001b[0;32mdef\u001b[0m \u001b[0mforward\u001b[0m\u001b[0;34m(\u001b[0m\u001b[0mself\u001b[0m\u001b[0;34m,\u001b[0m \u001b[0minput\u001b[0m\u001b[0;34m:\u001b[0m \u001b[0mTensor\u001b[0m\u001b[0;34m)\u001b[0m \u001b[0;34m->\u001b[0m \u001b[0mTensor\u001b[0m\u001b[0;34m:\u001b[0m\u001b[0;34m\u001b[0m\u001b[0;34m\u001b[0m\u001b[0m\n\u001b[0;32m--> 259\u001b[0;31m         \u001b[0mscale\u001b[0m \u001b[0;34m=\u001b[0m \u001b[0mself\u001b[0m\u001b[0;34m.\u001b[0m\u001b[0m_scale\u001b[0m\u001b[0;34m(\u001b[0m\u001b[0minput\u001b[0m\u001b[0;34m)\u001b[0m\u001b[0;34m\u001b[0m\u001b[0;34m\u001b[0m\u001b[0m\n\u001b[0m\u001b[1;32m    260\u001b[0m         \u001b[0;32mreturn\u001b[0m \u001b[0mscale\u001b[0m \u001b[0;34m*\u001b[0m \u001b[0minput\u001b[0m\u001b[0;34m\u001b[0m\u001b[0;34m\u001b[0m\u001b[0m\n\u001b[1;32m    261\u001b[0m \u001b[0;34m\u001b[0m\u001b[0m\n",
            "\u001b[0;32m/usr/local/lib/python3.9/dist-packages/torchvision/ops/misc.py\u001b[0m in \u001b[0;36m_scale\u001b[0;34m(self, input)\u001b[0m\n\u001b[1;32m    251\u001b[0m     \u001b[0;32mdef\u001b[0m \u001b[0m_scale\u001b[0m\u001b[0;34m(\u001b[0m\u001b[0mself\u001b[0m\u001b[0;34m,\u001b[0m \u001b[0minput\u001b[0m\u001b[0;34m:\u001b[0m \u001b[0mTensor\u001b[0m\u001b[0;34m)\u001b[0m \u001b[0;34m->\u001b[0m \u001b[0mTensor\u001b[0m\u001b[0;34m:\u001b[0m\u001b[0;34m\u001b[0m\u001b[0;34m\u001b[0m\u001b[0m\n\u001b[1;32m    252\u001b[0m         \u001b[0mscale\u001b[0m \u001b[0;34m=\u001b[0m \u001b[0mself\u001b[0m\u001b[0;34m.\u001b[0m\u001b[0mavgpool\u001b[0m\u001b[0;34m(\u001b[0m\u001b[0minput\u001b[0m\u001b[0;34m)\u001b[0m\u001b[0;34m\u001b[0m\u001b[0;34m\u001b[0m\u001b[0m\n\u001b[0;32m--> 253\u001b[0;31m         \u001b[0mscale\u001b[0m \u001b[0;34m=\u001b[0m \u001b[0mself\u001b[0m\u001b[0;34m.\u001b[0m\u001b[0mfc1\u001b[0m\u001b[0;34m(\u001b[0m\u001b[0mscale\u001b[0m\u001b[0;34m)\u001b[0m\u001b[0;34m\u001b[0m\u001b[0;34m\u001b[0m\u001b[0m\n\u001b[0m\u001b[1;32m    254\u001b[0m         \u001b[0mscale\u001b[0m \u001b[0;34m=\u001b[0m \u001b[0mself\u001b[0m\u001b[0;34m.\u001b[0m\u001b[0mactivation\u001b[0m\u001b[0;34m(\u001b[0m\u001b[0mscale\u001b[0m\u001b[0;34m)\u001b[0m\u001b[0;34m\u001b[0m\u001b[0;34m\u001b[0m\u001b[0m\n\u001b[1;32m    255\u001b[0m         \u001b[0mscale\u001b[0m \u001b[0;34m=\u001b[0m \u001b[0mself\u001b[0m\u001b[0;34m.\u001b[0m\u001b[0mfc2\u001b[0m\u001b[0;34m(\u001b[0m\u001b[0mscale\u001b[0m\u001b[0;34m)\u001b[0m\u001b[0;34m\u001b[0m\u001b[0;34m\u001b[0m\u001b[0m\n",
            "\u001b[0;32m/usr/local/lib/python3.9/dist-packages/torch/nn/modules/module.py\u001b[0m in \u001b[0;36m_call_impl\u001b[0;34m(self, *input, **kwargs)\u001b[0m\n\u001b[1;32m   1192\u001b[0m         if not (self._backward_hooks or self._forward_hooks or self._forward_pre_hooks or _global_backward_hooks\n\u001b[1;32m   1193\u001b[0m                 or _global_forward_hooks or _global_forward_pre_hooks):\n\u001b[0;32m-> 1194\u001b[0;31m             \u001b[0;32mreturn\u001b[0m \u001b[0mforward_call\u001b[0m\u001b[0;34m(\u001b[0m\u001b[0;34m*\u001b[0m\u001b[0minput\u001b[0m\u001b[0;34m,\u001b[0m \u001b[0;34m**\u001b[0m\u001b[0mkwargs\u001b[0m\u001b[0;34m)\u001b[0m\u001b[0;34m\u001b[0m\u001b[0;34m\u001b[0m\u001b[0m\n\u001b[0m\u001b[1;32m   1195\u001b[0m         \u001b[0;31m# Do not call functions when jit is used\u001b[0m\u001b[0;34m\u001b[0m\u001b[0;34m\u001b[0m\u001b[0m\n\u001b[1;32m   1196\u001b[0m         \u001b[0mfull_backward_hooks\u001b[0m\u001b[0;34m,\u001b[0m \u001b[0mnon_full_backward_hooks\u001b[0m \u001b[0;34m=\u001b[0m \u001b[0;34m[\u001b[0m\u001b[0;34m]\u001b[0m\u001b[0;34m,\u001b[0m \u001b[0;34m[\u001b[0m\u001b[0;34m]\u001b[0m\u001b[0;34m\u001b[0m\u001b[0;34m\u001b[0m\u001b[0m\n",
            "\u001b[0;32m/usr/local/lib/python3.9/dist-packages/torch/nn/modules/conv.py\u001b[0m in \u001b[0;36mforward\u001b[0;34m(self, input)\u001b[0m\n\u001b[1;32m    461\u001b[0m \u001b[0;34m\u001b[0m\u001b[0m\n\u001b[1;32m    462\u001b[0m     \u001b[0;32mdef\u001b[0m \u001b[0mforward\u001b[0m\u001b[0;34m(\u001b[0m\u001b[0mself\u001b[0m\u001b[0;34m,\u001b[0m \u001b[0minput\u001b[0m\u001b[0;34m:\u001b[0m \u001b[0mTensor\u001b[0m\u001b[0;34m)\u001b[0m \u001b[0;34m->\u001b[0m \u001b[0mTensor\u001b[0m\u001b[0;34m:\u001b[0m\u001b[0;34m\u001b[0m\u001b[0;34m\u001b[0m\u001b[0m\n\u001b[0;32m--> 463\u001b[0;31m         \u001b[0;32mreturn\u001b[0m \u001b[0mself\u001b[0m\u001b[0;34m.\u001b[0m\u001b[0m_conv_forward\u001b[0m\u001b[0;34m(\u001b[0m\u001b[0minput\u001b[0m\u001b[0;34m,\u001b[0m \u001b[0mself\u001b[0m\u001b[0;34m.\u001b[0m\u001b[0mweight\u001b[0m\u001b[0;34m,\u001b[0m \u001b[0mself\u001b[0m\u001b[0;34m.\u001b[0m\u001b[0mbias\u001b[0m\u001b[0;34m)\u001b[0m\u001b[0;34m\u001b[0m\u001b[0;34m\u001b[0m\u001b[0m\n\u001b[0m\u001b[1;32m    464\u001b[0m \u001b[0;34m\u001b[0m\u001b[0m\n\u001b[1;32m    465\u001b[0m \u001b[0;32mclass\u001b[0m \u001b[0mConv3d\u001b[0m\u001b[0;34m(\u001b[0m\u001b[0m_ConvNd\u001b[0m\u001b[0;34m)\u001b[0m\u001b[0;34m:\u001b[0m\u001b[0;34m\u001b[0m\u001b[0;34m\u001b[0m\u001b[0m\n",
            "\u001b[0;32m/usr/local/lib/python3.9/dist-packages/torch/nn/modules/conv.py\u001b[0m in \u001b[0;36m_conv_forward\u001b[0;34m(self, input, weight, bias)\u001b[0m\n\u001b[1;32m    457\u001b[0m                             \u001b[0mweight\u001b[0m\u001b[0;34m,\u001b[0m \u001b[0mbias\u001b[0m\u001b[0;34m,\u001b[0m \u001b[0mself\u001b[0m\u001b[0;34m.\u001b[0m\u001b[0mstride\u001b[0m\u001b[0;34m,\u001b[0m\u001b[0;34m\u001b[0m\u001b[0;34m\u001b[0m\u001b[0m\n\u001b[1;32m    458\u001b[0m                             _pair(0), self.dilation, self.groups)\n\u001b[0;32m--> 459\u001b[0;31m         return F.conv2d(input, weight, bias, self.stride,\n\u001b[0m\u001b[1;32m    460\u001b[0m                         self.padding, self.dilation, self.groups)\n\u001b[1;32m    461\u001b[0m \u001b[0;34m\u001b[0m\u001b[0m\n",
            "\u001b[0;31mKeyboardInterrupt\u001b[0m: "
          ]
        }
      ]
    },
    {
      "cell_type": "code",
      "source": [
        "model = models.vit_b_16(pretrained=True)\n",
        "model.cuda()\n",
        "model.eval()\n",
        "layer = model._modules.get(\"encoder_layer_11\")\n",
        "  # Use the model object to select the desired layer\n",
        "  # Set model to evaluation mode\n",
        "model.eval()\n",
        "apply_framework_model(model,layer,[1, 1536, 1, 1])"
      ],
      "metadata": {
        "colab": {
          "base_uri": "https://localhost:8080/",
          "height": 415
        },
        "id": "7zcCky3LOxHf",
        "outputId": "163dc86c-acf5-4211-e877-632bd5708fd9"
      },
      "id": "7zcCky3LOxHf",
      "execution_count": 36,
      "outputs": [
        {
          "output_type": "stream",
          "name": "stdout",
          "text": [
            "\n",
            "# ----------------------------------------BAPPS 2AFC DIST-----------------------#\n",
            "\n"
          ]
        },
        {
          "output_type": "error",
          "ename": "AttributeError",
          "evalue": "ignored",
          "traceback": [
            "\u001b[0;31m---------------------------------------------------------------------------\u001b[0m",
            "\u001b[0;31mAttributeError\u001b[0m                            Traceback (most recent call last)",
            "\u001b[0;32m<ipython-input-36-506d0d8870d6>\u001b[0m in \u001b[0;36m<module>\u001b[0;34m\u001b[0m\n\u001b[1;32m      6\u001b[0m   \u001b[0;31m# Set model to evaluation mode\u001b[0m\u001b[0;34m\u001b[0m\u001b[0;34m\u001b[0m\u001b[0m\n\u001b[1;32m      7\u001b[0m \u001b[0mmodel\u001b[0m\u001b[0;34m.\u001b[0m\u001b[0meval\u001b[0m\u001b[0;34m(\u001b[0m\u001b[0;34m)\u001b[0m\u001b[0;34m\u001b[0m\u001b[0;34m\u001b[0m\u001b[0m\n\u001b[0;32m----> 8\u001b[0;31m \u001b[0mapply_framework_model\u001b[0m\u001b[0;34m(\u001b[0m\u001b[0mmodel\u001b[0m\u001b[0;34m,\u001b[0m\u001b[0mlayer\u001b[0m\u001b[0;34m,\u001b[0m\u001b[0;34m[\u001b[0m\u001b[0;36m1\u001b[0m\u001b[0;34m,\u001b[0m \u001b[0;36m1536\u001b[0m\u001b[0;34m,\u001b[0m \u001b[0;36m1\u001b[0m\u001b[0;34m,\u001b[0m \u001b[0;36m1\u001b[0m\u001b[0;34m]\u001b[0m\u001b[0;34m)\u001b[0m\u001b[0;34m\u001b[0m\u001b[0;34m\u001b[0m\u001b[0m\n\u001b[0m",
            "\u001b[0;32m<ipython-input-25-ef3ced21dcc3>\u001b[0m in \u001b[0;36mapply_framework_model\u001b[0;34m(modelf, layer, feature_tensor_size)\u001b[0m\n\u001b[1;32m      8\u001b[0m   \u001b[0mprint\u001b[0m\u001b[0;34m(\u001b[0m\u001b[0;34m\"\"\u001b[0m\u001b[0;34m)\u001b[0m\u001b[0;34m\u001b[0m\u001b[0;34m\u001b[0m\u001b[0m\n\u001b[1;32m      9\u001b[0m   \u001b[0;31m################### TRADITIONAL\u001b[0m\u001b[0;34m\u001b[0m\u001b[0;34m\u001b[0m\u001b[0m\n\u001b[0;32m---> 10\u001b[0;31m   apply_framework(\"datasets/distortions/distortion_triplets/traditional_triplets\",\n\u001b[0m\u001b[1;32m     11\u001b[0m                   \u001b[0;34m\"png\"\u001b[0m\u001b[0;34m,\u001b[0m\u001b[0;34m\u001b[0m\u001b[0;34m\u001b[0m\u001b[0m\n\u001b[1;32m     12\u001b[0m                   modelf, layer, scaler, normalize, False, feature_tensor_size)\n",
            "\u001b[0;32m<ipython-input-28-4f9ec1a873c9>\u001b[0m in \u001b[0;36mapply_framework\u001b[0;34m(path, image_type, model, layer, scaler, normalize, isHSJOrBirds, feature_tensor_size)\u001b[0m\n\u001b[1;32m    128\u001b[0m \u001b[0;34m\u001b[0m\u001b[0m\n\u001b[1;32m    129\u001b[0m \u001b[0;32mdef\u001b[0m \u001b[0mapply_framework\u001b[0m\u001b[0;34m(\u001b[0m\u001b[0mpath\u001b[0m\u001b[0;34m,\u001b[0m \u001b[0mimage_type\u001b[0m\u001b[0;34m,\u001b[0m \u001b[0mmodel\u001b[0m\u001b[0;34m,\u001b[0m \u001b[0mlayer\u001b[0m\u001b[0;34m,\u001b[0m \u001b[0mscaler\u001b[0m\u001b[0;34m,\u001b[0m \u001b[0mnormalize\u001b[0m\u001b[0;34m,\u001b[0m \u001b[0misHSJOrBirds\u001b[0m\u001b[0;34m,\u001b[0m \u001b[0mfeature_tensor_size\u001b[0m\u001b[0;34m)\u001b[0m\u001b[0;34m:\u001b[0m\u001b[0;34m\u001b[0m\u001b[0;34m\u001b[0m\u001b[0m\n\u001b[0;32m--> 130\u001b[0;31m   embeddings = get_image_embeddings(path, \n\u001b[0m\u001b[1;32m    131\u001b[0m                                     \u001b[0mimage_type\u001b[0m\u001b[0;34m,\u001b[0m\u001b[0;34m\u001b[0m\u001b[0;34m\u001b[0m\u001b[0m\n\u001b[1;32m    132\u001b[0m                                     model, layer, scaler, normalize, isHSJOrBirds, feature_tensor_size)\n",
            "\u001b[0;32m<ipython-input-28-4f9ec1a873c9>\u001b[0m in \u001b[0;36mget_image_embeddings\u001b[0;34m(path, image_type, model, layer, scaler, normalize, isHSJOrBirds, feature_tensor_size)\u001b[0m\n\u001b[1;32m     75\u001b[0m         \u001b[0mim_no_name\u001b[0m \u001b[0;34m=\u001b[0m  \u001b[0;34m(\u001b[0m\u001b[0;36m6\u001b[0m\u001b[0;34m-\u001b[0m\u001b[0mlen\u001b[0m\u001b[0;34m(\u001b[0m\u001b[0mstr\u001b[0m\u001b[0;34m(\u001b[0m\u001b[0mimage_no\u001b[0m\u001b[0;34m)\u001b[0m\u001b[0;34m)\u001b[0m\u001b[0;34m)\u001b[0m\u001b[0;34m*\u001b[0m\u001b[0;34m\"0\"\u001b[0m \u001b[0;34m+\u001b[0m \u001b[0mstr\u001b[0m\u001b[0;34m(\u001b[0m\u001b[0mimage_no\u001b[0m\u001b[0;34m)\u001b[0m \u001b[0;34m+\u001b[0m \u001b[0;34m\".\"\u001b[0m \u001b[0;34m+\u001b[0m \u001b[0mimage_type\u001b[0m\u001b[0;34m\u001b[0m\u001b[0;34m\u001b[0m\u001b[0m\n\u001b[1;32m     76\u001b[0m \u001b[0;34m\u001b[0m\u001b[0m\n\u001b[0;32m---> 77\u001b[0;31m         \u001b[0mfeature_tensor_dict\u001b[0m\u001b[0;34m[\u001b[0m\u001b[0;34m\"ref\"\u001b[0m\u001b[0;34m]\u001b[0m\u001b[0;34m.\u001b[0m\u001b[0mappend\u001b[0m\u001b[0;34m(\u001b[0m\u001b[0mget_vector\u001b[0m\u001b[0;34m(\u001b[0m\u001b[0mpath\u001b[0m\u001b[0;34m+\u001b[0m\u001b[0;34m\"/ref/\"\u001b[0m \u001b[0;34m+\u001b[0m \u001b[0mim_no_name\u001b[0m\u001b[0;34m,\u001b[0m \u001b[0mmodel\u001b[0m\u001b[0;34m,\u001b[0m \u001b[0mlayer\u001b[0m\u001b[0;34m,\u001b[0m \u001b[0mscaler\u001b[0m\u001b[0;34m,\u001b[0m \u001b[0mnormalize\u001b[0m\u001b[0;34m,\u001b[0m \u001b[0mfeature_tensor_size\u001b[0m\u001b[0;34m)\u001b[0m\u001b[0;34m)\u001b[0m\u001b[0;34m\u001b[0m\u001b[0;34m\u001b[0m\u001b[0m\n\u001b[0m\u001b[1;32m     78\u001b[0m         \u001b[0mfeature_tensor_dict\u001b[0m\u001b[0;34m[\u001b[0m\u001b[0;34m\"p0\"\u001b[0m\u001b[0;34m]\u001b[0m\u001b[0;34m.\u001b[0m\u001b[0mappend\u001b[0m\u001b[0;34m(\u001b[0m\u001b[0mget_vector\u001b[0m\u001b[0;34m(\u001b[0m\u001b[0mpath\u001b[0m\u001b[0;34m+\u001b[0m\u001b[0;34m\"/p0/\"\u001b[0m \u001b[0;34m+\u001b[0m \u001b[0mim_no_name\u001b[0m\u001b[0;34m,\u001b[0m \u001b[0mmodel\u001b[0m\u001b[0;34m,\u001b[0m \u001b[0mlayer\u001b[0m\u001b[0;34m,\u001b[0m \u001b[0mscaler\u001b[0m\u001b[0;34m,\u001b[0m \u001b[0mnormalize\u001b[0m\u001b[0;34m,\u001b[0m \u001b[0mfeature_tensor_size\u001b[0m\u001b[0;34m)\u001b[0m\u001b[0;34m)\u001b[0m\u001b[0;34m\u001b[0m\u001b[0;34m\u001b[0m\u001b[0m\n\u001b[1;32m     79\u001b[0m         \u001b[0mfeature_tensor_dict\u001b[0m\u001b[0;34m[\u001b[0m\u001b[0;34m\"p1\"\u001b[0m\u001b[0;34m]\u001b[0m\u001b[0;34m.\u001b[0m\u001b[0mappend\u001b[0m\u001b[0;34m(\u001b[0m\u001b[0mget_vector\u001b[0m\u001b[0;34m(\u001b[0m\u001b[0mpath\u001b[0m\u001b[0;34m+\u001b[0m\u001b[0;34m\"/p1/\"\u001b[0m \u001b[0;34m+\u001b[0m \u001b[0mim_no_name\u001b[0m\u001b[0;34m,\u001b[0m \u001b[0mmodel\u001b[0m\u001b[0;34m,\u001b[0m \u001b[0mlayer\u001b[0m\u001b[0;34m,\u001b[0m \u001b[0mscaler\u001b[0m\u001b[0;34m,\u001b[0m \u001b[0mnormalize\u001b[0m\u001b[0;34m,\u001b[0m \u001b[0mfeature_tensor_size\u001b[0m\u001b[0;34m)\u001b[0m\u001b[0;34m)\u001b[0m\u001b[0;34m\u001b[0m\u001b[0;34m\u001b[0m\u001b[0m\n",
            "\u001b[0;32m<ipython-input-28-4f9ec1a873c9>\u001b[0m in \u001b[0;36mget_vector\u001b[0;34m(image_name, model, layer, scaler, normalize, feature_tensor_size)\u001b[0m\n\u001b[1;32m     51\u001b[0m         \u001b[0mmy_embedding\u001b[0m\u001b[0;34m.\u001b[0m\u001b[0mcopy_\u001b[0m\u001b[0;34m(\u001b[0m\u001b[0mo\u001b[0m\u001b[0;34m.\u001b[0m\u001b[0mdata\u001b[0m\u001b[0;34m)\u001b[0m\u001b[0;34m\u001b[0m\u001b[0;34m\u001b[0m\u001b[0m\n\u001b[1;32m     52\u001b[0m     \u001b[0;31m# 5. Attach that function to our selected layer\u001b[0m\u001b[0;34m\u001b[0m\u001b[0;34m\u001b[0m\u001b[0m\n\u001b[0;32m---> 53\u001b[0;31m     \u001b[0mh\u001b[0m \u001b[0;34m=\u001b[0m \u001b[0mlayer\u001b[0m\u001b[0;34m.\u001b[0m\u001b[0mregister_forward_hook\u001b[0m\u001b[0;34m(\u001b[0m\u001b[0mcopy_data\u001b[0m\u001b[0;34m)\u001b[0m\u001b[0;34m\u001b[0m\u001b[0;34m\u001b[0m\u001b[0m\n\u001b[0m\u001b[1;32m     54\u001b[0m     \u001b[0;31m# 6. Run the model on our transformed image\u001b[0m\u001b[0;34m\u001b[0m\u001b[0;34m\u001b[0m\u001b[0m\n\u001b[1;32m     55\u001b[0m     \u001b[0mmodel\u001b[0m\u001b[0;34m(\u001b[0m\u001b[0mt_img\u001b[0m\u001b[0;34m)\u001b[0m\u001b[0;34m\u001b[0m\u001b[0;34m\u001b[0m\u001b[0m\n",
            "\u001b[0;31mAttributeError\u001b[0m: 'NoneType' object has no attribute 'register_forward_hook'"
          ]
        }
      ]
    },
    {
      "cell_type": "code",
      "source": [
        "model._modules"
      ],
      "metadata": {
        "colab": {
          "base_uri": "https://localhost:8080/"
        },
        "id": "fVN4caz6SJnL",
        "outputId": "38262bd8-d083-4598-c15d-c49bdfa5f3a9"
      },
      "id": "fVN4caz6SJnL",
      "execution_count": 34,
      "outputs": [
        {
          "output_type": "execute_result",
          "data": {
            "text/plain": [
              "OrderedDict([('conv_proj',\n",
              "              Conv2d(3, 768, kernel_size=(16, 16), stride=(16, 16))),\n",
              "             ('encoder', Encoder(\n",
              "                (dropout): Dropout(p=0.0, inplace=False)\n",
              "                (layers): Sequential(\n",
              "                  (encoder_layer_0): EncoderBlock(\n",
              "                    (ln_1): LayerNorm((768,), eps=1e-06, elementwise_affine=True)\n",
              "                    (self_attention): MultiheadAttention(\n",
              "                      (out_proj): NonDynamicallyQuantizableLinear(in_features=768, out_features=768, bias=True)\n",
              "                    )\n",
              "                    (dropout): Dropout(p=0.0, inplace=False)\n",
              "                    (ln_2): LayerNorm((768,), eps=1e-06, elementwise_affine=True)\n",
              "                    (mlp): MLPBlock(\n",
              "                      (0): Linear(in_features=768, out_features=3072, bias=True)\n",
              "                      (1): GELU(approximate='none')\n",
              "                      (2): Dropout(p=0.0, inplace=False)\n",
              "                      (3): Linear(in_features=3072, out_features=768, bias=True)\n",
              "                      (4): Dropout(p=0.0, inplace=False)\n",
              "                    )\n",
              "                  )\n",
              "                  (encoder_layer_1): EncoderBlock(\n",
              "                    (ln_1): LayerNorm((768,), eps=1e-06, elementwise_affine=True)\n",
              "                    (self_attention): MultiheadAttention(\n",
              "                      (out_proj): NonDynamicallyQuantizableLinear(in_features=768, out_features=768, bias=True)\n",
              "                    )\n",
              "                    (dropout): Dropout(p=0.0, inplace=False)\n",
              "                    (ln_2): LayerNorm((768,), eps=1e-06, elementwise_affine=True)\n",
              "                    (mlp): MLPBlock(\n",
              "                      (0): Linear(in_features=768, out_features=3072, bias=True)\n",
              "                      (1): GELU(approximate='none')\n",
              "                      (2): Dropout(p=0.0, inplace=False)\n",
              "                      (3): Linear(in_features=3072, out_features=768, bias=True)\n",
              "                      (4): Dropout(p=0.0, inplace=False)\n",
              "                    )\n",
              "                  )\n",
              "                  (encoder_layer_2): EncoderBlock(\n",
              "                    (ln_1): LayerNorm((768,), eps=1e-06, elementwise_affine=True)\n",
              "                    (self_attention): MultiheadAttention(\n",
              "                      (out_proj): NonDynamicallyQuantizableLinear(in_features=768, out_features=768, bias=True)\n",
              "                    )\n",
              "                    (dropout): Dropout(p=0.0, inplace=False)\n",
              "                    (ln_2): LayerNorm((768,), eps=1e-06, elementwise_affine=True)\n",
              "                    (mlp): MLPBlock(\n",
              "                      (0): Linear(in_features=768, out_features=3072, bias=True)\n",
              "                      (1): GELU(approximate='none')\n",
              "                      (2): Dropout(p=0.0, inplace=False)\n",
              "                      (3): Linear(in_features=3072, out_features=768, bias=True)\n",
              "                      (4): Dropout(p=0.0, inplace=False)\n",
              "                    )\n",
              "                  )\n",
              "                  (encoder_layer_3): EncoderBlock(\n",
              "                    (ln_1): LayerNorm((768,), eps=1e-06, elementwise_affine=True)\n",
              "                    (self_attention): MultiheadAttention(\n",
              "                      (out_proj): NonDynamicallyQuantizableLinear(in_features=768, out_features=768, bias=True)\n",
              "                    )\n",
              "                    (dropout): Dropout(p=0.0, inplace=False)\n",
              "                    (ln_2): LayerNorm((768,), eps=1e-06, elementwise_affine=True)\n",
              "                    (mlp): MLPBlock(\n",
              "                      (0): Linear(in_features=768, out_features=3072, bias=True)\n",
              "                      (1): GELU(approximate='none')\n",
              "                      (2): Dropout(p=0.0, inplace=False)\n",
              "                      (3): Linear(in_features=3072, out_features=768, bias=True)\n",
              "                      (4): Dropout(p=0.0, inplace=False)\n",
              "                    )\n",
              "                  )\n",
              "                  (encoder_layer_4): EncoderBlock(\n",
              "                    (ln_1): LayerNorm((768,), eps=1e-06, elementwise_affine=True)\n",
              "                    (self_attention): MultiheadAttention(\n",
              "                      (out_proj): NonDynamicallyQuantizableLinear(in_features=768, out_features=768, bias=True)\n",
              "                    )\n",
              "                    (dropout): Dropout(p=0.0, inplace=False)\n",
              "                    (ln_2): LayerNorm((768,), eps=1e-06, elementwise_affine=True)\n",
              "                    (mlp): MLPBlock(\n",
              "                      (0): Linear(in_features=768, out_features=3072, bias=True)\n",
              "                      (1): GELU(approximate='none')\n",
              "                      (2): Dropout(p=0.0, inplace=False)\n",
              "                      (3): Linear(in_features=3072, out_features=768, bias=True)\n",
              "                      (4): Dropout(p=0.0, inplace=False)\n",
              "                    )\n",
              "                  )\n",
              "                  (encoder_layer_5): EncoderBlock(\n",
              "                    (ln_1): LayerNorm((768,), eps=1e-06, elementwise_affine=True)\n",
              "                    (self_attention): MultiheadAttention(\n",
              "                      (out_proj): NonDynamicallyQuantizableLinear(in_features=768, out_features=768, bias=True)\n",
              "                    )\n",
              "                    (dropout): Dropout(p=0.0, inplace=False)\n",
              "                    (ln_2): LayerNorm((768,), eps=1e-06, elementwise_affine=True)\n",
              "                    (mlp): MLPBlock(\n",
              "                      (0): Linear(in_features=768, out_features=3072, bias=True)\n",
              "                      (1): GELU(approximate='none')\n",
              "                      (2): Dropout(p=0.0, inplace=False)\n",
              "                      (3): Linear(in_features=3072, out_features=768, bias=True)\n",
              "                      (4): Dropout(p=0.0, inplace=False)\n",
              "                    )\n",
              "                  )\n",
              "                  (encoder_layer_6): EncoderBlock(\n",
              "                    (ln_1): LayerNorm((768,), eps=1e-06, elementwise_affine=True)\n",
              "                    (self_attention): MultiheadAttention(\n",
              "                      (out_proj): NonDynamicallyQuantizableLinear(in_features=768, out_features=768, bias=True)\n",
              "                    )\n",
              "                    (dropout): Dropout(p=0.0, inplace=False)\n",
              "                    (ln_2): LayerNorm((768,), eps=1e-06, elementwise_affine=True)\n",
              "                    (mlp): MLPBlock(\n",
              "                      (0): Linear(in_features=768, out_features=3072, bias=True)\n",
              "                      (1): GELU(approximate='none')\n",
              "                      (2): Dropout(p=0.0, inplace=False)\n",
              "                      (3): Linear(in_features=3072, out_features=768, bias=True)\n",
              "                      (4): Dropout(p=0.0, inplace=False)\n",
              "                    )\n",
              "                  )\n",
              "                  (encoder_layer_7): EncoderBlock(\n",
              "                    (ln_1): LayerNorm((768,), eps=1e-06, elementwise_affine=True)\n",
              "                    (self_attention): MultiheadAttention(\n",
              "                      (out_proj): NonDynamicallyQuantizableLinear(in_features=768, out_features=768, bias=True)\n",
              "                    )\n",
              "                    (dropout): Dropout(p=0.0, inplace=False)\n",
              "                    (ln_2): LayerNorm((768,), eps=1e-06, elementwise_affine=True)\n",
              "                    (mlp): MLPBlock(\n",
              "                      (0): Linear(in_features=768, out_features=3072, bias=True)\n",
              "                      (1): GELU(approximate='none')\n",
              "                      (2): Dropout(p=0.0, inplace=False)\n",
              "                      (3): Linear(in_features=3072, out_features=768, bias=True)\n",
              "                      (4): Dropout(p=0.0, inplace=False)\n",
              "                    )\n",
              "                  )\n",
              "                  (encoder_layer_8): EncoderBlock(\n",
              "                    (ln_1): LayerNorm((768,), eps=1e-06, elementwise_affine=True)\n",
              "                    (self_attention): MultiheadAttention(\n",
              "                      (out_proj): NonDynamicallyQuantizableLinear(in_features=768, out_features=768, bias=True)\n",
              "                    )\n",
              "                    (dropout): Dropout(p=0.0, inplace=False)\n",
              "                    (ln_2): LayerNorm((768,), eps=1e-06, elementwise_affine=True)\n",
              "                    (mlp): MLPBlock(\n",
              "                      (0): Linear(in_features=768, out_features=3072, bias=True)\n",
              "                      (1): GELU(approximate='none')\n",
              "                      (2): Dropout(p=0.0, inplace=False)\n",
              "                      (3): Linear(in_features=3072, out_features=768, bias=True)\n",
              "                      (4): Dropout(p=0.0, inplace=False)\n",
              "                    )\n",
              "                  )\n",
              "                  (encoder_layer_9): EncoderBlock(\n",
              "                    (ln_1): LayerNorm((768,), eps=1e-06, elementwise_affine=True)\n",
              "                    (self_attention): MultiheadAttention(\n",
              "                      (out_proj): NonDynamicallyQuantizableLinear(in_features=768, out_features=768, bias=True)\n",
              "                    )\n",
              "                    (dropout): Dropout(p=0.0, inplace=False)\n",
              "                    (ln_2): LayerNorm((768,), eps=1e-06, elementwise_affine=True)\n",
              "                    (mlp): MLPBlock(\n",
              "                      (0): Linear(in_features=768, out_features=3072, bias=True)\n",
              "                      (1): GELU(approximate='none')\n",
              "                      (2): Dropout(p=0.0, inplace=False)\n",
              "                      (3): Linear(in_features=3072, out_features=768, bias=True)\n",
              "                      (4): Dropout(p=0.0, inplace=False)\n",
              "                    )\n",
              "                  )\n",
              "                  (encoder_layer_10): EncoderBlock(\n",
              "                    (ln_1): LayerNorm((768,), eps=1e-06, elementwise_affine=True)\n",
              "                    (self_attention): MultiheadAttention(\n",
              "                      (out_proj): NonDynamicallyQuantizableLinear(in_features=768, out_features=768, bias=True)\n",
              "                    )\n",
              "                    (dropout): Dropout(p=0.0, inplace=False)\n",
              "                    (ln_2): LayerNorm((768,), eps=1e-06, elementwise_affine=True)\n",
              "                    (mlp): MLPBlock(\n",
              "                      (0): Linear(in_features=768, out_features=3072, bias=True)\n",
              "                      (1): GELU(approximate='none')\n",
              "                      (2): Dropout(p=0.0, inplace=False)\n",
              "                      (3): Linear(in_features=3072, out_features=768, bias=True)\n",
              "                      (4): Dropout(p=0.0, inplace=False)\n",
              "                    )\n",
              "                  )\n",
              "                  (encoder_layer_11): EncoderBlock(\n",
              "                    (ln_1): LayerNorm((768,), eps=1e-06, elementwise_affine=True)\n",
              "                    (self_attention): MultiheadAttention(\n",
              "                      (out_proj): NonDynamicallyQuantizableLinear(in_features=768, out_features=768, bias=True)\n",
              "                    )\n",
              "                    (dropout): Dropout(p=0.0, inplace=False)\n",
              "                    (ln_2): LayerNorm((768,), eps=1e-06, elementwise_affine=True)\n",
              "                    (mlp): MLPBlock(\n",
              "                      (0): Linear(in_features=768, out_features=3072, bias=True)\n",
              "                      (1): GELU(approximate='none')\n",
              "                      (2): Dropout(p=0.0, inplace=False)\n",
              "                      (3): Linear(in_features=3072, out_features=768, bias=True)\n",
              "                      (4): Dropout(p=0.0, inplace=False)\n",
              "                    )\n",
              "                  )\n",
              "                )\n",
              "                (ln): LayerNorm((768,), eps=1e-06, elementwise_affine=True)\n",
              "              )),\n",
              "             ('heads', Sequential(\n",
              "                (head): Linear(in_features=768, out_features=1000, bias=True)\n",
              "              ))])"
            ]
          },
          "metadata": {},
          "execution_count": 34
        }
      ]
    },
    {
      "cell_type": "code",
      "source": [
        "def get_vector_dummy(image_name, model, layer, scaler, normalize, feature_tensor_size):\n",
        "    \n",
        "#     # Load the pretrained model\n",
        "#     model = models.resnet18(pretrained=True)\n",
        "#     # Use the model object to select the desired layer\n",
        "#     layer = model._modules.get('avgpool')\n",
        "    \n",
        "    # 1. Load the image with Pillow library\n",
        "    img = Image.open(image_name).convert('RGB')\n",
        "    # 2. Create a PyTorch Variable with the transformed image\n",
        "    t_img = Variable(normalize(to_tensor(scaler(img))).unsqueeze(0)).cuda()\n",
        "    # 3. Create a vector of zeros that will hold our feature vector\n",
        "    #    The 'avgpool' layer has an output size of 512\n",
        "    \n",
        "    # M1: my_embedding = torch.zeros(1, 512, 1, 1) and later my_embedding.copy_(o.data)\n",
        "    # M2: my_embedding = torch.zeros(512) and later my_embedding.copy_(o.data.reshape(o.data.size(1)))\n",
        "    my_embedding = torch.zeros(feature_tensor_size).cuda()\n",
        "    \n",
        "    # 4. Define a function that will copy the output of a layer\n",
        "    def copy_data(m, i, o):\n",
        "        print(o.data.size())\n",
        "        # my_embedding.copy_(o.data.reshape(o.data.size(1)))\n",
        "        my_embedding.copy_(o.data)\n",
        "    # 5. Attach that function to our selected layer\n",
        "    h = layer.register_forward_hook(copy_data)\n",
        "    # 6. Run the model on our transformed image\n",
        "    model(t_img)\n",
        "    # 7. Detach our copy function from the layer\n",
        "    h.remove()\n",
        "    # 8. Return the feature vector\n",
        "    return torch.flatten(my_embedding)\n",
        "    "
      ],
      "metadata": {
        "id": "OIAIzSSe6B1o"
      },
      "id": "OIAIzSSe6B1o",
      "execution_count": null,
      "outputs": []
    },
    {
      "cell_type": "code",
      "source": [
        "scaler = transforms.Resize((224, 224))\n",
        "normalize = transforms.Normalize(mean=[0.485, 0.456, 0.406],\n",
        "                                 std=[0.229, 0.224, 0.225])\n",
        "\n",
        "model = models.resnet50(pretrained=True)\n",
        "model.cuda()\n",
        "model.eval()\n",
        "\n",
        "# layer = model._modules.get(\"avgpool\")\n",
        "\n",
        "# feature = get_vector_dummy(\"000039.jpg\", model, layer, scaler, normalize, 512)\n",
        "\n",
        "layer = model._modules.get(\"layer4\")\n",
        "\n",
        "feature = get_vector_dummy(\"000039.jpg\", model, layer, scaler, normalize, [1, 256, 14, 14])\n",
        "t = torch.zeros([1, 128, 1, 1])\n",
        "print(t.size())\n",
        "print(torch.flatten(t).size())\n",
        "print(torch.zeros(128).size())"
      ],
      "metadata": {
        "id": "rks04Dtl5vDt"
      },
      "id": "rks04Dtl5vDt",
      "execution_count": null,
      "outputs": []
    },
    {
      "cell_type": "code",
      "source": [
        "feature.size()"
      ],
      "metadata": {
        "colab": {
          "base_uri": "https://localhost:8080/"
        },
        "id": "zQHexWIaBRmZ",
        "outputId": "ba6b128d-d6f8-4bbf-ab9e-97858fa3a6c6"
      },
      "id": "zQHexWIaBRmZ",
      "execution_count": null,
      "outputs": [
        {
          "output_type": "execute_result",
          "data": {
            "text/plain": [
              "torch.Size([50176])"
            ]
          },
          "metadata": {},
          "execution_count": 85
        }
      ]
    },
    {
      "cell_type": "code",
      "source": [
        "model._modules"
      ],
      "metadata": {
        "colab": {
          "base_uri": "https://localhost:8080/"
        },
        "id": "ODDK5Msd7Qfc",
        "outputId": "fd1245b9-24e9-44bf-a9f5-369ce8d15889"
      },
      "id": "ODDK5Msd7Qfc",
      "execution_count": null,
      "outputs": [
        {
          "output_type": "execute_result",
          "data": {
            "text/plain": [
              "OrderedDict([('conv1',\n",
              "              Conv2d(3, 64, kernel_size=(7, 7), stride=(2, 2), padding=(3, 3), bias=False)),\n",
              "             ('bn1',\n",
              "              BatchNorm2d(64, eps=1e-05, momentum=0.1, affine=True, track_running_stats=True)),\n",
              "             ('relu', ReLU(inplace=True)),\n",
              "             ('maxpool',\n",
              "              MaxPool2d(kernel_size=3, stride=2, padding=1, dilation=1, ceil_mode=False)),\n",
              "             ('layer1', Sequential(\n",
              "                (0): BasicBlock(\n",
              "                  (conv1): Conv2d(64, 64, kernel_size=(3, 3), stride=(1, 1), padding=(1, 1), bias=False)\n",
              "                  (bn1): BatchNorm2d(64, eps=1e-05, momentum=0.1, affine=True, track_running_stats=True)\n",
              "                  (relu): ReLU(inplace=True)\n",
              "                  (conv2): Conv2d(64, 64, kernel_size=(3, 3), stride=(1, 1), padding=(1, 1), bias=False)\n",
              "                  (bn2): BatchNorm2d(64, eps=1e-05, momentum=0.1, affine=True, track_running_stats=True)\n",
              "                )\n",
              "                (1): BasicBlock(\n",
              "                  (conv1): Conv2d(64, 64, kernel_size=(3, 3), stride=(1, 1), padding=(1, 1), bias=False)\n",
              "                  (bn1): BatchNorm2d(64, eps=1e-05, momentum=0.1, affine=True, track_running_stats=True)\n",
              "                  (relu): ReLU(inplace=True)\n",
              "                  (conv2): Conv2d(64, 64, kernel_size=(3, 3), stride=(1, 1), padding=(1, 1), bias=False)\n",
              "                  (bn2): BatchNorm2d(64, eps=1e-05, momentum=0.1, affine=True, track_running_stats=True)\n",
              "                )\n",
              "              )),\n",
              "             ('layer2', Sequential(\n",
              "                (0): BasicBlock(\n",
              "                  (conv1): Conv2d(64, 128, kernel_size=(3, 3), stride=(2, 2), padding=(1, 1), bias=False)\n",
              "                  (bn1): BatchNorm2d(128, eps=1e-05, momentum=0.1, affine=True, track_running_stats=True)\n",
              "                  (relu): ReLU(inplace=True)\n",
              "                  (conv2): Conv2d(128, 128, kernel_size=(3, 3), stride=(1, 1), padding=(1, 1), bias=False)\n",
              "                  (bn2): BatchNorm2d(128, eps=1e-05, momentum=0.1, affine=True, track_running_stats=True)\n",
              "                  (downsample): Sequential(\n",
              "                    (0): Conv2d(64, 128, kernel_size=(1, 1), stride=(2, 2), bias=False)\n",
              "                    (1): BatchNorm2d(128, eps=1e-05, momentum=0.1, affine=True, track_running_stats=True)\n",
              "                  )\n",
              "                )\n",
              "                (1): BasicBlock(\n",
              "                  (conv1): Conv2d(128, 128, kernel_size=(3, 3), stride=(1, 1), padding=(1, 1), bias=False)\n",
              "                  (bn1): BatchNorm2d(128, eps=1e-05, momentum=0.1, affine=True, track_running_stats=True)\n",
              "                  (relu): ReLU(inplace=True)\n",
              "                  (conv2): Conv2d(128, 128, kernel_size=(3, 3), stride=(1, 1), padding=(1, 1), bias=False)\n",
              "                  (bn2): BatchNorm2d(128, eps=1e-05, momentum=0.1, affine=True, track_running_stats=True)\n",
              "                )\n",
              "              )),\n",
              "             ('layer3', Sequential(\n",
              "                (0): BasicBlock(\n",
              "                  (conv1): Conv2d(128, 256, kernel_size=(3, 3), stride=(2, 2), padding=(1, 1), bias=False)\n",
              "                  (bn1): BatchNorm2d(256, eps=1e-05, momentum=0.1, affine=True, track_running_stats=True)\n",
              "                  (relu): ReLU(inplace=True)\n",
              "                  (conv2): Conv2d(256, 256, kernel_size=(3, 3), stride=(1, 1), padding=(1, 1), bias=False)\n",
              "                  (bn2): BatchNorm2d(256, eps=1e-05, momentum=0.1, affine=True, track_running_stats=True)\n",
              "                  (downsample): Sequential(\n",
              "                    (0): Conv2d(128, 256, kernel_size=(1, 1), stride=(2, 2), bias=False)\n",
              "                    (1): BatchNorm2d(256, eps=1e-05, momentum=0.1, affine=True, track_running_stats=True)\n",
              "                  )\n",
              "                )\n",
              "                (1): BasicBlock(\n",
              "                  (conv1): Conv2d(256, 256, kernel_size=(3, 3), stride=(1, 1), padding=(1, 1), bias=False)\n",
              "                  (bn1): BatchNorm2d(256, eps=1e-05, momentum=0.1, affine=True, track_running_stats=True)\n",
              "                  (relu): ReLU(inplace=True)\n",
              "                  (conv2): Conv2d(256, 256, kernel_size=(3, 3), stride=(1, 1), padding=(1, 1), bias=False)\n",
              "                  (bn2): BatchNorm2d(256, eps=1e-05, momentum=0.1, affine=True, track_running_stats=True)\n",
              "                )\n",
              "              )),\n",
              "             ('layer4', Sequential(\n",
              "                (0): BasicBlock(\n",
              "                  (conv1): Conv2d(256, 512, kernel_size=(3, 3), stride=(2, 2), padding=(1, 1), bias=False)\n",
              "                  (bn1): BatchNorm2d(512, eps=1e-05, momentum=0.1, affine=True, track_running_stats=True)\n",
              "                  (relu): ReLU(inplace=True)\n",
              "                  (conv2): Conv2d(512, 512, kernel_size=(3, 3), stride=(1, 1), padding=(1, 1), bias=False)\n",
              "                  (bn2): BatchNorm2d(512, eps=1e-05, momentum=0.1, affine=True, track_running_stats=True)\n",
              "                  (downsample): Sequential(\n",
              "                    (0): Conv2d(256, 512, kernel_size=(1, 1), stride=(2, 2), bias=False)\n",
              "                    (1): BatchNorm2d(512, eps=1e-05, momentum=0.1, affine=True, track_running_stats=True)\n",
              "                  )\n",
              "                )\n",
              "                (1): BasicBlock(\n",
              "                  (conv1): Conv2d(512, 512, kernel_size=(3, 3), stride=(1, 1), padding=(1, 1), bias=False)\n",
              "                  (bn1): BatchNorm2d(512, eps=1e-05, momentum=0.1, affine=True, track_running_stats=True)\n",
              "                  (relu): ReLU(inplace=True)\n",
              "                  (conv2): Conv2d(512, 512, kernel_size=(3, 3), stride=(1, 1), padding=(1, 1), bias=False)\n",
              "                  (bn2): BatchNorm2d(512, eps=1e-05, momentum=0.1, affine=True, track_running_stats=True)\n",
              "                )\n",
              "              )),\n",
              "             ('avgpool', AdaptiveAvgPool2d(output_size=(1, 1))),\n",
              "             ('fc', Linear(in_features=512, out_features=1000, bias=True))])"
            ]
          },
          "metadata": {},
          "execution_count": 81
        }
      ]
    },
    {
      "cell_type": "code",
      "source": [
        "# diff layer\n",
        "layer = model._modules.get(\"layer3\")\n",
        "\n",
        "feature = get_vector_dummy(\"000039.jpg\", model, layer, scaler, normalize, 100352)"
      ],
      "metadata": {
        "colab": {
          "base_uri": "https://localhost:8080/",
          "height": 381
        },
        "id": "4R-A4V7d7J0k",
        "outputId": "b4cef65b-4baf-486d-aaa5-e8e6a38b4a30"
      },
      "id": "4R-A4V7d7J0k",
      "execution_count": null,
      "outputs": [
        {
          "output_type": "stream",
          "name": "stdout",
          "text": [
            "torch.Size([1, 128, 28, 28])\n"
          ]
        },
        {
          "output_type": "error",
          "ename": "RuntimeError",
          "evalue": "ignored",
          "traceback": [
            "\u001b[0;31m---------------------------------------------------------------------------\u001b[0m",
            "\u001b[0;31mRuntimeError\u001b[0m                              Traceback (most recent call last)",
            "\u001b[0;32m<ipython-input-51-220ae3f16027>\u001b[0m in \u001b[0;36m<module>\u001b[0;34m\u001b[0m\n\u001b[1;32m      2\u001b[0m \u001b[0mlayer\u001b[0m \u001b[0;34m=\u001b[0m \u001b[0mmodel\u001b[0m\u001b[0;34m.\u001b[0m\u001b[0m_modules\u001b[0m\u001b[0;34m.\u001b[0m\u001b[0mget\u001b[0m\u001b[0;34m(\u001b[0m\u001b[0;34m\"layer3\"\u001b[0m\u001b[0;34m)\u001b[0m\u001b[0;34m\u001b[0m\u001b[0;34m\u001b[0m\u001b[0m\n\u001b[1;32m      3\u001b[0m \u001b[0;34m\u001b[0m\u001b[0m\n\u001b[0;32m----> 4\u001b[0;31m \u001b[0mfeature\u001b[0m \u001b[0;34m=\u001b[0m \u001b[0mget_vector_dummy\u001b[0m\u001b[0;34m(\u001b[0m\u001b[0;34m\"000039.jpg\"\u001b[0m\u001b[0;34m,\u001b[0m \u001b[0mmodel\u001b[0m\u001b[0;34m,\u001b[0m \u001b[0mlayer\u001b[0m\u001b[0;34m,\u001b[0m \u001b[0mscaler\u001b[0m\u001b[0;34m,\u001b[0m \u001b[0mnormalize\u001b[0m\u001b[0;34m,\u001b[0m \u001b[0;36m100352\u001b[0m\u001b[0;34m)\u001b[0m\u001b[0;34m\u001b[0m\u001b[0;34m\u001b[0m\u001b[0m\n\u001b[0m",
            "\u001b[0;32m<ipython-input-49-1f889eeb7b2a>\u001b[0m in \u001b[0;36mget_vector_dummy\u001b[0;34m(image_name, model, layer, scaler, normalize, feature_tensor_size)\u001b[0m\n\u001b[1;32m     24\u001b[0m     \u001b[0mh\u001b[0m \u001b[0;34m=\u001b[0m \u001b[0mlayer\u001b[0m\u001b[0;34m.\u001b[0m\u001b[0mregister_forward_hook\u001b[0m\u001b[0;34m(\u001b[0m\u001b[0mcopy_data\u001b[0m\u001b[0;34m)\u001b[0m\u001b[0;34m\u001b[0m\u001b[0;34m\u001b[0m\u001b[0m\n\u001b[1;32m     25\u001b[0m     \u001b[0;31m# 6. Run the model on our transformed image\u001b[0m\u001b[0;34m\u001b[0m\u001b[0;34m\u001b[0m\u001b[0m\n\u001b[0;32m---> 26\u001b[0;31m     \u001b[0mmodel\u001b[0m\u001b[0;34m(\u001b[0m\u001b[0mt_img\u001b[0m\u001b[0;34m)\u001b[0m\u001b[0;34m\u001b[0m\u001b[0;34m\u001b[0m\u001b[0m\n\u001b[0m\u001b[1;32m     27\u001b[0m     \u001b[0;31m# 7. Detach our copy function from the layer\u001b[0m\u001b[0;34m\u001b[0m\u001b[0;34m\u001b[0m\u001b[0m\n\u001b[1;32m     28\u001b[0m     \u001b[0mh\u001b[0m\u001b[0;34m.\u001b[0m\u001b[0mremove\u001b[0m\u001b[0;34m(\u001b[0m\u001b[0;34m)\u001b[0m\u001b[0;34m\u001b[0m\u001b[0;34m\u001b[0m\u001b[0m\n",
            "\u001b[0;32m/usr/local/lib/python3.9/dist-packages/torch/nn/modules/module.py\u001b[0m in \u001b[0;36m_call_impl\u001b[0;34m(self, *input, **kwargs)\u001b[0m\n\u001b[1;32m   1192\u001b[0m         if not (self._backward_hooks or self._forward_hooks or self._forward_pre_hooks or _global_backward_hooks\n\u001b[1;32m   1193\u001b[0m                 or _global_forward_hooks or _global_forward_pre_hooks):\n\u001b[0;32m-> 1194\u001b[0;31m             \u001b[0;32mreturn\u001b[0m \u001b[0mforward_call\u001b[0m\u001b[0;34m(\u001b[0m\u001b[0;34m*\u001b[0m\u001b[0minput\u001b[0m\u001b[0;34m,\u001b[0m \u001b[0;34m**\u001b[0m\u001b[0mkwargs\u001b[0m\u001b[0;34m)\u001b[0m\u001b[0;34m\u001b[0m\u001b[0;34m\u001b[0m\u001b[0m\n\u001b[0m\u001b[1;32m   1195\u001b[0m         \u001b[0;31m# Do not call functions when jit is used\u001b[0m\u001b[0;34m\u001b[0m\u001b[0;34m\u001b[0m\u001b[0m\n\u001b[1;32m   1196\u001b[0m         \u001b[0mfull_backward_hooks\u001b[0m\u001b[0;34m,\u001b[0m \u001b[0mnon_full_backward_hooks\u001b[0m \u001b[0;34m=\u001b[0m \u001b[0;34m[\u001b[0m\u001b[0;34m]\u001b[0m\u001b[0;34m,\u001b[0m \u001b[0;34m[\u001b[0m\u001b[0;34m]\u001b[0m\u001b[0;34m\u001b[0m\u001b[0;34m\u001b[0m\u001b[0m\n",
            "\u001b[0;32m/usr/local/lib/python3.9/dist-packages/torchvision/models/resnet.py\u001b[0m in \u001b[0;36mforward\u001b[0;34m(self, x)\u001b[0m\n\u001b[1;32m    283\u001b[0m \u001b[0;34m\u001b[0m\u001b[0m\n\u001b[1;32m    284\u001b[0m     \u001b[0;32mdef\u001b[0m \u001b[0mforward\u001b[0m\u001b[0;34m(\u001b[0m\u001b[0mself\u001b[0m\u001b[0;34m,\u001b[0m \u001b[0mx\u001b[0m\u001b[0;34m:\u001b[0m \u001b[0mTensor\u001b[0m\u001b[0;34m)\u001b[0m \u001b[0;34m->\u001b[0m \u001b[0mTensor\u001b[0m\u001b[0;34m:\u001b[0m\u001b[0;34m\u001b[0m\u001b[0;34m\u001b[0m\u001b[0m\n\u001b[0;32m--> 285\u001b[0;31m         \u001b[0;32mreturn\u001b[0m \u001b[0mself\u001b[0m\u001b[0;34m.\u001b[0m\u001b[0m_forward_impl\u001b[0m\u001b[0;34m(\u001b[0m\u001b[0mx\u001b[0m\u001b[0;34m)\u001b[0m\u001b[0;34m\u001b[0m\u001b[0;34m\u001b[0m\u001b[0m\n\u001b[0m\u001b[1;32m    286\u001b[0m \u001b[0;34m\u001b[0m\u001b[0m\n\u001b[1;32m    287\u001b[0m \u001b[0;34m\u001b[0m\u001b[0m\n",
            "\u001b[0;32m/usr/local/lib/python3.9/dist-packages/torchvision/models/resnet.py\u001b[0m in \u001b[0;36m_forward_impl\u001b[0;34m(self, x)\u001b[0m\n\u001b[1;32m    272\u001b[0m \u001b[0;34m\u001b[0m\u001b[0m\n\u001b[1;32m    273\u001b[0m         \u001b[0mx\u001b[0m \u001b[0;34m=\u001b[0m \u001b[0mself\u001b[0m\u001b[0;34m.\u001b[0m\u001b[0mlayer1\u001b[0m\u001b[0;34m(\u001b[0m\u001b[0mx\u001b[0m\u001b[0;34m)\u001b[0m\u001b[0;34m\u001b[0m\u001b[0;34m\u001b[0m\u001b[0m\n\u001b[0;32m--> 274\u001b[0;31m         \u001b[0mx\u001b[0m \u001b[0;34m=\u001b[0m \u001b[0mself\u001b[0m\u001b[0;34m.\u001b[0m\u001b[0mlayer2\u001b[0m\u001b[0;34m(\u001b[0m\u001b[0mx\u001b[0m\u001b[0;34m)\u001b[0m\u001b[0;34m\u001b[0m\u001b[0;34m\u001b[0m\u001b[0m\n\u001b[0m\u001b[1;32m    275\u001b[0m         \u001b[0mx\u001b[0m \u001b[0;34m=\u001b[0m \u001b[0mself\u001b[0m\u001b[0;34m.\u001b[0m\u001b[0mlayer3\u001b[0m\u001b[0;34m(\u001b[0m\u001b[0mx\u001b[0m\u001b[0;34m)\u001b[0m\u001b[0;34m\u001b[0m\u001b[0;34m\u001b[0m\u001b[0m\n\u001b[1;32m    276\u001b[0m         \u001b[0mx\u001b[0m \u001b[0;34m=\u001b[0m \u001b[0mself\u001b[0m\u001b[0;34m.\u001b[0m\u001b[0mlayer4\u001b[0m\u001b[0;34m(\u001b[0m\u001b[0mx\u001b[0m\u001b[0;34m)\u001b[0m\u001b[0;34m\u001b[0m\u001b[0;34m\u001b[0m\u001b[0m\n",
            "\u001b[0;32m/usr/local/lib/python3.9/dist-packages/torch/nn/modules/module.py\u001b[0m in \u001b[0;36m_call_impl\u001b[0;34m(self, *input, **kwargs)\u001b[0m\n\u001b[1;32m   1213\u001b[0m         \u001b[0;32mif\u001b[0m \u001b[0m_global_forward_hooks\u001b[0m \u001b[0;32mor\u001b[0m \u001b[0mself\u001b[0m\u001b[0;34m.\u001b[0m\u001b[0m_forward_hooks\u001b[0m\u001b[0;34m:\u001b[0m\u001b[0;34m\u001b[0m\u001b[0;34m\u001b[0m\u001b[0m\n\u001b[1;32m   1214\u001b[0m             \u001b[0;32mfor\u001b[0m \u001b[0mhook\u001b[0m \u001b[0;32min\u001b[0m \u001b[0;34m(\u001b[0m\u001b[0;34m*\u001b[0m\u001b[0m_global_forward_hooks\u001b[0m\u001b[0;34m.\u001b[0m\u001b[0mvalues\u001b[0m\u001b[0;34m(\u001b[0m\u001b[0;34m)\u001b[0m\u001b[0;34m,\u001b[0m \u001b[0;34m*\u001b[0m\u001b[0mself\u001b[0m\u001b[0;34m.\u001b[0m\u001b[0m_forward_hooks\u001b[0m\u001b[0;34m.\u001b[0m\u001b[0mvalues\u001b[0m\u001b[0;34m(\u001b[0m\u001b[0;34m)\u001b[0m\u001b[0;34m)\u001b[0m\u001b[0;34m:\u001b[0m\u001b[0;34m\u001b[0m\u001b[0;34m\u001b[0m\u001b[0m\n\u001b[0;32m-> 1215\u001b[0;31m                 \u001b[0mhook_result\u001b[0m \u001b[0;34m=\u001b[0m \u001b[0mhook\u001b[0m\u001b[0;34m(\u001b[0m\u001b[0mself\u001b[0m\u001b[0;34m,\u001b[0m \u001b[0minput\u001b[0m\u001b[0;34m,\u001b[0m \u001b[0mresult\u001b[0m\u001b[0;34m)\u001b[0m\u001b[0;34m\u001b[0m\u001b[0;34m\u001b[0m\u001b[0m\n\u001b[0m\u001b[1;32m   1216\u001b[0m                 \u001b[0;32mif\u001b[0m \u001b[0mhook_result\u001b[0m \u001b[0;32mis\u001b[0m \u001b[0;32mnot\u001b[0m \u001b[0;32mNone\u001b[0m\u001b[0;34m:\u001b[0m\u001b[0;34m\u001b[0m\u001b[0;34m\u001b[0m\u001b[0m\n\u001b[1;32m   1217\u001b[0m                     \u001b[0mresult\u001b[0m \u001b[0;34m=\u001b[0m \u001b[0mhook_result\u001b[0m\u001b[0;34m\u001b[0m\u001b[0;34m\u001b[0m\u001b[0m\n",
            "\u001b[0;32m<ipython-input-36-e89a1959dc00>\u001b[0m in \u001b[0;36mcopy_data\u001b[0;34m(m, i, o)\u001b[0m\n\u001b[1;32m     20\u001b[0m     \u001b[0;32mdef\u001b[0m \u001b[0mcopy_data\u001b[0m\u001b[0;34m(\u001b[0m\u001b[0mm\u001b[0m\u001b[0;34m,\u001b[0m \u001b[0mi\u001b[0m\u001b[0;34m,\u001b[0m \u001b[0mo\u001b[0m\u001b[0;34m)\u001b[0m\u001b[0;34m:\u001b[0m\u001b[0;34m\u001b[0m\u001b[0;34m\u001b[0m\u001b[0m\n\u001b[1;32m     21\u001b[0m         \u001b[0mprint\u001b[0m\u001b[0;34m(\u001b[0m\u001b[0mo\u001b[0m\u001b[0;34m.\u001b[0m\u001b[0mdata\u001b[0m\u001b[0;34m.\u001b[0m\u001b[0msize\u001b[0m\u001b[0;34m(\u001b[0m\u001b[0;34m)\u001b[0m\u001b[0;34m)\u001b[0m\u001b[0;34m\u001b[0m\u001b[0;34m\u001b[0m\u001b[0m\n\u001b[0;32m---> 22\u001b[0;31m         \u001b[0mmy_embedding\u001b[0m\u001b[0;34m.\u001b[0m\u001b[0mcopy_\u001b[0m\u001b[0;34m(\u001b[0m\u001b[0mo\u001b[0m\u001b[0;34m.\u001b[0m\u001b[0mdata\u001b[0m\u001b[0;34m.\u001b[0m\u001b[0mreshape\u001b[0m\u001b[0;34m(\u001b[0m\u001b[0mo\u001b[0m\u001b[0;34m.\u001b[0m\u001b[0mdata\u001b[0m\u001b[0;34m.\u001b[0m\u001b[0msize\u001b[0m\u001b[0;34m(\u001b[0m\u001b[0;36m1\u001b[0m\u001b[0;34m)\u001b[0m\u001b[0;34m)\u001b[0m\u001b[0;34m)\u001b[0m\u001b[0;34m\u001b[0m\u001b[0;34m\u001b[0m\u001b[0m\n\u001b[0m\u001b[1;32m     23\u001b[0m     \u001b[0;31m# 5. Attach that function to our selected layer\u001b[0m\u001b[0;34m\u001b[0m\u001b[0;34m\u001b[0m\u001b[0m\n\u001b[1;32m     24\u001b[0m     \u001b[0mh\u001b[0m \u001b[0;34m=\u001b[0m \u001b[0mlayer\u001b[0m\u001b[0;34m.\u001b[0m\u001b[0mregister_forward_hook\u001b[0m\u001b[0;34m(\u001b[0m\u001b[0mcopy_data\u001b[0m\u001b[0;34m)\u001b[0m\u001b[0;34m\u001b[0m\u001b[0;34m\u001b[0m\u001b[0m\n",
            "\u001b[0;31mRuntimeError\u001b[0m: shape '[128]' is invalid for input of size 100352"
          ]
        }
      ]
    },
    {
      "cell_type": "code",
      "source": [
        "# diff layer\n",
        "layer = model._modules.get(\"layer3\")\n",
        "\n",
        "feature = get_vector_dummy(\"000039.jpg\", model, layer, scaler, normalize, 100352)"
      ],
      "metadata": {
        "colab": {
          "base_uri": "https://localhost:8080/",
          "height": 381
        },
        "id": "L2TH9o3y8GNO",
        "outputId": "5d09f145-bd6d-4d30-8089-3e43086ff459"
      },
      "id": "L2TH9o3y8GNO",
      "execution_count": null,
      "outputs": [
        {
          "output_type": "stream",
          "name": "stdout",
          "text": [
            "torch.Size([1, 128, 28, 28])\n"
          ]
        },
        {
          "output_type": "error",
          "ename": "RuntimeError",
          "evalue": "ignored",
          "traceback": [
            "\u001b[0;31m---------------------------------------------------------------------------\u001b[0m",
            "\u001b[0;31mRuntimeError\u001b[0m                              Traceback (most recent call last)",
            "\u001b[0;32m<ipython-input-52-220ae3f16027>\u001b[0m in \u001b[0;36m<module>\u001b[0;34m\u001b[0m\n\u001b[1;32m      2\u001b[0m \u001b[0mlayer\u001b[0m \u001b[0;34m=\u001b[0m \u001b[0mmodel\u001b[0m\u001b[0;34m.\u001b[0m\u001b[0m_modules\u001b[0m\u001b[0;34m.\u001b[0m\u001b[0mget\u001b[0m\u001b[0;34m(\u001b[0m\u001b[0;34m\"layer3\"\u001b[0m\u001b[0;34m)\u001b[0m\u001b[0;34m\u001b[0m\u001b[0;34m\u001b[0m\u001b[0m\n\u001b[1;32m      3\u001b[0m \u001b[0;34m\u001b[0m\u001b[0m\n\u001b[0;32m----> 4\u001b[0;31m \u001b[0mfeature\u001b[0m \u001b[0;34m=\u001b[0m \u001b[0mget_vector_dummy\u001b[0m\u001b[0;34m(\u001b[0m\u001b[0;34m\"000039.jpg\"\u001b[0m\u001b[0;34m,\u001b[0m \u001b[0mmodel\u001b[0m\u001b[0;34m,\u001b[0m \u001b[0mlayer\u001b[0m\u001b[0;34m,\u001b[0m \u001b[0mscaler\u001b[0m\u001b[0;34m,\u001b[0m \u001b[0mnormalize\u001b[0m\u001b[0;34m,\u001b[0m \u001b[0;36m100352\u001b[0m\u001b[0;34m)\u001b[0m\u001b[0;34m\u001b[0m\u001b[0;34m\u001b[0m\u001b[0m\n\u001b[0m",
            "\u001b[0;32m<ipython-input-49-1f889eeb7b2a>\u001b[0m in \u001b[0;36mget_vector_dummy\u001b[0;34m(image_name, model, layer, scaler, normalize, feature_tensor_size)\u001b[0m\n\u001b[1;32m     24\u001b[0m     \u001b[0mh\u001b[0m \u001b[0;34m=\u001b[0m \u001b[0mlayer\u001b[0m\u001b[0;34m.\u001b[0m\u001b[0mregister_forward_hook\u001b[0m\u001b[0;34m(\u001b[0m\u001b[0mcopy_data\u001b[0m\u001b[0;34m)\u001b[0m\u001b[0;34m\u001b[0m\u001b[0;34m\u001b[0m\u001b[0m\n\u001b[1;32m     25\u001b[0m     \u001b[0;31m# 6. Run the model on our transformed image\u001b[0m\u001b[0;34m\u001b[0m\u001b[0;34m\u001b[0m\u001b[0m\n\u001b[0;32m---> 26\u001b[0;31m     \u001b[0mmodel\u001b[0m\u001b[0;34m(\u001b[0m\u001b[0mt_img\u001b[0m\u001b[0;34m)\u001b[0m\u001b[0;34m\u001b[0m\u001b[0;34m\u001b[0m\u001b[0m\n\u001b[0m\u001b[1;32m     27\u001b[0m     \u001b[0;31m# 7. Detach our copy function from the layer\u001b[0m\u001b[0;34m\u001b[0m\u001b[0;34m\u001b[0m\u001b[0m\n\u001b[1;32m     28\u001b[0m     \u001b[0mh\u001b[0m\u001b[0;34m.\u001b[0m\u001b[0mremove\u001b[0m\u001b[0;34m(\u001b[0m\u001b[0;34m)\u001b[0m\u001b[0;34m\u001b[0m\u001b[0;34m\u001b[0m\u001b[0m\n",
            "\u001b[0;32m/usr/local/lib/python3.9/dist-packages/torch/nn/modules/module.py\u001b[0m in \u001b[0;36m_call_impl\u001b[0;34m(self, *input, **kwargs)\u001b[0m\n\u001b[1;32m   1192\u001b[0m         if not (self._backward_hooks or self._forward_hooks or self._forward_pre_hooks or _global_backward_hooks\n\u001b[1;32m   1193\u001b[0m                 or _global_forward_hooks or _global_forward_pre_hooks):\n\u001b[0;32m-> 1194\u001b[0;31m             \u001b[0;32mreturn\u001b[0m \u001b[0mforward_call\u001b[0m\u001b[0;34m(\u001b[0m\u001b[0;34m*\u001b[0m\u001b[0minput\u001b[0m\u001b[0;34m,\u001b[0m \u001b[0;34m**\u001b[0m\u001b[0mkwargs\u001b[0m\u001b[0;34m)\u001b[0m\u001b[0;34m\u001b[0m\u001b[0;34m\u001b[0m\u001b[0m\n\u001b[0m\u001b[1;32m   1195\u001b[0m         \u001b[0;31m# Do not call functions when jit is used\u001b[0m\u001b[0;34m\u001b[0m\u001b[0;34m\u001b[0m\u001b[0m\n\u001b[1;32m   1196\u001b[0m         \u001b[0mfull_backward_hooks\u001b[0m\u001b[0;34m,\u001b[0m \u001b[0mnon_full_backward_hooks\u001b[0m \u001b[0;34m=\u001b[0m \u001b[0;34m[\u001b[0m\u001b[0;34m]\u001b[0m\u001b[0;34m,\u001b[0m \u001b[0;34m[\u001b[0m\u001b[0;34m]\u001b[0m\u001b[0;34m\u001b[0m\u001b[0;34m\u001b[0m\u001b[0m\n",
            "\u001b[0;32m/usr/local/lib/python3.9/dist-packages/torchvision/models/resnet.py\u001b[0m in \u001b[0;36mforward\u001b[0;34m(self, x)\u001b[0m\n\u001b[1;32m    283\u001b[0m \u001b[0;34m\u001b[0m\u001b[0m\n\u001b[1;32m    284\u001b[0m     \u001b[0;32mdef\u001b[0m \u001b[0mforward\u001b[0m\u001b[0;34m(\u001b[0m\u001b[0mself\u001b[0m\u001b[0;34m,\u001b[0m \u001b[0mx\u001b[0m\u001b[0;34m:\u001b[0m \u001b[0mTensor\u001b[0m\u001b[0;34m)\u001b[0m \u001b[0;34m->\u001b[0m \u001b[0mTensor\u001b[0m\u001b[0;34m:\u001b[0m\u001b[0;34m\u001b[0m\u001b[0;34m\u001b[0m\u001b[0m\n\u001b[0;32m--> 285\u001b[0;31m         \u001b[0;32mreturn\u001b[0m \u001b[0mself\u001b[0m\u001b[0;34m.\u001b[0m\u001b[0m_forward_impl\u001b[0m\u001b[0;34m(\u001b[0m\u001b[0mx\u001b[0m\u001b[0;34m)\u001b[0m\u001b[0;34m\u001b[0m\u001b[0;34m\u001b[0m\u001b[0m\n\u001b[0m\u001b[1;32m    286\u001b[0m \u001b[0;34m\u001b[0m\u001b[0m\n\u001b[1;32m    287\u001b[0m \u001b[0;34m\u001b[0m\u001b[0m\n",
            "\u001b[0;32m/usr/local/lib/python3.9/dist-packages/torchvision/models/resnet.py\u001b[0m in \u001b[0;36m_forward_impl\u001b[0;34m(self, x)\u001b[0m\n\u001b[1;32m    272\u001b[0m \u001b[0;34m\u001b[0m\u001b[0m\n\u001b[1;32m    273\u001b[0m         \u001b[0mx\u001b[0m \u001b[0;34m=\u001b[0m \u001b[0mself\u001b[0m\u001b[0;34m.\u001b[0m\u001b[0mlayer1\u001b[0m\u001b[0;34m(\u001b[0m\u001b[0mx\u001b[0m\u001b[0;34m)\u001b[0m\u001b[0;34m\u001b[0m\u001b[0;34m\u001b[0m\u001b[0m\n\u001b[0;32m--> 274\u001b[0;31m         \u001b[0mx\u001b[0m \u001b[0;34m=\u001b[0m \u001b[0mself\u001b[0m\u001b[0;34m.\u001b[0m\u001b[0mlayer2\u001b[0m\u001b[0;34m(\u001b[0m\u001b[0mx\u001b[0m\u001b[0;34m)\u001b[0m\u001b[0;34m\u001b[0m\u001b[0;34m\u001b[0m\u001b[0m\n\u001b[0m\u001b[1;32m    275\u001b[0m         \u001b[0mx\u001b[0m \u001b[0;34m=\u001b[0m \u001b[0mself\u001b[0m\u001b[0;34m.\u001b[0m\u001b[0mlayer3\u001b[0m\u001b[0;34m(\u001b[0m\u001b[0mx\u001b[0m\u001b[0;34m)\u001b[0m\u001b[0;34m\u001b[0m\u001b[0;34m\u001b[0m\u001b[0m\n\u001b[1;32m    276\u001b[0m         \u001b[0mx\u001b[0m \u001b[0;34m=\u001b[0m \u001b[0mself\u001b[0m\u001b[0;34m.\u001b[0m\u001b[0mlayer4\u001b[0m\u001b[0;34m(\u001b[0m\u001b[0mx\u001b[0m\u001b[0;34m)\u001b[0m\u001b[0;34m\u001b[0m\u001b[0;34m\u001b[0m\u001b[0m\n",
            "\u001b[0;32m/usr/local/lib/python3.9/dist-packages/torch/nn/modules/module.py\u001b[0m in \u001b[0;36m_call_impl\u001b[0;34m(self, *input, **kwargs)\u001b[0m\n\u001b[1;32m   1213\u001b[0m         \u001b[0;32mif\u001b[0m \u001b[0m_global_forward_hooks\u001b[0m \u001b[0;32mor\u001b[0m \u001b[0mself\u001b[0m\u001b[0;34m.\u001b[0m\u001b[0m_forward_hooks\u001b[0m\u001b[0;34m:\u001b[0m\u001b[0;34m\u001b[0m\u001b[0;34m\u001b[0m\u001b[0m\n\u001b[1;32m   1214\u001b[0m             \u001b[0;32mfor\u001b[0m \u001b[0mhook\u001b[0m \u001b[0;32min\u001b[0m \u001b[0;34m(\u001b[0m\u001b[0;34m*\u001b[0m\u001b[0m_global_forward_hooks\u001b[0m\u001b[0;34m.\u001b[0m\u001b[0mvalues\u001b[0m\u001b[0;34m(\u001b[0m\u001b[0;34m)\u001b[0m\u001b[0;34m,\u001b[0m \u001b[0;34m*\u001b[0m\u001b[0mself\u001b[0m\u001b[0;34m.\u001b[0m\u001b[0m_forward_hooks\u001b[0m\u001b[0;34m.\u001b[0m\u001b[0mvalues\u001b[0m\u001b[0;34m(\u001b[0m\u001b[0;34m)\u001b[0m\u001b[0;34m)\u001b[0m\u001b[0;34m:\u001b[0m\u001b[0;34m\u001b[0m\u001b[0;34m\u001b[0m\u001b[0m\n\u001b[0;32m-> 1215\u001b[0;31m                 \u001b[0mhook_result\u001b[0m \u001b[0;34m=\u001b[0m \u001b[0mhook\u001b[0m\u001b[0;34m(\u001b[0m\u001b[0mself\u001b[0m\u001b[0;34m,\u001b[0m \u001b[0minput\u001b[0m\u001b[0;34m,\u001b[0m \u001b[0mresult\u001b[0m\u001b[0;34m)\u001b[0m\u001b[0;34m\u001b[0m\u001b[0;34m\u001b[0m\u001b[0m\n\u001b[0m\u001b[1;32m   1216\u001b[0m                 \u001b[0;32mif\u001b[0m \u001b[0mhook_result\u001b[0m \u001b[0;32mis\u001b[0m \u001b[0;32mnot\u001b[0m \u001b[0;32mNone\u001b[0m\u001b[0;34m:\u001b[0m\u001b[0;34m\u001b[0m\u001b[0;34m\u001b[0m\u001b[0m\n\u001b[1;32m   1217\u001b[0m                     \u001b[0mresult\u001b[0m \u001b[0;34m=\u001b[0m \u001b[0mhook_result\u001b[0m\u001b[0;34m\u001b[0m\u001b[0;34m\u001b[0m\u001b[0m\n",
            "\u001b[0;32m<ipython-input-36-e89a1959dc00>\u001b[0m in \u001b[0;36mcopy_data\u001b[0;34m(m, i, o)\u001b[0m\n\u001b[1;32m     20\u001b[0m     \u001b[0;32mdef\u001b[0m \u001b[0mcopy_data\u001b[0m\u001b[0;34m(\u001b[0m\u001b[0mm\u001b[0m\u001b[0;34m,\u001b[0m \u001b[0mi\u001b[0m\u001b[0;34m,\u001b[0m \u001b[0mo\u001b[0m\u001b[0;34m)\u001b[0m\u001b[0;34m:\u001b[0m\u001b[0;34m\u001b[0m\u001b[0;34m\u001b[0m\u001b[0m\n\u001b[1;32m     21\u001b[0m         \u001b[0mprint\u001b[0m\u001b[0;34m(\u001b[0m\u001b[0mo\u001b[0m\u001b[0;34m.\u001b[0m\u001b[0mdata\u001b[0m\u001b[0;34m.\u001b[0m\u001b[0msize\u001b[0m\u001b[0;34m(\u001b[0m\u001b[0;34m)\u001b[0m\u001b[0;34m)\u001b[0m\u001b[0;34m\u001b[0m\u001b[0;34m\u001b[0m\u001b[0m\n\u001b[0;32m---> 22\u001b[0;31m         \u001b[0mmy_embedding\u001b[0m\u001b[0;34m.\u001b[0m\u001b[0mcopy_\u001b[0m\u001b[0;34m(\u001b[0m\u001b[0mo\u001b[0m\u001b[0;34m.\u001b[0m\u001b[0mdata\u001b[0m\u001b[0;34m.\u001b[0m\u001b[0mreshape\u001b[0m\u001b[0;34m(\u001b[0m\u001b[0mo\u001b[0m\u001b[0;34m.\u001b[0m\u001b[0mdata\u001b[0m\u001b[0;34m.\u001b[0m\u001b[0msize\u001b[0m\u001b[0;34m(\u001b[0m\u001b[0;36m1\u001b[0m\u001b[0;34m)\u001b[0m\u001b[0;34m)\u001b[0m\u001b[0;34m)\u001b[0m\u001b[0;34m\u001b[0m\u001b[0;34m\u001b[0m\u001b[0m\n\u001b[0m\u001b[1;32m     23\u001b[0m     \u001b[0;31m# 5. Attach that function to our selected layer\u001b[0m\u001b[0;34m\u001b[0m\u001b[0;34m\u001b[0m\u001b[0m\n\u001b[1;32m     24\u001b[0m     \u001b[0mh\u001b[0m \u001b[0;34m=\u001b[0m \u001b[0mlayer\u001b[0m\u001b[0;34m.\u001b[0m\u001b[0mregister_forward_hook\u001b[0m\u001b[0;34m(\u001b[0m\u001b[0mcopy_data\u001b[0m\u001b[0;34m)\u001b[0m\u001b[0;34m\u001b[0m\u001b[0;34m\u001b[0m\u001b[0m\n",
            "\u001b[0;31mRuntimeError\u001b[0m: shape '[128]' is invalid for input of size 100352"
          ]
        }
      ]
    },
    {
      "cell_type": "markdown",
      "source": [
        "<h1> Transformers - new framework </h1>"
      ],
      "metadata": {
        "id": "ZIg0GhlheEJ-"
      },
      "id": "ZIg0GhlheEJ-"
    },
    {
      "cell_type": "code",
      "source": [
        "# Tutorial: https://discuss.pytorch.org/t/feature-extraction-in-torchvision-models-vit-b-16/148029/4\n",
        "import torch\n",
        "import torch.nn as nn\n",
        "import torchvision\n",
        "\n",
        "scaler = transforms.Resize((224, 224))\n",
        "normalize = transforms.Normalize(mean=[0.485, 0.456, 0.406],\n",
        "                                  std=[0.229, 0.224, 0.225])\n",
        "  \n",
        "p0 = Variable(normalize(to_tensor(scaler(Image.open(\"p0.png\").convert('RGB')))).unsqueeze(0)).cuda()\n",
        "p1 = Variable(normalize(to_tensor(scaler(Image.open(\"p1.png\").convert('RGB')))).unsqueeze(0)).cuda()\n",
        "ref = Variable(normalize(to_tensor(scaler(Image.open(\"ref.png\").convert('RGB')))).unsqueeze(0)).cuda()\n",
        "\n",
        "model = torchvision.models.vit_b_16(pretrained=True)\n",
        "model.cuda()\n",
        "model.eval()\n",
        "feature_extractor = nn.Sequential(*list(model.children())[:-1])\n",
        "conv = feature_extractor[0]  \n",
        "encoder = feature_extractor[1]\n",
        "\n",
        "x_p0 = model._process_input(p0)\n",
        "x_p1 = model._process_input(p1)\n",
        "x_ref = model._process_input(ref)\n",
        "\n",
        "\n",
        "n = x_p0.shape[0]\n",
        "\n",
        "batch_class_token = model.class_token.expand(n, -1, -1)\n",
        "\n",
        "x_p0 = torch.cat([batch_class_token, x_p0], dim=1)\n",
        "x_p1 = torch.cat([batch_class_token, x_p1], dim=1)\n",
        "x_ref = torch.cat([batch_class_token, x_ref], dim=1)\n",
        "\n",
        "x_p0 = encoder(x_p0)\n",
        "x_p1 = encoder(x_p1)\n",
        "x_ref = encoder(x_ref)\n",
        "\n",
        "x_p0 = torch.flatten(x_p0[:,0])\n",
        "x_p1 = torch.flatten(x_p1[:,0])\n",
        "x_ref = torch.flatten(x_ref[:,0])\n",
        "\n"
      ],
      "metadata": {
        "colab": {
          "base_uri": "https://localhost:8080/",
          "height": 429
        },
        "id": "WCrjWJXDTNqS",
        "outputId": "694e7353-3895-41be-b029-8d644ba92040"
      },
      "id": "WCrjWJXDTNqS",
      "execution_count": 4,
      "outputs": [
        {
          "output_type": "error",
          "ename": "FileNotFoundError",
          "evalue": "ignored",
          "traceback": [
            "\u001b[0;31m---------------------------------------------------------------------------\u001b[0m",
            "\u001b[0;31mFileNotFoundError\u001b[0m                         Traceback (most recent call last)",
            "\u001b[0;32m<ipython-input-4-0c3f769044ed>\u001b[0m in \u001b[0;36m<module>\u001b[0;34m\u001b[0m\n\u001b[1;32m      8\u001b[0m                                   std=[0.229, 0.224, 0.225])\n\u001b[1;32m      9\u001b[0m \u001b[0;34m\u001b[0m\u001b[0m\n\u001b[0;32m---> 10\u001b[0;31m \u001b[0mp0\u001b[0m \u001b[0;34m=\u001b[0m \u001b[0mVariable\u001b[0m\u001b[0;34m(\u001b[0m\u001b[0mnormalize\u001b[0m\u001b[0;34m(\u001b[0m\u001b[0mto_tensor\u001b[0m\u001b[0;34m(\u001b[0m\u001b[0mscaler\u001b[0m\u001b[0;34m(\u001b[0m\u001b[0mImage\u001b[0m\u001b[0;34m.\u001b[0m\u001b[0mopen\u001b[0m\u001b[0;34m(\u001b[0m\u001b[0;34m\"p0.png\"\u001b[0m\u001b[0;34m)\u001b[0m\u001b[0;34m.\u001b[0m\u001b[0mconvert\u001b[0m\u001b[0;34m(\u001b[0m\u001b[0;34m'RGB'\u001b[0m\u001b[0;34m)\u001b[0m\u001b[0;34m)\u001b[0m\u001b[0;34m)\u001b[0m\u001b[0;34m)\u001b[0m\u001b[0;34m.\u001b[0m\u001b[0munsqueeze\u001b[0m\u001b[0;34m(\u001b[0m\u001b[0;36m0\u001b[0m\u001b[0;34m)\u001b[0m\u001b[0;34m)\u001b[0m\u001b[0;34m.\u001b[0m\u001b[0mcuda\u001b[0m\u001b[0;34m(\u001b[0m\u001b[0;34m)\u001b[0m\u001b[0;34m\u001b[0m\u001b[0;34m\u001b[0m\u001b[0m\n\u001b[0m\u001b[1;32m     11\u001b[0m \u001b[0mp1\u001b[0m \u001b[0;34m=\u001b[0m \u001b[0mVariable\u001b[0m\u001b[0;34m(\u001b[0m\u001b[0mnormalize\u001b[0m\u001b[0;34m(\u001b[0m\u001b[0mto_tensor\u001b[0m\u001b[0;34m(\u001b[0m\u001b[0mscaler\u001b[0m\u001b[0;34m(\u001b[0m\u001b[0mImage\u001b[0m\u001b[0;34m.\u001b[0m\u001b[0mopen\u001b[0m\u001b[0;34m(\u001b[0m\u001b[0;34m\"p1.png\"\u001b[0m\u001b[0;34m)\u001b[0m\u001b[0;34m.\u001b[0m\u001b[0mconvert\u001b[0m\u001b[0;34m(\u001b[0m\u001b[0;34m'RGB'\u001b[0m\u001b[0;34m)\u001b[0m\u001b[0;34m)\u001b[0m\u001b[0;34m)\u001b[0m\u001b[0;34m)\u001b[0m\u001b[0;34m.\u001b[0m\u001b[0munsqueeze\u001b[0m\u001b[0;34m(\u001b[0m\u001b[0;36m0\u001b[0m\u001b[0;34m)\u001b[0m\u001b[0;34m)\u001b[0m\u001b[0;34m.\u001b[0m\u001b[0mcuda\u001b[0m\u001b[0;34m(\u001b[0m\u001b[0;34m)\u001b[0m\u001b[0;34m\u001b[0m\u001b[0;34m\u001b[0m\u001b[0m\n\u001b[1;32m     12\u001b[0m \u001b[0mref\u001b[0m \u001b[0;34m=\u001b[0m \u001b[0mVariable\u001b[0m\u001b[0;34m(\u001b[0m\u001b[0mnormalize\u001b[0m\u001b[0;34m(\u001b[0m\u001b[0mto_tensor\u001b[0m\u001b[0;34m(\u001b[0m\u001b[0mscaler\u001b[0m\u001b[0;34m(\u001b[0m\u001b[0mImage\u001b[0m\u001b[0;34m.\u001b[0m\u001b[0mopen\u001b[0m\u001b[0;34m(\u001b[0m\u001b[0;34m\"ref.png\"\u001b[0m\u001b[0;34m)\u001b[0m\u001b[0;34m.\u001b[0m\u001b[0mconvert\u001b[0m\u001b[0;34m(\u001b[0m\u001b[0;34m'RGB'\u001b[0m\u001b[0;34m)\u001b[0m\u001b[0;34m)\u001b[0m\u001b[0;34m)\u001b[0m\u001b[0;34m)\u001b[0m\u001b[0;34m.\u001b[0m\u001b[0munsqueeze\u001b[0m\u001b[0;34m(\u001b[0m\u001b[0;36m0\u001b[0m\u001b[0;34m)\u001b[0m\u001b[0;34m)\u001b[0m\u001b[0;34m.\u001b[0m\u001b[0mcuda\u001b[0m\u001b[0;34m(\u001b[0m\u001b[0;34m)\u001b[0m\u001b[0;34m\u001b[0m\u001b[0;34m\u001b[0m\u001b[0m\n",
            "\u001b[0;32m/usr/local/lib/python3.9/dist-packages/PIL/Image.py\u001b[0m in \u001b[0;36mopen\u001b[0;34m(fp, mode, formats)\u001b[0m\n\u001b[1;32m   2973\u001b[0m \u001b[0;34m\u001b[0m\u001b[0m\n\u001b[1;32m   2974\u001b[0m     \u001b[0;32mif\u001b[0m \u001b[0mfilename\u001b[0m\u001b[0;34m:\u001b[0m\u001b[0;34m\u001b[0m\u001b[0;34m\u001b[0m\u001b[0m\n\u001b[0;32m-> 2975\u001b[0;31m         \u001b[0mfp\u001b[0m \u001b[0;34m=\u001b[0m \u001b[0mbuiltins\u001b[0m\u001b[0;34m.\u001b[0m\u001b[0mopen\u001b[0m\u001b[0;34m(\u001b[0m\u001b[0mfilename\u001b[0m\u001b[0;34m,\u001b[0m \u001b[0;34m\"rb\"\u001b[0m\u001b[0;34m)\u001b[0m\u001b[0;34m\u001b[0m\u001b[0;34m\u001b[0m\u001b[0m\n\u001b[0m\u001b[1;32m   2976\u001b[0m         \u001b[0mexclusive_fp\u001b[0m \u001b[0;34m=\u001b[0m \u001b[0;32mTrue\u001b[0m\u001b[0;34m\u001b[0m\u001b[0;34m\u001b[0m\u001b[0m\n\u001b[1;32m   2977\u001b[0m \u001b[0;34m\u001b[0m\u001b[0m\n",
            "\u001b[0;31mFileNotFoundError\u001b[0m: [Errno 2] No such file or directory: 'p0.png'"
          ]
        }
      ]
    },
    {
      "cell_type": "markdown",
      "source": [
        "Memory issue fix: https://stackoverflow.com/questions/70885777/run-out-of-memory-trying-to-create-a-tensor-of-size-2191-512-with-pytorch-to"
      ],
      "metadata": {
        "id": "88U4gdz1sa1c"
      },
      "id": "88U4gdz1sa1c"
    },
    {
      "cell_type": "code",
      "source": [
        "# Tutorial: https://discuss.pytorch.org/t/feature-extraction-in-torchvision-models-vit-b-16/148029/4\n",
        "import torch\n",
        "import torch.nn as nn\n",
        "import torchvision\n",
        "import torchvision.models as models\n",
        "import torchvision.transforms as transforms\n",
        "from torch.autograd import Variable\n",
        "import numpy as np\n",
        "\n",
        "from PIL import Image\n",
        "\n",
        "model = torchvision.models.vit_b_16(pretrained=True)\n",
        "model.cuda()\n",
        "model.eval()\n",
        "feature_extractor = nn.Sequential(*list(model.children())[:-1])\n",
        "conv = feature_extractor[0]  \n",
        "encoder = feature_extractor[1]\n",
        "scaler = transforms.Resize((224, 224))\n",
        "normalize = transforms.Normalize(mean=[0.485, 0.456, 0.406],\n",
        "                                    std=[0.229, 0.224, 0.225])\n",
        "to_tensor = transforms.ToTensor()\n",
        "    \n",
        "\n",
        "\n",
        "def get_vector(path):\n",
        "  with torch.no_grad():\n",
        "    p0 = Variable(normalize(to_tensor(scaler(Image.open(path).convert('RGB')))).unsqueeze(0)).cuda()\n",
        "\n",
        "    x_p0 = model._process_input(p0)\n",
        "\n",
        "    n = x_p0.shape[0]\n",
        "\n",
        "    batch_class_token = model.class_token.expand(n, -1, -1)\n",
        "\n",
        "    x_p0 = torch.cat([batch_class_token, x_p0], dim=1)\n",
        "\n",
        "    x_p0 = encoder(x_p0)\n",
        "\n",
        "    x_p0 = torch.flatten(x_p0[:,0])\n",
        "\n",
        "    return x_p0\n",
        "\n",
        "\n",
        "def get_image_embeddings(path, image_type, isHSJOrBirds):  # returns a list of tensors\n",
        "    # path of form: traditional/ref/\n",
        "    feature_tensor_dict = dict()\n",
        "    feature_tensor_dict[\"ref\"] = []\n",
        "    feature_tensor_dict[\"p0\"] = []\n",
        "    feature_tensor_dict[\"p1\"] = []\n",
        "    feature_tensor_dict[\"decision\"] = []\n",
        "    \n",
        "    for image_no in range(1000):\n",
        "        im_no_name =  (6-len(str(image_no)))*\"0\" + str(image_no) + \".\" + image_type\n",
        "        \n",
        "        feature_tensor_dict[\"ref\"].append(get_vector(path+\"/ref/\" + im_no_name))\n",
        "        feature_tensor_dict[\"p0\"].append(get_vector(path+\"/p0/\" + im_no_name))\n",
        "        feature_tensor_dict[\"p1\"].append(get_vector(path+\"/p1/\" + im_no_name))\n",
        "\n",
        "        # now load decision\n",
        "        if isHSJOrBirds:\n",
        "          feature_tensor_dict[\"decision\"].append(0)\n",
        "        else: \n",
        "          decision_no_name =  (6-len(str(image_no)))*\"0\" + str(image_no) + \".npy\"\n",
        "          decision = np.load(path+\"/judge/\"+decision_no_name)\n",
        "          if decision[0] <= 0.5: \n",
        "                feature_tensor_dict[\"decision\"].append(0)\n",
        "          else: \n",
        "                feature_tensor_dict[\"decision\"].append(1)\n",
        "        \n",
        "    return feature_tensor_dict\n",
        "\n",
        "########################## GET MODEL PREDICTIONS\n",
        "def get_predictions(embeddings):\n",
        "  cosine_similarity_dict = dict()\n",
        "  cosine_similarity_dict[\"ref_and_p0\"] = []\n",
        "  cosine_similarity_dict[\"ref_and_p1\"] = []\n",
        "  cosine_similarity_predictions = []\n",
        "\n",
        "  cos = nn.CosineSimilarity(dim=1, eps=1e-6)\n",
        "  # cos_sim = cos(query_vector.unsqueeze(0), ref2_vector.unsqueeze(0))\n",
        "\n",
        "  for image_no in range(1000):\n",
        "      cosine_similarity_dict[\"ref_and_p0\"].append(cos(embeddings[\"ref\"][image_no].unsqueeze(0), embeddings[\"p0\"][image_no].unsqueeze(0)))\n",
        "      cosine_similarity_dict[\"ref_and_p1\"].append(cos(embeddings[\"ref\"][image_no].unsqueeze(0), embeddings[\"p1\"][image_no].unsqueeze(0)))\n",
        "      \n",
        "      if cosine_similarity_dict[\"ref_and_p0\"][image_no] >= cosine_similarity_dict[\"ref_and_p1\"][image_no]:\n",
        "          cosine_similarity_predictions.append(0)\n",
        "      else:\n",
        "          cosine_similarity_predictions.append(1)   \n",
        "  return cosine_similarity_predictions\n",
        "\n",
        "########################## GET MODEL ACCURACY\n",
        "def get_accuracy(predictions,embeddings):\n",
        "  decisions = embeddings[\"decision\"]\n",
        "\n",
        "  number_wrong_predictions = 0\n",
        "\n",
        "  for image_no in range(1000):\n",
        "      if predictions[image_no] != decisions[image_no]:\n",
        "          number_wrong_predictions += 1\n",
        "      \n",
        "  accuracy = (1000 - number_wrong_predictions)/(1000)\n",
        "  return accuracy\n",
        "\n",
        "def get_average_reference_similarty_for_dataset(predictions,embeddings):\n",
        "  similarities_p0_p1 = []\n",
        "  similarities_p0_ref = []\n",
        "  similarities_p1_ref = []\n",
        "  \n",
        "  cos = nn.CosineSimilarity(dim=1, eps=1e-6)\n",
        "\n",
        "  for image_no in range(1000):\n",
        "      similarities_p0_p1.append(float(cos(embeddings[\"p0\"][image_no].unsqueeze(0), embeddings[\"p1\"][image_no].unsqueeze(0))))\n",
        "      similarities_p0_ref.append(float(cos(embeddings[\"ref\"][image_no].unsqueeze(0), embeddings[\"p0\"][image_no].unsqueeze(0))))\n",
        "      similarities_p1_ref.append(float(cos(embeddings[\"ref\"][image_no].unsqueeze(0), embeddings[\"p1\"][image_no].unsqueeze(0))))\n",
        "\n",
        "  similarity = np.average(similarities_p0_p1)/(float(np.average(similarities_p0_ref)+np.average(similarities_p1_ref)))\n",
        "\n",
        "  return similarity\n",
        "\n",
        "def apply_framework(path, image_type,isHSJOrBirds):\n",
        "  embeddings = get_image_embeddings(path, \n",
        "                                    image_type,\n",
        "                                    isHSJOrBirds)\n",
        "  predictions= get_predictions(embeddings)\n",
        "  accuracy = get_average_reference_similarty_for_dataset(predictions, embeddings)\n",
        "  print(path + \": \" + str(accuracy))\n",
        "  return accuracy"
      ],
      "metadata": {
        "colab": {
          "base_uri": "https://localhost:8080/"
        },
        "id": "pDWHW3-ZkDhG",
        "outputId": "772c0029-23b4-4cfb-8d6a-8357ebc9380e"
      },
      "id": "pDWHW3-ZkDhG",
      "execution_count": 65,
      "outputs": [
        {
          "output_type": "stream",
          "name": "stderr",
          "text": [
            "/usr/local/lib/python3.9/dist-packages/torchvision/models/_utils.py:208: UserWarning: The parameter 'pretrained' is deprecated since 0.13 and may be removed in the future, please use 'weights' instead.\n",
            "  warnings.warn(\n",
            "/usr/local/lib/python3.9/dist-packages/torchvision/models/_utils.py:223: UserWarning: Arguments other than a weight enum or `None` for 'weights' are deprecated since 0.13 and may be removed in the future. The current behavior is equivalent to passing `weights=ViT_B_16_Weights.IMAGENET1K_V1`. You can also use `weights=ViT_B_16_Weights.DEFAULT` to get the most up-to-date weights.\n",
            "  warnings.warn(msg)\n"
          ]
        }
      ]
    },
    {
      "cell_type": "code",
      "source": [
        "def apply_framework_model():\n",
        "  print(\"\")\n",
        "  print(\"# ----------------------------------------BAPPS 2AFC DIST-----------------------#\")\n",
        "  print(\"\")\n",
        "  ################### TRADITIONAL \n",
        "  apply_framework(\"datasets/distortions/distortion_triplets/traditional_triplets\",\n",
        "                  \"png\",\n",
        "                  False)\n",
        "\n",
        "  ################ CNN\n",
        "  apply_framework(\"datasets/distortions/distortion_triplets/cnn_triplets\",\n",
        "                  \"png\",\n",
        "                  False)\n",
        "\n",
        "  ############### COLOR\n",
        "  apply_framework(\"datasets/distortions/distortion_triplets/color_triplets\",\n",
        "                  \"png\",\n",
        "                  False)\n",
        "\n",
        "  ################ DEBLUR\n",
        "  apply_framework(\"datasets/distortions/distortion_triplets/deblur_triplets\",\n",
        "                  \"png\",\n",
        "                  False)\n",
        "\n",
        "  ############### FRAME INTERP\n",
        "  apply_framework(\"datasets/distortions/distortion_triplets/frameinterp_triplets\",\n",
        "                  \"png\",\n",
        "                  False)\n",
        "\n",
        "  ################ SUPER RES\n",
        "  apply_framework(\"datasets/distortions/distortion_triplets/superres_triplets\",\n",
        "                  \"png\",\n",
        "                  False)\n",
        "\n",
        "  print(\"\")\n",
        "  print(\"# ----------------------------------------HSJ------------------------#\")\n",
        "  print(\"\")\n",
        "  ################### HSJ Rank 0 + Dissimilar \n",
        "  apply_framework(\"datasets/hsj/hsj_triplets/hsj_query_rank0_dissimilar\",\n",
        "                  \"jpg\",\n",
        "                  True)\n",
        "\n",
        "  ################ HSJ Rank 0 + Rank 1\n",
        "  apply_framework(\"datasets/hsj/hsj_triplets/hsj_query_rank0_rank1\",\n",
        "                  \"jpg\",\n",
        "                  True)\n",
        "\n",
        "  print(\"\")\n",
        "  print(\"# ----------------------------------------Birds-16------------------------#\")\n",
        "  print(\"\")\n",
        "  ################### Birds-16 Rank 0 + Dissimilar \n",
        "  apply_framework(\"datasets/birds-16/birds_dataset_triplets/birds_query_rank0_dissimilar\",\n",
        "                  \"jpg\",\n",
        "                  True)\n",
        "\n",
        "  ################### Birds-16 Rank 0 + Rank 1 \n",
        "  apply_framework(\"datasets/birds-16/birds_dataset_triplets/birds_query_rank0_rank1\",\n",
        "                  \"jpg\",\n",
        "                  True)\n",
        "\n",
        "  ################### Birds-16 Rank 0 + Dissimilar 2rank1 test\n",
        "  apply_framework(\"datasets/birds-16/birds_dataset_triplets/birds_query_rank0_dissimilar_2rank1\",\n",
        "                  \"jpg\",\n",
        "                  True)"
      ],
      "metadata": {
        "id": "9UznXre4s_wa"
      },
      "id": "9UznXre4s_wa",
      "execution_count": 66,
      "outputs": []
    },
    {
      "cell_type": "code",
      "source": [
        "apply_framework_model() # reference similarity now"
      ],
      "metadata": {
        "colab": {
          "base_uri": "https://localhost:8080/"
        },
        "id": "NJ6NCjaHeunb",
        "outputId": "266f0a23-33c2-4593-a14d-2e1549de530c"
      },
      "id": "NJ6NCjaHeunb",
      "execution_count": 67,
      "outputs": [
        {
          "output_type": "stream",
          "name": "stdout",
          "text": [
            "\n",
            "# ----------------------------------------BAPPS 2AFC DIST-----------------------#\n",
            "\n",
            "datasets/distortions/distortion_triplets/traditional_triplets: 0.44550060127941576\n",
            "datasets/distortions/distortion_triplets/cnn_triplets: 0.4440446430166139\n",
            "datasets/distortions/distortion_triplets/color_triplets: 0.579516591105198\n",
            "datasets/distortions/distortion_triplets/deblur_triplets: 0.5268853097386452\n",
            "datasets/distortions/distortion_triplets/frameinterp_triplets: 0.4992213435853494\n",
            "datasets/distortions/distortion_triplets/superres_triplets: 0.5178743461653065\n",
            "\n",
            "# ----------------------------------------HSJ------------------------#\n",
            "\n",
            "datasets/hsj/hsj_triplets/hsj_query_rank0_dissimilar: 0.18113079661114512\n",
            "datasets/hsj/hsj_triplets/hsj_query_rank0_rank1: 0.21535694448091444\n",
            "\n",
            "# ----------------------------------------Birds-16------------------------#\n",
            "\n",
            "datasets/birds-16/birds_dataset_triplets/birds_query_rank0_dissimilar: 0.401459205264333\n",
            "datasets/birds-16/birds_dataset_triplets/birds_query_rank0_rank1: 0.4775735705237343\n",
            "datasets/birds-16/birds_dataset_triplets/birds_query_rank0_dissimilar_2rank1: 0.4011398050617586\n"
          ]
        }
      ]
    },
    {
      "cell_type": "code",
      "source": [
        "apply_framework_model() # reference similarity now"
      ],
      "metadata": {
        "id": "zIc6qlS8gUgx"
      },
      "id": "zIc6qlS8gUgx",
      "execution_count": null,
      "outputs": []
    },
    {
      "cell_type": "code",
      "source": [
        "cos = nn.CosineSimilarity(dim=1, eps=1e-6)\n",
        "# print(cos(get_vector(\"p0.png\").unsqueeze(0),get_vector(\"ref.png\").unsqueeze(0)))\n",
        "# print(cos(get_vector(\"p1.png\").unsqueeze(0),get_vector(\"ref.png\").unsqueeze(0)))\n",
        "f_dict_new = get_image_embeddings(\"datasets/birds-16/birds_dataset_triplets/birds_query_rank0_dissimilar\", \"jpg\", True)"
      ],
      "metadata": {
        "id": "l6Qb-IAlThTf"
      },
      "id": "l6Qb-IAlThTf",
      "execution_count": 19,
      "outputs": []
    },
    {
      "cell_type": "code",
      "source": [
        "len(f_dict_new[\"ref\"])"
      ],
      "metadata": {
        "colab": {
          "base_uri": "https://localhost:8080/"
        },
        "id": "H99zIM3HrUxN",
        "outputId": "be479080-2118-4285-bf80-87377330bee8"
      },
      "id": "H99zIM3HrUxN",
      "execution_count": 20,
      "outputs": [
        {
          "output_type": "execute_result",
          "data": {
            "text/plain": [
              "1000"
            ]
          },
          "metadata": {},
          "execution_count": 20
        }
      ]
    },
    {
      "cell_type": "markdown",
      "source": [
        "ViT_B_16 - ask chat to describe differences\n",
        "\n",
        " ----------------------------------------BAPPS 2AFC DIST-----------------------#\n",
        "\n",
        "datasets/distortions/distortion_triplets/traditional_triplets: 0.804\n",
        "\n",
        "datasets/distortions/distortion_triplets/cnn_triplets: 0.832\n",
        "\n",
        "datasets/distortions/distortion_triplets/color_triplets: 0.619\n",
        "\n",
        "datasets/distortions/distortion_triplets/deblur_triplets: 0.617\n",
        "\n",
        "datasets/distortions/distortion_triplets/frameinterp_triplets: 0.658\n",
        "\n",
        "datasets/distortions/distortion_triplets/superres_triplets: 0.71\n",
        "\n",
        " ----------------------------------------HSJ------------------------#\n",
        "\n",
        "datasets/hsj/hsj_triplets/hsj_query_rank0_dissimilar: 0.566\n",
        "\n",
        "datasets/hsj/hsj_triplets/hsj_query_rank0_rank1: 0.532\n",
        "\n",
        "----------------------------------------Birds-16------------------------#\n",
        "\n",
        "datasets/birds-16/birds_dataset_triplets/birds_query_rank0_dissimilar: 0.771\n",
        "\n",
        "datasets/birds-16/birds_dataset_triplets/birds_query_rank0_rank1: 0.634\n",
        "\n",
        "datasets/birds-16/birds_dataset_triplets/birds_query_rank0_dissimilar_2rank1: 0.794\n",
        "\n"
      ],
      "metadata": {
        "id": "--r7GEafuw1i"
      },
      "id": "--r7GEafuw1i"
    },
    {
      "cell_type": "code",
      "source": [
        "apply_framework_model()"
      ],
      "metadata": {
        "colab": {
          "base_uri": "https://localhost:8080/"
        },
        "id": "qrx2Aekota5B",
        "outputId": "e4e710aa-b934-4737-e7ca-9262204da375"
      },
      "id": "qrx2Aekota5B",
      "execution_count": 27,
      "outputs": [
        {
          "output_type": "stream",
          "name": "stdout",
          "text": [
            "\n",
            "# ----------------------------------------BAPPS 2AFC DIST-----------------------#\n",
            "\n",
            "datasets/distortions/distortion_triplets/traditional_triplets: 0.804\n",
            "datasets/distortions/distortion_triplets/cnn_triplets: 0.832\n",
            "datasets/distortions/distortion_triplets/color_triplets: 0.619\n",
            "datasets/distortions/distortion_triplets/deblur_triplets: 0.617\n",
            "datasets/distortions/distortion_triplets/frameinterp_triplets: 0.658\n",
            "datasets/distortions/distortion_triplets/superres_triplets: 0.71\n",
            "\n",
            "# ----------------------------------------HSJ------------------------#\n",
            "\n",
            "datasets/hsj/hsj_triplets/hsj_query_rank0_dissimilar: 0.566\n",
            "datasets/hsj/hsj_triplets/hsj_query_rank0_rank1: 0.532\n",
            "\n",
            "# ----------------------------------------Birds-16------------------------#\n",
            "\n",
            "datasets/birds-16/birds_dataset_triplets/birds_query_rank0_dissimilar: 0.771\n",
            "datasets/birds-16/birds_dataset_triplets/birds_query_rank0_rank1: 0.634\n",
            "datasets/birds-16/birds_dataset_triplets/birds_query_rank0_dissimilar_2rank1: 0.794\n"
          ]
        }
      ]
    },
    {
      "cell_type": "markdown",
      "source": [
        "Vit_b_32\n",
        "\n",
        "----------------------------------------BAPPS 2AFC DIST-----------------------#\n",
        "\n",
        "datasets/distortions/distortion_triplets/traditional_triplets: 0.771\n",
        "\n",
        "datasets/distortions/distortion_triplets/cnn_triplets: 0.824\n",
        "\n",
        "datasets/distortions/distortion_triplets/color_triplets: 0.577\n",
        "\n",
        "datasets/distortions/distortion_triplets/deblur_triplets: 0.597\n",
        "\n",
        "datasets/distortions/distortion_triplets/frameinterp_triplets: 0.674\n",
        "\n",
        "datasets/distortions/distortion_triplets/superres_triplets: 0.686\n",
        "\n",
        "----------------------------------------HSJ------------------------#\n",
        "\n",
        "datasets/hsj/hsj_triplets/hsj_query_rank0_dissimilar: 0.551\n",
        "\n",
        "datasets/hsj/hsj_triplets/hsj_query_rank0_rank1: 0.556\n",
        "\n",
        "----------------------------------------Birds-16------------------------#\n",
        "\n",
        "datasets/birds-16/birds_dataset_triplets/birds_query_rank0_dissimilar: 0.787\n",
        "\n",
        "datasets/birds-16/birds_dataset_triplets/birds_query_rank0_rank1: 0.636\n",
        "\n",
        "datasets/birds-16/birds_dataset_triplets/birds_query_rank0_dissimilar_2rank1: 0.794"
      ],
      "metadata": {
        "id": "vZsgssuSywV8"
      },
      "id": "vZsgssuSywV8"
    },
    {
      "cell_type": "code",
      "source": [
        "apply_framework_model()"
      ],
      "metadata": {
        "colab": {
          "base_uri": "https://localhost:8080/"
        },
        "id": "CC6F3P5-y0Lp",
        "outputId": "c00168ff-b218-4bd9-b773-7e95168b5351"
      },
      "id": "CC6F3P5-y0Lp",
      "execution_count": 31,
      "outputs": [
        {
          "output_type": "stream",
          "name": "stdout",
          "text": [
            "\n",
            "# ----------------------------------------BAPPS 2AFC DIST-----------------------#\n",
            "\n",
            "datasets/distortions/distortion_triplets/traditional_triplets: 0.771\n",
            "datasets/distortions/distortion_triplets/cnn_triplets: 0.824\n",
            "datasets/distortions/distortion_triplets/color_triplets: 0.577\n",
            "datasets/distortions/distortion_triplets/deblur_triplets: 0.597\n",
            "datasets/distortions/distortion_triplets/frameinterp_triplets: 0.674\n",
            "datasets/distortions/distortion_triplets/superres_triplets: 0.686\n",
            "\n",
            "# ----------------------------------------HSJ------------------------#\n",
            "\n",
            "datasets/hsj/hsj_triplets/hsj_query_rank0_dissimilar: 0.551\n",
            "datasets/hsj/hsj_triplets/hsj_query_rank0_rank1: 0.556\n",
            "\n",
            "# ----------------------------------------Birds-16------------------------#\n",
            "\n",
            "datasets/birds-16/birds_dataset_triplets/birds_query_rank0_dissimilar: 0.787\n",
            "datasets/birds-16/birds_dataset_triplets/birds_query_rank0_rank1: 0.636\n",
            "datasets/birds-16/birds_dataset_triplets/birds_query_rank0_dissimilar_2rank1: 0.794\n"
          ]
        }
      ]
    },
    {
      "cell_type": "markdown",
      "source": [
        "Vit_l_16\n",
        "\n",
        "----------------------------------------BAPPS 2AFC DIST-----------------------#\n",
        "\n",
        "datasets/distortions/distortion_triplets/traditional_triplets: 0.779\n",
        "\n",
        "datasets/distortions/distortion_triplets/cnn_triplets: 0.832\n",
        "\n",
        "datasets/distortions/distortion_triplets/color_triplets: 0.625\n",
        "\n",
        "datasets/distortions/distortion_triplets/deblur_triplets: 0.588\n",
        "\n",
        "datasets/distortions/distortion_triplets/frameinterp_triplets: 0.66\n",
        "\n",
        "datasets/distortions/distortion_triplets/superres_triplets: 0.688\n",
        "\n",
        "----------------------------------------HSJ------------------------#\n",
        "\n",
        "datasets/hsj/hsj_triplets/hsj_query_rank0_dissimilar: 0.569\n",
        "\n",
        "datasets/hsj/hsj_triplets/hsj_query_rank0_rank1: 0.54\n",
        "\n",
        "----------------------------------------Birds-16------------------------#\n",
        "\n",
        "datasets/birds-16/birds_dataset_triplets/birds_query_rank0_dissimilar: 0.791\n",
        "\n",
        "datasets/birds-16/birds_dataset_triplets/birds_query_rank0_rank1: 0.622\n",
        "\n",
        "datasets/birds-16/birds_dataset_triplets/birds_query_rank0_dissimilar_2rank1: 0.825"
      ],
      "metadata": {
        "id": "ijS3i-Qt0dzv"
      },
      "id": "ijS3i-Qt0dzv"
    },
    {
      "cell_type": "code",
      "source": [
        "apply_framework_model()"
      ],
      "metadata": {
        "colab": {
          "base_uri": "https://localhost:8080/"
        },
        "id": "2qyc35P90nO-",
        "outputId": "ae502b14-87c6-4b92-87d8-1225b8177211"
      },
      "id": "2qyc35P90nO-",
      "execution_count": 34,
      "outputs": [
        {
          "output_type": "stream",
          "name": "stdout",
          "text": [
            "\n",
            "# ----------------------------------------BAPPS 2AFC DIST-----------------------#\n",
            "\n",
            "datasets/distortions/distortion_triplets/traditional_triplets: 0.779\n",
            "datasets/distortions/distortion_triplets/cnn_triplets: 0.832\n",
            "datasets/distortions/distortion_triplets/color_triplets: 0.625\n",
            "datasets/distortions/distortion_triplets/deblur_triplets: 0.588\n",
            "datasets/distortions/distortion_triplets/frameinterp_triplets: 0.66\n",
            "datasets/distortions/distortion_triplets/superres_triplets: 0.688\n",
            "\n",
            "# ----------------------------------------HSJ------------------------#\n",
            "\n",
            "datasets/hsj/hsj_triplets/hsj_query_rank0_dissimilar: 0.569\n",
            "datasets/hsj/hsj_triplets/hsj_query_rank0_rank1: 0.54\n",
            "\n",
            "# ----------------------------------------Birds-16------------------------#\n",
            "\n",
            "datasets/birds-16/birds_dataset_triplets/birds_query_rank0_dissimilar: 0.791\n",
            "datasets/birds-16/birds_dataset_triplets/birds_query_rank0_rank1: 0.622\n",
            "datasets/birds-16/birds_dataset_triplets/birds_query_rank0_dissimilar_2rank1: 0.825\n"
          ]
        }
      ]
    },
    {
      "cell_type": "markdown",
      "source": [
        "Vit_l_32\n",
        "\n",
        "----------------------------------------BAPPS 2AFC DIST-----------------------#\n",
        "\n",
        "datasets/distortions/distortion_triplets/traditional_triplets: 0.776\n",
        "\n",
        "datasets/distortions/distortion_triplets/cnn_triplets: 0.839\n",
        "\n",
        "datasets/distortions/distortion_triplets/color_triplets: 0.571\n",
        "\n",
        "datasets/distortions/distortion_triplets/deblur_triplets: 0.577\n",
        "\n",
        "datasets/distortions/distortion_triplets/frameinterp_triplets: 0.657\n",
        "\n",
        "datasets/distortions/distortion_triplets/superres_triplets: 0.637\n",
        "\n",
        "----------------------------------------HSJ------------------------#\n",
        "\n",
        "datasets/hsj/hsj_triplets/hsj_query_rank0_dissimilar: 0.565\n",
        "\n",
        "datasets/hsj/hsj_triplets/hsj_query_rank0_rank1: 0.552\n",
        "\n",
        "----------------------------------------Birds-16------------------------#\n",
        "\n",
        "datasets/birds-16/birds_dataset_triplets/birds_query_rank0_dissimilar: 0.767\n",
        "\n",
        "datasets/birds-16/birds_dataset_triplets/birds_query_rank0_rank1: 0.616\n",
        "\n",
        "datasets/birds-16/birds_dataset_triplets/birds_query_rank0_dissimilar_2rank1: 0.76"
      ],
      "metadata": {
        "id": "zzTrwXML89tP"
      },
      "id": "zzTrwXML89tP"
    },
    {
      "cell_type": "code",
      "source": [
        "apply_framework_model()"
      ],
      "metadata": {
        "colab": {
          "base_uri": "https://localhost:8080/"
        },
        "id": "AWj7ZTRk9FAk",
        "outputId": "98a9951e-210a-402a-b06a-ad74c3d44756"
      },
      "id": "AWj7ZTRk9FAk",
      "execution_count": 37,
      "outputs": [
        {
          "output_type": "stream",
          "name": "stdout",
          "text": [
            "\n",
            "# ----------------------------------------BAPPS 2AFC DIST-----------------------#\n",
            "\n",
            "datasets/distortions/distortion_triplets/traditional_triplets: 0.776\n",
            "datasets/distortions/distortion_triplets/cnn_triplets: 0.839\n",
            "datasets/distortions/distortion_triplets/color_triplets: 0.571\n",
            "datasets/distortions/distortion_triplets/deblur_triplets: 0.577\n",
            "datasets/distortions/distortion_triplets/frameinterp_triplets: 0.657\n",
            "datasets/distortions/distortion_triplets/superres_triplets: 0.637\n",
            "\n",
            "# ----------------------------------------HSJ------------------------#\n",
            "\n",
            "datasets/hsj/hsj_triplets/hsj_query_rank0_dissimilar: 0.565\n",
            "datasets/hsj/hsj_triplets/hsj_query_rank0_rank1: 0.552\n",
            "\n",
            "# ----------------------------------------Birds-16------------------------#\n",
            "\n",
            "datasets/birds-16/birds_dataset_triplets/birds_query_rank0_dissimilar: 0.767\n",
            "datasets/birds-16/birds_dataset_triplets/birds_query_rank0_rank1: 0.616\n",
            "datasets/birds-16/birds_dataset_triplets/birds_query_rank0_dissimilar_2rank1: 0.76\n"
          ]
        }
      ]
    },
    {
      "cell_type": "markdown",
      "source": [
        "<h3> New framework: </h3>"
      ],
      "metadata": {
        "id": "XGFZIECefylI"
      },
      "id": "XGFZIECefylI"
    },
    {
      "cell_type": "code",
      "source": [
        "from google.colab import drive\n",
        "drive.mount('/content/drive')\n",
        "!pip install img2vec-pytorch\n",
        "!unzip -uq \"/content/drive/MyDrive/Colab Notebooks/distortion_triplets.zip\" -d \"/content/datasets/distortions\"\n",
        "!unzip -uq \"/content/drive/MyDrive/Colab Notebooks/hsj_triplets.zip\" -d \"/content/datasets/hsj\"\n",
        "!unzip -uq \"/content/drive/MyDrive/Colab Notebooks/birds_dataset_triplets.zip\" -d \"/content/datasets/birds-16\""
      ],
      "metadata": {
        "id": "gAFe3GzEq2KG"
      },
      "id": "gAFe3GzEq2KG",
      "execution_count": null,
      "outputs": []
    },
    {
      "cell_type": "code",
      "source": [
        "import torch\n",
        "import torch.nn as nn\n",
        "import torchvision\n",
        "import torchvision.models as models\n",
        "import torchvision.transforms as transforms\n",
        "from torch.autograd import Variable\n",
        "import numpy as np\n",
        "\n",
        "from PIL import Image\n",
        "\n",
        "############################ REQUIRES MODIFICATION FOR EACH MODEL \n",
        "\n",
        "# scaler = transforms.Resize((224, 224))\n",
        "# normalize = transforms.Normalize(mean=[0.485, 0.456, 0.406],\n",
        "#                                  std=[0.229, 0.224, 0.225])\n",
        "to_tensor = transforms.ToTensor()   # used to convert the PIL image to a PyTorch tensor (multidimensional array)\n",
        "############################\n",
        "\n",
        "\n",
        "############################## HOW TO GET MODEL:\n",
        "# # Load the pretrained model\n",
        "# model = models.resnet18(pretrained=True)\n",
        "# model.cuda()\n",
        "# # Use the model object to select the desired layer\n",
        "# layer = model._modules.get('avgpool')\n",
        "# # Set model to evaluation mode\n",
        "# model.eval()\n",
        "\n",
        "##################################\n",
        "\n",
        "# def get_vector(image_name, model, layer, scaler, normalize, feature_tensor_size):\n",
        "    \n",
        "# #     # Load the pretrained model\n",
        "# #     model = models.resnet18(pretrained=True)\n",
        "# #     # Use the model object to select the desired layer\n",
        "# #     layer = model._modules.get('avgpool')\n",
        "    \n",
        "#     # 1. Load the image with Pillow library\n",
        "#     img = Image.open(image_name).convert('RGB')\n",
        "#     # 2. Create a PyTorch Variable with the transformed image\n",
        "#     t_img = Variable(normalize(to_tensor(scaler(img))).unsqueeze(0)).cuda()\n",
        "\n",
        "    \n",
        "#     feature_extractor = nn.Sequential(*list(model.children())[:-1])\n",
        "#     conv = feature_extractor[0]  \n",
        "#     encoder = feature_extractor[1]\n",
        "\n",
        "#     x_p0 = model._process_input(t_img)\n",
        "#     n = x_p0.shape[0]\n",
        "#     batch_class_token = model.class_token.expand(n, -1, -1)\n",
        "#     x_p0 = torch.cat([batch_class_token, x_p0], dim=1)\n",
        "#     x_p0 = encoder(x_p0)\n",
        "#     x_p0 = torch.flatten(x_p0[:,0])\n",
        "\n",
        "#     return x_p0\n",
        "\n",
        "############################ COSINE SIMILARITY\n",
        "cos = nn.CosineSimilarity(dim=1, eps=1e-6)\n",
        "\n",
        "\n",
        "########################### GET FEATURE VECTORS\n",
        "def get_image_embeddings(path, image_type, model, layer, scaler, normalize, isHSJOrBirds, feature_tensor_size):  # returns a list of tensors\n",
        "    # path of form: traditional/ref/\n",
        "    feature_tensor_dict = dict()\n",
        "    feature_tensor_dict[\"ref\"] = []\n",
        "    feature_tensor_dict[\"p0\"] = []\n",
        "    feature_tensor_dict[\"p1\"] = []\n",
        "    feature_tensor_dict[\"decision\"] = []\n",
        "    \n",
        "    for image_no in range(1000):\n",
        "        im_no_name =  (6-len(str(image_no)))*\"0\" + str(image_no) + \".\" + image_type\n",
        "        \n",
        "        feature_tensor_dict[\"ref\"].append(get_vector(path+\"/ref/\" + im_no_name))\n",
        "        feature_tensor_dict[\"p0\"].append(get_vector(path+\"/p0/\" + im_no_name))\n",
        "        feature_tensor_dict[\"p1\"].append(get_vector(path+\"/p1/\" + im_no_name))\n",
        "\n",
        "        # now load decision\n",
        "        if isHSJOrBirds:\n",
        "          feature_tensor_dict[\"decision\"].append(0)\n",
        "        else: \n",
        "          decision_no_name =  (6-len(str(image_no)))*\"0\" + str(image_no) + \".npy\"\n",
        "          decision = np.load(path+\"/judge/\"+decision_no_name)\n",
        "          if decision[0] <= 0.5: \n",
        "                feature_tensor_dict[\"decision\"].append(0)\n",
        "          else: \n",
        "                feature_tensor_dict[\"decision\"].append(1)\n",
        "        \n",
        "    return feature_tensor_dict\n",
        "\n",
        "\n",
        "########################## GET MODEL PREDICTIONS\n",
        "def get_predictions(embeddings):\n",
        "  cosine_similarity_dict = dict()\n",
        "  cosine_similarity_dict[\"ref_and_p0\"] = []\n",
        "  cosine_similarity_dict[\"ref_and_p1\"] = []\n",
        "  cosine_similarity_predictions = []\n",
        "\n",
        "  cos = nn.CosineSimilarity(dim=1, eps=1e-6)\n",
        "  # cos_sim = cos(query_vector.unsqueeze(0), ref2_vector.unsqueeze(0))\n",
        "\n",
        "  for image_no in range(1000):\n",
        "      cosine_similarity_dict[\"ref_and_p0\"].append(cos(embeddings[\"ref\"][image_no].unsqueeze(0), embeddings[\"p0\"][image_no].unsqueeze(0)))\n",
        "      cosine_similarity_dict[\"ref_and_p1\"].append(cos(embeddings[\"ref\"][image_no].unsqueeze(0), embeddings[\"p1\"][image_no].unsqueeze(0)))\n",
        "      \n",
        "      if cosine_similarity_dict[\"ref_and_p0\"][image_no] >= cosine_similarity_dict[\"ref_and_p1\"][image_no]:\n",
        "          cosine_similarity_predictions.append(0)\n",
        "      else:\n",
        "          cosine_similarity_predictions.append(1)   \n",
        "  return cosine_similarity_predictions\n",
        "\n",
        "########################## GET MODEL ACCURACY\n",
        "def get_accuracy(predictions,embeddings):\n",
        "  decisions = embeddings[\"decision\"]\n",
        "\n",
        "  number_wrong_predictions = 0\n",
        "\n",
        "  for image_no in range(1000):\n",
        "      if predictions[image_no] != decisions[image_no]:\n",
        "          number_wrong_predictions += 1\n",
        "      \n",
        "  accuracy = (1000 - number_wrong_predictions)/(1000)\n",
        "  return accuracy\n",
        "\n",
        "\n",
        "def apply_framework(path, image_type, model, layer, scaler, normalize, isHSJOrBirds, feature_tensor_size):\n",
        "  embeddings = get_image_embeddings(path, \n",
        "                                    image_type,\n",
        "                                    model, layer, scaler, normalize, isHSJOrBirds, feature_tensor_size)\n",
        "  predictions= get_predictions(embeddings)\n",
        "  accuracy = get_accuracy(predictions, embeddings)\n",
        "  print(path + \": \" + str(accuracy))\n",
        "  return accuracy"
      ],
      "metadata": {
        "id": "eq3k76SqeNE2"
      },
      "id": "eq3k76SqeNE2",
      "execution_count": 4,
      "outputs": []
    },
    {
      "cell_type": "code",
      "source": [
        "def apply_framework_model(modelf, layer, feature_tensor_size):\n",
        "  scaler = transforms.Resize((224, 224))\n",
        "  normalize = transforms.Normalize(mean=[0.485, 0.456, 0.406],\n",
        "                                  std=[0.229, 0.224, 0.225])\n",
        "\n",
        "  print(\"\")\n",
        "  print(\"# ----------------------------------------BAPPS 2AFC DIST-----------------------#\")\n",
        "  print(\"\")\n",
        "  ################### TRADITIONAL \n",
        "  apply_framework(\"datasets/distortions/distortion_triplets/traditional_triplets\",\n",
        "                  \"png\",\n",
        "                  modelf, layer, scaler, normalize, False, feature_tensor_size)\n",
        "\n",
        "  ################ CNN\n",
        "  apply_framework(\"datasets/distortions/distortion_triplets/cnn_triplets\",\n",
        "                  \"png\",\n",
        "                  modelf, layer, scaler, normalize, False, feature_tensor_size)\n",
        "\n",
        "  ############### COLOR\n",
        "  apply_framework(\"datasets/distortions/distortion_triplets/color_triplets\",\n",
        "                  \"png\",\n",
        "                  modelf, layer, scaler, normalize, False, feature_tensor_size)\n",
        "\n",
        "  ################ DEBLUR\n",
        "  apply_framework(\"datasets/distortions/distortion_triplets/deblur_triplets\",\n",
        "                  \"png\",\n",
        "                  modelf, layer, scaler, normalize, False, feature_tensor_size)\n",
        "\n",
        "  ############### FRAME INTERP\n",
        "  apply_framework(\"datasets/distortions/distortion_triplets/frameinterp_triplets\",\n",
        "                  \"png\",\n",
        "                  modelf, layer, scaler, normalize, False, feature_tensor_size)\n",
        "\n",
        "  ################ SUPER RES\n",
        "  apply_framework(\"datasets/distortions/distortion_triplets/superres_triplets\",\n",
        "                  \"png\",\n",
        "                  modelf, layer, scaler, normalize, False, feature_tensor_size)\n",
        "\n",
        "  print(\"\")\n",
        "  print(\"# ----------------------------------------HSJ------------------------#\")\n",
        "  print(\"\")\n",
        "  ################### HSJ Rank 0 + Dissimilar \n",
        "  apply_framework(\"datasets/hsj/hsj_triplets/hsj_query_rank0_dissimilar\",\n",
        "                  \"jpg\",\n",
        "                  modelf, layer, scaler, normalize, True, feature_tensor_size)\n",
        "\n",
        "  ################ HSJ Rank 0 + Rank 1\n",
        "  apply_framework(\"datasets/hsj/hsj_triplets/hsj_query_rank0_rank1\",\n",
        "                  \"jpg\",\n",
        "                  modelf, layer, scaler, normalize, True, feature_tensor_size)\n",
        "\n",
        "  print(\"\")\n",
        "  print(\"# ----------------------------------------Birds-16------------------------#\")\n",
        "  print(\"\")\n",
        "  ################### Birds-16 Rank 0 + Dissimilar \n",
        "  apply_framework(\"datasets/birds-16/birds_dataset_triplets/birds_query_rank0_dissimilar\",\n",
        "                  \"jpg\",\n",
        "                  modelf, layer, scaler, normalize, True, feature_tensor_size)\n",
        "\n",
        "  ################### Birds-16 Rank 0 + Rank 1 \n",
        "  apply_framework(\"datasets/birds-16/birds_dataset_triplets/birds_query_rank0_rank1\",\n",
        "                  \"jpg\",\n",
        "                  modelf, layer, scaler, normalize, True, feature_tensor_size)\n",
        "\n",
        "  ################### Birds-16 Rank 0 + Dissimilar 2rank1 test\n",
        "  apply_framework(\"datasets/birds-16/birds_dataset_triplets/birds_query_rank0_dissimilar_2rank1\",\n",
        "                  \"jpg\",\n",
        "                  modelf, layer, scaler, normalize, True, feature_tensor_size)"
      ],
      "metadata": {
        "id": "YnfDJ9S2f8hm"
      },
      "id": "YnfDJ9S2f8hm",
      "execution_count": 5,
      "outputs": []
    },
    {
      "cell_type": "markdown",
      "source": [
        "<h1> Similarity between references for each dataset </h1>"
      ],
      "metadata": {
        "id": "xtadaRexcGrg"
      },
      "id": "xtadaRexcGrg"
    },
    {
      "cell_type": "code",
      "source": [
        "import torch\n",
        "import torch.nn as nn\n",
        "import torchvision.models as models\n",
        "import torchvision.transforms as transforms\n",
        "from torch.autograd import Variable\n",
        "import numpy as np\n",
        "\n",
        "from PIL import Image\n",
        "\n",
        "############################ REQUIRES MODIFICATION FOR EACH MODEL \n",
        "\n",
        "# scaler = transforms.Resize((224, 224))\n",
        "# normalize = transforms.Normalize(mean=[0.485, 0.456, 0.406],\n",
        "#                                  std=[0.229, 0.224, 0.225])\n",
        "to_tensor = transforms.ToTensor()   # used to convert the PIL image to a PyTorch tensor (multidimensional array)\n",
        "############################\n",
        "\n",
        "\n",
        "############################## HOW TO GET MODEL:\n",
        "# # Load the pretrained model\n",
        "# model = models.resnet18(pretrained=True)\n",
        "# model.cuda()\n",
        "# # Use the model object to select the desired layer\n",
        "# layer = model._modules.get('avgpool')\n",
        "# # Set model to evaluation mode\n",
        "# model.eval()\n",
        "\n",
        "##################################\n",
        "\n",
        "def get_vector(image_name, model, layer, scaler, normalize, feature_tensor_size):\n",
        "    \n",
        "#     # Load the pretrained model\n",
        "#     model = models.resnet18(pretrained=True)\n",
        "#     # Use the model object to select the desired layer\n",
        "#     layer = model._modules.get('avgpool')\n",
        "    \n",
        "    # 1. Load the image with Pillow library\n",
        "    img = Image.open(image_name).convert('RGB')\n",
        "    # 2. Create a PyTorch Variable with the transformed image\n",
        "    t_img = Variable(normalize(to_tensor(scaler(img))).unsqueeze(0)).cuda()\n",
        "    # 3. Create a vector of zeros that will hold our feature vector\n",
        "    #    The 'avgpool' layer has an output size of 512\n",
        "    \n",
        "    # M1: my_embedding = torch.zeros(1, 512, 1, 1) and later my_embedding.copy_(o.data)\n",
        "    # M2: my_embedding = torch.zeros(512) and later my_embedding.copy_(o.data.reshape(o.data.size(1)))\n",
        "    my_embedding = torch.zeros(feature_tensor_size).cuda()\n",
        "    \n",
        "    # 4. Define a function that will copy the output of a layer\n",
        "    def copy_data(m, i, o):\n",
        "        my_embedding.copy_(o.data)\n",
        "    # 5. Attach that function to our selected layer\n",
        "    h = layer.register_forward_hook(copy_data)\n",
        "    # 6. Run the model on our transformed image\n",
        "    model(t_img)\n",
        "    # 7. Detach our copy function from the layer\n",
        "    h.remove()\n",
        "    # 8. Return the feature vector\n",
        "    return torch.flatten(my_embedding)\n",
        "\n",
        "############################ COSINE SIMILARITY\n",
        "cos = nn.CosineSimilarity(dim=1, eps=1e-6)\n",
        "\n",
        "\n",
        "########################### GET FEATURE VECTORS\n",
        "def get_image_embeddings(path, image_type, model, layer, scaler, normalize, isHSJOrBirds, feature_tensor_size):  # returns a list of tensors\n",
        "    # path of form: traditional/ref/\n",
        "    feature_tensor_dict = dict()\n",
        "    feature_tensor_dict[\"ref\"] = []\n",
        "    feature_tensor_dict[\"p0\"] = []\n",
        "    feature_tensor_dict[\"p1\"] = []\n",
        "    feature_tensor_dict[\"decision\"] = []\n",
        "    \n",
        "    for image_no in range(1000):\n",
        "        im_no_name =  (6-len(str(image_no)))*\"0\" + str(image_no) + \".\" + image_type\n",
        "        \n",
        "        feature_tensor_dict[\"ref\"].append(get_vector(path+\"/ref/\" + im_no_name, model, layer, scaler, normalize, feature_tensor_size))\n",
        "        feature_tensor_dict[\"p0\"].append(get_vector(path+\"/p0/\" + im_no_name, model, layer, scaler, normalize, feature_tensor_size))\n",
        "        feature_tensor_dict[\"p1\"].append(get_vector(path+\"/p1/\" + im_no_name, model, layer, scaler, normalize, feature_tensor_size))\n",
        "\n",
        "        # now load decision\n",
        "        if isHSJOrBirds:\n",
        "          feature_tensor_dict[\"decision\"].append(0)\n",
        "        else: \n",
        "          decision_no_name =  (6-len(str(image_no)))*\"0\" + str(image_no) + \".npy\"\n",
        "          decision = np.load(path+\"/judge/\"+decision_no_name)\n",
        "          if decision[0] <= 0.5: \n",
        "                feature_tensor_dict[\"decision\"].append(0)\n",
        "          else: \n",
        "                feature_tensor_dict[\"decision\"].append(1)\n",
        "        \n",
        "    return feature_tensor_dict\n",
        "\n",
        "\n",
        "########################## GET MODEL PREDICTIONS\n",
        "def get_predictions(embeddings):\n",
        "  cosine_similarity_dict = dict()\n",
        "  cosine_similarity_dict[\"ref_and_p0\"] = []\n",
        "  cosine_similarity_dict[\"ref_and_p1\"] = []\n",
        "  cosine_similarity_predictions = []\n",
        "\n",
        "  cos = nn.CosineSimilarity(dim=1, eps=1e-6)\n",
        "  # cos_sim = cos(query_vector.unsqueeze(0), ref2_vector.unsqueeze(0))\n",
        "\n",
        "  for image_no in range(1000):\n",
        "      cosine_similarity_dict[\"ref_and_p0\"].append(cos(embeddings[\"ref\"][image_no].unsqueeze(0), embeddings[\"p0\"][image_no].unsqueeze(0)))\n",
        "      cosine_similarity_dict[\"ref_and_p1\"].append(cos(embeddings[\"ref\"][image_no].unsqueeze(0), embeddings[\"p1\"][image_no].unsqueeze(0)))\n",
        "      \n",
        "      if cosine_similarity_dict[\"ref_and_p0\"][image_no] >= cosine_similarity_dict[\"ref_and_p1\"][image_no]:\n",
        "          cosine_similarity_predictions.append(0)\n",
        "      else:\n",
        "          cosine_similarity_predictions.append(1)   \n",
        "  return cosine_similarity_predictions\n",
        "\n",
        "########################## GET MODEL ACCURACY\n",
        "def get_accuracy(predictions,embeddings):\n",
        "  decisions = embeddings[\"decision\"]\n",
        "\n",
        "  number_wrong_predictions = 0\n",
        "\n",
        "  for image_no in range(1000):\n",
        "      if predictions[image_no] != decisions[image_no]:\n",
        "          number_wrong_predictions += 1\n",
        "      \n",
        "  accuracy = (1000 - number_wrong_predictions)/(1000)\n",
        "  return accuracy\n",
        "\n",
        "def get_average_reference_similarty_for_dataset(predictions,embeddings):\n",
        "  similarities_p0_p1 = []\n",
        "  similarities_p0_ref = []\n",
        "  similarities_p1_ref = []\n",
        "  \n",
        "  cos = nn.CosineSimilarity(dim=1, eps=1e-6)\n",
        "\n",
        "  for image_no in range(1000):\n",
        "      similarities_p0_p1.append(float(cos(embeddings[\"p0\"][image_no].unsqueeze(0), embeddings[\"p1\"][image_no].unsqueeze(0))))\n",
        "      similarities_p0_ref.append(float(cos(embeddings[\"ref\"][image_no].unsqueeze(0), embeddings[\"p0\"][image_no].unsqueeze(0))))\n",
        "      similarities_p1_ref.append(float(cos(embeddings[\"ref\"][image_no].unsqueeze(0), embeddings[\"p1\"][image_no].unsqueeze(0))))\n",
        "\n",
        "  similarity = np.average(similarities_p0_p1)/(float(np.average(similarities_p0_ref)+np.average(similarities_p1_ref)))\n",
        "\n",
        "  return similarity\n",
        "  \n",
        "\n",
        "def apply_framework(path, image_type, model, layer, scaler, normalize, isHSJOrBirds, feature_tensor_size):\n",
        "  embeddings = get_image_embeddings(path, \n",
        "                                    image_type,\n",
        "                                    model, layer, scaler, normalize, isHSJOrBirds, feature_tensor_size)\n",
        "  predictions= get_predictions(embeddings)\n",
        "  accuracy = get_average_reference_similarty_for_dataset(predictions, embeddings)\n",
        "  print(path + \": \" + str(accuracy))\n",
        "  return accuracy\n",
        "\n",
        "def apply_framework_model(modelf, layer, feature_tensor_size):\n",
        "  scaler = transforms.Resize((224, 224))\n",
        "  normalize = transforms.Normalize(mean=[0.485, 0.456, 0.406],\n",
        "                                  std=[0.229, 0.224, 0.225])\n",
        "\n",
        "  print(\"\")\n",
        "  print(\"# ----------------------------------------BAPPS 2AFC DIST-----------------------#\")\n",
        "  print(\"\")\n",
        "  ################### TRADITIONAL \n",
        "  apply_framework(\"datasets/distortions/distortion_triplets/traditional_triplets\",\n",
        "                  \"png\",\n",
        "                  modelf, layer, scaler, normalize, False, feature_tensor_size)\n",
        "\n",
        "  ################ CNN\n",
        "  apply_framework(\"datasets/distortions/distortion_triplets/cnn_triplets\",\n",
        "                  \"png\",\n",
        "                  modelf, layer, scaler, normalize, False, feature_tensor_size)\n",
        "\n",
        "  ############### COLOR\n",
        "  apply_framework(\"datasets/distortions/distortion_triplets/color_triplets\",\n",
        "                  \"png\",\n",
        "                  modelf, layer, scaler, normalize, False, feature_tensor_size)\n",
        "\n",
        "  ################ DEBLUR\n",
        "  apply_framework(\"datasets/distortions/distortion_triplets/deblur_triplets\",\n",
        "                  \"png\",\n",
        "                  modelf, layer, scaler, normalize, False, feature_tensor_size)\n",
        "\n",
        "  ############### FRAME INTERP\n",
        "  apply_framework(\"datasets/distortions/distortion_triplets/frameinterp_triplets\",\n",
        "                  \"png\",\n",
        "                  modelf, layer, scaler, normalize, False, feature_tensor_size)\n",
        "\n",
        "  ################ SUPER RES\n",
        "  apply_framework(\"datasets/distortions/distortion_triplets/superres_triplets\",\n",
        "                  \"png\",\n",
        "                  modelf, layer, scaler, normalize, False, feature_tensor_size)\n",
        "\n",
        "  print(\"\")\n",
        "  print(\"# ----------------------------------------HSJ------------------------#\")\n",
        "  print(\"\")\n",
        "  ################### HSJ Rank 0 + Dissimilar \n",
        "  apply_framework(\"datasets/hsj/hsj_triplets/hsj_query_rank0_dissimilar\",\n",
        "                  \"jpg\",\n",
        "                  modelf, layer, scaler, normalize, True, feature_tensor_size)\n",
        "\n",
        "  ################ HSJ Rank 0 + Rank 1\n",
        "  apply_framework(\"datasets/hsj/hsj_triplets/hsj_query_rank0_rank1\",\n",
        "                  \"jpg\",\n",
        "                  modelf, layer, scaler, normalize, True, feature_tensor_size)\n",
        "\n",
        "  print(\"\")\n",
        "  print(\"# ----------------------------------------Birds-16------------------------#\")\n",
        "  print(\"\")\n",
        "  ################### Birds-16 Rank 0 + Dissimilar \n",
        "  apply_framework(\"datasets/birds-16/birds_dataset_triplets/birds_query_rank0_dissimilar\",\n",
        "                  \"jpg\",\n",
        "                  modelf, layer, scaler, normalize, True, feature_tensor_size)\n",
        "\n",
        "  ################### Birds-16 Rank 0 + Rank 1 \n",
        "  apply_framework(\"datasets/birds-16/birds_dataset_triplets/birds_query_rank0_rank1\",\n",
        "                  \"jpg\",\n",
        "                  modelf, layer, scaler, normalize, True, feature_tensor_size)\n",
        "\n",
        "  ################### Birds-16 Rank 0 + Dissimilar 2rank1 test\n",
        "  apply_framework(\"datasets/birds-16/birds_dataset_triplets/birds_query_rank0_dissimilar_2rank1\",\n",
        "                  \"jpg\",\n",
        "                  modelf, layer, scaler, normalize, True, feature_tensor_size)"
      ],
      "metadata": {
        "id": "8FmPCI28cMZW"
      },
      "id": "8FmPCI28cMZW",
      "execution_count": 68,
      "outputs": []
    },
    {
      "cell_type": "code",
      "source": [
        "print(\"#-------------------------------Resnet-18-------------------------------------#\")\n",
        "model = models.resnet18(pretrained=True)\n",
        "model.cuda()\n",
        "layer = model._modules.get(\"avgpool\")\n",
        "model.eval()\n",
        "apply_framework_model(model,layer,[1, 512, 1, 1])\n",
        "\n",
        "print(\"#-------------------------------AlexNet-------------------------------------#\")\n",
        "print(\"alexnet\")\n",
        "model = models.alexnet(pretrained=True)\n",
        "model.cuda()\n",
        "layer = model._modules.get(\"avgpool\")\n",
        "model.eval()\n",
        "apply_framework_model(model,layer,[1, 256, 6, 6])\n",
        "\n",
        "print(\"#-------------------------------EfficientNet-------------------------------------#\")\n",
        "model = models.efficientnet_b0(pretrained=True)\n",
        "model.cuda()\n",
        "layer = model._modules.get(\"avgpool\")\n",
        "model.eval()\n",
        "apply_framework_model(model,layer,[1, 1280, 1, 1])"
      ],
      "metadata": {
        "colab": {
          "base_uri": "https://localhost:8080/",
          "height": 1000,
          "referenced_widgets": [
            "70b50fdf983e42098f0435261aec9fa3",
            "5e7907f27f8d4b49a3baeaab7fe5e4e7",
            "5137bb0cc231464f9cfd9ed392242948",
            "c1b2fa2f253245898d9b4e05a58080fa",
            "0dd0bbaf98b145d59b62451b7f086a4a",
            "119d4d6375e44ac0be64515d49e889da",
            "a174d6a993554ebfa2ad306f4dd9a76a",
            "1c1d47cf2d1a4100bb6b94ee967daf4c",
            "3d49b8b4c2f24517bc3d444598143e26",
            "ef9cf3c084684193876d0b3438cba00d",
            "5ec4fbb76c3f4effa82e83be008388e0"
          ]
        },
        "id": "pkEW2FLodYo6",
        "outputId": "cd3cc877-f19c-4cb8-9b78-f387dfa1c54d"
      },
      "id": "pkEW2FLodYo6",
      "execution_count": 69,
      "outputs": [
        {
          "output_type": "stream",
          "name": "stdout",
          "text": [
            "#-------------------------------Resnet-18-------------------------------------#\n"
          ]
        },
        {
          "output_type": "stream",
          "name": "stderr",
          "text": [
            "/usr/local/lib/python3.9/dist-packages/torchvision/models/_utils.py:223: UserWarning: Arguments other than a weight enum or `None` for 'weights' are deprecated since 0.13 and may be removed in the future. The current behavior is equivalent to passing `weights=ResNet18_Weights.IMAGENET1K_V1`. You can also use `weights=ResNet18_Weights.DEFAULT` to get the most up-to-date weights.\n",
            "  warnings.warn(msg)\n"
          ]
        },
        {
          "output_type": "stream",
          "name": "stdout",
          "text": [
            "\n",
            "# ----------------------------------------BAPPS 2AFC DIST-----------------------#\n",
            "\n",
            "datasets/distortions/distortion_triplets/traditional_triplets: 0.4641208374760602\n",
            "datasets/distortions/distortion_triplets/cnn_triplets: 0.47506779143223193\n",
            "datasets/distortions/distortion_triplets/color_triplets: 0.5205962052334754\n",
            "datasets/distortions/distortion_triplets/deblur_triplets: 0.5227560103399405\n",
            "datasets/distortions/distortion_triplets/frameinterp_triplets: 0.49837198871172556\n",
            "datasets/distortions/distortion_triplets/superres_triplets: 0.5032645443982735\n",
            "\n",
            "# ----------------------------------------HSJ------------------------#\n",
            "\n",
            "datasets/hsj/hsj_triplets/hsj_query_rank0_dissimilar: 0.46999940363671466\n",
            "datasets/hsj/hsj_triplets/hsj_query_rank0_rank1: 0.48269508874571315\n",
            "\n",
            "# ----------------------------------------Birds-16------------------------#\n",
            "\n",
            "datasets/birds-16/birds_dataset_triplets/birds_query_rank0_dissimilar: 0.4763286114740994\n",
            "datasets/birds-16/birds_dataset_triplets/birds_query_rank0_rank1: 0.4901479407311331\n",
            "datasets/birds-16/birds_dataset_triplets/birds_query_rank0_dissimilar_2rank1: 0.4713947121570724\n",
            "#-------------------------------AlexNet-------------------------------------#\n",
            "alexnet\n"
          ]
        },
        {
          "output_type": "stream",
          "name": "stderr",
          "text": [
            "/usr/local/lib/python3.9/dist-packages/torchvision/models/_utils.py:223: UserWarning: Arguments other than a weight enum or `None` for 'weights' are deprecated since 0.13 and may be removed in the future. The current behavior is equivalent to passing `weights=AlexNet_Weights.IMAGENET1K_V1`. You can also use `weights=AlexNet_Weights.DEFAULT` to get the most up-to-date weights.\n",
            "  warnings.warn(msg)\n"
          ]
        },
        {
          "output_type": "stream",
          "name": "stdout",
          "text": [
            "\n",
            "# ----------------------------------------BAPPS 2AFC DIST-----------------------#\n",
            "\n",
            "datasets/distortions/distortion_triplets/traditional_triplets: 0.4364289060079188\n",
            "datasets/distortions/distortion_triplets/cnn_triplets: 0.45928621575531037\n",
            "datasets/distortions/distortion_triplets/color_triplets: 0.542875106223054\n",
            "datasets/distortions/distortion_triplets/deblur_triplets: 0.522324235014437\n",
            "datasets/distortions/distortion_triplets/frameinterp_triplets: 0.5016308570654885\n",
            "datasets/distortions/distortion_triplets/superres_triplets: 0.504446025573848\n",
            "\n",
            "# ----------------------------------------HSJ------------------------#\n",
            "\n",
            "datasets/hsj/hsj_triplets/hsj_query_rank0_dissimilar: 0.3888592227278987\n",
            "datasets/hsj/hsj_triplets/hsj_query_rank0_rank1: 0.4373141247893356\n",
            "\n",
            "# ----------------------------------------Birds-16------------------------#\n",
            "\n",
            "datasets/birds-16/birds_dataset_triplets/birds_query_rank0_dissimilar: 0.4305198639769745\n",
            "datasets/birds-16/birds_dataset_triplets/birds_query_rank0_rank1: 0.4636477607016273\n",
            "datasets/birds-16/birds_dataset_triplets/birds_query_rank0_dissimilar_2rank1: 0.41671250148154804\n",
            "#-------------------------------EfficientNet-------------------------------------#\n"
          ]
        },
        {
          "output_type": "stream",
          "name": "stderr",
          "text": [
            "/usr/local/lib/python3.9/dist-packages/torchvision/models/_utils.py:223: UserWarning: Arguments other than a weight enum or `None` for 'weights' are deprecated since 0.13 and may be removed in the future. The current behavior is equivalent to passing `weights=EfficientNet_B0_Weights.IMAGENET1K_V1`. You can also use `weights=EfficientNet_B0_Weights.DEFAULT` to get the most up-to-date weights.\n",
            "  warnings.warn(msg)\n",
            "Downloading: \"https://download.pytorch.org/models/efficientnet_b0_rwightman-3dd342df.pth\" to /root/.cache/torch/hub/checkpoints/efficientnet_b0_rwightman-3dd342df.pth\n"
          ]
        },
        {
          "output_type": "display_data",
          "data": {
            "text/plain": [
              "  0%|          | 0.00/20.5M [00:00<?, ?B/s]"
            ],
            "application/vnd.jupyter.widget-view+json": {
              "version_major": 2,
              "version_minor": 0,
              "model_id": "70b50fdf983e42098f0435261aec9fa3"
            }
          },
          "metadata": {}
        },
        {
          "output_type": "stream",
          "name": "stdout",
          "text": [
            "\n",
            "# ----------------------------------------BAPPS 2AFC DIST-----------------------#\n",
            "\n",
            "datasets/distortions/distortion_triplets/traditional_triplets: 0.43987050895301505\n",
            "datasets/distortions/distortion_triplets/cnn_triplets: 0.4405119395727711\n",
            "datasets/distortions/distortion_triplets/color_triplets: 0.5492265690689818\n",
            "datasets/distortions/distortion_triplets/deblur_triplets: 0.553268302017516\n",
            "datasets/distortions/distortion_triplets/frameinterp_triplets: 0.49308268301438096\n",
            "datasets/distortions/distortion_triplets/superres_triplets: 0.5104082710720147\n",
            "\n",
            "# ----------------------------------------HSJ------------------------#\n",
            "\n",
            "datasets/hsj/hsj_triplets/hsj_query_rank0_dissimilar: 0.10308682840902555\n",
            "datasets/hsj/hsj_triplets/hsj_query_rank0_rank1: 0.14060771732463742\n",
            "\n",
            "# ----------------------------------------Birds-16------------------------#\n",
            "\n",
            "datasets/birds-16/birds_dataset_triplets/birds_query_rank0_dissimilar: 0.3818553559258767\n",
            "datasets/birds-16/birds_dataset_triplets/birds_query_rank0_rank1: 0.4717009809021449\n",
            "datasets/birds-16/birds_dataset_triplets/birds_query_rank0_dissimilar_2rank1: 0.37074582527955985\n"
          ]
        }
      ]
    },
    {
      "cell_type": "markdown",
      "source": [
        "<h1> Training our own models </h1>"
      ],
      "metadata": {
        "id": "3o5pmW80vKRQ"
      },
      "id": "3o5pmW80vKRQ"
    },
    {
      "cell_type": "code",
      "source": [
        "import time\n",
        "import torch\n",
        "import random\n",
        "import numpy as np\n",
        "import pandas as pd\n",
        "import torch.nn as nn\n",
        "import torch.optim as optim\n",
        "from tqdm.notebook import tqdm\n",
        "import matplotlib.pyplot as plt\n",
        "from xgboost import XGBClassifier\n",
        "from torchvision import transforms\n",
        "from torch.utils.data import DataLoader, Dataset"
      ],
      "metadata": {
        "id": "3hFwtkvHvN1g"
      },
      "id": "3hFwtkvHvN1g",
      "execution_count": 70,
      "outputs": []
    },
    {
      "cell_type": "code",
      "source": [
        "torch.manual_seed(2020)\n",
        "np.random.seed(2020)\n",
        "random.seed(2020)\n",
        "device = torch.device(\"cuda\" if torch.cuda.is_available() else \"cpu\")\n",
        "\n",
        "if device.type == \"cuda\":\n",
        "    torch.cuda.get_device_name()"
      ],
      "metadata": {
        "id": "ojBh21llyWv5"
      },
      "id": "ojBh21llyWv5",
      "execution_count": 71,
      "outputs": []
    },
    {
      "cell_type": "code",
      "source": [
        "embedding_dims = 2\n",
        "batch_size = 32\n",
        "epochs = 50"
      ],
      "metadata": {
        "id": "e55s7MKVygaB"
      },
      "id": "e55s7MKVygaB",
      "execution_count": 72,
      "outputs": []
    },
    {
      "cell_type": "code",
      "source": [
        "train_df = pd.read_csv(PATH+\"train.csv\")\n",
        "test_df = pd.read_csv(PATH+\"test.csv\")\n",
        "\n",
        "train_df.head()"
      ],
      "metadata": {
        "id": "mR3Ft_FHyh_V",
        "outputId": "d33a245a-f835-4b0f-8521-ebebf29b774a",
        "colab": {
          "base_uri": "https://localhost:8080/",
          "height": 218
        }
      },
      "id": "mR3Ft_FHyh_V",
      "execution_count": 73,
      "outputs": [
        {
          "output_type": "error",
          "ename": "NameError",
          "evalue": "ignored",
          "traceback": [
            "\u001b[0;31m---------------------------------------------------------------------------\u001b[0m",
            "\u001b[0;31mNameError\u001b[0m                                 Traceback (most recent call last)",
            "\u001b[0;32m<ipython-input-73-2b7b35a0a483>\u001b[0m in \u001b[0;36m<module>\u001b[0;34m\u001b[0m\n\u001b[0;32m----> 1\u001b[0;31m \u001b[0mtrain_df\u001b[0m \u001b[0;34m=\u001b[0m \u001b[0mpd\u001b[0m\u001b[0;34m.\u001b[0m\u001b[0mread_csv\u001b[0m\u001b[0;34m(\u001b[0m\u001b[0mPATH\u001b[0m\u001b[0;34m+\u001b[0m\u001b[0;34m\"train.csv\"\u001b[0m\u001b[0;34m)\u001b[0m\u001b[0;34m\u001b[0m\u001b[0;34m\u001b[0m\u001b[0m\n\u001b[0m\u001b[1;32m      2\u001b[0m \u001b[0mtest_df\u001b[0m \u001b[0;34m=\u001b[0m \u001b[0mpd\u001b[0m\u001b[0;34m.\u001b[0m\u001b[0mread_csv\u001b[0m\u001b[0;34m(\u001b[0m\u001b[0mPATH\u001b[0m\u001b[0;34m+\u001b[0m\u001b[0;34m\"test.csv\"\u001b[0m\u001b[0;34m)\u001b[0m\u001b[0;34m\u001b[0m\u001b[0;34m\u001b[0m\u001b[0m\n\u001b[1;32m      3\u001b[0m \u001b[0;34m\u001b[0m\u001b[0m\n\u001b[1;32m      4\u001b[0m \u001b[0mtrain_df\u001b[0m\u001b[0;34m.\u001b[0m\u001b[0mhead\u001b[0m\u001b[0;34m(\u001b[0m\u001b[0;34m)\u001b[0m\u001b[0;34m\u001b[0m\u001b[0;34m\u001b[0m\u001b[0m\n",
            "\u001b[0;31mNameError\u001b[0m: name 'PATH' is not defined"
          ]
        }
      ]
    },
    {
      "cell_type": "code",
      "source": [
        "class HSJ(Dataset):\n",
        "    def __init__(self, path, train=True, transform=None):\n",
        "        self.is_train = train\n",
        "        self.transform = transform\n",
        "        self.to_pil = transforms.ToPILImage()\n",
        "        self.path=path\n",
        "        \n",
        "        if self.is_train:   \n",
        "            self.image_indices_range = (0,699)\n",
        "            self.length = 700  \n",
        "        else: \n",
        "            self.image_indices_range = (700,999)\n",
        "            self.length = 300  \n",
        "        self.scaler = transforms.Resize((224, 224))\n",
        "        self.normalize = transforms.Normalize(mean=[0.485, 0.456, 0.406],\n",
        "                                  std=[0.229, 0.224, 0.225])\n",
        "\n",
        "        #     self.images = df.iloc[:, 1:].values.astype(np.uint8)\n",
        "        #     self.labels = df.iloc[:, 0].values\n",
        "        #     self.index = df.index.values\n",
        "        # else:\n",
        "        #     self.images = df.values.astype(np.uint8)\n",
        "        \n",
        "    def __len__(self):\n",
        "        return self.length\n",
        "    \n",
        "    def __getitem__(self, item):\n",
        "        # item is just an index --> transform into label\n",
        "        im_no_name =  (6-len(str(item)))*\"0\" + str(item) + \".\" + \"jpg\"\n",
        "        image_name_ref = self.path+\"/ref/\" + im_no_name\n",
        "\n",
        "        anchor_img = self.scaler(Image.open(image_name_ref).convert('RGB'))\n",
        "        # anchor_img = self.images[item].reshape(28, 28, 1)\n",
        "        \n",
        "        if self.is_train:\n",
        "            image_name_p0 = self.path+\"/p0/\" + im_no_name\n",
        "            positive_img = self.scaler(Image.open(image_name_p0).convert('RGB'))\n",
        "\n",
        "            image_name_p1 = self.path+\"/p1/\" + im_no_name\n",
        "            negative_img = self.scaler(Image.open(image_name_p1).convert('RGB'))\n",
        "            \n",
        "            if self.transform:\n",
        "                anchor_img = self.transform(anchor_img)\n",
        "                positive_img = self.transform(positive_img)\n",
        "                negative_img = self.transform(negative_img)\n",
        "            \n",
        "            return anchor_img, positive_img, negative_img   # anchor_label\n",
        "        \n",
        "        else:\n",
        "            if self.transform:\n",
        "                anchor_img = self.transform(anchor_img)\n",
        "            return anchor_img"
      ],
      "metadata": {
        "id": "qaaFI8QC1Diw"
      },
      "id": "qaaFI8QC1Diw",
      "execution_count": 90,
      "outputs": []
    },
    {
      "cell_type": "code",
      "source": [
        "train_ds = HSJ(\"datasets/hsj/hsj_triplets/hsj_query_rank0_rank1\", \n",
        "                 train=True,\n",
        "                 transform=transforms.Compose([\n",
        "                     transforms.ToTensor()\n",
        "                 ]))\n",
        "train_loader = DataLoader(train_ds, batch_size=batch_size, shuffle=True, num_workers=4)"
      ],
      "metadata": {
        "id": "G6T3VI_q-wVW"
      },
      "id": "G6T3VI_q-wVW",
      "execution_count": null,
      "outputs": []
    },
    {
      "cell_type": "code",
      "source": [
        "    # 1. Load the image with Pillow library\n",
        "item=0\n",
        "path = \"datasets/hsj/hsj_triplets/hsj_query_rank0_rank1\"\n",
        "im_no_name =  (6-len(str(item)))*\"0\" + str(item) + \".\" + \"jpg\"\n",
        "image_name = path+\"/ref/\" + im_no_name\n",
        "\n",
        "img = to_tensor(scaler(Image.open(image_name).convert('RGB')))\n",
        "t = transforms.ToPILImage()\n",
        "img_img = t(img)\n",
        "# t_img = Variable(normalize(to_tensor(scaler(img))).unsqueeze(0)).cuda()\n",
        "# scaler(img)\n",
        "img.size() \n",
        "# feature_tensor_dict[\"ref\"].append(get_vector(path+\"/ref/\" + im_no_name, model, layer, scaler, normalize, feature_tensor_size))\n",
        "img_img"
      ],
      "metadata": {
        "id": "ET3gYihB5z3M",
        "outputId": "630f4f66-0908-4831-e278-7dcba2b176ec",
        "colab": {
          "base_uri": "https://localhost:8080/",
          "height": 241
        }
      },
      "id": "ET3gYihB5z3M",
      "execution_count": 87,
      "outputs": [
        {
          "output_type": "execute_result",
          "data": {
            "text/plain": [
              "<PIL.Image.Image image mode=RGB size=224x224 at 0x7F5386083F10>"
            ],
            "image/png": "[encoded data removed]"
          },
          "metadata": {},
          "execution_count": 87
        }
      ]
    }
  ],
  "metadata": {
    "kernelspec": {
      "display_name": "Python 3 (ipykernel)",
      "language": "python",
      "name": "python3"
    },
    "language_info": {
      "codemirror_mode": {
        "name": "ipython",
        "version": 3
      },
      "file_extension": ".py",
      "mimetype": "text/x-python",
      "name": "python",
      "nbconvert_exporter": "python",
      "pygments_lexer": "ipython3",
      "version": "3.10.4"
    },
    "colab": {
      "provenance": []
    },
    "accelerator": "GPU",
    "gpuClass": "standard",
    "widgets": {
      "application/vnd.jupyter.widget-state+json": {
        "bca6d128c81c4b1596e23411c8939c43": {
          "model_module": "@jupyter-widgets/controls",
          "model_name": "HBoxModel",
          "model_module_version": "1.5.0",
          "state": {
            "_dom_classes": [],
            "_model_module": "@jupyter-widgets/controls",
            "_model_module_version": "1.5.0",
            "_model_name": "HBoxModel",
            "_view_count": null,
            "_view_module": "@jupyter-widgets/controls",
            "_view_module_version": "1.5.0",
            "_view_name": "HBoxView",
            "box_style": "",
            "children": [
              "IPY_MODEL_f3e1a8617cb748a39f282c11b9491e0a",
              "IPY_MODEL_d3e31a9020364e64be5c1ee8950e48b3",
              "IPY_MODEL_7548b65877f94225ae7889578eab5db2"
            ],
            "layout": "IPY_MODEL_75708c28b4694cee90680050814f3aa4"
          }
        },
        "f3e1a8617cb748a39f282c11b9491e0a": {
          "model_module": "@jupyter-widgets/controls",
          "model_name": "HTMLModel",
          "model_module_version": "1.5.0",
          "state": {
            "_dom_classes": [],
            "_model_module": "@jupyter-widgets/controls",
            "_model_module_version": "1.5.0",
            "_model_name": "HTMLModel",
            "_view_count": null,
            "_view_module": "@jupyter-widgets/controls",
            "_view_module_version": "1.5.0",
            "_view_name": "HTMLView",
            "description": "",
            "description_tooltip": null,
            "layout": "IPY_MODEL_893c1dca55e44bcaa5e35d8c22fa8636",
            "placeholder": "​",
            "style": "IPY_MODEL_5372c90c9580459ab96dc596ac1361d5",
            "value": "100%"
          }
        },
        "d3e31a9020364e64be5c1ee8950e48b3": {
          "model_module": "@jupyter-widgets/controls",
          "model_name": "FloatProgressModel",
          "model_module_version": "1.5.0",
          "state": {
            "_dom_classes": [],
            "_model_module": "@jupyter-widgets/controls",
            "_model_module_version": "1.5.0",
            "_model_name": "FloatProgressModel",
            "_view_count": null,
            "_view_module": "@jupyter-widgets/controls",
            "_view_module_version": "1.5.0",
            "_view_name": "ProgressView",
            "bar_style": "success",
            "description": "",
            "description_tooltip": null,
            "layout": "IPY_MODEL_0f7d3090a62545049b4ebc69e7fd5f21",
            "max": 87319819,
            "min": 0,
            "orientation": "horizontal",
            "style": "IPY_MODEL_fdd5022ec0ab422db94c6392eb0202f1",
            "value": 87319819
          }
        },
        "7548b65877f94225ae7889578eab5db2": {
          "model_module": "@jupyter-widgets/controls",
          "model_name": "HTMLModel",
          "model_module_version": "1.5.0",
          "state": {
            "_dom_classes": [],
            "_model_module": "@jupyter-widgets/controls",
            "_model_module_version": "1.5.0",
            "_model_name": "HTMLModel",
            "_view_count": null,
            "_view_module": "@jupyter-widgets/controls",
            "_view_module_version": "1.5.0",
            "_view_name": "HTMLView",
            "description": "",
            "description_tooltip": null,
            "layout": "IPY_MODEL_009229f9541b4e25b6aa5b8a9724865c",
            "placeholder": "​",
            "style": "IPY_MODEL_71eaa211a3a9407083de38c547cc3305",
            "value": " 83.3M/83.3M [00:01&lt;00:00, 63.4MB/s]"
          }
        },
        "75708c28b4694cee90680050814f3aa4": {
          "model_module": "@jupyter-widgets/base",
          "model_name": "LayoutModel",
          "model_module_version": "1.2.0",
          "state": {
            "_model_module": "@jupyter-widgets/base",
            "_model_module_version": "1.2.0",
            "_model_name": "LayoutModel",
            "_view_count": null,
            "_view_module": "@jupyter-widgets/base",
            "_view_module_version": "1.2.0",
            "_view_name": "LayoutView",
            "align_content": null,
            "align_items": null,
            "align_self": null,
            "border": null,
            "bottom": null,
            "display": null,
            "flex": null,
            "flex_flow": null,
            "grid_area": null,
            "grid_auto_columns": null,
            "grid_auto_flow": null,
            "grid_auto_rows": null,
            "grid_column": null,
            "grid_gap": null,
            "grid_row": null,
            "grid_template_areas": null,
            "grid_template_columns": null,
            "grid_template_rows": null,
            "height": null,
            "justify_content": null,
            "justify_items": null,
            "left": null,
            "margin": null,
            "max_height": null,
            "max_width": null,
            "min_height": null,
            "min_width": null,
            "object_fit": null,
            "object_position": null,
            "order": null,
            "overflow": null,
            "overflow_x": null,
            "overflow_y": null,
            "padding": null,
            "right": null,
            "top": null,
            "visibility": null,
            "width": null
          }
        },
        "893c1dca55e44bcaa5e35d8c22fa8636": {
          "model_module": "@jupyter-widgets/base",
          "model_name": "LayoutModel",
          "model_module_version": "1.2.0",
          "state": {
            "_model_module": "@jupyter-widgets/base",
            "_model_module_version": "1.2.0",
            "_model_name": "LayoutModel",
            "_view_count": null,
            "_view_module": "@jupyter-widgets/base",
            "_view_module_version": "1.2.0",
            "_view_name": "LayoutView",
            "align_content": null,
            "align_items": null,
            "align_self": null,
            "border": null,
            "bottom": null,
            "display": null,
            "flex": null,
            "flex_flow": null,
            "grid_area": null,
            "grid_auto_columns": null,
            "grid_auto_flow": null,
            "grid_auto_rows": null,
            "grid_column": null,
            "grid_gap": null,
            "grid_row": null,
            "grid_template_areas": null,
            "grid_template_columns": null,
            "grid_template_rows": null,
            "height": null,
            "justify_content": null,
            "justify_items": null,
            "left": null,
            "margin": null,
            "max_height": null,
            "max_width": null,
            "min_height": null,
            "min_width": null,
            "object_fit": null,
            "object_position": null,
            "order": null,
            "overflow": null,
            "overflow_x": null,
            "overflow_y": null,
            "padding": null,
            "right": null,
            "top": null,
            "visibility": null,
            "width": null
          }
        },
        "5372c90c9580459ab96dc596ac1361d5": {
          "model_module": "@jupyter-widgets/controls",
          "model_name": "DescriptionStyleModel",
          "model_module_version": "1.5.0",
          "state": {
            "_model_module": "@jupyter-widgets/controls",
            "_model_module_version": "1.5.0",
            "_model_name": "DescriptionStyleModel",
            "_view_count": null,
            "_view_module": "@jupyter-widgets/base",
            "_view_module_version": "1.2.0",
            "_view_name": "StyleView",
            "description_width": ""
          }
        },
        "0f7d3090a62545049b4ebc69e7fd5f21": {
          "model_module": "@jupyter-widgets/base",
          "model_name": "LayoutModel",
          "model_module_version": "1.2.0",
          "state": {
            "_model_module": "@jupyter-widgets/base",
            "_model_module_version": "1.2.0",
            "_model_name": "LayoutModel",
            "_view_count": null,
            "_view_module": "@jupyter-widgets/base",
            "_view_module_version": "1.2.0",
            "_view_name": "LayoutView",
            "align_content": null,
            "align_items": null,
            "align_self": null,
            "border": null,
            "bottom": null,
            "display": null,
            "flex": null,
            "flex_flow": null,
            "grid_area": null,
            "grid_auto_columns": null,
            "grid_auto_flow": null,
            "grid_auto_rows": null,
            "grid_column": null,
            "grid_gap": null,
            "grid_row": null,
            "grid_template_areas": null,
            "grid_template_columns": null,
            "grid_template_rows": null,
            "height": null,
            "justify_content": null,
            "justify_items": null,
            "left": null,
            "margin": null,
            "max_height": null,
            "max_width": null,
            "min_height": null,
            "min_width": null,
            "object_fit": null,
            "object_position": null,
            "order": null,
            "overflow": null,
            "overflow_x": null,
            "overflow_y": null,
            "padding": null,
            "right": null,
            "top": null,
            "visibility": null,
            "width": null
          }
        },
        "fdd5022ec0ab422db94c6392eb0202f1": {
          "model_module": "@jupyter-widgets/controls",
          "model_name": "ProgressStyleModel",
          "model_module_version": "1.5.0",
          "state": {
            "_model_module": "@jupyter-widgets/controls",
            "_model_module_version": "1.5.0",
            "_model_name": "ProgressStyleModel",
            "_view_count": null,
            "_view_module": "@jupyter-widgets/base",
            "_view_module_version": "1.2.0",
            "_view_name": "StyleView",
            "bar_color": null,
            "description_width": ""
          }
        },
        "009229f9541b4e25b6aa5b8a9724865c": {
          "model_module": "@jupyter-widgets/base",
          "model_name": "LayoutModel",
          "model_module_version": "1.2.0",
          "state": {
            "_model_module": "@jupyter-widgets/base",
            "_model_module_version": "1.2.0",
            "_model_name": "LayoutModel",
            "_view_count": null,
            "_view_module": "@jupyter-widgets/base",
            "_view_module_version": "1.2.0",
            "_view_name": "LayoutView",
            "align_content": null,
            "align_items": null,
            "align_self": null,
            "border": null,
            "bottom": null,
            "display": null,
            "flex": null,
            "flex_flow": null,
            "grid_area": null,
            "grid_auto_columns": null,
            "grid_auto_flow": null,
            "grid_auto_rows": null,
            "grid_column": null,
            "grid_gap": null,
            "grid_row": null,
            "grid_template_areas": null,
            "grid_template_columns": null,
            "grid_template_rows": null,
            "height": null,
            "justify_content": null,
            "justify_items": null,
            "left": null,
            "margin": null,
            "max_height": null,
            "max_width": null,
            "min_height": null,
            "min_width": null,
            "object_fit": null,
            "object_position": null,
            "order": null,
            "overflow": null,
            "overflow_x": null,
            "overflow_y": null,
            "padding": null,
            "right": null,
            "top": null,
            "visibility": null,
            "width": null
          }
        },
        "71eaa211a3a9407083de38c547cc3305": {
          "model_module": "@jupyter-widgets/controls",
          "model_name": "DescriptionStyleModel",
          "model_module_version": "1.5.0",
          "state": {
            "_model_module": "@jupyter-widgets/controls",
            "_model_module_version": "1.5.0",
            "_model_name": "DescriptionStyleModel",
            "_view_count": null,
            "_view_module": "@jupyter-widgets/base",
            "_view_module_version": "1.2.0",
            "_view_name": "StyleView",
            "description_width": ""
          }
        },
        "6678c3284bba4788bbe9d4e45414ffc8": {
          "model_module": "@jupyter-widgets/controls",
          "model_name": "HBoxModel",
          "model_module_version": "1.5.0",
          "state": {
            "_dom_classes": [],
            "_model_module": "@jupyter-widgets/controls",
            "_model_module_version": "1.5.0",
            "_model_name": "HBoxModel",
            "_view_count": null,
            "_view_module": "@jupyter-widgets/controls",
            "_view_module_version": "1.5.0",
            "_view_name": "HBoxView",
            "box_style": "",
            "children": [
              "IPY_MODEL_0bb4ca5b79eb47cba9040c4866621628",
              "IPY_MODEL_0dca7d41c2c6492d94e48aa4ddac2b39",
              "IPY_MODEL_cffc167a23f346938726878ea7968396"
            ],
            "layout": "IPY_MODEL_ce4cd73fae2c4ca6ac365353239ad9fe"
          }
        },
        "0bb4ca5b79eb47cba9040c4866621628": {
          "model_module": "@jupyter-widgets/controls",
          "model_name": "HTMLModel",
          "model_module_version": "1.5.0",
          "state": {
            "_dom_classes": [],
            "_model_module": "@jupyter-widgets/controls",
            "_model_module_version": "1.5.0",
            "_model_name": "HTMLModel",
            "_view_count": null,
            "_view_module": "@jupyter-widgets/controls",
            "_view_module_version": "1.5.0",
            "_view_name": "HTMLView",
            "description": "",
            "description_tooltip": null,
            "layout": "IPY_MODEL_ff89d302c7b447b7865767d11316ab95",
            "placeholder": "​",
            "style": "IPY_MODEL_dec2a15e52af45b8aef578feec6d82c6",
            "value": "100%"
          }
        },
        "0dca7d41c2c6492d94e48aa4ddac2b39": {
          "model_module": "@jupyter-widgets/controls",
          "model_name": "FloatProgressModel",
          "model_module_version": "1.5.0",
          "state": {
            "_dom_classes": [],
            "_model_module": "@jupyter-widgets/controls",
            "_model_module_version": "1.5.0",
            "_model_name": "FloatProgressModel",
            "_view_count": null,
            "_view_module": "@jupyter-widgets/controls",
            "_view_module_version": "1.5.0",
            "_view_name": "ProgressView",
            "bar_style": "success",
            "description": "",
            "description_tooltip": null,
            "layout": "IPY_MODEL_0c88bfb26f94466f8ce31588b5e6faff",
            "max": 178793939,
            "min": 0,
            "orientation": "horizontal",
            "style": "IPY_MODEL_e2e0448838f24045bb09baa6a82f7d60",
            "value": 178793939
          }
        },
        "cffc167a23f346938726878ea7968396": {
          "model_module": "@jupyter-widgets/controls",
          "model_name": "HTMLModel",
          "model_module_version": "1.5.0",
          "state": {
            "_dom_classes": [],
            "_model_module": "@jupyter-widgets/controls",
            "_model_module_version": "1.5.0",
            "_model_name": "HTMLModel",
            "_view_count": null,
            "_view_module": "@jupyter-widgets/controls",
            "_view_module_version": "1.5.0",
            "_view_name": "HTMLView",
            "description": "",
            "description_tooltip": null,
            "layout": "IPY_MODEL_9c786b0d9c3a4f908b4bef29511cdf54",
            "placeholder": "​",
            "style": "IPY_MODEL_229cdc96df7c40029253c5e17f6edf74",
            "value": " 171M/171M [00:03&lt;00:00, 59.1MB/s]"
          }
        },
        "ce4cd73fae2c4ca6ac365353239ad9fe": {
          "model_module": "@jupyter-widgets/base",
          "model_name": "LayoutModel",
          "model_module_version": "1.2.0",
          "state": {
            "_model_module": "@jupyter-widgets/base",
            "_model_module_version": "1.2.0",
            "_model_name": "LayoutModel",
            "_view_count": null,
            "_view_module": "@jupyter-widgets/base",
            "_view_module_version": "1.2.0",
            "_view_name": "LayoutView",
            "align_content": null,
            "align_items": null,
            "align_self": null,
            "border": null,
            "bottom": null,
            "display": null,
            "flex": null,
            "flex_flow": null,
            "grid_area": null,
            "grid_auto_columns": null,
            "grid_auto_flow": null,
            "grid_auto_rows": null,
            "grid_column": null,
            "grid_gap": null,
            "grid_row": null,
            "grid_template_areas": null,
            "grid_template_columns": null,
            "grid_template_rows": null,
            "height": null,
            "justify_content": null,
            "justify_items": null,
            "left": null,
            "margin": null,
            "max_height": null,
            "max_width": null,
            "min_height": null,
            "min_width": null,
            "object_fit": null,
            "object_position": null,
            "order": null,
            "overflow": null,
            "overflow_x": null,
            "overflow_y": null,
            "padding": null,
            "right": null,
            "top": null,
            "visibility": null,
            "width": null
          }
        },
        "ff89d302c7b447b7865767d11316ab95": {
          "model_module": "@jupyter-widgets/base",
          "model_name": "LayoutModel",
          "model_module_version": "1.2.0",
          "state": {
            "_model_module": "@jupyter-widgets/base",
            "_model_module_version": "1.2.0",
            "_model_name": "LayoutModel",
            "_view_count": null,
            "_view_module": "@jupyter-widgets/base",
            "_view_module_version": "1.2.0",
            "_view_name": "LayoutView",
            "align_content": null,
            "align_items": null,
            "align_self": null,
            "border": null,
            "bottom": null,
            "display": null,
            "flex": null,
            "flex_flow": null,
            "grid_area": null,
            "grid_auto_columns": null,
            "grid_auto_flow": null,
            "grid_auto_rows": null,
            "grid_column": null,
            "grid_gap": null,
            "grid_row": null,
            "grid_template_areas": null,
            "grid_template_columns": null,
            "grid_template_rows": null,
            "height": null,
            "justify_content": null,
            "justify_items": null,
            "left": null,
            "margin": null,
            "max_height": null,
            "max_width": null,
            "min_height": null,
            "min_width": null,
            "object_fit": null,
            "object_position": null,
            "order": null,
            "overflow": null,
            "overflow_x": null,
            "overflow_y": null,
            "padding": null,
            "right": null,
            "top": null,
            "visibility": null,
            "width": null
          }
        },
        "dec2a15e52af45b8aef578feec6d82c6": {
          "model_module": "@jupyter-widgets/controls",
          "model_name": "DescriptionStyleModel",
          "model_module_version": "1.5.0",
          "state": {
            "_model_module": "@jupyter-widgets/controls",
            "_model_module_version": "1.5.0",
            "_model_name": "DescriptionStyleModel",
            "_view_count": null,
            "_view_module": "@jupyter-widgets/base",
            "_view_module_version": "1.2.0",
            "_view_name": "StyleView",
            "description_width": ""
          }
        },
        "0c88bfb26f94466f8ce31588b5e6faff": {
          "model_module": "@jupyter-widgets/base",
          "model_name": "LayoutModel",
          "model_module_version": "1.2.0",
          "state": {
            "_model_module": "@jupyter-widgets/base",
            "_model_module_version": "1.2.0",
            "_model_name": "LayoutModel",
            "_view_count": null,
            "_view_module": "@jupyter-widgets/base",
            "_view_module_version": "1.2.0",
            "_view_name": "LayoutView",
            "align_content": null,
            "align_items": null,
            "align_self": null,
            "border": null,
            "bottom": null,
            "display": null,
            "flex": null,
            "flex_flow": null,
            "grid_area": null,
            "grid_auto_columns": null,
            "grid_auto_flow": null,
            "grid_auto_rows": null,
            "grid_column": null,
            "grid_gap": null,
            "grid_row": null,
            "grid_template_areas": null,
            "grid_template_columns": null,
            "grid_template_rows": null,
            "height": null,
            "justify_content": null,
            "justify_items": null,
            "left": null,
            "margin": null,
            "max_height": null,
            "max_width": null,
            "min_height": null,
            "min_width": null,
            "object_fit": null,
            "object_position": null,
            "order": null,
            "overflow": null,
            "overflow_x": null,
            "overflow_y": null,
            "padding": null,
            "right": null,
            "top": null,
            "visibility": null,
            "width": null
          }
        },
        "e2e0448838f24045bb09baa6a82f7d60": {
          "model_module": "@jupyter-widgets/controls",
          "model_name": "ProgressStyleModel",
          "model_module_version": "1.5.0",
          "state": {
            "_model_module": "@jupyter-widgets/controls",
            "_model_module_version": "1.5.0",
            "_model_name": "ProgressStyleModel",
            "_view_count": null,
            "_view_module": "@jupyter-widgets/base",
            "_view_module_version": "1.2.0",
            "_view_name": "StyleView",
            "bar_color": null,
            "description_width": ""
          }
        },
        "9c786b0d9c3a4f908b4bef29511cdf54": {
          "model_module": "@jupyter-widgets/base",
          "model_name": "LayoutModel",
          "model_module_version": "1.2.0",
          "state": {
            "_model_module": "@jupyter-widgets/base",
            "_model_module_version": "1.2.0",
            "_model_name": "LayoutModel",
            "_view_count": null,
            "_view_module": "@jupyter-widgets/base",
            "_view_module_version": "1.2.0",
            "_view_name": "LayoutView",
            "align_content": null,
            "align_items": null,
            "align_self": null,
            "border": null,
            "bottom": null,
            "display": null,
            "flex": null,
            "flex_flow": null,
            "grid_area": null,
            "grid_auto_columns": null,
            "grid_auto_flow": null,
            "grid_auto_rows": null,
            "grid_column": null,
            "grid_gap": null,
            "grid_row": null,
            "grid_template_areas": null,
            "grid_template_columns": null,
            "grid_template_rows": null,
            "height": null,
            "justify_content": null,
            "justify_items": null,
            "left": null,
            "margin": null,
            "max_height": null,
            "max_width": null,
            "min_height": null,
            "min_width": null,
            "object_fit": null,
            "object_position": null,
            "order": null,
            "overflow": null,
            "overflow_x": null,
            "overflow_y": null,
            "padding": null,
            "right": null,
            "top": null,
            "visibility": null,
            "width": null
          }
        },
        "229cdc96df7c40029253c5e17f6edf74": {
          "model_module": "@jupyter-widgets/controls",
          "model_name": "DescriptionStyleModel",
          "model_module_version": "1.5.0",
          "state": {
            "_model_module": "@jupyter-widgets/controls",
            "_model_module_version": "1.5.0",
            "_model_name": "DescriptionStyleModel",
            "_view_count": null,
            "_view_module": "@jupyter-widgets/base",
            "_view_module_version": "1.2.0",
            "_view_name": "StyleView",
            "description_width": ""
          }
        },
        "29ec99b1c78842238a5f1e9a1f7bd471": {
          "model_module": "@jupyter-widgets/controls",
          "model_name": "HBoxModel",
          "model_module_version": "1.5.0",
          "state": {
            "_dom_classes": [],
            "_model_module": "@jupyter-widgets/controls",
            "_model_module_version": "1.5.0",
            "_model_name": "HBoxModel",
            "_view_count": null,
            "_view_module": "@jupyter-widgets/controls",
            "_view_module_version": "1.5.0",
            "_view_name": "HBoxView",
            "box_style": "",
            "children": [
              "IPY_MODEL_d1a3ed3a66f5412b908e14b58b920c67",
              "IPY_MODEL_053f280125b1431aba72492658913b36",
              "IPY_MODEL_4561cbe2c1214254a8d670b9f31caed1"
            ],
            "layout": "IPY_MODEL_1dac5859a10945a1adadb28dfc93ea0e"
          }
        },
        "d1a3ed3a66f5412b908e14b58b920c67": {
          "model_module": "@jupyter-widgets/controls",
          "model_name": "HTMLModel",
          "model_module_version": "1.5.0",
          "state": {
            "_dom_classes": [],
            "_model_module": "@jupyter-widgets/controls",
            "_model_module_version": "1.5.0",
            "_model_name": "HTMLModel",
            "_view_count": null,
            "_view_module": "@jupyter-widgets/controls",
            "_view_module_version": "1.5.0",
            "_view_name": "HTMLView",
            "description": "",
            "description_tooltip": null,
            "layout": "IPY_MODEL_18f2ceb4c94c4ea091afc17ab882936f",
            "placeholder": "​",
            "style": "IPY_MODEL_48d0319c81204308a655424e9d974f41",
            "value": "100%"
          }
        },
        "053f280125b1431aba72492658913b36": {
          "model_module": "@jupyter-widgets/controls",
          "model_name": "FloatProgressModel",
          "model_module_version": "1.5.0",
          "state": {
            "_dom_classes": [],
            "_model_module": "@jupyter-widgets/controls",
            "_model_module_version": "1.5.0",
            "_model_name": "FloatProgressModel",
            "_view_count": null,
            "_view_module": "@jupyter-widgets/controls",
            "_view_module_version": "1.5.0",
            "_view_name": "ProgressView",
            "bar_style": "success",
            "description": "",
            "description_tooltip": null,
            "layout": "IPY_MODEL_917e6cbf826c4da399841399330f9dd9",
            "max": 241627721,
            "min": 0,
            "orientation": "horizontal",
            "style": "IPY_MODEL_92a20835c1ab41af8eee379d345dc6e0",
            "value": 241627721
          }
        },
        "4561cbe2c1214254a8d670b9f31caed1": {
          "model_module": "@jupyter-widgets/controls",
          "model_name": "HTMLModel",
          "model_module_version": "1.5.0",
          "state": {
            "_dom_classes": [],
            "_model_module": "@jupyter-widgets/controls",
            "_model_module_version": "1.5.0",
            "_model_name": "HTMLModel",
            "_view_count": null,
            "_view_module": "@jupyter-widgets/controls",
            "_view_module_version": "1.5.0",
            "_view_name": "HTMLView",
            "description": "",
            "description_tooltip": null,
            "layout": "IPY_MODEL_d97d9fc3cfe04e60aebd1723a4cdf263",
            "placeholder": "​",
            "style": "IPY_MODEL_516db9148baa45f485cbcca81248a1f1",
            "value": " 230M/230M [00:02&lt;00:00, 96.4MB/s]"
          }
        },
        "1dac5859a10945a1adadb28dfc93ea0e": {
          "model_module": "@jupyter-widgets/base",
          "model_name": "LayoutModel",
          "model_module_version": "1.2.0",
          "state": {
            "_model_module": "@jupyter-widgets/base",
            "_model_module_version": "1.2.0",
            "_model_name": "LayoutModel",
            "_view_count": null,
            "_view_module": "@jupyter-widgets/base",
            "_view_module_version": "1.2.0",
            "_view_name": "LayoutView",
            "align_content": null,
            "align_items": null,
            "align_self": null,
            "border": null,
            "bottom": null,
            "display": null,
            "flex": null,
            "flex_flow": null,
            "grid_area": null,
            "grid_auto_columns": null,
            "grid_auto_flow": null,
            "grid_auto_rows": null,
            "grid_column": null,
            "grid_gap": null,
            "grid_row": null,
            "grid_template_areas": null,
            "grid_template_columns": null,
            "grid_template_rows": null,
            "height": null,
            "justify_content": null,
            "justify_items": null,
            "left": null,
            "margin": null,
            "max_height": null,
            "max_width": null,
            "min_height": null,
            "min_width": null,
            "object_fit": null,
            "object_position": null,
            "order": null,
            "overflow": null,
            "overflow_x": null,
            "overflow_y": null,
            "padding": null,
            "right": null,
            "top": null,
            "visibility": null,
            "width": null
          }
        },
        "18f2ceb4c94c4ea091afc17ab882936f": {
          "model_module": "@jupyter-widgets/base",
          "model_name": "LayoutModel",
          "model_module_version": "1.2.0",
          "state": {
            "_model_module": "@jupyter-widgets/base",
            "_model_module_version": "1.2.0",
            "_model_name": "LayoutModel",
            "_view_count": null,
            "_view_module": "@jupyter-widgets/base",
            "_view_module_version": "1.2.0",
            "_view_name": "LayoutView",
            "align_content": null,
            "align_items": null,
            "align_self": null,
            "border": null,
            "bottom": null,
            "display": null,
            "flex": null,
            "flex_flow": null,
            "grid_area": null,
            "grid_auto_columns": null,
            "grid_auto_flow": null,
            "grid_auto_rows": null,
            "grid_column": null,
            "grid_gap": null,
            "grid_row": null,
            "grid_template_areas": null,
            "grid_template_columns": null,
            "grid_template_rows": null,
            "height": null,
            "justify_content": null,
            "justify_items": null,
            "left": null,
            "margin": null,
            "max_height": null,
            "max_width": null,
            "min_height": null,
            "min_width": null,
            "object_fit": null,
            "object_position": null,
            "order": null,
            "overflow": null,
            "overflow_x": null,
            "overflow_y": null,
            "padding": null,
            "right": null,
            "top": null,
            "visibility": null,
            "width": null
          }
        },
        "48d0319c81204308a655424e9d974f41": {
          "model_module": "@jupyter-widgets/controls",
          "model_name": "DescriptionStyleModel",
          "model_module_version": "1.5.0",
          "state": {
            "_model_module": "@jupyter-widgets/controls",
            "_model_module_version": "1.5.0",
            "_model_name": "DescriptionStyleModel",
            "_view_count": null,
            "_view_module": "@jupyter-widgets/base",
            "_view_module_version": "1.2.0",
            "_view_name": "StyleView",
            "description_width": ""
          }
        },
        "917e6cbf826c4da399841399330f9dd9": {
          "model_module": "@jupyter-widgets/base",
          "model_name": "LayoutModel",
          "model_module_version": "1.2.0",
          "state": {
            "_model_module": "@jupyter-widgets/base",
            "_model_module_version": "1.2.0",
            "_model_name": "LayoutModel",
            "_view_count": null,
            "_view_module": "@jupyter-widgets/base",
            "_view_module_version": "1.2.0",
            "_view_name": "LayoutView",
            "align_content": null,
            "align_items": null,
            "align_self": null,
            "border": null,
            "bottom": null,
            "display": null,
            "flex": null,
            "flex_flow": null,
            "grid_area": null,
            "grid_auto_columns": null,
            "grid_auto_flow": null,
            "grid_auto_rows": null,
            "grid_column": null,
            "grid_gap": null,
            "grid_row": null,
            "grid_template_areas": null,
            "grid_template_columns": null,
            "grid_template_rows": null,
            "height": null,
            "justify_content": null,
            "justify_items": null,
            "left": null,
            "margin": null,
            "max_height": null,
            "max_width": null,
            "min_height": null,
            "min_width": null,
            "object_fit": null,
            "object_position": null,
            "order": null,
            "overflow": null,
            "overflow_x": null,
            "overflow_y": null,
            "padding": null,
            "right": null,
            "top": null,
            "visibility": null,
            "width": null
          }
        },
        "92a20835c1ab41af8eee379d345dc6e0": {
          "model_module": "@jupyter-widgets/controls",
          "model_name": "ProgressStyleModel",
          "model_module_version": "1.5.0",
          "state": {
            "_model_module": "@jupyter-widgets/controls",
            "_model_module_version": "1.5.0",
            "_model_name": "ProgressStyleModel",
            "_view_count": null,
            "_view_module": "@jupyter-widgets/base",
            "_view_module_version": "1.2.0",
            "_view_name": "StyleView",
            "bar_color": null,
            "description_width": ""
          }
        },
        "d97d9fc3cfe04e60aebd1723a4cdf263": {
          "model_module": "@jupyter-widgets/base",
          "model_name": "LayoutModel",
          "model_module_version": "1.2.0",
          "state": {
            "_model_module": "@jupyter-widgets/base",
            "_model_module_version": "1.2.0",
            "_model_name": "LayoutModel",
            "_view_count": null,
            "_view_module": "@jupyter-widgets/base",
            "_view_module_version": "1.2.0",
            "_view_name": "LayoutView",
            "align_content": null,
            "align_items": null,
            "align_self": null,
            "border": null,
            "bottom": null,
            "display": null,
            "flex": null,
            "flex_flow": null,
            "grid_area": null,
            "grid_auto_columns": null,
            "grid_auto_flow": null,
            "grid_auto_rows": null,
            "grid_column": null,
            "grid_gap": null,
            "grid_row": null,
            "grid_template_areas": null,
            "grid_template_columns": null,
            "grid_template_rows": null,
            "height": null,
            "justify_content": null,
            "justify_items": null,
            "left": null,
            "margin": null,
            "max_height": null,
            "max_width": null,
            "min_height": null,
            "min_width": null,
            "object_fit": null,
            "object_position": null,
            "order": null,
            "overflow": null,
            "overflow_x": null,
            "overflow_y": null,
            "padding": null,
            "right": null,
            "top": null,
            "visibility": null,
            "width": null
          }
        },
        "516db9148baa45f485cbcca81248a1f1": {
          "model_module": "@jupyter-widgets/controls",
          "model_name": "DescriptionStyleModel",
          "model_module_version": "1.5.0",
          "state": {
            "_model_module": "@jupyter-widgets/controls",
            "_model_module_version": "1.5.0",
            "_model_name": "DescriptionStyleModel",
            "_view_count": null,
            "_view_module": "@jupyter-widgets/base",
            "_view_module_version": "1.2.0",
            "_view_name": "StyleView",
            "description_width": ""
          }
        },
        "70b50fdf983e42098f0435261aec9fa3": {
          "model_module": "@jupyter-widgets/controls",
          "model_name": "HBoxModel",
          "model_module_version": "1.5.0",
          "state": {
            "_dom_classes": [],
            "_model_module": "@jupyter-widgets/controls",
            "_model_module_version": "1.5.0",
            "_model_name": "HBoxModel",
            "_view_count": null,
            "_view_module": "@jupyter-widgets/controls",
            "_view_module_version": "1.5.0",
            "_view_name": "HBoxView",
            "box_style": "",
            "children": [
              "IPY_MODEL_5e7907f27f8d4b49a3baeaab7fe5e4e7",
              "IPY_MODEL_5137bb0cc231464f9cfd9ed392242948",
              "IPY_MODEL_c1b2fa2f253245898d9b4e05a58080fa"
            ],
            "layout": "IPY_MODEL_0dd0bbaf98b145d59b62451b7f086a4a"
          }
        },
        "5e7907f27f8d4b49a3baeaab7fe5e4e7": {
          "model_module": "@jupyter-widgets/controls",
          "model_name": "HTMLModel",
          "model_module_version": "1.5.0",
          "state": {
            "_dom_classes": [],
            "_model_module": "@jupyter-widgets/controls",
            "_model_module_version": "1.5.0",
            "_model_name": "HTMLModel",
            "_view_count": null,
            "_view_module": "@jupyter-widgets/controls",
            "_view_module_version": "1.5.0",
            "_view_name": "HTMLView",
            "description": "",
            "description_tooltip": null,
            "layout": "IPY_MODEL_119d4d6375e44ac0be64515d49e889da",
            "placeholder": "​",
            "style": "IPY_MODEL_a174d6a993554ebfa2ad306f4dd9a76a",
            "value": "100%"
          }
        },
        "5137bb0cc231464f9cfd9ed392242948": {
          "model_module": "@jupyter-widgets/controls",
          "model_name": "FloatProgressModel",
          "model_module_version": "1.5.0",
          "state": {
            "_dom_classes": [],
            "_model_module": "@jupyter-widgets/controls",
            "_model_module_version": "1.5.0",
            "_model_name": "FloatProgressModel",
            "_view_count": null,
            "_view_module": "@jupyter-widgets/controls",
            "_view_module_version": "1.5.0",
            "_view_name": "ProgressView",
            "bar_style": "success",
            "description": "",
            "description_tooltip": null,
            "layout": "IPY_MODEL_1c1d47cf2d1a4100bb6b94ee967daf4c",
            "max": 21444401,
            "min": 0,
            "orientation": "horizontal",
            "style": "IPY_MODEL_3d49b8b4c2f24517bc3d444598143e26",
            "value": 21444401
          }
        },
        "c1b2fa2f253245898d9b4e05a58080fa": {
          "model_module": "@jupyter-widgets/controls",
          "model_name": "HTMLModel",
          "model_module_version": "1.5.0",
          "state": {
            "_dom_classes": [],
            "_model_module": "@jupyter-widgets/controls",
            "_model_module_version": "1.5.0",
            "_model_name": "HTMLModel",
            "_view_count": null,
            "_view_module": "@jupyter-widgets/controls",
            "_view_module_version": "1.5.0",
            "_view_name": "HTMLView",
            "description": "",
            "description_tooltip": null,
            "layout": "IPY_MODEL_ef9cf3c084684193876d0b3438cba00d",
            "placeholder": "​",
            "style": "IPY_MODEL_5ec4fbb76c3f4effa82e83be008388e0",
            "value": " 20.5M/20.5M [00:00&lt;00:00, 62.4MB/s]"
          }
        },
        "0dd0bbaf98b145d59b62451b7f086a4a": {
          "model_module": "@jupyter-widgets/base",
          "model_name": "LayoutModel",
          "model_module_version": "1.2.0",
          "state": {
            "_model_module": "@jupyter-widgets/base",
            "_model_module_version": "1.2.0",
            "_model_name": "LayoutModel",
            "_view_count": null,
            "_view_module": "@jupyter-widgets/base",
            "_view_module_version": "1.2.0",
            "_view_name": "LayoutView",
            "align_content": null,
            "align_items": null,
            "align_self": null,
            "border": null,
            "bottom": null,
            "display": null,
            "flex": null,
            "flex_flow": null,
            "grid_area": null,
            "grid_auto_columns": null,
            "grid_auto_flow": null,
            "grid_auto_rows": null,
            "grid_column": null,
            "grid_gap": null,
            "grid_row": null,
            "grid_template_areas": null,
            "grid_template_columns": null,
            "grid_template_rows": null,
            "height": null,
            "justify_content": null,
            "justify_items": null,
            "left": null,
            "margin": null,
            "max_height": null,
            "max_width": null,
            "min_height": null,
            "min_width": null,
            "object_fit": null,
            "object_position": null,
            "order": null,
            "overflow": null,
            "overflow_x": null,
            "overflow_y": null,
            "padding": null,
            "right": null,
            "top": null,
            "visibility": null,
            "width": null
          }
        },
        "119d4d6375e44ac0be64515d49e889da": {
          "model_module": "@jupyter-widgets/base",
          "model_name": "LayoutModel",
          "model_module_version": "1.2.0",
          "state": {
            "_model_module": "@jupyter-widgets/base",
            "_model_module_version": "1.2.0",
            "_model_name": "LayoutModel",
            "_view_count": null,
            "_view_module": "@jupyter-widgets/base",
            "_view_module_version": "1.2.0",
            "_view_name": "LayoutView",
            "align_content": null,
            "align_items": null,
            "align_self": null,
            "border": null,
            "bottom": null,
            "display": null,
            "flex": null,
            "flex_flow": null,
            "grid_area": null,
            "grid_auto_columns": null,
            "grid_auto_flow": null,
            "grid_auto_rows": null,
            "grid_column": null,
            "grid_gap": null,
            "grid_row": null,
            "grid_template_areas": null,
            "grid_template_columns": null,
            "grid_template_rows": null,
            "height": null,
            "justify_content": null,
            "justify_items": null,
            "left": null,
            "margin": null,
            "max_height": null,
            "max_width": null,
            "min_height": null,
            "min_width": null,
            "object_fit": null,
            "object_position": null,
            "order": null,
            "overflow": null,
            "overflow_x": null,
            "overflow_y": null,
            "padding": null,
            "right": null,
            "top": null,
            "visibility": null,
            "width": null
          }
        },
        "a174d6a993554ebfa2ad306f4dd9a76a": {
          "model_module": "@jupyter-widgets/controls",
          "model_name": "DescriptionStyleModel",
          "model_module_version": "1.5.0",
          "state": {
            "_model_module": "@jupyter-widgets/controls",
            "_model_module_version": "1.5.0",
            "_model_name": "DescriptionStyleModel",
            "_view_count": null,
            "_view_module": "@jupyter-widgets/base",
            "_view_module_version": "1.2.0",
            "_view_name": "StyleView",
            "description_width": ""
          }
        },
        "1c1d47cf2d1a4100bb6b94ee967daf4c": {
          "model_module": "@jupyter-widgets/base",
          "model_name": "LayoutModel",
          "model_module_version": "1.2.0",
          "state": {
            "_model_module": "@jupyter-widgets/base",
            "_model_module_version": "1.2.0",
            "_model_name": "LayoutModel",
            "_view_count": null,
            "_view_module": "@jupyter-widgets/base",
            "_view_module_version": "1.2.0",
            "_view_name": "LayoutView",
            "align_content": null,
            "align_items": null,
            "align_self": null,
            "border": null,
            "bottom": null,
            "display": null,
            "flex": null,
            "flex_flow": null,
            "grid_area": null,
            "grid_auto_columns": null,
            "grid_auto_flow": null,
            "grid_auto_rows": null,
            "grid_column": null,
            "grid_gap": null,
            "grid_row": null,
            "grid_template_areas": null,
            "grid_template_columns": null,
            "grid_template_rows": null,
            "height": null,
            "justify_content": null,
            "justify_items": null,
            "left": null,
            "margin": null,
            "max_height": null,
            "max_width": null,
            "min_height": null,
            "min_width": null,
            "object_fit": null,
            "object_position": null,
            "order": null,
            "overflow": null,
            "overflow_x": null,
            "overflow_y": null,
            "padding": null,
            "right": null,
            "top": null,
            "visibility": null,
            "width": null
          }
        },
        "3d49b8b4c2f24517bc3d444598143e26": {
          "model_module": "@jupyter-widgets/controls",
          "model_name": "ProgressStyleModel",
          "model_module_version": "1.5.0",
          "state": {
            "_model_module": "@jupyter-widgets/controls",
            "_model_module_version": "1.5.0",
            "_model_name": "ProgressStyleModel",
            "_view_count": null,
            "_view_module": "@jupyter-widgets/base",
            "_view_module_version": "1.2.0",
            "_view_name": "StyleView",
            "bar_color": null,
            "description_width": ""
          }
        },
        "ef9cf3c084684193876d0b3438cba00d": {
          "model_module": "@jupyter-widgets/base",
          "model_name": "LayoutModel",
          "model_module_version": "1.2.0",
          "state": {
            "_model_module": "@jupyter-widgets/base",
            "_model_module_version": "1.2.0",
            "_model_name": "LayoutModel",
            "_view_count": null,
            "_view_module": "@jupyter-widgets/base",
            "_view_module_version": "1.2.0",
            "_view_name": "LayoutView",
            "align_content": null,
            "align_items": null,
            "align_self": null,
            "border": null,
            "bottom": null,
            "display": null,
            "flex": null,
            "flex_flow": null,
            "grid_area": null,
            "grid_auto_columns": null,
            "grid_auto_flow": null,
            "grid_auto_rows": null,
            "grid_column": null,
            "grid_gap": null,
            "grid_row": null,
            "grid_template_areas": null,
            "grid_template_columns": null,
            "grid_template_rows": null,
            "height": null,
            "justify_content": null,
            "justify_items": null,
            "left": null,
            "margin": null,
            "max_height": null,
            "max_width": null,
            "min_height": null,
            "min_width": null,
            "object_fit": null,
            "object_position": null,
            "order": null,
            "overflow": null,
            "overflow_x": null,
            "overflow_y": null,
            "padding": null,
            "right": null,
            "top": null,
            "visibility": null,
            "width": null
          }
        },
        "5ec4fbb76c3f4effa82e83be008388e0": {
          "model_module": "@jupyter-widgets/controls",
          "model_name": "DescriptionStyleModel",
          "model_module_version": "1.5.0",
          "state": {
            "_model_module": "@jupyter-widgets/controls",
            "_model_module_version": "1.5.0",
            "_model_name": "DescriptionStyleModel",
            "_view_count": null,
            "_view_module": "@jupyter-widgets/base",
            "_view_module_version": "1.2.0",
            "_view_name": "StyleView",
            "description_width": ""
          }
        }
      }
    }
  },
  "nbformat": 4,
  "nbformat_minor": 5
}