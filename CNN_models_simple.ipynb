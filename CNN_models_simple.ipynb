{
  "cells": [
    {
      "cell_type": "markdown",
      "source": [
        "<h1> Importing Drive Datasets </h1>"
      ],
      "metadata": {
        "id": "In1wlSGFIdVB"
      },
      "id": "In1wlSGFIdVB"
    },
    {
      "cell_type": "code",
      "source": [
        "!git clone https://github.com/flori-margaritescu/human-judgements-honours.git"
      ],
      "metadata": {
        "id": "Fk-k5K5aJtaB",
        "outputId": "b36b2b1e-7b6b-4b75-aa61-1489b5e1d1c5",
        "colab": {
          "base_uri": "https://localhost:8080/"
        }
      },
      "id": "Fk-k5K5aJtaB",
      "execution_count": 5,
      "outputs": [
        {
          "output_type": "stream",
          "name": "stdout",
          "text": [
            "Cloning into 'human-judgements-honours'...\n",
            "remote: Enumerating objects: 9, done.\u001b[K\n",
            "remote: Counting objects:  11% (1/9)\u001b[K\rremote: Counting objects:  22% (2/9)\u001b[K\rremote: Counting objects:  33% (3/9)\u001b[K\rremote: Counting objects:  44% (4/9)\u001b[K\rremote: Counting objects:  55% (5/9)\u001b[K\rremote: Counting objects:  66% (6/9)\u001b[K\rremote: Counting objects:  77% (7/9)\u001b[K\rremote: Counting objects:  88% (8/9)\u001b[K\rremote: Counting objects: 100% (9/9)\u001b[K\rremote: Counting objects: 100% (9/9), done.\u001b[K\n",
            "remote: Compressing objects:  14% (1/7)\u001b[K\rremote: Compressing objects:  28% (2/7)\u001b[K\rremote: Compressing objects:  42% (3/7)\u001b[K\rremote: Compressing objects:  57% (4/7)\u001b[K\rremote: Compressing objects:  71% (5/7)\u001b[K\rremote: Compressing objects:  85% (6/7)\u001b[K\rremote: Compressing objects: 100% (7/7)\u001b[K\rremote: Compressing objects: 100% (7/7), done.\u001b[K\n",
            "remote: Total 9 (delta 2), reused 7 (delta 0), pack-reused 0\u001b[K\n",
            "Unpacking objects:  11% (1/9)\rUnpacking objects:  22% (2/9)\rUnpacking objects:  33% (3/9)\rUnpacking objects:  44% (4/9)\rUnpacking objects:  55% (5/9)\rUnpacking objects:  66% (6/9)\rUnpacking objects:  77% (7/9)\rUnpacking objects:  88% (8/9)\rUnpacking objects: 100% (9/9)\rUnpacking objects: 100% (9/9), 4.34 KiB | 2.17 MiB/s, done.\n"
          ]
        }
      ]
    },
    {
      "cell_type": "code",
      "source": [
        "from google.colab import drive\n",
        "drive.mount('/content/drive')"
      ],
      "metadata": {
        "id": "YmOC1OCdIcy7",
        "outputId": "8605842d-c767-4151-c8c5-719c77c20ee4",
        "colab": {
          "base_uri": "https://localhost:8080/"
        }
      },
      "id": "YmOC1OCdIcy7",
      "execution_count": 1,
      "outputs": [
        {
          "output_type": "stream",
          "name": "stdout",
          "text": [
            "Mounted at /content/drive\n"
          ]
        }
      ]
    },
    {
      "cell_type": "code",
      "source": [
        "!unzip -uq \"/content/drive/MyDrive/Colab Notebooks/distortion_triplets.zip\" -d \"/content/datasets/distortions\"\n",
        "!unzip -uq \"/content/drive/MyDrive/Colab Notebooks/hsj_triplets.zip\" -d \"/content/datasets/hsj\"\n",
        "!unzip -uq \"/content/drive/MyDrive/Colab Notebooks/birds_dataset_triplets.zip\" -d \"/content/datasets/birds-16\""
      ],
      "metadata": {
        "id": "LlfBBzehJFc-"
      },
      "id": "LlfBBzehJFc-",
      "execution_count": 6,
      "outputs": []
    },
    {
      "cell_type": "markdown",
      "id": "9065aff9",
      "metadata": {
        "id": "9065aff9"
      },
      "source": [
        "### Imports"
      ]
    },
    {
      "cell_type": "code",
      "source": [
        "!pip install img2vec-pytorch"
      ],
      "metadata": {
        "id": "zD9whTxmMTN-",
        "outputId": "77650191-5560-47f4-9696-42f6af4b5d72",
        "colab": {
          "base_uri": "https://localhost:8080/"
        }
      },
      "id": "zD9whTxmMTN-",
      "execution_count": 8,
      "outputs": [
        {
          "output_type": "stream",
          "name": "stdout",
          "text": [
            "Looking in indexes: https://pypi.org/simple, https://us-python.pkg.dev/colab-wheels/public/simple/\n",
            "Collecting img2vec-pytorch\n",
            "  Downloading img2vec_pytorch-1.0.1-py3-none-any.whl (6.9 kB)\n",
            "Requirement already satisfied: numpy in /usr/local/lib/python3.9/dist-packages (from img2vec-pytorch) (1.22.4)\n",
            "Requirement already satisfied: torch in /usr/local/lib/python3.9/dist-packages (from img2vec-pytorch) (1.13.1+cu116)\n",
            "Requirement already satisfied: torchvision in /usr/local/lib/python3.9/dist-packages (from img2vec-pytorch) (0.14.1+cu116)\n",
            "Requirement already satisfied: typing-extensions in /usr/local/lib/python3.9/dist-packages (from torch->img2vec-pytorch) (4.5.0)\n",
            "Requirement already satisfied: requests in /usr/local/lib/python3.9/dist-packages (from torchvision->img2vec-pytorch) (2.27.1)\n",
            "Requirement already satisfied: pillow!=8.3.*,>=5.3.0 in /usr/local/lib/python3.9/dist-packages (from torchvision->img2vec-pytorch) (8.4.0)\n",
            "Requirement already satisfied: urllib3<1.27,>=1.21.1 in /usr/local/lib/python3.9/dist-packages (from requests->torchvision->img2vec-pytorch) (1.26.15)\n",
            "Requirement already satisfied: charset-normalizer~=2.0.0 in /usr/local/lib/python3.9/dist-packages (from requests->torchvision->img2vec-pytorch) (2.0.12)\n",
            "Requirement already satisfied: idna<4,>=2.5 in /usr/local/lib/python3.9/dist-packages (from requests->torchvision->img2vec-pytorch) (3.4)\n",
            "Requirement already satisfied: certifi>=2017.4.17 in /usr/local/lib/python3.9/dist-packages (from requests->torchvision->img2vec-pytorch) (2022.12.7)\n",
            "Installing collected packages: img2vec-pytorch\n",
            "Successfully installed img2vec-pytorch-1.0.1\n"
          ]
        }
      ]
    },
    {
      "cell_type": "code",
      "execution_count": 9,
      "id": "5158285a",
      "metadata": {
        "id": "5158285a"
      },
      "outputs": [],
      "source": [
        "import torch\n",
        "import torch.nn as nn\n",
        "import torchvision.models as models\n",
        "import torchvision.transforms as transforms\n",
        "from torch.autograd import Variable\n",
        "import numpy as np\n",
        "from PIL import Image\n",
        "import os\n",
        "\n",
        "from img2vec_pytorch import Img2Vec"
      ]
    },
    {
      "cell_type": "markdown",
      "id": "fc372be2",
      "metadata": {
        "id": "fc372be2"
      },
      "source": [
        "### Testing"
      ]
    },
    {
      "cell_type": "markdown",
      "source": [
        "Note: AlexNet and ResNet-18 take in completely different Tensor formats!\n",
        "\n",
        "<h2> Note: the below package does the feature extraction for us aparently - careful with how you use it - better start from scratch for consistency of results!</h2>"
      ],
      "metadata": {
        "id": "FvunBJEsNP77"
      },
      "id": "FvunBJEsNP77"
    },
    {
      "cell_type": "code",
      "execution_count": 12,
      "id": "fd5b2f0c",
      "metadata": {
        "id": "fd5b2f0c",
        "outputId": "022700a6-d559-45df-865d-e5f98b5a40a2",
        "colab": {
          "base_uri": "https://localhost:8080/"
        }
      },
      "outputs": [
        {
          "output_type": "stream",
          "name": "stdout",
          "text": [
            "torch.Size([1, 4096])\n",
            "torch.Size([1, 512, 1, 1])\n"
          ]
        }
      ],
      "source": [
        "# Initialize Img2Vec with GPU\n",
        "img2vec_alexnet = Img2Vec(cuda=False, model=\"alexnet\")  # default model resnet\n",
        "\n",
        "# Read in an image (rgb format)\n",
        "img = Image.open('test.png').convert('RGB')\n",
        "\n",
        "# Get a vector from img2vec, returned as a torch FloatTensor\n",
        "vec = img2vec_alexnet.get_vec(img, tensor=True)\n",
        "\n",
        "print(vec.size())\n",
        "\n",
        "# Initialize Img2Vec with GPU\n",
        "img2vec_18 = Img2Vec(cuda=False, model=\"resnet-18\")  # default model resnet\n",
        "\n",
        "# Read in an image (rgb format)\n",
        "img = Image.open('test.png').convert('RGB')\n",
        "# Get a vector from img2vec, returned as a torch FloatTensor\n",
        "vec = img2vec_18.get_vec(img, tensor=True)  \n",
        "\n",
        "print(vec.size())"
      ]
    },
    {
      "cell_type": "code",
      "execution_count": 13,
      "id": "a6a4db4c",
      "metadata": {
        "id": "a6a4db4c",
        "outputId": "50d1209f-eabc-444b-9a22-87ca876c739d",
        "colab": {
          "base_uri": "https://localhost:8080/",
          "height": 235
        }
      },
      "outputs": [
        {
          "output_type": "error",
          "ename": "NameError",
          "evalue": "ignored",
          "traceback": [
            "\u001b[0;31m---------------------------------------------------------------------------\u001b[0m",
            "\u001b[0;31mNameError\u001b[0m                                 Traceback (most recent call last)",
            "\u001b[0;32m<ipython-input-13-940622e41615>\u001b[0m in \u001b[0;36m<module>\u001b[0;34m\u001b[0m\n\u001b[1;32m      1\u001b[0m \u001b[0mref\u001b[0m \u001b[0;34m=\u001b[0m \u001b[0mImage\u001b[0m\u001b[0;34m.\u001b[0m\u001b[0mopen\u001b[0m\u001b[0;34m(\u001b[0m\u001b[0;34m'ref.png'\u001b[0m\u001b[0;34m)\u001b[0m\u001b[0;34m.\u001b[0m\u001b[0mconvert\u001b[0m\u001b[0;34m(\u001b[0m\u001b[0;34m'RGB'\u001b[0m\u001b[0;34m)\u001b[0m\u001b[0;34m\u001b[0m\u001b[0;34m\u001b[0m\u001b[0m\n\u001b[0;32m----> 2\u001b[0;31m \u001b[0mref_vec\u001b[0m \u001b[0;34m=\u001b[0m \u001b[0mimg2vec\u001b[0m\u001b[0;34m.\u001b[0m\u001b[0mget_vec\u001b[0m\u001b[0;34m(\u001b[0m\u001b[0mref\u001b[0m\u001b[0;34m,\u001b[0m \u001b[0mtensor\u001b[0m\u001b[0;34m=\u001b[0m\u001b[0;32mTrue\u001b[0m\u001b[0;34m)\u001b[0m\u001b[0;34m\u001b[0m\u001b[0;34m\u001b[0m\u001b[0m\n\u001b[0m\u001b[1;32m      3\u001b[0m \u001b[0;34m\u001b[0m\u001b[0m\n\u001b[1;32m      4\u001b[0m \u001b[0mp0\u001b[0m \u001b[0;34m=\u001b[0m \u001b[0mImage\u001b[0m\u001b[0;34m.\u001b[0m\u001b[0mopen\u001b[0m\u001b[0;34m(\u001b[0m\u001b[0;34m'p0.png'\u001b[0m\u001b[0;34m)\u001b[0m\u001b[0;34m.\u001b[0m\u001b[0mconvert\u001b[0m\u001b[0;34m(\u001b[0m\u001b[0;34m'RGB'\u001b[0m\u001b[0;34m)\u001b[0m\u001b[0;34m\u001b[0m\u001b[0;34m\u001b[0m\u001b[0m\n\u001b[1;32m      5\u001b[0m \u001b[0mp0_vec\u001b[0m \u001b[0;34m=\u001b[0m \u001b[0mimg2vec\u001b[0m\u001b[0;34m.\u001b[0m\u001b[0mget_vec\u001b[0m\u001b[0;34m(\u001b[0m\u001b[0mp0\u001b[0m\u001b[0;34m,\u001b[0m \u001b[0mtensor\u001b[0m\u001b[0;34m=\u001b[0m\u001b[0;32mTrue\u001b[0m\u001b[0;34m)\u001b[0m\u001b[0;34m\u001b[0m\u001b[0;34m\u001b[0m\u001b[0m\n",
            "\u001b[0;31mNameError\u001b[0m: name 'img2vec' is not defined"
          ]
        }
      ],
      "source": [
        "ref = Image.open('ref.png').convert('RGB')\n",
        "ref_vec = img2vec.get_vec(ref, tensor=True)\n",
        "\n",
        "p0 = Image.open('p0.png').convert('RGB')\n",
        "p0_vec = img2vec.get_vec(p0, tensor=True)\n",
        "\n",
        "p1 = Image.open('p1.png').convert('RGB')\n",
        "p1_vec = img2vec.get_vec(p1, tensor=True)"
      ]
    },
    {
      "cell_type": "code",
      "execution_count": null,
      "id": "93cf0baa",
      "metadata": {
        "id": "93cf0baa",
        "outputId": "13dd189d-8464-43f2-d48c-d28cb4d7729c"
      },
      "outputs": [
        {
          "name": "stdout",
          "output_type": "stream",
          "text": [
            "\n",
            "Cosine similarity: tensor([0.4113])\n",
            "\n"
          ]
        }
      ],
      "source": [
        "# Using PyTorch Cosine Similarity\n",
        "cos = nn.CosineSimilarity(dim=1, eps=1e-6)\n",
        "cos_sim = cos(ref_vec,\n",
        "              p0_vec)\n",
        "print('\\nCosine similarity: {0}\\n'.format(cos_sim))"
      ]
    },
    {
      "cell_type": "code",
      "execution_count": null,
      "id": "314ba326",
      "metadata": {
        "scrolled": true,
        "id": "314ba326",
        "outputId": "70eaf33a-388b-4b5f-eab0-5b3a961ba893"
      },
      "outputs": [
        {
          "name": "stdout",
          "output_type": "stream",
          "text": [
            "\n",
            "Cosine similarity: tensor([0.3291])\n",
            "\n"
          ]
        }
      ],
      "source": [
        "# Using PyTorch Cosine Similarity\n",
        "cos = nn.CosineSimilarity(dim=1, eps=1e-6)\n",
        "cos_sim = cos(ref_vec,\n",
        "              p1_vec)\n",
        "print('\\nCosine similarity: {0}\\n'.format(cos_sim))"
      ]
    },
    {
      "cell_type": "markdown",
      "id": "5f1e953e",
      "metadata": {
        "id": "5f1e953e"
      },
      "source": [
        "### Common functions for loading dataset"
      ]
    },
    {
      "cell_type": "code",
      "execution_count": null,
      "id": "aade6f16",
      "metadata": {
        "id": "aade6f16"
      },
      "outputs": [],
      "source": [
        "def format_image_number(number):\n",
        "    img_no_str = str(number)\n",
        "    \n",
        "    if len(img_no_str) == 1:\n",
        "        im_no_name = \"00000\"\n",
        "    elif len(img_no_str) == 2:\n",
        "        im_no_name = \"0000\"\n",
        "    elif len(img_no_str) == 3:\n",
        "        im_no_name = \"000\"\n",
        "    elif len(img_no_str) == 4:\n",
        "        im_no_name = \"00\"\n",
        "    elif len(img_no_str) == 5:\n",
        "        im_no_name = \"0\"\n",
        "    elif len(img_no_str) == 6:\n",
        "        im_no_name = \"\"\n",
        "        \n",
        "    return im_no_name + img_no_str\n",
        "    \n",
        "\n",
        "def get_images_vector(path, number_of_images):  # returns a list of tensors\n",
        "    # path of form: traditional/ref/\n",
        "    feature_tensor_list = []\n",
        "    \n",
        "    for image_no in range(number_of_images):\n",
        "        image_no_str = str(image_no)\n",
        "        \n",
        "        im_no_name = format_image_number(image_no_str) + \".png\"\n",
        "        \n",
        "        path_to_image = path + im_no_name\n",
        "\n",
        "        feature_vector_image = Image.open(path_to_image).convert('RGB')\n",
        "        feature_vec = img2vec.get_vec(feature_vector_image, tensor=True)\n",
        "        feature_tensor_list.append(feature_vec)\n",
        "        \n",
        "    return feature_tensor_list"
      ]
    },
    {
      "cell_type": "code",
      "execution_count": null,
      "id": "2d7d1a43",
      "metadata": {
        "id": "2d7d1a43"
      },
      "outputs": [],
      "source": [
        "def obtain_cosine_similarity_model_predictions(number_of_images, refs_vec_list, p0s_rec_list, p1s_rec_list):\n",
        "    cosine_similarity_ref_and_p0 = []\n",
        "    cosine_similarity_ref_and_p1 = []\n",
        "\n",
        "    # list of predictions\n",
        "    cosine_similarity_predictions = []\n",
        "    \n",
        "    cos = nn.CosineSimilarity(dim=1, eps=1e-6)\n",
        "    # cos_sim = cos(query_vector.unsqueeze(0), ref2_vector.unsqueeze(0))\n",
        "\n",
        "    for image_no in range(number_of_images): \n",
        "        reshaped_ref = torch.reshape(refs_vec_list[image_no], (1,512))\n",
        "        reshaped_p0 = torch.reshape(p0s_rec_list[image_no], (1,512))\n",
        "        reshaped_p1 = torch.reshape(p1s_rec_list[image_no], (1,512))\n",
        "        \n",
        "        cosine_similarity_ref_and_p0.append(cos(reshaped_ref, reshaped_p0))\n",
        "        cosine_similarity_ref_and_p1.append(cos(reshaped_ref, reshaped_p1))\n",
        "\n",
        "        if cosine_similarity_ref_and_p0[image_no] >= cosine_similarity_ref_and_p1[image_no]:\n",
        "            cosine_similarity_predictions.append(0)\n",
        "        else:\n",
        "            cosine_similarity_predictions.append(1)   \n",
        "            \n",
        "    return cosine_similarity_predictions"
      ]
    },
    {
      "cell_type": "code",
      "execution_count": null,
      "id": "66ee8ae1",
      "metadata": {
        "id": "66ee8ae1"
      },
      "outputs": [],
      "source": [
        "def obtain_prediction_accuracy(number_of_images, path_to_decision, actual_predictions):\n",
        "    expected_decision_outputs = []\n",
        "\n",
        "    for image_no in range(number_of_images):\n",
        "            image_no_str = str(image_no)\n",
        "\n",
        "            im_no_name = format_image_number(image_no_str) + \".npy\"\n",
        "            path_to_image = path_to_decision + im_no_name\n",
        "\n",
        "            decision = np.load(path_to_image)\n",
        "\n",
        "            if decision[0] <= 0.5: \n",
        "                expected_decision_outputs.append(0)\n",
        "            else: \n",
        "                expected_decision_outputs.append(1)\n",
        "                \n",
        "    number_wrong_predictions = 0\n",
        "\n",
        "    for image_no in range(number_of_images):\n",
        "        if actual_predictions[image_no] != expected_decision_outputs[image_no]:\n",
        "            number_wrong_predictions += 1\n",
        "\n",
        "    accuracy = (number_of_images - number_wrong_predictions)/(number_of_images)\n",
        "    \n",
        "    return accuracy\n"
      ]
    },
    {
      "cell_type": "code",
      "execution_count": null,
      "id": "68c2d02d",
      "metadata": {
        "id": "68c2d02d"
      },
      "outputs": [],
      "source": [
        "def reshape_tensor_list(dim, tensor_list):\n",
        "    reshaped_list = []\n",
        "    for t in tensor_list:\n",
        "        reshaped_t = torch.reshape(t, (1,dim))\n",
        "        reshaped_list.append(t)\n",
        "    return reshaped_list"
      ]
    },
    {
      "cell_type": "markdown",
      "id": "49678780",
      "metadata": {
        "id": "49678780"
      },
      "source": [
        "### 1. Resnet"
      ]
    },
    {
      "cell_type": "code",
      "execution_count": null,
      "id": "73f39e4e",
      "metadata": {
        "id": "73f39e4e"
      },
      "outputs": [],
      "source": [
        "img2vec_res = Img2Vec(cuda=False, model=\"resnet-18\")  # default model resnet"
      ]
    },
    {
      "cell_type": "markdown",
      "id": "22520bf3",
      "metadata": {
        "id": "22520bf3"
      },
      "source": [
        "#### 1.1 Traditional"
      ]
    },
    {
      "cell_type": "code",
      "execution_count": null,
      "id": "27073e7e",
      "metadata": {
        "id": "27073e7e"
      },
      "outputs": [],
      "source": [
        "traditional_refs = get_images_vector(\"val/traditional/ref/\", 4720)\n",
        "traditional_p0s = get_images_vector(\"val/traditional/p0/\", 4720)\n",
        "traditional_p1s = get_images_vector(\"val/traditional/p1/\", 4720)"
      ]
    },
    {
      "cell_type": "code",
      "execution_count": null,
      "id": "0a2a3043",
      "metadata": {
        "id": "0a2a3043",
        "outputId": "57984062-bb0c-4a12-962c-3d6f15db82c4"
      },
      "outputs": [
        {
          "name": "stdout",
          "output_type": "stream",
          "text": [
            "4720\n",
            "4720\n",
            "4720\n"
          ]
        }
      ],
      "source": [
        "print(len(traditional_refs))\n",
        "print(len(traditional_p0s))\n",
        "print(len(traditional_p1s))"
      ]
    },
    {
      "cell_type": "code",
      "execution_count": null,
      "id": "46a90a85",
      "metadata": {
        "id": "46a90a85"
      },
      "outputs": [],
      "source": [
        "actual_model_predictions = obtain_cosine_similarity_model_predictions(4720, traditional_refs, traditional_p0s, traditional_p1s)"
      ]
    },
    {
      "cell_type": "code",
      "execution_count": null,
      "id": "09b82c5f",
      "metadata": {
        "id": "09b82c5f"
      },
      "outputs": [],
      "source": [
        "prediction_accuracy = obtain_prediction_accuracy(4720, \"val/traditional/judge/\", actual_model_predictions)"
      ]
    },
    {
      "cell_type": "code",
      "execution_count": null,
      "id": "d8ca7cef",
      "metadata": {
        "id": "d8ca7cef",
        "outputId": "c17e67e3-3f3e-4ae4-81aa-463eaf143853"
      },
      "outputs": [
        {
          "data": {
            "text/plain": [
              "0.8048728813559322"
            ]
          },
          "execution_count": 79,
          "metadata": {},
          "output_type": "execute_result"
        }
      ],
      "source": [
        "prediction_accuracy"
      ]
    },
    {
      "cell_type": "markdown",
      "id": "e07c6190",
      "metadata": {
        "id": "e07c6190"
      },
      "source": [
        "Prediction accuracy for Resnet-18 for traditional distortions: 0.8048728813559322"
      ]
    },
    {
      "cell_type": "markdown",
      "id": "077a16c9",
      "metadata": {
        "id": "077a16c9"
      },
      "source": [
        "#### 1.2 CNN-based"
      ]
    },
    {
      "cell_type": "code",
      "execution_count": null,
      "id": "d95c1374",
      "metadata": {
        "id": "d95c1374"
      },
      "outputs": [],
      "source": [
        "cnn_refs = get_images_vector(\"val/cnn/ref/\", 4720)\n",
        "cnn_p0s = get_images_vector(\"val/cnn/p0/\", 4720)\n",
        "cnn_p1s = get_images_vector(\"val/cnn/p1/\", 4720)"
      ]
    },
    {
      "cell_type": "code",
      "execution_count": null,
      "id": "7d2e7f2d",
      "metadata": {
        "id": "7d2e7f2d",
        "outputId": "eddb6768-5e79-4bca-b6a1-d9f996a8f39f"
      },
      "outputs": [
        {
          "name": "stdout",
          "output_type": "stream",
          "text": [
            "4720\n",
            "4720\n",
            "4720\n"
          ]
        }
      ],
      "source": [
        "print(len(cnn_refs))\n",
        "print(len(cnn_p0s))\n",
        "print(len(cnn_p1s))"
      ]
    },
    {
      "cell_type": "code",
      "execution_count": null,
      "id": "131aa574",
      "metadata": {
        "id": "131aa574"
      },
      "outputs": [],
      "source": [
        "actual_model_predictions_cnn_distortion = obtain_cosine_similarity_model_predictions(4720, cnn_refs, cnn_p0s, cnn_p1s)"
      ]
    },
    {
      "cell_type": "code",
      "execution_count": null,
      "id": "d427a1f8",
      "metadata": {
        "id": "d427a1f8"
      },
      "outputs": [],
      "source": [
        "prediction_accuracy_cnn_distortion = obtain_prediction_accuracy(4720, \"val/cnn/judge/\", actual_model_predictions_cnn_distortion)"
      ]
    },
    {
      "cell_type": "code",
      "execution_count": null,
      "id": "7534f0a4",
      "metadata": {
        "id": "7534f0a4",
        "outputId": "8030cb62-a4a4-43a3-f062-d1cad56f5574"
      },
      "outputs": [
        {
          "data": {
            "text/plain": [
              "0.8442796610169492"
            ]
          },
          "execution_count": 88,
          "metadata": {},
          "output_type": "execute_result"
        }
      ],
      "source": [
        "prediction_accuracy_cnn_distortion"
      ]
    },
    {
      "cell_type": "markdown",
      "id": "93478b18",
      "metadata": {
        "id": "93478b18"
      },
      "source": [
        "Prediction accuracy for Resnet-18 for CNN-based distortions: 0.8442796610169492"
      ]
    },
    {
      "cell_type": "markdown",
      "id": "95b8f83f",
      "metadata": {
        "id": "95b8f83f"
      },
      "source": [
        "#### 1.3 Colorization"
      ]
    },
    {
      "cell_type": "code",
      "execution_count": null,
      "id": "eca880a7",
      "metadata": {
        "id": "eca880a7"
      },
      "outputs": [],
      "source": [
        "color_refs = get_images_vector(\"val/color/ref/\", 4720)\n",
        "color_p0s = get_images_vector(\"val/color/p0/\", 4720)\n",
        "color_p1s = get_images_vector(\"val/color/p1/\", 4720)"
      ]
    },
    {
      "cell_type": "code",
      "execution_count": null,
      "id": "1e90d57d",
      "metadata": {
        "id": "1e90d57d",
        "outputId": "84d5d237-6a45-4d71-be67-7a8de491d041"
      },
      "outputs": [
        {
          "name": "stdout",
          "output_type": "stream",
          "text": [
            "4720\n",
            "4720\n",
            "4720\n"
          ]
        }
      ],
      "source": [
        "print(len(color_refs))\n",
        "print(len(color_p0s))\n",
        "print(len(color_p1s))"
      ]
    },
    {
      "cell_type": "code",
      "execution_count": null,
      "id": "d3829085",
      "metadata": {
        "id": "d3829085"
      },
      "outputs": [],
      "source": [
        "actual_model_predictions_color_distortion = obtain_cosine_similarity_model_predictions(4720, color_refs, color_p0s, color_p1s)"
      ]
    },
    {
      "cell_type": "code",
      "execution_count": null,
      "id": "8dcd0778",
      "metadata": {
        "id": "8dcd0778"
      },
      "outputs": [],
      "source": [
        "prediction_accuracy_color_distortion = obtain_prediction_accuracy(4720, \"val/color/judge/\", actual_model_predictions_color_distortion)"
      ]
    },
    {
      "cell_type": "code",
      "execution_count": null,
      "id": "2fe4ff36",
      "metadata": {
        "id": "2fe4ff36",
        "outputId": "954388b2-ceb4-470d-d7c4-0328c8b9d54b"
      },
      "outputs": [
        {
          "data": {
            "text/plain": [
              "0.6533898305084745"
            ]
          },
          "execution_count": 94,
          "metadata": {},
          "output_type": "execute_result"
        }
      ],
      "source": [
        "prediction_accuracy_color_distortion"
      ]
    },
    {
      "cell_type": "markdown",
      "id": "d0c68ea4",
      "metadata": {
        "id": "d0c68ea4"
      },
      "source": [
        "Prediction accuracy for Resnet-18 for colorizaton distortions: 0.6533898305084745"
      ]
    },
    {
      "cell_type": "markdown",
      "id": "7687f12b",
      "metadata": {
        "id": "7687f12b"
      },
      "source": [
        "#### 1.4 Deblurring --- IGNORE FOR NOW"
      ]
    },
    {
      "cell_type": "code",
      "execution_count": null,
      "id": "190dcbb3",
      "metadata": {
        "id": "190dcbb3"
      },
      "outputs": [],
      "source": [
        "deb_refs = get_images_vector(\"val/deblur/ref/\", 9440)\n",
        "deb_p0s = get_images_vector(\"val/deblur/p0/\", 9440)\n",
        "deb_p1s = get_images_vector(\"val/deblur/p1/\", 9440)\n",
        "\n",
        "fi_refs = get_images_vector(\"val/frameinterp/ref/\", 1888)\n",
        "fi_p0s = get_images_vector(\"val/frameinterp/p0/\", 1888)\n",
        "fi_p1s = get_images_vector(\"val/frameinterp/p1/\", 1888)"
      ]
    },
    {
      "cell_type": "code",
      "execution_count": null,
      "id": "e570fb8a",
      "metadata": {
        "id": "e570fb8a",
        "outputId": "4dd1ca95-e2ae-4ead-f6e9-87b7bf117443"
      },
      "outputs": [
        {
          "name": "stdout",
          "output_type": "stream",
          "text": [
            "4720\n",
            "4720\n",
            "4720\n"
          ]
        }
      ],
      "source": [
        "print(len(deb_refs))\n",
        "print(len(deb_p0s))\n",
        "print(len(deb_p1s))"
      ]
    },
    {
      "cell_type": "code",
      "execution_count": null,
      "id": "25912505",
      "metadata": {
        "id": "25912505"
      },
      "outputs": [],
      "source": [
        "actual_model_predictions_deb_distortion = obtain_cosine_similarity_model_predictions(4720, deb_refs, deb_p0s, deb_p1s)"
      ]
    },
    {
      "cell_type": "code",
      "execution_count": null,
      "id": "b696dd69",
      "metadata": {
        "id": "b696dd69"
      },
      "outputs": [],
      "source": [
        "prediction_accuracy_deb_distortion = obtain_prediction_accuracy(4720, \"val/deblur/judge/\", actual_model_predictions_deb_distortion)"
      ]
    },
    {
      "cell_type": "code",
      "execution_count": null,
      "id": "24fe912d",
      "metadata": {
        "id": "24fe912d",
        "outputId": "61bd0650-3f54-44c4-a02e-adeb73c55076"
      },
      "outputs": [
        {
          "data": {
            "text/plain": [
              "0.6016949152542372"
            ]
          },
          "execution_count": 99,
          "metadata": {},
          "output_type": "execute_result"
        }
      ],
      "source": [
        "prediction_accuracy_deb_distortion"
      ]
    },
    {
      "cell_type": "markdown",
      "id": "6dd7e700",
      "metadata": {
        "id": "6dd7e700"
      },
      "source": [
        "Prediction accuracy for Resnet-18 for deblurring distortions: 0.6016949152542372"
      ]
    },
    {
      "cell_type": "markdown",
      "id": "73f340a2",
      "metadata": {
        "id": "73f340a2"
      },
      "source": [
        "#### 1.4, 1.5 and 1.6 Deblurring, frame interpolation and super resolution"
      ]
    },
    {
      "cell_type": "code",
      "execution_count": null,
      "id": "40b99584",
      "metadata": {
        "id": "40b99584",
        "outputId": "fca9b8f2-0ebe-43ca-d9b7-de866672149d"
      },
      "outputs": [
        {
          "name": "stdout",
          "output_type": "stream",
          "text": [
            "Deblurring is complete\n",
            "FI is complete\n",
            "Spr is complete\n"
          ]
        }
      ],
      "source": [
        "deblur_refs = get_images_vector(\"val/deblur/ref/\", 9440)\n",
        "deblur_p0s = get_images_vector(\"val/deblur/p0/\", 9440)\n",
        "deblur_p1s = get_images_vector(\"val/deblur/p1/\", 9440)\n",
        "print(\"Deblurring is complete\")\n",
        "\n",
        "fi_refs = get_images_vector(\"val/frameinterp/ref/\", 1888)\n",
        "fi_p0s = get_images_vector(\"val/frameinterp/p0/\", 1888)\n",
        "fi_p1s = get_images_vector(\"val/frameinterp/p1/\", 1888)\n",
        "print(\"FI is complete\")\n",
        "\n",
        "spr_refs = get_images_vector(\"val/superres/ref/\", 10856)\n",
        "spr_p0s = get_images_vector(\"val/superres/p0/\", 10856)\n",
        "spr_p1s = get_images_vector(\"val/superres/p1/\", 10856)\n",
        "print(\"Spr is complete\")"
      ]
    },
    {
      "cell_type": "code",
      "execution_count": null,
      "id": "10596319",
      "metadata": {
        "id": "10596319",
        "outputId": "23d60384-bb5d-4f2b-c600-41b252b4b548"
      },
      "outputs": [
        {
          "name": "stdout",
          "output_type": "stream",
          "text": [
            "Deblur: \n",
            "0.6113347457627119\n",
            "----------------\n",
            "\n",
            "\n"
          ]
        }
      ],
      "source": [
        "actual_model_predictions_blur_distortion = obtain_cosine_similarity_model_predictions(9440, deblur_refs, deblur_p0s, deblur_p1s)\n",
        "prediction_accuracy_blur_distortion = obtain_prediction_accuracy(9440, \"val/deblur/judge/\", actual_model_predictions_blur_distortion)\n",
        "print(\"Deblur: \")\n",
        "print(prediction_accuracy_blur_distortion)\n",
        "print(\"----------------\")\n",
        "print(\"\")\n",
        "print(\"\")"
      ]
    },
    {
      "cell_type": "code",
      "execution_count": null,
      "id": "5e767016",
      "metadata": {
        "id": "5e767016",
        "outputId": "bea9373e-0be1-40a2-9f20-17a820ae6c2e"
      },
      "outputs": [
        {
          "name": "stdout",
          "output_type": "stream",
          "text": [
            "Fi: \n",
            "0.6604872881355932\n",
            "----------------\n",
            "\n",
            "\n"
          ]
        }
      ],
      "source": [
        "actual_model_predictions_frame = obtain_cosine_similarity_model_predictions(1888, fi_refs, fi_p0s, fi_p1s)\n",
        "prediction_accuracy_frame = obtain_prediction_accuracy(1888, \"val/frameinterp/judge/\", actual_model_predictions_frame)\n",
        "print(\"Fi: \")\n",
        "print(prediction_accuracy_frame)\n",
        "print(\"----------------\")\n",
        "print(\"\")\n",
        "print(\"\")"
      ]
    },
    {
      "cell_type": "code",
      "execution_count": null,
      "id": "b85a9750",
      "metadata": {
        "id": "b85a9750",
        "outputId": "4a0e4ee8-087d-4ac7-aaaf-b859068cae73"
      },
      "outputs": [
        {
          "name": "stdout",
          "output_type": "stream",
          "text": [
            "Spr: \n",
            "0.7198784082535004\n",
            "----------------\n",
            "\n",
            "\n"
          ]
        }
      ],
      "source": [
        "actual_model_predictions_cnn_distortion_super = obtain_cosine_similarity_model_predictions(10856, spr_refs, spr_p0s, spr_p1s)\n",
        "prediction_accuracy_cnn_distortion_super = obtain_prediction_accuracy(10856, \"val/superres/judge/\", actual_model_predictions_cnn_distortion_super)\n",
        "print(\"Spr: \")\n",
        "print(prediction_accuracy_cnn_distortion_super)\n",
        "print(\"----------------\")\n",
        "print(\"\")\n",
        "print(\"\")"
      ]
    },
    {
      "cell_type": "markdown",
      "id": "45c4672a",
      "metadata": {
        "id": "45c4672a"
      },
      "source": [
        "Prediction accuracy for Resnet-18 for deblurring distortions: 0.6113347457627119\n",
        "\n",
        "Prediction accuracy for Resnet-18 for frame interpolation distortions: 0.6604872881355932\n",
        "\n",
        "Prediction accuracy for Resnet-18 for super resolution distortions: 0.7198784082535004"
      ]
    },
    {
      "cell_type": "markdown",
      "id": "8eb9f1bc",
      "metadata": {
        "id": "8eb9f1bc"
      },
      "source": [
        "### 2. AlexNet"
      ]
    },
    {
      "cell_type": "code",
      "execution_count": null,
      "id": "3cad9bf9",
      "metadata": {
        "id": "3cad9bf9",
        "outputId": "9c48d905-9cfe-4132-9fd8-a05da2fb3c5a"
      },
      "outputs": [
        {
          "name": "stdout",
          "output_type": "stream",
          "text": [
            "Alexnet results:\n",
            "Deblurring is complete\n",
            "FI is complete\n",
            "Spr is complete\n",
            "Traditional: \n",
            "0.8108050847457627\n",
            "----------------\n",
            "\n",
            "\n",
            "CNN: \n",
            "0.8544491525423729\n",
            "----------------\n",
            "\n",
            "\n",
            "Colorization: \n",
            "0.6720338983050848\n",
            "----------------\n",
            "\n",
            "\n",
            "Deblur: \n",
            "0.639406779661017\n",
            "----------------\n",
            "\n",
            "\n",
            "Fi: \n",
            "0.666843220338983\n",
            "----------------\n",
            "\n",
            "\n",
            "Spr: \n",
            "0.7424465733235077\n",
            "----------------\n",
            "\n",
            "\n"
          ]
        }
      ],
      "source": [
        "import torch\n",
        "import torch.nn as nn\n",
        "import torchvision.models as models\n",
        "import torchvision.transforms as transforms\n",
        "from torch.autograd import Variable\n",
        "import numpy as np\n",
        "from PIL import Image\n",
        "import os\n",
        "\n",
        "from img2vec_pytorch import Img2Vec\n",
        "\n",
        "def format_image_number(number):\n",
        "    img_no_str = str(number)\n",
        "    \n",
        "    if len(img_no_str) == 1:\n",
        "        im_no_name = \"00000\"\n",
        "    elif len(img_no_str) == 2:\n",
        "        im_no_name = \"0000\"\n",
        "    elif len(img_no_str) == 3:\n",
        "        im_no_name = \"000\"\n",
        "    elif len(img_no_str) == 4:\n",
        "        im_no_name = \"00\"\n",
        "    elif len(img_no_str) == 5:\n",
        "        im_no_name = \"0\"\n",
        "    elif len(img_no_str) == 6:\n",
        "        im_no_name = \"\"\n",
        "        \n",
        "    return im_no_name + img_no_str\n",
        "    \n",
        "img2vec = Img2Vec(cuda=False, model=\"alexnet\")  # default model resnet\n",
        "\n",
        "def get_images_vector(path, number_of_images):  # returns a list of tensors\n",
        "    # path of form: traditional/ref/\n",
        "    feature_tensor_list = []\n",
        "    \n",
        "    for image_no in range(number_of_images):\n",
        "        image_no_str = str(image_no)\n",
        "        \n",
        "        im_no_name = format_image_number(image_no_str) + \".png\"\n",
        "        \n",
        "        path_to_image = path + im_no_name\n",
        "\n",
        "        feature_vector_image = Image.open(path_to_image).convert('RGB')\n",
        "        feature_vec = img2vec.get_vec(feature_vector_image, tensor=True)\n",
        "        feature_tensor_list.append(feature_vec)\n",
        "        \n",
        "    return feature_tensor_list\n",
        "\n",
        "def obtain_cosine_similarity_model_predictions(number_of_images, refs_vec_list, p0s_rec_list, p1s_rec_list):\n",
        "    cosine_similarity_ref_and_p0 = []\n",
        "    cosine_similarity_ref_and_p1 = []\n",
        "\n",
        "    # list of predictions\n",
        "    cosine_similarity_predictions = []\n",
        "    \n",
        "    cos = nn.CosineSimilarity(dim=1, eps=1e-6)\n",
        "    # cos_sim = cos(query_vector.unsqueeze(0), ref2_vector.unsqueeze(0))\n",
        "\n",
        "    for image_no in range(number_of_images): \n",
        "        reshaped_ref = refs_vec_list[image_no]\n",
        "        reshaped_p0 = p0s_rec_list[image_no]\n",
        "        reshaped_p1 = p1s_rec_list[image_no]\n",
        "        \n",
        "        cosine_similarity_ref_and_p0.append(cos(reshaped_ref, reshaped_p0))\n",
        "        cosine_similarity_ref_and_p1.append(cos(reshaped_ref, reshaped_p1))\n",
        "\n",
        "        if cosine_similarity_ref_and_p0[image_no] >= cosine_similarity_ref_and_p1[image_no]:\n",
        "            cosine_similarity_predictions.append(0)\n",
        "        else:\n",
        "            cosine_similarity_predictions.append(1)   \n",
        "            \n",
        "    return cosine_similarity_predictions\n",
        "\n",
        "def obtain_prediction_accuracy(number_of_images, path_to_decision, actual_predictions):\n",
        "    expected_decision_outputs = []\n",
        "\n",
        "    for image_no in range(number_of_images):\n",
        "            image_no_str = str(image_no)\n",
        "\n",
        "            im_no_name = format_image_number(image_no_str) + \".npy\"\n",
        "            path_to_image = path_to_decision + im_no_name\n",
        "\n",
        "            decision = np.load(path_to_image)\n",
        "\n",
        "            if decision[0] <= 0.5: \n",
        "                expected_decision_outputs.append(0)\n",
        "            else: \n",
        "                expected_decision_outputs.append(1)\n",
        "                \n",
        "    number_wrong_predictions = 0\n",
        "\n",
        "    for image_no in range(number_of_images):\n",
        "        if actual_predictions[image_no] != expected_decision_outputs[image_no]:\n",
        "            number_wrong_predictions += 1\n",
        "\n",
        "    accuracy = (number_of_images - number_wrong_predictions)/(number_of_images)\n",
        "    \n",
        "    return accuracy\n",
        "\n",
        "\n",
        "def reshape_tensor_list(dim, tensor_list):\n",
        "    reshaped_list = []\n",
        "    for t in tensor_list:\n",
        "        reshaped_t = torch.reshape(t, (1,dim))\n",
        "        reshaped_list.append(t)\n",
        "    return reshaped_list\n",
        "\n",
        "\n",
        "\n",
        "print(\"Alexnet results:\")\n",
        "\n",
        "img2vec_res = Img2Vec(cuda=False, model=\"alexnet\")  # default model resnet\n",
        "\n",
        "traditional_refs = get_images_vector(\"val/traditional/ref/\", 4720)\n",
        "traditional_p0s = get_images_vector(\"val/traditional/p0/\", 4720)\n",
        "traditional_p1s = get_images_vector(\"val/traditional/p1/\", 4720)\n",
        "\n",
        "cnn_refs = get_images_vector(\"val/cnn/ref/\", 4720)\n",
        "cnn_p0s = get_images_vector(\"val/cnn/p0/\", 4720)\n",
        "cnn_p1s = get_images_vector(\"val/cnn/p1/\", 4720)\n",
        "\n",
        "color_refs = get_images_vector(\"val/color/ref/\", 4720)\n",
        "color_p0s = get_images_vector(\"val/color/p0/\", 4720)\n",
        "color_p1s = get_images_vector(\"val/color/p1/\", 4720)\n",
        "\n",
        "deblur_refs = get_images_vector(\"val/deblur/ref/\", 9440)\n",
        "deblur_p0s = get_images_vector(\"val/deblur/p0/\", 9440)\n",
        "deblur_p1s = get_images_vector(\"val/deblur/p1/\", 9440)\n",
        "print(\"Deblurring is complete\")\n",
        "\n",
        "fi_refs = get_images_vector(\"val/frameinterp/ref/\", 1888)\n",
        "fi_p0s = get_images_vector(\"val/frameinterp/p0/\", 1888)\n",
        "fi_p1s = get_images_vector(\"val/frameinterp/p1/\", 1888)\n",
        "print(\"FI is complete\")\n",
        "\n",
        "spr_refs = get_images_vector(\"val/superres/ref/\", 10856)\n",
        "spr_p0s = get_images_vector(\"val/superres/p0/\", 10856)\n",
        "spr_p1s = get_images_vector(\"val/superres/p1/\", 10856)\n",
        "print(\"Spr is complete\")\n",
        "\n",
        "\n",
        "actual_model_predictions = obtain_cosine_similarity_model_predictions(4720, traditional_refs, traditional_p0s, traditional_p1s)\n",
        "prediction_accuracy = obtain_prediction_accuracy(4720, \"val/traditional/judge/\", actual_model_predictions)\n",
        "print(\"Traditional: \")\n",
        "print(prediction_accuracy)\n",
        "print(\"----------------\")\n",
        "print(\"\")\n",
        "print(\"\")\n",
        "\n",
        "actual_model_predictions_cnn_distortion = obtain_cosine_similarity_model_predictions(4720, cnn_refs, cnn_p0s, cnn_p1s)\n",
        "prediction_accuracy_cnn_distortion = obtain_prediction_accuracy(4720, \"val/cnn/judge/\", actual_model_predictions_cnn_distortion)\n",
        "print(\"CNN: \")\n",
        "print(prediction_accuracy_cnn_distortion)\n",
        "print(\"----------------\")\n",
        "print(\"\")\n",
        "print(\"\")\n",
        "\n",
        "\n",
        "actual_model_predictions_color_distortion = obtain_cosine_similarity_model_predictions(4720, color_refs, color_p0s, color_p1s)\n",
        "prediction_accuracy_color_distortion = obtain_prediction_accuracy(4720, \"val/color/judge/\", actual_model_predictions_color_distortion)\n",
        "print(\"Colorization: \")\n",
        "print(prediction_accuracy_color_distortion)\n",
        "print(\"----------------\")\n",
        "print(\"\")\n",
        "print(\"\")\n",
        "\n",
        "actual_model_predictions_blur_distortion = obtain_cosine_similarity_model_predictions(9440, deblur_refs, deblur_p0s, deblur_p1s)\n",
        "prediction_accuracy_blur_distortion = obtain_prediction_accuracy(9440, \"val/deblur/judge/\", actual_model_predictions_blur_distortion)\n",
        "print(\"Deblur: \")\n",
        "print(prediction_accuracy_blur_distortion)\n",
        "print(\"----------------\")\n",
        "print(\"\")\n",
        "print(\"\")\n",
        "\n",
        "\n",
        "actual_model_predictions_frame = obtain_cosine_similarity_model_predictions(1888, fi_refs, fi_p0s, fi_p1s)\n",
        "prediction_accuracy_frame = obtain_prediction_accuracy(1888, \"val/frameinterp/judge/\", actual_model_predictions_frame)\n",
        "print(\"Fi: \")\n",
        "print(prediction_accuracy_frame)\n",
        "print(\"----------------\")\n",
        "print(\"\")\n",
        "print(\"\")\n",
        "\n",
        "actual_model_predictions_cnn_distortion_super = obtain_cosine_similarity_model_predictions(10856, spr_refs, spr_p0s, spr_p1s)\n",
        "prediction_accuracy_cnn_distortion_super = obtain_prediction_accuracy(10856, \"val/superres/judge/\", actual_model_predictions_cnn_distortion_super)\n",
        "print(\"Spr: \")\n",
        "print(prediction_accuracy_cnn_distortion_super)\n",
        "print(\"----------------\")\n",
        "print(\"\")\n",
        "print(\"\")"
      ]
    },
    {
      "cell_type": "markdown",
      "id": "7d1abe4f",
      "metadata": {
        "id": "7d1abe4f"
      },
      "source": [
        "AlexNet: \n",
        "    \n",
        "Traditional: \n",
        "0.8108050847457627\n",
        "\n",
        "\n",
        "CNN: \n",
        "0.8544491525423729\n",
        "\n",
        "\n",
        "\n",
        "Colorization: \n",
        "0.6720338983050848\n",
        "\n",
        "\n",
        "\n",
        "Deblur: \n",
        "0.639406779661017\n",
        "\n",
        "\n",
        "\n",
        "Fi: \n",
        "0.666843220338983\n",
        "\n",
        "\n",
        "\n",
        "Spr: \n",
        "0.7424465733235077"
      ]
    },
    {
      "cell_type": "markdown",
      "source": [
        "<h1> NEW START HERE </h1>\n",
        "\n",
        "Link: https://becominghuman.ai/extract-a-feature-vector-for-any-image-with-pytorch-9717561d1d4c\n",
        " + modify to adhere to current PyTorch updates"
      ],
      "metadata": {
        "id": "Mq-M8hr-PPD3"
      },
      "id": "Mq-M8hr-PPD3"
    },
    {
      "cell_type": "markdown",
      "source": [
        "*What we have done here is created a reference to the layer we want to extract from. Deciding on which layer to extract from is a bit of a science, but something to keep in mind is that early layers in the network are usually learning high-level features such as ‘image contains fur’ or ‘image contains round object’, while lower-level features are more specific to the training data. The ‘avgpool’ layer selected here is at the end of ResNet-18, but if you plan to use images that are very different from ImageNet, you may benefit in using an ealier layer or fine-tuning the model.*\n",
        "\n",
        "Conclusion for me: because later layers are more specific to training data THEN I am expecting all models to perform much better on HSJ and the worst on Distortions.\n",
        "\n",
        "\n",
        "**But if you plan to use images that are very different from ImageNet, you may benefit in using an ealier layer or fine-tuning the model.**"
      ],
      "metadata": {
        "id": "Q04PUL8MP15O"
      },
      "id": "Q04PUL8MP15O"
    },
    {
      "cell_type": "code",
      "source": [
        "import torch\n",
        "import torch.nn as nn\n",
        "import torchvision.models as models\n",
        "import torchvision.transforms as transforms\n",
        "from torch.autograd import Variable\n",
        "\n",
        "from PIL import Image"
      ],
      "metadata": {
        "id": "HB2oe9hIPOqW"
      },
      "id": "HB2oe9hIPOqW",
      "execution_count": 53,
      "outputs": []
    },
    {
      "cell_type": "code",
      "source": [
        "# Load the pretrained model\n",
        "model = models.resnet18(pretrained=True)\n",
        "model.cuda()\n",
        "# Use the model object to select the desired layer\n",
        "layer = model._modules.get('avgpool')\n",
        "# Set model to evaluation mode\n",
        "model.eval()"
      ],
      "metadata": {
        "id": "rBVpBNLPPbdI",
        "outputId": "7e897c3d-bffd-4ba7-a885-52e1c7fcfd78",
        "colab": {
          "base_uri": "https://localhost:8080/"
        }
      },
      "id": "rBVpBNLPPbdI",
      "execution_count": 54,
      "outputs": [
        {
          "output_type": "stream",
          "name": "stderr",
          "text": [
            "/usr/local/lib/python3.9/dist-packages/torchvision/models/_utils.py:208: UserWarning: The parameter 'pretrained' is deprecated since 0.13 and may be removed in the future, please use 'weights' instead.\n",
            "  warnings.warn(\n",
            "/usr/local/lib/python3.9/dist-packages/torchvision/models/_utils.py:223: UserWarning: Arguments other than a weight enum or `None` for 'weights' are deprecated since 0.13 and may be removed in the future. The current behavior is equivalent to passing `weights=ResNet18_Weights.IMAGENET1K_V1`. You can also use `weights=ResNet18_Weights.DEFAULT` to get the most up-to-date weights.\n",
            "  warnings.warn(msg)\n"
          ]
        }
      ]
    },
    {
      "cell_type": "code",
      "source": [],
      "metadata": {
        "id": "zeDECMcrY0dz"
      },
      "id": "zeDECMcrY0dz",
      "execution_count": null,
      "outputs": []
    },
    {
      "cell_type": "code",
      "source": [
        "# Set model to evaluation mode\n",
        "model.eval()"
      ],
      "metadata": {
        "id": "VX14Yl0tPgou"
      },
      "id": "VX14Yl0tPgou",
      "execution_count": null,
      "outputs": []
    },
    {
      "cell_type": "code",
      "source": [
        "scaler = transforms.Resize((224, 224))\n",
        "normalize = transforms.Normalize(mean=[0.485, 0.456, 0.406],\n",
        "                                 std=[0.229, 0.224, 0.225])\n",
        "to_tensor = transforms.ToTensor()   # used to convert the PIL image to a PyTorch tensor (multidimensional array)"
      ],
      "metadata": {
        "id": "B-hulT0xQa5z"
      },
      "id": "B-hulT0xQa5z",
      "execution_count": 56,
      "outputs": []
    },
    {
      "cell_type": "code",
      "source": [
        "def get_vector(image_name):\n",
        "    \n",
        "#     # Load the pretrained model\n",
        "#     model = models.resnet18(pretrained=True)\n",
        "#     # Use the model object to select the desired layer\n",
        "#     layer = model._modules.get('avgpool')\n",
        "    \n",
        "    # 1. Load the image with Pillow library\n",
        "    img = Image.open(image_name).convert('RGB')\n",
        "    # 2. Create a PyTorch Variable with the transformed image\n",
        "    t_img = Variable(normalize(to_tensor(scaler(img))).unsqueeze(0)).cuda()\n",
        "    # 3. Create a vector of zeros that will hold our feature vector\n",
        "    #    The 'avgpool' layer has an output size of 512\n",
        "    \n",
        "    # M1: my_embedding = torch.zeros(1, 512, 1, 1) and later my_embedding.copy_(o.data)\n",
        "    # M2: my_embedding = torch.zeros(512) and later my_embedding.copy_(o.data.reshape(o.data.size(1)))\n",
        "    my_embedding = torch.zeros(512).cuda()\n",
        "    \n",
        "    # 4. Define a function that will copy the output of a layer\n",
        "    def copy_data(m, i, o):\n",
        "        my_embedding.copy_(o.data.reshape(o.data.size(1)))\n",
        "    # 5. Attach that function to our selected layer\n",
        "    h = layer.register_forward_hook(copy_data)\n",
        "    # 6. Run the model on our transformed image\n",
        "    model(t_img)\n",
        "    # 7. Detach our copy function from the layer\n",
        "    h.remove()\n",
        "    # 8. Return the feature vector\n",
        "    return my_embedding"
      ],
      "metadata": {
        "id": "WVhuqcJzQvYq"
      },
      "id": "WVhuqcJzQvYq",
      "execution_count": 59,
      "outputs": []
    },
    {
      "cell_type": "code",
      "source": [
        "query_vector = get_vector(\"ref.png\")\n",
        "ref1_vector = get_vector(\"p0.png\")\n",
        "ref2_vector = get_vector(\"p1.png\")"
      ],
      "metadata": {
        "id": "7uzFV2c5Rn5_"
      },
      "id": "7uzFV2c5Rn5_",
      "execution_count": 60,
      "outputs": []
    },
    {
      "cell_type": "code",
      "source": [
        "# Using PyTorch Cosine Similarity\n",
        "cos = nn.CosineSimilarity(dim=1, eps=1e-6)\n",
        "cos_sim = cos(query_vector.unsqueeze(0),\n",
        "              ref1_vector.unsqueeze(0))\n",
        "print('\\nCosine similarity: {0}\\n'.format(cos_sim))"
      ],
      "metadata": {
        "id": "gaZmhKNnYZ3z",
        "outputId": "9729938c-1ff9-4ee0-fa92-0a57752b2c3f",
        "colab": {
          "base_uri": "https://localhost:8080/"
        }
      },
      "id": "gaZmhKNnYZ3z",
      "execution_count": 61,
      "outputs": [
        {
          "output_type": "stream",
          "name": "stdout",
          "text": [
            "\n",
            "Cosine similarity: tensor([0.8143], device='cuda:0')\n",
            "\n"
          ]
        }
      ]
    },
    {
      "cell_type": "code",
      "source": [
        "# Using PyTorch Cosine Similarity\n",
        "cos = nn.CosineSimilarity(dim=1, eps=1e-6)\n",
        "cos_sim = cos(query_vector.unsqueeze(0),\n",
        "              ref2_vector.unsqueeze(0))\n",
        "print('\\nCosine similarity: {0}\\n'.format(cos_sim))"
      ],
      "metadata": {
        "id": "FrMsaD6PYhpr",
        "outputId": "d27f9f43-d5a5-430d-8548-95b6e56d8ebd",
        "colab": {
          "base_uri": "https://localhost:8080/"
        }
      },
      "id": "FrMsaD6PYhpr",
      "execution_count": 62,
      "outputs": [
        {
          "output_type": "stream",
          "name": "stdout",
          "text": [
            "\n",
            "Cosine similarity: tensor([0.5251], device='cuda:0')\n",
            "\n"
          ]
        }
      ]
    },
    {
      "cell_type": "code",
      "source": [
        "def get_image_embeddings(path, image_type):  # returns a list of tensors\n",
        "    # path of form: traditional/ref/\n",
        "    feature_tensor_dict = dict()\n",
        "    feature_tensor_dict[\"ref\"] = []\n",
        "    feature_tensor_dict[\"p0\"] = []\n",
        "    feature_tensor_dict[\"p1\"] = []\n",
        "    feature_tensor_dict[\"decision\"] = []\n",
        "    \n",
        "    for image_no in range(1000):\n",
        "        im_no_name =  (6-len(str(image_no)))*\"0\" + str(image_no) + \".\" + image_type\n",
        "        \n",
        "        feature_tensor_dict[\"ref\"].append(get_vector(path+\"/ref/\" + im_no_name))\n",
        "        feature_tensor_dict[\"p0\"].append(get_vector(path+\"/p0/\" + im_no_name))\n",
        "        feature_tensor_dict[\"p1\"].append(get_vector(path+\"/p1/\" + im_no_name))\n",
        "\n",
        "        # now load decision\n",
        "        decision_no_name =  (6-len(str(image_no)))*\"0\" + str(image_no) + \".npy\"\n",
        "        decision = np.load(path+\"/judge/\"+decision_no_name)\n",
        "        if decision[0] <= 0.5: \n",
        "              feature_tensor_dict[\"decision\"].append(0)\n",
        "        else: \n",
        "              feature_tensor_dict[\"decision\"].append(1)\n",
        "        \n",
        "    return feature_tensor_dict"
      ],
      "metadata": {
        "id": "q3nySb9GaiUH"
      },
      "id": "q3nySb9GaiUH",
      "execution_count": 75,
      "outputs": []
    },
    {
      "cell_type": "code",
      "source": [
        "%cd /content"
      ],
      "metadata": {
        "id": "Eu9hP7FRc-Ln",
        "outputId": "9eb4ea8b-0827-46c5-c49c-5de07cd1afcf",
        "colab": {
          "base_uri": "https://localhost:8080/"
        }
      },
      "id": "Eu9hP7FRc-Ln",
      "execution_count": 76,
      "outputs": [
        {
          "output_type": "stream",
          "name": "stdout",
          "text": [
            "/content\n"
          ]
        }
      ]
    },
    {
      "cell_type": "code",
      "source": [
        "resnet_18_embedddings = get_image_embeddings(\"datasets/distortions/distortion_triplets/traditional_triplets\", \"png\")"
      ],
      "metadata": {
        "id": "Cs_f5-mydPO9"
      },
      "id": "Cs_f5-mydPO9",
      "execution_count": 77,
      "outputs": []
    },
    {
      "cell_type": "code",
      "source": [
        "resnet_18_embedddings[\"decision\"]"
      ],
      "metadata": {
        "id": "DK7DPu2RnkQ2"
      },
      "id": "DK7DPu2RnkQ2",
      "execution_count": null,
      "outputs": []
    },
    {
      "cell_type": "code",
      "source": [
        "def get_predictions(embeddings):\n",
        "  cosine_similarity_dict = dict()\n",
        "  cosine_similarity_dict[\"ref_and_p0\"] = []\n",
        "  cosine_similarity_dict[\"ref_and_p1\"] = []\n",
        "  cosine_similarity_predictions = []\n",
        "\n",
        "  cos = nn.CosineSimilarity(dim=1, eps=1e-6)\n",
        "  # cos_sim = cos(query_vector.unsqueeze(0), ref2_vector.unsqueeze(0))\n",
        "\n",
        "  for image_no in range(1000):\n",
        "      cosine_similarity_dict[\"ref_and_p0\"].append(cos(embeddings[\"ref\"][image_no].unsqueeze(0), embeddings[\"p0\"][image_no].unsqueeze(0)))\n",
        "      cosine_similarity_dict[\"ref_and_p1\"].append(cos(embeddings[\"ref\"][image_no].unsqueeze(0), embeddings[\"p1\"][image_no].unsqueeze(0)))\n",
        "      \n",
        "      if cosine_similarity_dict[\"ref_and_p0\"][image_no] >= cosine_similarity_dict[\"ref_and_p1\"][image_no]:\n",
        "          cosine_similarity_predictions.append(0)\n",
        "      else:\n",
        "          cosine_similarity_predictions.append(1)   \n",
        "  return cosine_similarity_predictions\n",
        "\n",
        "def get_accuracy(predictions,embeddings):\n",
        "  decisions = embeddings[\"decision\"]\n",
        "\n",
        "  number_wrong_predictions = 0\n",
        "\n",
        "  for image_no in range(1000):\n",
        "      if predictions[image_no] != decisions[image_no]:\n",
        "          number_wrong_predictions += 1\n",
        "      \n",
        "  accuracy = (1000 - number_wrong_predictions)/(1000)\n",
        "  return accuracy"
      ],
      "metadata": {
        "id": "V6S5kBKBjo-l"
      },
      "id": "V6S5kBKBjo-l",
      "execution_count": 87,
      "outputs": []
    },
    {
      "cell_type": "code",
      "source": [
        "predictions = get_predictions(resnet_18_embedddings)\n",
        "accuracy = get_accuracy(predictions, resnet_18_embedddings)"
      ],
      "metadata": {
        "id": "Wt9bjXlSmkIH"
      },
      "id": "Wt9bjXlSmkIH",
      "execution_count": 88,
      "outputs": []
    },
    {
      "cell_type": "code",
      "source": [
        "accuracy"
      ],
      "metadata": {
        "id": "KcbOFa1EoGFD",
        "outputId": "9d2ff7d7-ac18-4895-c83d-6bb5db1fcc40",
        "colab": {
          "base_uri": "https://localhost:8080/"
        }
      },
      "id": "KcbOFa1EoGFD",
      "execution_count": 89,
      "outputs": [
        {
          "output_type": "execute_result",
          "data": {
            "text/plain": [
              "0.809"
            ]
          },
          "metadata": {},
          "execution_count": 89
        }
      ]
    },
    {
      "cell_type": "markdown",
      "source": [
        "<h1> Working framework start </h1>"
      ],
      "metadata": {
        "id": "M1x9m7iwoV6B"
      },
      "id": "M1x9m7iwoV6B"
    },
    {
      "cell_type": "code",
      "source": [
        "import torch\n",
        "import torch.nn as nn\n",
        "import torchvision.models as models\n",
        "import torchvision.transforms as transforms\n",
        "from torch.autograd import Variable\n",
        "\n",
        "from PIL import Image\n",
        "\n",
        "############################ REQUIRES MODIFICATION FOR EACH MODEL \n",
        "\n",
        "# scaler = transforms.Resize((224, 224))\n",
        "# normalize = transforms.Normalize(mean=[0.485, 0.456, 0.406],\n",
        "#                                  std=[0.229, 0.224, 0.225])\n",
        "to_tensor = transforms.ToTensor()   # used to convert the PIL image to a PyTorch tensor (multidimensional array)\n",
        "############################\n",
        "\n",
        "\n",
        "############################## HOW TO GET MODEL:\n",
        "# # Load the pretrained model\n",
        "# model = models.resnet18(pretrained=True)\n",
        "# model.cuda()\n",
        "# # Use the model object to select the desired layer\n",
        "# layer = model._modules.get('avgpool')\n",
        "# # Set model to evaluation mode\n",
        "# model.eval()\n",
        "\n",
        "##################################\n",
        "\n",
        "def get_vector(image_name, model, layer, scaler, normalize):\n",
        "    \n",
        "#     # Load the pretrained model\n",
        "#     model = models.resnet18(pretrained=True)\n",
        "#     # Use the model object to select the desired layer\n",
        "#     layer = model._modules.get('avgpool')\n",
        "    \n",
        "    # 1. Load the image with Pillow library\n",
        "    img = Image.open(image_name).convert('RGB')\n",
        "    # 2. Create a PyTorch Variable with the transformed image\n",
        "    t_img = Variable(normalize(to_tensor(scaler(img))).unsqueeze(0)).cuda()\n",
        "    # 3. Create a vector of zeros that will hold our feature vector\n",
        "    #    The 'avgpool' layer has an output size of 512\n",
        "    \n",
        "    # M1: my_embedding = torch.zeros(1, 512, 1, 1) and later my_embedding.copy_(o.data)\n",
        "    # M2: my_embedding = torch.zeros(512) and later my_embedding.copy_(o.data.reshape(o.data.size(1)))\n",
        "    my_embedding = torch.zeros(512).cuda()\n",
        "    \n",
        "    # 4. Define a function that will copy the output of a layer\n",
        "    def copy_data(m, i, o):\n",
        "        my_embedding.copy_(o.data.reshape(o.data.size(1)))\n",
        "    # 5. Attach that function to our selected layer\n",
        "    h = layer.register_forward_hook(copy_data)\n",
        "    # 6. Run the model on our transformed image\n",
        "    model(t_img)\n",
        "    # 7. Detach our copy function from the layer\n",
        "    h.remove()\n",
        "    # 8. Return the feature vector\n",
        "    return my_embedding\n",
        "    \n",
        "\n",
        "############################ COSINE SIMILARITY\n",
        "cos = nn.CosineSimilarity(dim=1, eps=1e-6)\n",
        "\n",
        "\n",
        "########################### GET FEATURE VECTORS\n",
        "def get_image_embeddings(path, image_type, model, layer, scaler, normalize):  # returns a list of tensors\n",
        "    # path of form: traditional/ref/\n",
        "    feature_tensor_dict = dict()\n",
        "    feature_tensor_dict[\"ref\"] = []\n",
        "    feature_tensor_dict[\"p0\"] = []\n",
        "    feature_tensor_dict[\"p1\"] = []\n",
        "    feature_tensor_dict[\"decision\"] = []\n",
        "    \n",
        "    for image_no in range(1000):\n",
        "        im_no_name =  (6-len(str(image_no)))*\"0\" + str(image_no) + \".\" + image_type\n",
        "        \n",
        "        feature_tensor_dict[\"ref\"].append(get_vector(path+\"/ref/\" + im_no_name, model, layer, scaler, normalize))\n",
        "        feature_tensor_dict[\"p0\"].append(get_vector(path+\"/p0/\" + im_no_name, model, layer, scaler, normalize))\n",
        "        feature_tensor_dict[\"p1\"].append(get_vector(path+\"/p1/\" + im_no_name, model, layer, scaler, normalize))\n",
        "\n",
        "        # now load decision\n",
        "        decision_no_name =  (6-len(str(image_no)))*\"0\" + str(image_no) + \".npy\"\n",
        "        decision = np.load(path+\"/judge/\"+decision_no_name)\n",
        "        if decision[0] <= 0.5: \n",
        "              feature_tensor_dict[\"decision\"].append(0)\n",
        "        else: \n",
        "              feature_tensor_dict[\"decision\"].append(1)\n",
        "        \n",
        "    return feature_tensor_dict\n",
        "\n",
        "\n",
        "########################## GET MODEL PREDICTIONS\n",
        "def get_predictions(embeddings):\n",
        "  cosine_similarity_dict = dict()\n",
        "  cosine_similarity_dict[\"ref_and_p0\"] = []\n",
        "  cosine_similarity_dict[\"ref_and_p1\"] = []\n",
        "  cosine_similarity_predictions = []\n",
        "\n",
        "  cos = nn.CosineSimilarity(dim=1, eps=1e-6)\n",
        "  # cos_sim = cos(query_vector.unsqueeze(0), ref2_vector.unsqueeze(0))\n",
        "\n",
        "  for image_no in range(1000):\n",
        "      cosine_similarity_dict[\"ref_and_p0\"].append(cos(embeddings[\"ref\"][image_no].unsqueeze(0), embeddings[\"p0\"][image_no].unsqueeze(0)))\n",
        "      cosine_similarity_dict[\"ref_and_p1\"].append(cos(embeddings[\"ref\"][image_no].unsqueeze(0), embeddings[\"p1\"][image_no].unsqueeze(0)))\n",
        "      \n",
        "      if cosine_similarity_dict[\"ref_and_p0\"][image_no] >= cosine_similarity_dict[\"ref_and_p1\"][image_no]:\n",
        "          cosine_similarity_predictions.append(0)\n",
        "      else:\n",
        "          cosine_similarity_predictions.append(1)   \n",
        "  return cosine_similarity_predictions\n",
        "\n",
        "########################## GET MODEL ACCURACY\n",
        "def get_accuracy(predictions,embeddings):\n",
        "  decisions = embeddings[\"decision\"]\n",
        "\n",
        "  number_wrong_predictions = 0\n",
        "\n",
        "  for image_no in range(1000):\n",
        "      if predictions[image_no] != decisions[image_no]:\n",
        "          number_wrong_predictions += 1\n",
        "      \n",
        "  accuracy = (1000 - number_wrong_predictions)/(1000)\n",
        "  return accuracy\n",
        "\n",
        "\n",
        "def apply_framework(path, image_type, model, layer, scaler, normalize):\n",
        "  embeddings = get_image_embeddings(path, \n",
        "                                    image_type,\n",
        "                                    model, layer, scaler, normalize)\n",
        "  predictions= get_predictions(embeddings)\n",
        "  accuracy = get_accuracy(predictions, embeddings)\n",
        "  print(path + \": \" + str(accuracy))\n",
        "  return accuracy"
      ],
      "metadata": {
        "id": "7D9166cvobDh"
      },
      "id": "7D9166cvobDh",
      "execution_count": 92,
      "outputs": []
    },
    {
      "cell_type": "code",
      "source": [
        "    # 1. Load the image with Pillow library\n",
        "img = Image.open(\"datasets/hsj/hsj_triplets/hsj_query_rank0_dissimilar/p0/000000.jpg\").convert('RGB')\n",
        "    # 2. Create a PyTorch Variable with the transformed image\n",
        "t_img = scaler(img)\n",
        "t_img"
      ],
      "metadata": {
        "id": "PtspBYvyumJR",
        "outputId": "e1671aea-9a24-4ed0-bba7-1b583e32cb19",
        "colab": {
          "base_uri": "https://localhost:8080/",
          "height": 241
        }
      },
      "id": "PtspBYvyumJR",
      "execution_count": 97,
      "outputs": [
        {
          "output_type": "execute_result",
          "data": {
            "text/plain": [
              "<PIL.Image.Image image mode=RGB size=224x224 at 0x7FBA0E3BD280>"
            ],
            "image/png": "[encoded data removed]"
          },
          "metadata": {},
          "execution_count": 97
        }
      ]
    },
    {
      "cell_type": "markdown",
      "source": [
        "1. Resnet-18 + cosine similarity"
      ],
      "metadata": {
        "id": "-pJ_BUwHp5uU"
      },
      "id": "-pJ_BUwHp5uU"
    },
    {
      "cell_type": "code",
      "source": [
        "# Load the pretrained model\n",
        "model = models.resnet18(pretrained=True)\n",
        "model.cuda()\n",
        "# Use the model object to select the desired layer\n",
        "layer = model._modules.get('avgpool')\n",
        "# Set model to evaluation mode\n",
        "model.eval()\n",
        "scaler = transforms.Resize((224, 224))\n",
        "normalize = transforms.Normalize(mean=[0.485, 0.456, 0.406],\n",
        "                                 std=[0.229, 0.224, 0.225])\n",
        "\n",
        "print(\"# ----------------------------------------BAPPS 2AFC DIST RESNET-18------------------------#\")\n",
        "print(\"\")\n",
        "################### TRADITIONAL \n",
        "apply_framework(\"datasets/distortions/distortion_triplets/traditional_triplets\",\n",
        "                \"png\",\n",
        "                model, layer, scaler, normalize)\n",
        "\n",
        "################ CNN\n",
        "apply_framework(\"datasets/distortions/distortion_triplets/cnn_triplets\",\n",
        "                \"png\",\n",
        "                model, layer, scaler, normalize)\n",
        "\n",
        "############### COLOR\n",
        "apply_framework(\"datasets/distortions/distortion_triplets/color_triplets\",\n",
        "                \"png\",\n",
        "                model, layer, scaler, normalize)\n",
        "\n",
        "################ DEBLUR\n",
        "apply_framework(\"datasets/distortions/distortion_triplets/deblur_triplets\",\n",
        "                \"png\",\n",
        "                model, layer, scaler, normalize)\n",
        "\n",
        "############### FRAME INTERP\n",
        "apply_framework(\"datasets/distortions/distortion_triplets/frameinterp_triplets\",\n",
        "                \"png\",\n",
        "                model, layer, scaler, normalize)\n",
        "\n",
        "################ SUPER RES\n",
        "apply_framework(\"datasets/distortions/distortion_triplets/superres_triplets\",\n",
        "                \"png\",\n",
        "                model, layer, scaler, normalize)\n",
        "\n",
        "# datasets/distortions/distortion_triplets/traditional_triplets: 0.809\n",
        "# datasets/distortions/distortion_triplets/cnn_triplets: 0.848\n",
        "# datasets/distortions/distortion_triplets/color_triplets: 0.623\n",
        "# datasets/distortions/distortion_triplets/deblur_triplets: 0.603\n",
        "# datasets/distortions/distortion_triplets/frameinterp_triplets: 0.663\n",
        "# datasets/distortions/distortion_triplets/superres_triplets: 0.723"
      ],
      "metadata": {
        "id": "do-kyNnap4wa",
        "outputId": "9449a9eb-2502-4ded-bb48-cebcfe0c182d",
        "colab": {
          "base_uri": "https://localhost:8080/"
        }
      },
      "id": "do-kyNnap4wa",
      "execution_count": 95,
      "outputs": [
        {
          "output_type": "stream",
          "name": "stdout",
          "text": [
            "# ----------------------------------------BAPPS 2AFC DIST RESNET-18------------------------#\n",
            "\n",
            "datasets/distortions/distortion_triplets/traditional_triplets: 0.809\n",
            "datasets/distortions/distortion_triplets/cnn_triplets: 0.848\n",
            "datasets/distortions/distortion_triplets/color_triplets: 0.623\n",
            "datasets/distortions/distortion_triplets/deblur_triplets: 0.603\n",
            "datasets/distortions/distortion_triplets/frameinterp_triplets: 0.663\n",
            "datasets/distortions/distortion_triplets/superres_triplets: 0.723\n"
          ]
        },
        {
          "output_type": "execute_result",
          "data": {
            "text/plain": [
              "0.723"
            ]
          },
          "metadata": {},
          "execution_count": 95
        }
      ]
    },
    {
      "cell_type": "code",
      "source": [
        "print(\"# ----------------------------------------HSJ------------------------#\")\n"
      ],
      "metadata": {
        "id": "iFKC2UV0togy"
      },
      "id": "iFKC2UV0togy",
      "execution_count": null,
      "outputs": []
    }
  ],
  "metadata": {
    "kernelspec": {
      "display_name": "Python 3 (ipykernel)",
      "language": "python",
      "name": "python3"
    },
    "language_info": {
      "codemirror_mode": {
        "name": "ipython",
        "version": 3
      },
      "file_extension": ".py",
      "mimetype": "text/x-python",
      "name": "python",
      "nbconvert_exporter": "python",
      "pygments_lexer": "ipython3",
      "version": "3.10.4"
    },
    "colab": {
      "provenance": []
    },
    "accelerator": "GPU",
    "gpuClass": "standard"
  },
  "nbformat": 4,
  "nbformat_minor": 5
}